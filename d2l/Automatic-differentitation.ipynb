{
 "cells": [
  {
   "cell_type": "code",
   "id": "initial_id",
   "metadata": {
    "collapsed": true,
    "ExecuteTime": {
     "end_time": "2025-01-30T10:09:09.179104Z",
     "start_time": "2025-01-30T10:09:06.139364Z"
    }
   },
   "source": "import torch",
   "outputs": [],
   "execution_count": 1
  },
  {
   "metadata": {},
   "cell_type": "markdown",
   "source": "自动微分",
   "id": "ebdc5a7ace3ebb32"
  },
  {
   "metadata": {
    "ExecuteTime": {
     "end_time": "2025-01-24T01:00:10.620355Z",
     "start_time": "2025-01-24T01:00:10.613204Z"
    }
   },
   "cell_type": "code",
   "source": [
    "x=torch.arange(4.0,requires_grad=True)\n",
    "print(x)\n",
    "x.grad"
   ],
   "id": "6822d5c4a78590b2",
   "outputs": [
    {
     "name": "stdout",
     "output_type": "stream",
     "text": [
      "tensor([0., 1., 2., 3.], requires_grad=True)\n"
     ]
    }
   ],
   "execution_count": 21
  },
  {
   "metadata": {
    "ExecuteTime": {
     "end_time": "2025-01-23T02:56:40.027809Z",
     "start_time": "2025-01-23T02:56:40.021567Z"
    }
   },
   "cell_type": "code",
   "source": [
    "y=2*torch.dot(x,x)\n",
    "y"
   ],
   "id": "6c4ce0852ad63c13",
   "outputs": [
    {
     "data": {
      "text/plain": [
       "tensor(28., grad_fn=<MulBackward0>)"
      ]
     },
     "execution_count": 16,
     "metadata": {},
     "output_type": "execute_result"
    }
   ],
   "execution_count": 16
  },
  {
   "metadata": {
    "ExecuteTime": {
     "end_time": "2025-01-23T02:56:41.124672Z",
     "start_time": "2025-01-23T02:56:41.118695Z"
    }
   },
   "cell_type": "code",
   "source": [
    "y.backward()\n",
    "x.grad"
   ],
   "id": "d623d20f0d1933d3",
   "outputs": [
    {
     "data": {
      "text/plain": [
       "tensor([ 0.,  4.,  8., 12.])"
      ]
     },
     "execution_count": 17,
     "metadata": {},
     "output_type": "execute_result"
    }
   ],
   "execution_count": 17
  },
  {
   "metadata": {
    "ExecuteTime": {
     "end_time": "2025-01-24T01:08:20.853499Z",
     "start_time": "2025-01-24T01:08:20.842946Z"
    }
   },
   "cell_type": "code",
   "source": [
    "x.grad.zero_()\n",
    "y=x.sum()\n",
    "y.backward()\n",
    "x.grad"
   ],
   "id": "3e829e96e877e027",
   "outputs": [
    {
     "data": {
      "text/plain": [
       "tensor([1., 1., 1., 1.])"
      ]
     },
     "execution_count": 27,
     "metadata": {},
     "output_type": "execute_result"
    }
   ],
   "execution_count": 27
  },
  {
   "metadata": {
    "ExecuteTime": {
     "end_time": "2025-01-24T01:27:56.753077Z",
     "start_time": "2025-01-24T01:27:56.744180Z"
    }
   },
   "cell_type": "code",
   "source": [
    "# 对非标量调用backward需要传入一个gradient参数，该参数指定微分函数关于self的梯度。\n",
    "# 本例只想求偏导数的和，所以传递一个1的梯度是合适的\n",
    "x.grad.zero_()\n",
    "y=x*x\n",
    "# 等价于y.backward(torch.ones(len(x)))\n",
    "y.sum().backward()\n",
    "x.grad"
   ],
   "id": "8c5b12ebabf3cdb1",
   "outputs": [
    {
     "data": {
      "text/plain": [
       "tensor([0., 2., 4., 6.])"
      ]
     },
     "execution_count": 33,
     "metadata": {},
     "output_type": "execute_result"
    }
   ],
   "execution_count": 33
  },
  {
   "metadata": {
    "ExecuteTime": {
     "end_time": "2025-01-24T01:32:54.455992Z",
     "start_time": "2025-01-24T01:32:54.448945Z"
    }
   },
   "cell_type": "code",
   "source": [
    "x.grad.zero_()\n",
    "y=x*x\n",
    "u=y.detach()\n",
    "z=u*x\n",
    "z.sum().backward()\n",
    "x.grad"
   ],
   "id": "43f25f59049d4bda",
   "outputs": [
    {
     "data": {
      "text/plain": [
       "tensor([0., 1., 4., 9.])"
      ]
     },
     "execution_count": 38,
     "metadata": {},
     "output_type": "execute_result"
    }
   ],
   "execution_count": 38
  },
  {
   "metadata": {
    "ExecuteTime": {
     "end_time": "2025-01-24T01:34:07.232494Z",
     "start_time": "2025-01-24T01:34:07.226466Z"
    }
   },
   "cell_type": "code",
   "source": [
    "x.grad.zero_()\n",
    "y.sum().backward()\n",
    "x.grad"
   ],
   "id": "6b1d038e0a20c1f8",
   "outputs": [
    {
     "data": {
      "text/plain": [
       "tensor([0., 2., 4., 6.])"
      ]
     },
     "execution_count": 39,
     "metadata": {},
     "output_type": "execute_result"
    }
   ],
   "execution_count": 39
  },
  {
   "metadata": {
    "ExecuteTime": {
     "end_time": "2025-01-24T01:46:29.564266Z",
     "start_time": "2025-01-24T01:46:29.557648Z"
    }
   },
   "cell_type": "code",
   "source": [
    "def f(a):\n",
    "    b=a*2\n",
    "    while b.norm()<1000:\n",
    "        b=b*2\n",
    "    if b.sum()>0:\n",
    "        c=b\n",
    "    else:\n",
    "        c=100*b\n",
    "    return c\n",
    "\n",
    "a=torch.randn(size=(),requires_grad=True)\n",
    "d=f(a)\n",
    "d.backward()\n",
    "a.grad==d/a"
   ],
   "id": "3095ee7f5b59915",
   "outputs": [
    {
     "data": {
      "text/plain": [
       "tensor(True)"
      ]
     },
     "execution_count": 59,
     "metadata": {},
     "output_type": "execute_result"
    }
   ],
   "execution_count": 59
  },
  {
   "metadata": {},
   "cell_type": "markdown",
   "source": "线性回归",
   "id": "443d20a70f8f65b4"
  },
  {
   "metadata": {
    "ExecuteTime": {
     "end_time": "2025-01-30T10:09:09.837207Z",
     "start_time": "2025-01-30T10:09:09.179104Z"
    }
   },
   "cell_type": "code",
   "source": [
    "%matplotlib inline\n",
    "import matplotlib.pyplot as plt\n",
    "import math\n",
    "import time\n",
    "import numpy as np\n",
    "import torch"
   ],
   "id": "82b7a10b13b78d97",
   "outputs": [],
   "execution_count": 2
  },
  {
   "metadata": {
    "ExecuteTime": {
     "end_time": "2025-01-24T06:17:48.269547Z",
     "start_time": "2025-01-24T06:17:48.263069Z"
    }
   },
   "cell_type": "code",
   "source": [
    "n = 10000\n",
    "a = torch.ones([n])\n",
    "b = torch.ones([n])"
   ],
   "id": "8c90ba9aa25beb7c",
   "outputs": [],
   "execution_count": 63
  },
  {
   "metadata": {
    "ExecuteTime": {
     "end_time": "2025-01-24T06:19:00.099721Z",
     "start_time": "2025-01-24T06:19:00.091580Z"
    }
   },
   "cell_type": "code",
   "source": [
    "class Timer: #@save\n",
    "    \"\"\"记录多次运行时间\"\"\"\n",
    "    def __init__(self):\n",
    "        self.times = []\n",
    "        self.start()\n",
    "    def start(self):\n",
    "        \"\"\"启动计时器\"\"\"\n",
    "        self.tik = time.time()\n",
    "    def stop(self):\n",
    "        \"\"\"停止计时器并将时间记录在列表中\"\"\"\n",
    "        self.times.append(time.time() - self.tik)\n",
    "        return self.times[-1]\n",
    "    def avg(self):\n",
    "        \"\"\"返回平均时间\"\"\"\n",
    "        return sum(self.times) / len(self.times)\n",
    "    def sum(self):\n",
    "        \"\"\"返回时间总和\"\"\"\n",
    "        return sum(self.times)\n",
    "    def cumsum(self):\n",
    "        \"\"\"返回累计时间\"\"\"\n",
    "        return np.array(self.times).cumsum().tolist()\n"
   ],
   "id": "7fd6bd85dee11571",
   "outputs": [],
   "execution_count": 64
  },
  {
   "metadata": {
    "ExecuteTime": {
     "end_time": "2025-01-24T06:25:58.934452Z",
     "start_time": "2025-01-24T06:25:58.833421Z"
    }
   },
   "cell_type": "code",
   "source": [
    "c = torch.zeros(n)\n",
    "timer = Timer()\n",
    "for i in range(n):\n",
    "    c[i] = a[i] + b[i]\n",
    "f'{timer.stop():.5f} sec'"
   ],
   "id": "b4e67b1877c72652",
   "outputs": [
    {
     "data": {
      "text/plain": [
       "'0.08092 sec'"
      ]
     },
     "execution_count": 70,
     "metadata": {},
     "output_type": "execute_result"
    }
   ],
   "execution_count": 70
  },
  {
   "metadata": {
    "ExecuteTime": {
     "end_time": "2025-01-24T06:26:36.647406Z",
     "start_time": "2025-01-24T06:26:36.642488Z"
    }
   },
   "cell_type": "code",
   "source": [
    "timer.start()\n",
    "d = a + b\n",
    "f'{timer.stop():.8f} sec'"
   ],
   "id": "fab926e0c43c9006",
   "outputs": [
    {
     "data": {
      "text/plain": [
       "'0.00100088 sec'"
      ]
     },
     "execution_count": 82,
     "metadata": {},
     "output_type": "execute_result"
    }
   ],
   "execution_count": 82
  },
  {
   "metadata": {},
   "cell_type": "markdown",
   "source": "线性回归实现\n",
   "id": "5eda2ad01729f5e"
  },
  {
   "metadata": {
    "ExecuteTime": {
     "end_time": "2025-01-30T10:09:11.200551Z",
     "start_time": "2025-01-30T10:09:11.197100Z"
    }
   },
   "cell_type": "code",
   "source": [
    "%matplotlib inline\n",
    "import random\n",
    "import torch"
   ],
   "id": "c2cbe922950314d3",
   "outputs": [],
   "execution_count": 3
  },
  {
   "metadata": {
    "ExecuteTime": {
     "end_time": "2025-01-30T10:09:12.919442Z",
     "start_time": "2025-01-30T10:09:12.916411Z"
    }
   },
   "cell_type": "code",
   "source": [
    "def synthetic_data(w, b, num_examples): \n",
    "    \"\"\"生成y=Xw+b+噪声\"\"\"\n",
    "    X = torch.normal(0, 1, (num_examples, len(w)))\n",
    "    y = torch.matmul(X, w) + b\n",
    "    y += torch.normal(0, 0.01, y.shape)\n",
    "    return X, y.reshape((-1, 1))\n"
   ],
   "id": "240f428c014b781",
   "outputs": [],
   "execution_count": 4
  },
  {
   "metadata": {
    "ExecuteTime": {
     "end_time": "2025-01-30T01:07:11.861777Z",
     "start_time": "2025-01-30T01:07:11.858390Z"
    }
   },
   "cell_type": "code",
   "source": [
    "true_w = torch.tensor([2, -3.4])\n",
    "true_b = 4.2\n",
    "features, labels = synthetic_data(true_w, true_b, 1000)\n"
   ],
   "id": "9258176ce777705d",
   "outputs": [],
   "execution_count": 33
  },
  {
   "metadata": {
    "ExecuteTime": {
     "end_time": "2025-01-29T07:53:09.162087Z",
     "start_time": "2025-01-29T07:53:09.158959Z"
    }
   },
   "cell_type": "code",
   "source": "print('features:', features[0],'\\nlabel:', labels[0])\n",
   "id": "4e700c2c6f7ade55",
   "outputs": [
    {
     "name": "stdout",
     "output_type": "stream",
     "text": [
      "features: tensor([-0.3069, -0.4951]) \n",
      "label: tensor([5.2741])\n"
     ]
    }
   ],
   "execution_count": 9
  },
  {
   "metadata": {
    "ExecuteTime": {
     "end_time": "2025-01-29T07:53:33.034657Z",
     "start_time": "2025-01-29T07:53:32.870890Z"
    }
   },
   "cell_type": "code",
   "source": [
    "plt.figure(figsize=(20,8),dpi=80)\n",
    "plt.scatter(features[:,1].detach().numpy(),labels.detach().numpy())"
   ],
   "id": "75e69e04cea8b658",
   "outputs": [
    {
     "data": {
      "text/plain": [
       "<matplotlib.collections.PathCollection at 0x1cd4b296db0>"
      ]
     },
     "execution_count": 12,
     "metadata": {},
     "output_type": "execute_result"
    },
    {
     "data": {
      "text/plain": [
       "<Figure size 1600x640 with 1 Axes>"
      ],
      "image/png": "[encoded data removed]"
     },
     "metadata": {},
     "output_type": "display_data"
    }
   ],
   "execution_count": 12
  },
  {
   "metadata": {
    "ExecuteTime": {
     "end_time": "2025-01-30T01:07:04.085106Z",
     "start_time": "2025-01-30T01:07:04.082205Z"
    }
   },
   "cell_type": "code",
   "source": [
    "def data_iter(batch_size, features, labels):\n",
    "    num_examples = len(features)\n",
    "    indices = list(range(num_examples))\n",
    "    # 这些样本是随机读取的，没有特定的顺序\n",
    "    random.shuffle(indices)\n",
    "    for i in range(0, num_examples, batch_size):\n",
    "        batch_indices = torch.tensor(\n",
    "            indices[i: min(i + batch_size, num_examples)])\n",
    "        yield features[batch_indices], labels[batch_indices]"
   ],
   "id": "a779907b8d72173c",
   "outputs": [],
   "execution_count": 32
  },
  {
   "metadata": {
    "ExecuteTime": {
     "end_time": "2025-01-30T01:07:15.526704Z",
     "start_time": "2025-01-30T01:07:15.523094Z"
    }
   },
   "cell_type": "code",
   "source": [
    "batch_size = 10\n",
    "for X, y in data_iter(batch_size, features, labels):\n",
    "    print(X, '\\n', y)\n",
    "    break"
   ],
   "id": "23d12de5101b74fd",
   "outputs": [
    {
     "name": "stdout",
     "output_type": "stream",
     "text": [
      "tensor([[ 0.7567,  0.3593],\n",
      "        [-0.0126,  2.4050],\n",
      "        [ 2.1412,  0.7890],\n",
      "        [-0.4965,  0.5478],\n",
      "        [ 2.0338, -2.1480],\n",
      "        [ 2.1730,  1.0185],\n",
      "        [ 1.0430, -0.0721],\n",
      "        [ 0.6900, -0.1905],\n",
      "        [ 0.1100,  0.0808],\n",
      "        [ 0.8355, -1.4072]]) \n",
      " tensor([[ 4.5031],\n",
      "        [-4.0184],\n",
      "        [ 5.8040],\n",
      "        [ 1.3548],\n",
      "        [15.5736],\n",
      "        [ 5.0808],\n",
      "        [ 6.5130],\n",
      "        [ 6.2196],\n",
      "        [ 4.1591],\n",
      "        [10.6605]])\n"
     ]
    }
   ],
   "execution_count": 34
  },
  {
   "metadata": {
    "ExecuteTime": {
     "end_time": "2025-01-30T01:07:17.910455Z",
     "start_time": "2025-01-30T01:07:17.907806Z"
    }
   },
   "cell_type": "code",
   "source": [
    "w = torch.normal(0, 0.01, size=(2,1), requires_grad=True)\n",
    "b = torch.zeros(1, requires_grad=True)\n"
   ],
   "id": "45d950e8583b3526",
   "outputs": [],
   "execution_count": 35
  },
  {
   "metadata": {
    "ExecuteTime": {
     "end_time": "2025-01-30T01:07:20.243454Z",
     "start_time": "2025-01-30T01:07:20.240618Z"
    }
   },
   "cell_type": "code",
   "source": [
    "def linreg(X, w, b): #@save\n",
    "    \"\"\"线性回归模型\"\"\"\n",
    "    return torch.matmul(X, w) + b"
   ],
   "id": "501b427207d8320e",
   "outputs": [],
   "execution_count": 36
  },
  {
   "metadata": {
    "ExecuteTime": {
     "end_time": "2025-01-29T07:53:40.797158Z",
     "start_time": "2025-01-29T07:53:40.794422Z"
    }
   },
   "cell_type": "code",
   "source": [
    "def squared_loss(y_hat, y): #@save\n",
    "    \"\"\"均方损失\"\"\"\n",
    "    return (y_hat - y.reshape(y_hat.shape)) ** 2 / 2"
   ],
   "id": "b0aea0fde2fd7c1f",
   "outputs": [],
   "execution_count": 17
  },
  {
   "metadata": {
    "ExecuteTime": {
     "end_time": "2025-01-30T01:06:59.512511Z",
     "start_time": "2025-01-30T01:06:59.510243Z"
    }
   },
   "cell_type": "code",
   "source": [
    "def sgd(params, lr, batch_size): #@save\n",
    "    \"\"\"小批量随机梯度下降\"\"\"\n",
    "    with torch.no_grad():\n",
    "        for param in params:\n",
    "            param -= lr * param.grad / batch_size\n",
    "            param.grad.zero_()\n"
   ],
   "id": "77505e79acf037a8",
   "outputs": [],
   "execution_count": 31
  },
  {
   "metadata": {
    "ExecuteTime": {
     "end_time": "2025-01-30T01:06:54.311565Z",
     "start_time": "2025-01-30T01:06:54.309525Z"
    }
   },
   "cell_type": "code",
   "source": [
    "lr = 0.03\n",
    "num_epochs = 3\n",
    "net = linreg\n",
    "loss = squared_loss"
   ],
   "id": "ce6023ff9baba5fd",
   "outputs": [],
   "execution_count": 29
  },
  {
   "metadata": {
    "ExecuteTime": {
     "end_time": "2025-01-30T01:07:23.756211Z",
     "start_time": "2025-01-30T01:07:23.722350Z"
    }
   },
   "cell_type": "code",
   "source": [
    "for epoch in range(num_epochs):\n",
    "    for X, y in data_iter(batch_size, features, labels):\n",
    "        l = loss(net(X, w, b), y) # X和y的小批量损失\n",
    "        # 因为l形状是(batch_size,1)，而不是一个标量。l中的所有元素被加到一起，\n",
    "        # 并以此计算关于[w,b]的梯度\n",
    "        # print(l)\n",
    "        l.sum().backward()\n",
    "        sgd([w, b], lr, batch_size) # 使用参数的梯度更新参数\n",
    "    with torch.no_grad():\n",
    "        train_l = loss(net(features, w, b), labels)\n",
    "        print(f'epoch {epoch + 1}, loss {float(train_l.mean()):f}')"
   ],
   "id": "c9ea8d9db1a3b06d",
   "outputs": [
    {
     "name": "stdout",
     "output_type": "stream",
     "text": [
      "epoch 1, loss 0.033163\n",
      "epoch 2, loss 0.000111\n",
      "epoch 3, loss 0.000050\n"
     ]
    }
   ],
   "execution_count": 37
  },
  {
   "metadata": {
    "ExecuteTime": {
     "end_time": "2025-01-30T01:06:48.675144Z",
     "start_time": "2025-01-30T01:06:48.668945Z"
    }
   },
   "cell_type": "code",
   "source": [
    "print(f'w的估计误差: {true_w - w.reshape(true_w.shape)}')\n",
    "print(f'b的估计误差: {true_b - b}')"
   ],
   "id": "8dcdf222e77fc543",
   "outputs": [
    {
     "name": "stdout",
     "output_type": "stream",
     "text": [
      "w的估计误差: tensor([-0.0008, -0.0004], grad_fn=<SubBackward0>)\n",
      "b的估计误差: tensor([-0.0003], grad_fn=<RsubBackward1>)\n"
     ]
    }
   ],
   "execution_count": 28
  },
  {
   "metadata": {},
   "cell_type": "markdown",
   "source": "线性回归的简洁实现",
   "id": "f8caaed1cb6c6098"
  },
  {
   "metadata": {
    "ExecuteTime": {
     "end_time": "2025-01-30T10:09:18.405041Z",
     "start_time": "2025-01-30T10:09:18.402907Z"
    }
   },
   "cell_type": "code",
   "source": [
    "import numpy as np\n",
    "from torch.utils import data\n"
   ],
   "id": "9763ed1ddd48a141",
   "outputs": [],
   "execution_count": 5
  },
  {
   "metadata": {
    "ExecuteTime": {
     "end_time": "2025-01-30T10:09:20.506907Z",
     "start_time": "2025-01-30T10:09:20.484244Z"
    }
   },
   "cell_type": "code",
   "source": [
    "true_w = torch.tensor([2, -3.4])\n",
    "true_b = 4.2\n",
    "features,labels=synthetic_data(true_w,true_b,1000)"
   ],
   "id": "64e86ff3d7219fa4",
   "outputs": [],
   "execution_count": 6
  },
  {
   "metadata": {
    "ExecuteTime": {
     "end_time": "2025-01-30T10:12:02.512732Z",
     "start_time": "2025-01-30T10:12:02.510594Z"
    }
   },
   "cell_type": "code",
   "source": [
    "def load_array(data_arrays,batch_size,is_train=True):\n",
    "    dataset=data.TensorDataset(*data_arrays)\n",
    "    return data.DataLoader(dataset,batch_size,shuffle=is_train)"
   ],
   "id": "bd8c68de40b6e310",
   "outputs": [],
   "execution_count": 10
  },
  {
   "metadata": {
    "ExecuteTime": {
     "end_time": "2025-01-30T10:12:35.541111Z",
     "start_time": "2025-01-30T10:12:35.533232Z"
    }
   },
   "cell_type": "code",
   "source": [
    "batch_size=10\n",
    "data_iter=load_array((features,labels),batch_size)\n",
    "next(iter(data_iter))"
   ],
   "id": "6182868049a27403",
   "outputs": [
    {
     "data": {
      "text/plain": [
       "[tensor([[ 1.2308,  0.4737],\n",
       "         [ 0.9727,  0.3447],\n",
       "         [-0.5008,  1.0313],\n",
       "         [-0.5131, -0.9648],\n",
       "         [-0.5625,  0.8303],\n",
       "         [-0.9906,  0.2793],\n",
       "         [ 0.5746,  2.6055],\n",
       "         [ 1.5640,  0.4319],\n",
       "         [-1.8685,  2.3845],\n",
       "         [ 1.3845, -0.0088]]),\n",
       " tensor([[ 5.0537],\n",
       "         [ 4.9656],\n",
       "         [-0.3181],\n",
       "         [ 6.4691],\n",
       "         [ 0.2313],\n",
       "         [ 1.2610],\n",
       "         [-3.5157],\n",
       "         [ 5.8551],\n",
       "         [-7.6392],\n",
       "         [ 6.9971]])]"
      ]
     },
     "execution_count": 12,
     "metadata": {},
     "output_type": "execute_result"
    }
   ],
   "execution_count": 12
  },
  {
   "metadata": {
    "ExecuteTime": {
     "end_time": "2025-01-30T10:16:02.981355Z",
     "start_time": "2025-01-30T10:16:02.978933Z"
    }
   },
   "cell_type": "code",
   "source": "from torch import nn",
   "id": "ffb64c01e9ed4659",
   "outputs": [],
   "execution_count": 13
  },
  {
   "metadata": {
    "ExecuteTime": {
     "end_time": "2025-01-30T10:17:06.928561Z",
     "start_time": "2025-01-30T10:17:06.924817Z"
    }
   },
   "cell_type": "code",
   "source": "net=nn.Sequential(nn.Linear(2,1))",
   "id": "f195bd7eefac8861",
   "outputs": [],
   "execution_count": 15
  },
  {
   "metadata": {
    "ExecuteTime": {
     "end_time": "2025-01-30T10:17:08.018886Z",
     "start_time": "2025-01-30T10:17:08.014624Z"
    }
   },
   "cell_type": "code",
   "source": [
    "net[0].weight.data.normal_(0, 0.01)\n",
    "net[0].bias.data.fill_(0)"
   ],
   "id": "83bd2f5a76528477",
   "outputs": [
    {
     "data": {
      "text/plain": [
       "tensor([0.])"
      ]
     },
     "execution_count": 16,
     "metadata": {},
     "output_type": "execute_result"
    }
   ],
   "execution_count": 16
  },
  {
   "metadata": {
    "ExecuteTime": {
     "end_time": "2025-01-30T10:18:06.129081Z",
     "start_time": "2025-01-30T10:18:04.871259Z"
    }
   },
   "cell_type": "code",
   "source": [
    "loss=nn.MSELoss()\n",
    "trainer=torch.optim.SGD(net.parameters(),lr=0.03)"
   ],
   "id": "8744fc28b1fe7bbf",
   "outputs": [],
   "execution_count": 17
  },
  {
   "metadata": {
    "ExecuteTime": {
     "end_time": "2025-01-30T10:21:03.432187Z",
     "start_time": "2025-01-30T10:21:03.358169Z"
    }
   },
   "cell_type": "code",
   "source": [
    "num_epochs=3\n",
    "for epoch in range(num_epochs):\n",
    "    for X,y in data_iter:\n",
    "        l=loss(net(X),y)\n",
    "        trainer.zero_grad()\n",
    "        l.backward()\n",
    "        trainer.step()\n",
    "    l=loss(net(features),labels)\n",
    "    print(f'epoch {epoch + 1}, loss {l:f}')"
   ],
   "id": "b07df8e6a06b837b",
   "outputs": [
    {
     "name": "stdout",
     "output_type": "stream",
     "text": [
      "epoch 1, loss 0.000245\n",
      "epoch 2, loss 0.000103\n",
      "epoch 3, loss 0.000103\n"
     ]
    }
   ],
   "execution_count": 18
  },
  {
   "metadata": {
    "ExecuteTime": {
     "end_time": "2025-01-30T10:21:23.972966Z",
     "start_time": "2025-01-30T10:21:23.961233Z"
    }
   },
   "cell_type": "code",
   "source": [
    "w = net[0].weight.data\n",
    "print('w的估计误差：', true_w - w.reshape(true_w.shape))\n",
    "b = net[0].bias.data\n",
    "print('b的估计误差：', true_b - b)"
   ],
   "id": "d74ae2a91829e974",
   "outputs": [
    {
     "name": "stdout",
     "output_type": "stream",
     "text": [
      "w的估计误差： tensor([ 0.0005, -0.0004])\n",
      "b的估计误差： tensor([0.0003])\n"
     ]
    }
   ],
   "execution_count": 19
  },
  {
   "metadata": {},
   "cell_type": "markdown",
   "source": "图像分类数据集",
   "id": "9f930c847aea883a"
  },
  {
   "metadata": {
    "ExecuteTime": {
     "end_time": "2025-02-01T00:39:47.633226Z",
     "start_time": "2025-02-01T00:39:47.116599Z"
    }
   },
   "cell_type": "code",
   "source": [
    "%matplotlib inline\n",
    "import torch\n",
    "import torchvision\n",
    "from torch.utils import data\n",
    "from torchvision import transforms"
   ],
   "id": "efcee79f59bac4ed",
   "outputs": [],
   "execution_count": 20
  },
  {
   "metadata": {
    "ExecuteTime": {
     "end_time": "2025-02-01T00:46:08.971718Z",
     "start_time": "2025-02-01T00:45:47.150854Z"
    }
   },
   "cell_type": "code",
   "source": [
    "# 通过ToTensor实例将图像数据从PIL类型变换成32位浮点数格式，\n",
    "# 并除以255使得所有像素的数值均在0～1之间\n",
    "trans = transforms.ToTensor()\n",
    "mnist_train = torchvision.datasets.FashionMNIST(\n",
    "root=\"../data\", train=True, transform=trans, download=True)\n",
    "mnist_test = torchvision.datasets.FashionMNIST(\n",
    "root=\"../data\", train=False, transform=trans, download=True)\n"
   ],
   "id": "7b4e7b10e7348f68",
   "outputs": [
    {
     "name": "stdout",
     "output_type": "stream",
     "text": [
      "Downloading http://fashion-mnist.s3-website.eu-central-1.amazonaws.com/train-images-idx3-ubyte.gz\n",
      "Downloading http://fashion-mnist.s3-website.eu-central-1.amazonaws.com/train-images-idx3-ubyte.gz to ../data\\FashionMNIST\\raw\\train-images-idx3-ubyte.gz\n"
     ]
    },
    {
     "name": "stderr",
     "output_type": "stream",
     "text": [
      "100.0%\n"
     ]
    },
    {
     "name": "stdout",
     "output_type": "stream",
     "text": [
      "Extracting ../data\\FashionMNIST\\raw\\train-images-idx3-ubyte.gz to ../data\\FashionMNIST\\raw\n",
      "\n",
      "Downloading http://fashion-mnist.s3-website.eu-central-1.amazonaws.com/train-labels-idx1-ubyte.gz\n",
      "Downloading http://fashion-mnist.s3-website.eu-central-1.amazonaws.com/train-labels-idx1-ubyte.gz to ../data\\FashionMNIST\\raw\\train-labels-idx1-ubyte.gz\n"
     ]
    },
    {
     "name": "stderr",
     "output_type": "stream",
     "text": [
      "100.0%\n"
     ]
    },
    {
     "name": "stdout",
     "output_type": "stream",
     "text": [
      "Extracting ../data\\FashionMNIST\\raw\\train-labels-idx1-ubyte.gz to ../data\\FashionMNIST\\raw\n",
      "\n",
      "Downloading http://fashion-mnist.s3-website.eu-central-1.amazonaws.com/t10k-images-idx3-ubyte.gz\n",
      "Downloading http://fashion-mnist.s3-website.eu-central-1.amazonaws.com/t10k-images-idx3-ubyte.gz to ../data\\FashionMNIST\\raw\\t10k-images-idx3-ubyte.gz\n"
     ]
    },
    {
     "name": "stderr",
     "output_type": "stream",
     "text": [
      "100.0%\n"
     ]
    },
    {
     "name": "stdout",
     "output_type": "stream",
     "text": [
      "Extracting ../data\\FashionMNIST\\raw\\t10k-images-idx3-ubyte.gz to ../data\\FashionMNIST\\raw\n",
      "\n",
      "Downloading http://fashion-mnist.s3-website.eu-central-1.amazonaws.com/t10k-labels-idx1-ubyte.gz\n",
      "Downloading http://fashion-mnist.s3-website.eu-central-1.amazonaws.com/t10k-labels-idx1-ubyte.gz to ../data\\FashionMNIST\\raw\\t10k-labels-idx1-ubyte.gz\n"
     ]
    },
    {
     "name": "stderr",
     "output_type": "stream",
     "text": [
      "100.0%"
     ]
    },
    {
     "name": "stdout",
     "output_type": "stream",
     "text": [
      "Extracting ../data\\FashionMNIST\\raw\\t10k-labels-idx1-ubyte.gz to ../data\\FashionMNIST\\raw\n",
      "\n"
     ]
    },
    {
     "name": "stderr",
     "output_type": "stream",
     "text": [
      "\n"
     ]
    }
   ],
   "execution_count": 22
  },
  {
   "metadata": {
    "ExecuteTime": {
     "end_time": "2025-02-01T00:46:24.335616Z",
     "start_time": "2025-02-01T00:46:24.320806Z"
    }
   },
   "cell_type": "code",
   "source": "len(mnist_train), len(mnist_test)\n",
   "id": "237108051bcb4a69",
   "outputs": [
    {
     "data": {
      "text/plain": [
       "(60000, 10000)"
      ]
     },
     "execution_count": 23,
     "metadata": {},
     "output_type": "execute_result"
    }
   ],
   "execution_count": 23
  },
  {
   "metadata": {
    "ExecuteTime": {
     "end_time": "2025-02-01T01:04:36.796001Z",
     "start_time": "2025-02-01T01:04:36.784962Z"
    }
   },
   "cell_type": "code",
   "source": "mnist_train[0][0].shape",
   "id": "1493d49acbb5334b",
   "outputs": [
    {
     "data": {
      "text/plain": [
       "torch.Size([1, 28, 28])"
      ]
     },
     "execution_count": 24,
     "metadata": {},
     "output_type": "execute_result"
    }
   ],
   "execution_count": 24
  },
  {
   "metadata": {
    "ExecuteTime": {
     "end_time": "2025-02-01T01:05:08.639103Z",
     "start_time": "2025-02-01T01:05:08.624804Z"
    }
   },
   "cell_type": "code",
   "source": [
    "def get_fashion_mnist_labels(labels): \n",
    "    \"\"\"返回Fashion-MNIST数据集的文本标签\"\"\"\n",
    "    text_labels = ['t-shirt', 'trouser', 'pullover', 'dress', 'coat',\n",
    "                    'sandal', 'shirt', 'sneaker', 'bag', 'ankle boot']\n",
    "    return [text_labels[int(i)] for i in labels]\n"
   ],
   "id": "7ad97e8a3dd49f10",
   "outputs": [],
   "execution_count": 25
  },
  {
   "metadata": {
    "ExecuteTime": {
     "end_time": "2025-02-01T01:21:48.229559Z",
     "start_time": "2025-02-01T01:21:48.224123Z"
    }
   },
   "cell_type": "code",
   "source": [
    "batch_size=256\n",
    "\n",
    "train_iter=data.DataLoader(mnist_train,batch_size,shuffle=True,num_workers=4)"
   ],
   "id": "da3ac1649bdf054",
   "outputs": [],
   "execution_count": 26
  },
  {
   "metadata": {},
   "cell_type": "code",
   "outputs": [],
   "execution_count": null,
   "source": "",
   "id": "499a67d744db2977"
  }
 ],
 "metadata": {
  "kernelspec": {
   "display_name": "Python 3",
   "language": "python",
   "name": "python3"
  },
  "language_info": {
   "codemirror_mode": {
    "name": "ipython",
    "version": 2
   },
   "file_extension": ".py",
   "mimetype": "text/x-python",
   "name": "python",
   "nbconvert_exporter": "python",
   "pygments_lexer": "ipython2",
   "version": "2.7.6"
  }
 },
 "nbformat": 4,
 "nbformat_minor": 5
}
