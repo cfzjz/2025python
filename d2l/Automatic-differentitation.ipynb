{
 "cells": [
  {
   "cell_type": "code",
   "execution_count": 2,
   "id": "initial_id",
   "metadata": {
    "ExecuteTime": {
     "end_time": "2025-02-02T07:20:51.613218Z",
     "start_time": "2025-02-02T07:20:51.610876Z"
    },
    "collapsed": true,
    "jupyter": {
     "outputs_hidden": true
    }
   },
   "outputs": [],
   "source": [
    "import torch"
   ]
  },
  {
   "cell_type": "markdown",
   "id": "ebdc5a7ace3ebb32",
   "metadata": {},
   "source": [
    "自动微分"
   ]
  },
  {
   "cell_type": "code",
   "execution_count": 21,
   "id": "6822d5c4a78590b2",
   "metadata": {
    "ExecuteTime": {
     "end_time": "2025-01-24T01:00:10.620355Z",
     "start_time": "2025-01-24T01:00:10.613204Z"
    }
   },
   "outputs": [
    {
     "name": "stdout",
     "output_type": "stream",
     "text": [
      "tensor([0., 1., 2., 3.], requires_grad=True)\n"
     ]
    }
   ],
   "source": [
    "x=torch.arange(4.0,requires_grad=True)\n",
    "print(x)\n",
    "x.grad"
   ]
  },
  {
   "cell_type": "code",
   "execution_count": 16,
   "id": "6c4ce0852ad63c13",
   "metadata": {
    "ExecuteTime": {
     "end_time": "2025-01-23T02:56:40.027809Z",
     "start_time": "2025-01-23T02:56:40.021567Z"
    }
   },
   "outputs": [
    {
     "data": {
      "text/plain": [
       "tensor(28., grad_fn=<MulBackward0>)"
      ]
     },
     "execution_count": 16,
     "metadata": {},
     "output_type": "execute_result"
    }
   ],
   "source": [
    "y=2*torch.dot(x,x)\n",
    "y"
   ]
  },
  {
   "cell_type": "code",
   "execution_count": 17,
   "id": "d623d20f0d1933d3",
   "metadata": {
    "ExecuteTime": {
     "end_time": "2025-01-23T02:56:41.124672Z",
     "start_time": "2025-01-23T02:56:41.118695Z"
    }
   },
   "outputs": [
    {
     "data": {
      "text/plain": [
       "tensor([ 0.,  4.,  8., 12.])"
      ]
     },
     "execution_count": 17,
     "metadata": {},
     "output_type": "execute_result"
    }
   ],
   "source": [
    "y.backward()\n",
    "x.grad"
   ]
  },
  {
   "cell_type": "code",
   "execution_count": 27,
   "id": "3e829e96e877e027",
   "metadata": {
    "ExecuteTime": {
     "end_time": "2025-01-24T01:08:20.853499Z",
     "start_time": "2025-01-24T01:08:20.842946Z"
    }
   },
   "outputs": [
    {
     "data": {
      "text/plain": [
       "tensor([1., 1., 1., 1.])"
      ]
     },
     "execution_count": 27,
     "metadata": {},
     "output_type": "execute_result"
    }
   ],
   "source": [
    "x.grad.zero_()\n",
    "y=x.sum()\n",
    "y.backward()\n",
    "x.grad"
   ]
  },
  {
   "cell_type": "code",
   "execution_count": 33,
   "id": "8c5b12ebabf3cdb1",
   "metadata": {
    "ExecuteTime": {
     "end_time": "2025-01-24T01:27:56.753077Z",
     "start_time": "2025-01-24T01:27:56.744180Z"
    }
   },
   "outputs": [
    {
     "data": {
      "text/plain": [
       "tensor([0., 2., 4., 6.])"
      ]
     },
     "execution_count": 33,
     "metadata": {},
     "output_type": "execute_result"
    }
   ],
   "source": [
    "# 对非标量调用backward需要传入一个gradient参数，该参数指定微分函数关于self的梯度。\n",
    "# 本例只想求偏导数的和，所以传递一个1的梯度是合适的\n",
    "x.grad.zero_()\n",
    "y=x*x\n",
    "# 等价于y.backward(torch.ones(len(x)))\n",
    "y.sum().backward()\n",
    "x.grad"
   ]
  },
  {
   "cell_type": "code",
   "execution_count": 38,
   "id": "43f25f59049d4bda",
   "metadata": {
    "ExecuteTime": {
     "end_time": "2025-01-24T01:32:54.455992Z",
     "start_time": "2025-01-24T01:32:54.448945Z"
    }
   },
   "outputs": [
    {
     "data": {
      "text/plain": [
       "tensor([0., 1., 4., 9.])"
      ]
     },
     "execution_count": 38,
     "metadata": {},
     "output_type": "execute_result"
    }
   ],
   "source": [
    "x.grad.zero_()\n",
    "y=x*x\n",
    "u=y.detach()\n",
    "z=u*x\n",
    "z.sum().backward()\n",
    "x.grad"
   ]
  },
  {
   "cell_type": "code",
   "execution_count": 39,
   "id": "6b1d038e0a20c1f8",
   "metadata": {
    "ExecuteTime": {
     "end_time": "2025-01-24T01:34:07.232494Z",
     "start_time": "2025-01-24T01:34:07.226466Z"
    }
   },
   "outputs": [
    {
     "data": {
      "text/plain": [
       "tensor([0., 2., 4., 6.])"
      ]
     },
     "execution_count": 39,
     "metadata": {},
     "output_type": "execute_result"
    }
   ],
   "source": [
    "x.grad.zero_()\n",
    "y.sum().backward()\n",
    "x.grad"
   ]
  },
  {
   "cell_type": "code",
   "execution_count": 59,
   "id": "3095ee7f5b59915",
   "metadata": {
    "ExecuteTime": {
     "end_time": "2025-01-24T01:46:29.564266Z",
     "start_time": "2025-01-24T01:46:29.557648Z"
    }
   },
   "outputs": [
    {
     "data": {
      "text/plain": [
       "tensor(True)"
      ]
     },
     "execution_count": 59,
     "metadata": {},
     "output_type": "execute_result"
    }
   ],
   "source": [
    "def f(a):\n",
    "    b=a*2\n",
    "    while b.norm()<1000:\n",
    "        b=b*2\n",
    "    if b.sum()>0:\n",
    "        c=b\n",
    "    else:\n",
    "        c=100*b\n",
    "    return c\n",
    "\n",
    "a=torch.randn(size=(),requires_grad=True)\n",
    "d=f(a)\n",
    "d.backward()\n",
    "a.grad==d/a"
   ]
  },
  {
   "cell_type": "markdown",
   "id": "443d20a70f8f65b4",
   "metadata": {},
   "source": [
    "线性回归"
   ]
  },
  {
   "cell_type": "code",
   "execution_count": 3,
   "id": "82b7a10b13b78d97",
   "metadata": {
    "ExecuteTime": {
     "end_time": "2025-02-02T07:21:02.073259Z",
     "start_time": "2025-02-02T07:21:01.539036Z"
    }
   },
   "outputs": [],
   "source": [
    "%matplotlib inline\n",
    "import matplotlib.pyplot as plt\n",
    "import math\n",
    "import time\n",
    "import numpy as np\n",
    "import torch"
   ]
  },
  {
   "cell_type": "code",
   "execution_count": 63,
   "id": "8c90ba9aa25beb7c",
   "metadata": {
    "ExecuteTime": {
     "end_time": "2025-01-24T06:17:48.269547Z",
     "start_time": "2025-01-24T06:17:48.263069Z"
    }
   },
   "outputs": [],
   "source": [
    "n = 10000\n",
    "a = torch.ones([n])\n",
    "b = torch.ones([n])"
   ]
  },
  {
   "cell_type": "code",
   "execution_count": 64,
   "id": "7fd6bd85dee11571",
   "metadata": {
    "ExecuteTime": {
     "end_time": "2025-01-24T06:19:00.099721Z",
     "start_time": "2025-01-24T06:19:00.091580Z"
    }
   },
   "outputs": [],
   "source": [
    "class Timer: #@save\n",
    "    \"\"\"记录多次运行时间\"\"\"\n",
    "    def __init__(self):\n",
    "        self.times = []\n",
    "        self.start()\n",
    "    def start(self):\n",
    "        \"\"\"启动计时器\"\"\"\n",
    "        self.tik = time.time()\n",
    "    def stop(self):\n",
    "        \"\"\"停止计时器并将时间记录在列表中\"\"\"\n",
    "        self.times.append(time.time() - self.tik)\n",
    "        return self.times[-1]\n",
    "    def avg(self):\n",
    "        \"\"\"返回平均时间\"\"\"\n",
    "        return sum(self.times) / len(self.times)\n",
    "    def sum(self):\n",
    "        \"\"\"返回时间总和\"\"\"\n",
    "        return sum(self.times)\n",
    "    def cumsum(self):\n",
    "        \"\"\"返回累计时间\"\"\"\n",
    "        return np.array(self.times).cumsum().tolist()\n"
   ]
  },
  {
   "cell_type": "code",
   "execution_count": 70,
   "id": "b4e67b1877c72652",
   "metadata": {
    "ExecuteTime": {
     "end_time": "2025-01-24T06:25:58.934452Z",
     "start_time": "2025-01-24T06:25:58.833421Z"
    }
   },
   "outputs": [
    {
     "data": {
      "text/plain": [
       "'0.08092 sec'"
      ]
     },
     "execution_count": 70,
     "metadata": {},
     "output_type": "execute_result"
    }
   ],
   "source": [
    "c = torch.zeros(n)\n",
    "timer = Timer()\n",
    "for i in range(n):\n",
    "    c[i] = a[i] + b[i]\n",
    "f'{timer.stop():.5f} sec'"
   ]
  },
  {
   "cell_type": "code",
   "execution_count": 82,
   "id": "fab926e0c43c9006",
   "metadata": {
    "ExecuteTime": {
     "end_time": "2025-01-24T06:26:36.647406Z",
     "start_time": "2025-01-24T06:26:36.642488Z"
    }
   },
   "outputs": [
    {
     "data": {
      "text/plain": [
       "'0.00100088 sec'"
      ]
     },
     "execution_count": 82,
     "metadata": {},
     "output_type": "execute_result"
    }
   ],
   "source": [
    "timer.start()\n",
    "d = a + b\n",
    "f'{timer.stop():.8f} sec'"
   ]
  },
  {
   "cell_type": "markdown",
   "id": "5eda2ad01729f5e",
   "metadata": {},
   "source": [
    "线性回归实现\n"
   ]
  },
  {
   "cell_type": "code",
   "execution_count": 4,
   "id": "c2cbe922950314d3",
   "metadata": {
    "ExecuteTime": {
     "end_time": "2025-02-02T07:21:04.765527Z",
     "start_time": "2025-02-02T07:21:04.763027Z"
    }
   },
   "outputs": [],
   "source": [
    "%matplotlib inline\n",
    "import random\n",
    "import torch"
   ]
  },
  {
   "cell_type": "code",
   "execution_count": 5,
   "id": "240f428c014b781",
   "metadata": {
    "ExecuteTime": {
     "end_time": "2025-02-02T07:21:10.946440Z",
     "start_time": "2025-02-02T07:21:10.943940Z"
    }
   },
   "outputs": [],
   "source": [
    "def synthetic_data(w, b, num_examples): \n",
    "    \"\"\"生成y=Xw+b+噪声\"\"\"\n",
    "    X = torch.normal(0, 1, (num_examples, len(w)))\n",
    "    y = torch.matmul(X, w) + b\n",
    "    y += torch.normal(0, 0.01, y.shape)\n",
    "    return X, y.reshape((-1, 1))\n"
   ]
  },
  {
   "cell_type": "code",
   "execution_count": 33,
   "id": "9258176ce777705d",
   "metadata": {
    "ExecuteTime": {
     "end_time": "2025-01-30T01:07:11.861777Z",
     "start_time": "2025-01-30T01:07:11.858390Z"
    }
   },
   "outputs": [],
   "source": [
    "true_w = torch.tensor([2, -3.4])\n",
    "true_b = 4.2\n",
    "features, labels = synthetic_data(true_w, true_b, 1000)\n"
   ]
  },
  {
   "cell_type": "code",
   "execution_count": 9,
   "id": "4e700c2c6f7ade55",
   "metadata": {
    "ExecuteTime": {
     "end_time": "2025-01-29T07:53:09.162087Z",
     "start_time": "2025-01-29T07:53:09.158959Z"
    }
   },
   "outputs": [
    {
     "name": "stdout",
     "output_type": "stream",
     "text": [
      "features: tensor([-0.3069, -0.4951]) \n",
      "label: tensor([5.2741])\n"
     ]
    }
   ],
   "source": [
    "print('features:', features[0],'\\nlabel:', labels[0])\n"
   ]
  },
  {
   "cell_type": "code",
   "execution_count": 12,
   "id": "75e69e04cea8b658",
   "metadata": {
    "ExecuteTime": {
     "end_time": "2025-01-29T07:53:33.034657Z",
     "start_time": "2025-01-29T07:53:32.870890Z"
    }
   },
   "outputs": [
    {
     "data": {
      "text/plain": [
       "<matplotlib.collections.PathCollection at 0x1cd4b296db0>"
      ]
     },
     "execution_count": 12,
     "metadata": {},
     "output_type": "execute_result"
    },
    {
     "data": {
      "image/png": "[encoded data removed]",
      "text/plain": [
       "<Figure size 1600x640 with 1 Axes>"
      ]
     },
     "metadata": {},
     "output_type": "display_data"
    }
   ],
   "source": [
    "plt.figure(figsize=(20,8),dpi=80)\n",
    "plt.scatter(features[:,1].detach().numpy(),labels.detach().numpy())"
   ]
  },
  {
   "cell_type": "code",
   "execution_count": 32,
   "id": "a779907b8d72173c",
   "metadata": {
    "ExecuteTime": {
     "end_time": "2025-01-30T01:07:04.085106Z",
     "start_time": "2025-01-30T01:07:04.082205Z"
    }
   },
   "outputs": [],
   "source": [
    "def data_iter(batch_size, features, labels):\n",
    "    num_examples = len(features)\n",
    "    indices = list(range(num_examples))\n",
    "    # 这些样本是随机读取的，没有特定的顺序\n",
    "    random.shuffle(indices)\n",
    "    for i in range(0, num_examples, batch_size):\n",
    "        batch_indices = torch.tensor(\n",
    "            indices[i: min(i + batch_size, num_examples)])\n",
    "        yield features[batch_indices], labels[batch_indices]"
   ]
  },
  {
   "cell_type": "code",
   "execution_count": 34,
   "id": "23d12de5101b74fd",
   "metadata": {
    "ExecuteTime": {
     "end_time": "2025-01-30T01:07:15.526704Z",
     "start_time": "2025-01-30T01:07:15.523094Z"
    }
   },
   "outputs": [
    {
     "name": "stdout",
     "output_type": "stream",
     "text": [
      "tensor([[ 0.7567,  0.3593],\n",
      "        [-0.0126,  2.4050],\n",
      "        [ 2.1412,  0.7890],\n",
      "        [-0.4965,  0.5478],\n",
      "        [ 2.0338, -2.1480],\n",
      "        [ 2.1730,  1.0185],\n",
      "        [ 1.0430, -0.0721],\n",
      "        [ 0.6900, -0.1905],\n",
      "        [ 0.1100,  0.0808],\n",
      "        [ 0.8355, -1.4072]]) \n",
      " tensor([[ 4.5031],\n",
      "        [-4.0184],\n",
      "        [ 5.8040],\n",
      "        [ 1.3548],\n",
      "        [15.5736],\n",
      "        [ 5.0808],\n",
      "        [ 6.5130],\n",
      "        [ 6.2196],\n",
      "        [ 4.1591],\n",
      "        [10.6605]])\n"
     ]
    }
   ],
   "source": [
    "batch_size = 10\n",
    "for X, y in data_iter(batch_size, features, labels):\n",
    "    print(X, '\\n', y)\n",
    "    break"
   ]
  },
  {
   "cell_type": "code",
   "execution_count": 35,
   "id": "45d950e8583b3526",
   "metadata": {
    "ExecuteTime": {
     "end_time": "2025-01-30T01:07:17.910455Z",
     "start_time": "2025-01-30T01:07:17.907806Z"
    }
   },
   "outputs": [],
   "source": [
    "w = torch.normal(0, 0.01, size=(2,1), requires_grad=True)\n",
    "b = torch.zeros(1, requires_grad=True)\n"
   ]
  },
  {
   "cell_type": "code",
   "execution_count": 36,
   "id": "501b427207d8320e",
   "metadata": {
    "ExecuteTime": {
     "end_time": "2025-01-30T01:07:20.243454Z",
     "start_time": "2025-01-30T01:07:20.240618Z"
    }
   },
   "outputs": [],
   "source": [
    "def linreg(X, w, b): #@save\n",
    "    \"\"\"线性回归模型\"\"\"\n",
    "    return torch.matmul(X, w) + b"
   ]
  },
  {
   "cell_type": "code",
   "execution_count": 17,
   "id": "b0aea0fde2fd7c1f",
   "metadata": {
    "ExecuteTime": {
     "end_time": "2025-01-29T07:53:40.797158Z",
     "start_time": "2025-01-29T07:53:40.794422Z"
    }
   },
   "outputs": [],
   "source": [
    "def squared_loss(y_hat, y): #@save\n",
    "    \"\"\"均方损失\"\"\"\n",
    "    return (y_hat - y.reshape(y_hat.shape)) ** 2 / 2"
   ]
  },
  {
   "cell_type": "code",
   "execution_count": 31,
   "id": "77505e79acf037a8",
   "metadata": {
    "ExecuteTime": {
     "end_time": "2025-01-30T01:06:59.512511Z",
     "start_time": "2025-01-30T01:06:59.510243Z"
    }
   },
   "outputs": [],
   "source": [
    "def sgd(params, lr, batch_size): #@save\n",
    "    \"\"\"小批量随机梯度下降\"\"\"\n",
    "    with torch.no_grad():\n",
    "        for param in params:\n",
    "            param -= lr * param.grad / batch_size\n",
    "            param.grad.zero_()\n"
   ]
  },
  {
   "cell_type": "code",
   "execution_count": 29,
   "id": "ce6023ff9baba5fd",
   "metadata": {
    "ExecuteTime": {
     "end_time": "2025-01-30T01:06:54.311565Z",
     "start_time": "2025-01-30T01:06:54.309525Z"
    }
   },
   "outputs": [],
   "source": [
    "lr = 0.03\n",
    "num_epochs = 3\n",
    "net = linreg\n",
    "loss = squared_loss"
   ]
  },
  {
   "cell_type": "code",
   "execution_count": 37,
   "id": "c9ea8d9db1a3b06d",
   "metadata": {
    "ExecuteTime": {
     "end_time": "2025-01-30T01:07:23.756211Z",
     "start_time": "2025-01-30T01:07:23.722350Z"
    }
   },
   "outputs": [
    {
     "name": "stdout",
     "output_type": "stream",
     "text": [
      "epoch 1, loss 0.033163\n",
      "epoch 2, loss 0.000111\n",
      "epoch 3, loss 0.000050\n"
     ]
    }
   ],
   "source": [
    "for epoch in range(num_epochs):\n",
    "    for X, y in data_iter(batch_size, features, labels):\n",
    "        l = loss(net(X, w, b), y) # X和y的小批量损失\n",
    "        # 因为l形状是(batch_size,1)，而不是一个标量。l中的所有元素被加到一起，\n",
    "        # 并以此计算关于[w,b]的梯度\n",
    "        # print(l)\n",
    "        l.sum().backward()\n",
    "        sgd([w, b], lr, batch_size) # 使用参数的梯度更新参数\n",
    "    with torch.no_grad():\n",
    "        train_l = loss(net(features, w, b), labels)\n",
    "        print(f'epoch {epoch + 1}, loss {float(train_l.mean()):f}')"
   ]
  },
  {
   "cell_type": "code",
   "execution_count": 28,
   "id": "8dcdf222e77fc543",
   "metadata": {
    "ExecuteTime": {
     "end_time": "2025-01-30T01:06:48.675144Z",
     "start_time": "2025-01-30T01:06:48.668945Z"
    }
   },
   "outputs": [
    {
     "name": "stdout",
     "output_type": "stream",
     "text": [
      "w的估计误差: tensor([-0.0008, -0.0004], grad_fn=<SubBackward0>)\n",
      "b的估计误差: tensor([-0.0003], grad_fn=<RsubBackward1>)\n"
     ]
    }
   ],
   "source": [
    "print(f'w的估计误差: {true_w - w.reshape(true_w.shape)}')\n",
    "print(f'b的估计误差: {true_b - b}')"
   ]
  },
  {
   "cell_type": "markdown",
   "id": "f8caaed1cb6c6098",
   "metadata": {},
   "source": [
    "线性回归的简洁实现"
   ]
  },
  {
   "cell_type": "code",
   "execution_count": 5,
   "id": "9763ed1ddd48a141",
   "metadata": {
    "ExecuteTime": {
     "end_time": "2025-01-30T10:09:18.405041Z",
     "start_time": "2025-01-30T10:09:18.402907Z"
    }
   },
   "outputs": [],
   "source": [
    "import numpy as np\n",
    "from torch.utils import data\n"
   ]
  },
  {
   "cell_type": "code",
   "execution_count": 6,
   "id": "64e86ff3d7219fa4",
   "metadata": {
    "ExecuteTime": {
     "end_time": "2025-01-30T10:09:20.506907Z",
     "start_time": "2025-01-30T10:09:20.484244Z"
    }
   },
   "outputs": [],
   "source": [
    "true_w = torch.tensor([2, -3.4])\n",
    "true_b = 4.2\n",
    "features,labels=synthetic_data(true_w,true_b,1000)"
   ]
  },
  {
   "cell_type": "code",
   "execution_count": 10,
   "id": "bd8c68de40b6e310",
   "metadata": {
    "ExecuteTime": {
     "end_time": "2025-01-30T10:12:02.512732Z",
     "start_time": "2025-01-30T10:12:02.510594Z"
    }
   },
   "outputs": [],
   "source": [
    "def load_array(data_arrays,batch_size,is_train=True):\n",
    "    dataset=data.TensorDataset(*data_arrays)\n",
    "    return data.DataLoader(dataset,batch_size,shuffle=is_train)"
   ]
  },
  {
   "cell_type": "code",
   "execution_count": 12,
   "id": "6182868049a27403",
   "metadata": {
    "ExecuteTime": {
     "end_time": "2025-01-30T10:12:35.541111Z",
     "start_time": "2025-01-30T10:12:35.533232Z"
    }
   },
   "outputs": [
    {
     "data": {
      "text/plain": [
       "[tensor([[ 1.2308,  0.4737],\n",
       "         [ 0.9727,  0.3447],\n",
       "         [-0.5008,  1.0313],\n",
       "         [-0.5131, -0.9648],\n",
       "         [-0.5625,  0.8303],\n",
       "         [-0.9906,  0.2793],\n",
       "         [ 0.5746,  2.6055],\n",
       "         [ 1.5640,  0.4319],\n",
       "         [-1.8685,  2.3845],\n",
       "         [ 1.3845, -0.0088]]),\n",
       " tensor([[ 5.0537],\n",
       "         [ 4.9656],\n",
       "         [-0.3181],\n",
       "         [ 6.4691],\n",
       "         [ 0.2313],\n",
       "         [ 1.2610],\n",
       "         [-3.5157],\n",
       "         [ 5.8551],\n",
       "         [-7.6392],\n",
       "         [ 6.9971]])]"
      ]
     },
     "execution_count": 12,
     "metadata": {},
     "output_type": "execute_result"
    }
   ],
   "source": [
    "batch_size=10\n",
    "data_iter=load_array((features,labels),batch_size)\n",
    "next(iter(data_iter))"
   ]
  },
  {
   "cell_type": "code",
   "execution_count": 13,
   "id": "ffb64c01e9ed4659",
   "metadata": {
    "ExecuteTime": {
     "end_time": "2025-01-30T10:16:02.981355Z",
     "start_time": "2025-01-30T10:16:02.978933Z"
    }
   },
   "outputs": [],
   "source": [
    "from torch import nn"
   ]
  },
  {
   "cell_type": "code",
   "execution_count": 15,
   "id": "f195bd7eefac8861",
   "metadata": {
    "ExecuteTime": {
     "end_time": "2025-01-30T10:17:06.928561Z",
     "start_time": "2025-01-30T10:17:06.924817Z"
    }
   },
   "outputs": [],
   "source": [
    "net=nn.Sequential(nn.Linear(2,1))"
   ]
  },
  {
   "cell_type": "code",
   "execution_count": 16,
   "id": "83bd2f5a76528477",
   "metadata": {
    "ExecuteTime": {
     "end_time": "2025-01-30T10:17:08.018886Z",
     "start_time": "2025-01-30T10:17:08.014624Z"
    }
   },
   "outputs": [
    {
     "data": {
      "text/plain": [
       "tensor([0.])"
      ]
     },
     "execution_count": 16,
     "metadata": {},
     "output_type": "execute_result"
    }
   ],
   "source": [
    "net[0].weight.data.normal_(0, 0.01)\n",
    "net[0].bias.data.fill_(0)"
   ]
  },
  {
   "cell_type": "code",
   "execution_count": 17,
   "id": "8744fc28b1fe7bbf",
   "metadata": {
    "ExecuteTime": {
     "end_time": "2025-01-30T10:18:06.129081Z",
     "start_time": "2025-01-30T10:18:04.871259Z"
    }
   },
   "outputs": [],
   "source": [
    "loss=nn.MSELoss()\n",
    "trainer=torch.optim.SGD(net.parameters(),lr=0.03)"
   ]
  },
  {
   "cell_type": "code",
   "execution_count": 18,
   "id": "b07df8e6a06b837b",
   "metadata": {
    "ExecuteTime": {
     "end_time": "2025-01-30T10:21:03.432187Z",
     "start_time": "2025-01-30T10:21:03.358169Z"
    }
   },
   "outputs": [
    {
     "name": "stdout",
     "output_type": "stream",
     "text": [
      "epoch 1, loss 0.000245\n",
      "epoch 2, loss 0.000103\n",
      "epoch 3, loss 0.000103\n"
     ]
    }
   ],
   "source": [
    "num_epochs=3\n",
    "for epoch in range(num_epochs):\n",
    "    for X,y in data_iter:\n",
    "        l=loss(net(X),y)\n",
    "        trainer.zero_grad()\n",
    "        l.backward()\n",
    "        trainer.step()\n",
    "    l=loss(net(features),labels)\n",
    "    print(f'epoch {epoch + 1}, loss {l:f}')"
   ]
  },
  {
   "cell_type": "code",
   "execution_count": 19,
   "id": "d74ae2a91829e974",
   "metadata": {
    "ExecuteTime": {
     "end_time": "2025-01-30T10:21:23.972966Z",
     "start_time": "2025-01-30T10:21:23.961233Z"
    }
   },
   "outputs": [
    {
     "name": "stdout",
     "output_type": "stream",
     "text": [
      "w的估计误差： tensor([ 0.0005, -0.0004])\n",
      "b的估计误差： tensor([0.0003])\n"
     ]
    }
   ],
   "source": [
    "w = net[0].weight.data\n",
    "print('w的估计误差：', true_w - w.reshape(true_w.shape))\n",
    "b = net[0].bias.data\n",
    "print('b的估计误差：', true_b - b)"
   ]
  },
  {
   "cell_type": "markdown",
   "id": "9f930c847aea883a",
   "metadata": {},
   "source": [
    "图像分类数据集"
   ]
  },
  {
   "cell_type": "code",
   "execution_count": 15,
   "id": "efcee79f59bac4ed",
   "metadata": {
    "ExecuteTime": {
     "end_time": "2025-02-04T03:36:21.964436Z",
     "start_time": "2025-02-04T03:36:21.956299Z"
    }
   },
   "outputs": [],
   "source": [
    "%matplotlib inline\n",
    "import torch\n",
    "import torchvision\n",
    "from torch.utils import data\n",
    "from torchvision import transforms\n",
    "import time"
   ]
  },
  {
   "cell_type": "code",
   "execution_count": 7,
   "id": "7b4e7b10e7348f68",
   "metadata": {
    "ExecuteTime": {
     "end_time": "2025-02-02T07:22:11.487529Z",
     "start_time": "2025-02-02T07:21:50.901428Z"
    }
   },
   "outputs": [
    {
     "name": "stderr",
     "output_type": "stream",
     "text": [
      "100.0%\n",
      "100.0%\n",
      "100.0%\n",
      "100.0%\n"
     ]
    }
   ],
   "source": [
    "# 通过ToTensor实例将图像数据从PIL类型变换成32位浮点数格式，\n",
    "# 并除以255使得所有像素的数值均在0～1之间\n",
    "trans = transforms.ToTensor()\n",
    "mnist_train = torchvision.datasets.FashionMNIST(\n",
    "root=\"../data\", train=True, transform=trans, download=True)\n",
    "mnist_test = torchvision.datasets.FashionMNIST(\n",
    "root=\"../data\", train=False, transform=trans, download=True)\n"
   ]
  },
  {
   "cell_type": "code",
   "execution_count": 8,
   "id": "237108051bcb4a69",
   "metadata": {
    "ExecuteTime": {
     "end_time": "2025-02-02T08:04:32.438984Z",
     "start_time": "2025-02-02T08:04:32.435049Z"
    }
   },
   "outputs": [
    {
     "data": {
      "text/plain": [
       "(60000, 10000)"
      ]
     },
     "execution_count": 8,
     "metadata": {},
     "output_type": "execute_result"
    }
   ],
   "source": [
    "len(mnist_train), len(mnist_test)\n"
   ]
  },
  {
   "cell_type": "code",
   "execution_count": 9,
   "id": "1493d49acbb5334b",
   "metadata": {
    "ExecuteTime": {
     "end_time": "2025-02-02T08:04:34.781156Z",
     "start_time": "2025-02-02T08:04:34.768131Z"
    }
   },
   "outputs": [
    {
     "data": {
      "text/plain": [
       "torch.Size([1, 28, 28])"
      ]
     },
     "execution_count": 9,
     "metadata": {},
     "output_type": "execute_result"
    }
   ],
   "source": [
    "mnist_train[0][0].shape"
   ]
  },
  {
   "cell_type": "code",
   "execution_count": 25,
   "id": "7ad97e8a3dd49f10",
   "metadata": {
    "ExecuteTime": {
     "end_time": "2025-02-01T01:05:08.639103Z",
     "start_time": "2025-02-01T01:05:08.624804Z"
    }
   },
   "outputs": [],
   "source": [
    "def get_fashion_mnist_labels(labels): \n",
    "    \"\"\"返回Fashion-MNIST数据集的文本标签\"\"\"\n",
    "    text_labels = ['t-shirt', 'trouser', 'pullover', 'dress', 'coat',\n",
    "                    'sandal', 'shirt', 'sneaker', 'bag', 'ankle boot']\n",
    "    return [text_labels[int(i)] for i in labels]\n"
   ]
  },
  {
   "cell_type": "code",
   "execution_count": 6,
   "id": "da3ac1649bdf054",
   "metadata": {
    "ExecuteTime": {
     "end_time": "2025-02-04T01:28:05.820846Z",
     "start_time": "2025-02-04T01:28:05.812212Z"
    }
   },
   "outputs": [
    {
     "ename": "NameError",
     "evalue": "name 'mnist_train' is not defined",
     "output_type": "error",
     "traceback": [
      "\u001b[1;31m---------------------------------------------------------------------------\u001b[0m",
      "\u001b[1;31mNameError\u001b[0m                                 Traceback (most recent call last)",
      "Cell \u001b[1;32mIn[6], line 6\u001b[0m\n\u001b[0;32m      3\u001b[0m \u001b[38;5;28;01mdef\u001b[39;00m \u001b[38;5;21mget_dataloader_workers\u001b[39m():\n\u001b[0;32m      4\u001b[0m     \u001b[38;5;28;01mreturn\u001b[39;00m \u001b[38;5;241m4\u001b[39m\n\u001b[1;32m----> 6\u001b[0m train_iter\u001b[38;5;241m=\u001b[39mdata\u001b[38;5;241m.\u001b[39mDataLoader(\u001b[43mmnist_train\u001b[49m,batch_size,shuffle\u001b[38;5;241m=\u001b[39m\u001b[38;5;28;01mTrue\u001b[39;00m,num_workers\u001b[38;5;241m=\u001b[39mget_dataloader_workers())\n",
      "\u001b[1;31mNameError\u001b[0m: name 'mnist_train' is not defined"
     ]
    }
   ],
   "source": [
    "batch_size=256\n",
    "\n",
    "def get_dataloader_workers():\n",
    "    return 4\n",
    "\n",
    "train_iter=data.DataLoader(mnist_train,batch_size,shuffle=True,num_workers=get_dataloader_workers())\n",
    "\n"
   ]
  },
  {
   "cell_type": "code",
   "execution_count": 31,
   "id": "499a67d744db2977",
   "metadata": {
    "ExecuteTime": {
     "end_time": "2025-02-02T08:35:06.150825Z",
     "start_time": "2025-02-02T08:35:02.264318Z"
    }
   },
   "outputs": [
    {
     "data": {
      "text/plain": [
       "3.883678436279297"
      ]
     },
     "execution_count": 31,
     "metadata": {},
     "output_type": "execute_result"
    }
   ],
   "source": [
    "t1=time.time()\n",
    "for X,y in train_iter:\n",
    "    continue\n",
    "t2=time.time()\n",
    "t2-t1"
   ]
  },
  {
   "cell_type": "code",
   "execution_count": 3,
   "id": "5fcb4470ae995a65",
   "metadata": {
    "ExecuteTime": {
     "end_time": "2025-02-04T03:36:07.377662Z",
     "start_time": "2025-02-04T03:36:07.374995Z"
    }
   },
   "outputs": [],
   "source": [
    "def load_data_fashion_mnist(batch_size, resize=None):\n",
    "     \"\"\"下载Fashion-MNIST数据集，然后将其加载到内存中\"\"\"\n",
    "     trans = [transforms.ToTensor()]\n",
    "     if resize:\n",
    "        trans.insert(0, transforms.Resize(resize))\n",
    "     trans = transforms.Compose(trans)\n",
    "     mnist_train = torchvision.datasets.FashionMNIST(\n",
    "        root=\"../data\", train=True, transform=trans, download=True)\n",
    "     mnist_test = torchvision.datasets.FashionMNIST(\n",
    "        root=\"../data\", train=False, transform=trans, download=True)\n",
    "     return (data.DataLoader(mnist_train, batch_size, shuffle=True,\n",
    "                             num_workers=get_dataloader_workers()),\n",
    "             data.DataLoader(mnist_test, batch_size, shuffle=False,\n",
    "                             num_workers=get_dataloader_workers()))"
   ]
  },
  {
   "cell_type": "code",
   "execution_count": 27,
   "id": "e7c06940d5e23e86",
   "metadata": {
    "ExecuteTime": {
     "end_time": "2025-02-02T08:33:57.311842Z",
     "start_time": "2025-02-02T08:33:54.021255Z"
    }
   },
   "outputs": [
    {
     "name": "stdout",
     "output_type": "stream",
     "text": [
      "torch.Size([32, 1, 64, 64]) torch.float32 torch.Size([32]) torch.int64\n"
     ]
    }
   ],
   "source": [
    "train_iter,test_iter=load_data_fashion_mnist(32,resize=64)\n",
    "for X,y in train_iter:\n",
    "    print(X.shape,X.dtype,y.shape,y.dtype)\n",
    "    break"
   ]
  },
  {
   "cell_type": "markdown",
   "id": "4f3830676901ed8e",
   "metadata": {},
   "source": [
    "softmax回归的从零开始实现"
   ]
  },
  {
   "cell_type": "code",
   "execution_count": 16,
   "id": "adc6ebf0e9485761",
   "metadata": {
    "ExecuteTime": {
     "end_time": "2025-02-04T03:58:08.828941Z",
     "start_time": "2025-02-04T03:58:08.826457Z"
    }
   },
   "outputs": [],
   "source": [
    "import torch\n",
    "from IPython import display\n",
    "from d2l import torch as d2l\n",
    "\n"
   ]
  },
  {
   "cell_type": "code",
   "execution_count": 5,
   "id": "8d3cb694c4a0a1f6",
   "metadata": {
    "ExecuteTime": {
     "end_time": "2025-02-04T03:42:56.990078Z",
     "start_time": "2025-02-04T03:42:56.956633Z"
    }
   },
   "outputs": [],
   "source": [
    "batch_size = 256\n",
    "def get_dataloader_workers():\n",
    "    return 4\n",
    "train_iter, test_iter = load_data_fashion_mnist(batch_size)"
   ]
  },
  {
   "cell_type": "code",
   "execution_count": 6,
   "id": "68f85eb8d8204eb5",
   "metadata": {
    "ExecuteTime": {
     "end_time": "2025-02-04T03:48:23.385128Z",
     "start_time": "2025-02-04T03:48:23.383052Z"
    }
   },
   "outputs": [],
   "source": [
    "num_inputs = 784\n",
    "num_outputs = 10\n",
    "W = torch.normal(0, 0.01, size=(num_inputs, num_outputs), requires_grad=True)\n",
    "b = torch.zeros(num_outputs, requires_grad=True)\n"
   ]
  },
  {
   "cell_type": "code",
   "execution_count": 7,
   "id": "4a95021a59cb28e8",
   "metadata": {
    "ExecuteTime": {
     "end_time": "2025-02-04T03:36:32.002154Z",
     "start_time": "2025-02-04T03:36:32.000204Z"
    }
   },
   "outputs": [],
   "source": [
    "def softmax(X):\n",
    "    X_exp = torch.exp(X)\n",
    "    partition = X_exp.sum(1, keepdim=True)\n",
    "    return X_exp / partition # 这里应用了广播机制\n"
   ]
  },
  {
   "cell_type": "code",
   "execution_count": 14,
   "id": "18f867905a4d9dcc",
   "metadata": {
    "ExecuteTime": {
     "end_time": "2025-02-04T01:32:29.996648Z",
     "start_time": "2025-02-04T01:32:29.992695Z"
    }
   },
   "outputs": [
    {
     "data": {
      "text/plain": [
       "(tensor([[0.0712, 0.2687, 0.4119, 0.0328, 0.2154],\n",
       "         [0.0954, 0.4758, 0.2879, 0.0324, 0.1085]]),\n",
       " tensor([1.0000, 1.0000]))"
      ]
     },
     "execution_count": 14,
     "metadata": {},
     "output_type": "execute_result"
    }
   ],
   "source": [
    "X = torch.normal(0, 1, (2, 5))\n",
    "X_prob = softmax(X)\n",
    "X_prob, X_prob.sum(1)"
   ]
  },
  {
   "cell_type": "code",
   "execution_count": 8,
   "id": "e9923d6569f18f82",
   "metadata": {
    "ExecuteTime": {
     "end_time": "2025-02-04T03:36:37.617030Z",
     "start_time": "2025-02-04T03:36:37.614876Z"
    }
   },
   "outputs": [],
   "source": [
    "def net(X):\n",
    "    return softmax(torch.matmul(X.reshape(-1,W.shape[0]),W)+b)"
   ]
  },
  {
   "cell_type": "code",
   "execution_count": 9,
   "id": "c8bacafd49b88a7c",
   "metadata": {
    "ExecuteTime": {
     "end_time": "2025-02-04T03:36:39.101922Z",
     "start_time": "2025-02-04T03:36:39.099946Z"
    }
   },
   "outputs": [],
   "source": [
    "def cross_entropy(y_hat,y):\n",
    "    return -torch.log(y_hat[range(len(y_hat)),y])"
   ]
  },
  {
   "cell_type": "code",
   "execution_count": 12,
   "id": "d13cdcc82bb0a224",
   "metadata": {
    "ExecuteTime": {
     "end_time": "2025-02-04T03:36:40.500801Z",
     "start_time": "2025-02-04T03:36:40.498501Z"
    }
   },
   "outputs": [],
   "source": [
    "def accuracy(y_hat,y):\n",
    "    if len(y_hat.shape)>1 and y_hat.shape[1]>1:\n",
    "        y_hat=y_hat.argmax(axis=1)\n",
    "    cmp = y_hat.type(y.dtype)==y\n",
    "    return float(cmp.type(y.dtype).sum())"
   ]
  },
  {
   "cell_type": "code",
   "execution_count": 10,
   "id": "28b766177c5a0327",
   "metadata": {
    "ExecuteTime": {
     "end_time": "2025-02-04T03:36:43.309227Z",
     "start_time": "2025-02-04T03:36:43.306444Z"
    }
   },
   "outputs": [],
   "source": [
    "class Accumulator: #@save\n",
    "    \"\"\"在n个变量上累加\"\"\"\n",
    "    def __init__(self, n):\n",
    "        self.data = [0.0] * n\n",
    "    def add(self, *args):\n",
    "        self.data = [a + float(b) for a, b in zip(self.data, args)]\n",
    "    def reset(self):\n",
    "        self.data = [0.0] * len(self.data)\n",
    "    def __getitem__(self, idx):\n",
    "        return self.data[idx]\n"
   ]
  },
  {
   "cell_type": "code",
   "execution_count": 13,
   "id": "c859deda1fd6dc0a",
   "metadata": {
    "ExecuteTime": {
     "end_time": "2025-02-04T03:36:45.939508Z",
     "start_time": "2025-02-04T03:36:45.937223Z"
    }
   },
   "outputs": [],
   "source": [
    "def evaluate_accuracy(net, data_iter):\n",
    "    if isinstance(net,torch.nn.Module):\n",
    "        net.eval()\n",
    "    metric=Accumulator(2)\n",
    "    with torch.no_grad():\n",
    "        for X,y in data_iter:\n",
    "            metric.add(accuracy(net(X),y),y.numel())\n",
    "    return metric[0]/metric[1]"
   ]
  },
  {
   "cell_type": "code",
   "execution_count": 27,
   "id": "537076ee7fc11678",
   "metadata": {
    "ExecuteTime": {
     "end_time": "2025-02-04T02:14:44.622474Z",
     "start_time": "2025-02-04T02:14:40.914915Z"
    }
   },
   "outputs": [
    {
     "data": {
      "text/plain": [
       "0.0749"
      ]
     },
     "execution_count": 27,
     "metadata": {},
     "output_type": "execute_result"
    }
   ],
   "source": [
    "evaluate_accuracy(net,test_iter)"
   ]
  },
  {
   "cell_type": "code",
   "execution_count": 13,
   "id": "eb3cf38a9f363a45",
   "metadata": {
    "ExecuteTime": {
     "end_time": "2025-02-04T03:36:47.822392Z",
     "start_time": "2025-02-04T03:36:47.820084Z"
    }
   },
   "outputs": [],
   "source": [
    "def sgd(params, lr, batch_size): #@save\n",
    "    \"\"\"小批量随机梯度下降\"\"\"\n",
    "    with torch.no_grad():\n",
    "        for param in params:\n",
    "            param -= lr * param.grad / batch_size\n",
    "            param.grad.zero_()\n"
   ]
  },
  {
   "cell_type": "code",
   "execution_count": 14,
   "id": "c454bf00ec45ebf5",
   "metadata": {
    "ExecuteTime": {
     "end_time": "2025-02-04T03:45:46.545056Z",
     "start_time": "2025-02-04T03:45:46.542936Z"
    }
   },
   "outputs": [],
   "source": [
    "lr = 0.1\n",
    "def updater(batch_size):\n",
    "    return sgd([W, b], lr, batch_size)"
   ]
  },
  {
   "cell_type": "code",
   "execution_count": 7,
   "id": "eeb1bdaad6d04cbf",
   "metadata": {
    "ExecuteTime": {
     "end_time": "2025-02-04T03:36:51.948681Z",
     "start_time": "2025-02-04T03:36:51.945668Z"
    }
   },
   "outputs": [],
   "source": [
    "def train_epoch_ch3(net, train_iter, loss, updater):\n",
    "    \"\"\"训练模型一个迭代周期（定义见第3章）\"\"\"\n",
    "    # 将模型设置为训练模式\n",
    "    if isinstance(net, torch.nn.Module):\n",
    "        net.train()\n",
    "    metric=Accumulator(3)\n",
    "    for X,y in train_iter:\n",
    "        y_hat=net(X)\n",
    "        l=loss(y_hat,y)\n",
    "        if isinstance(updater,torch.optim.Optimizer):\n",
    "            #内置的\n",
    "            updater.zero_grad()\n",
    "            l.mean().backward()\n",
    "            updater.step()\n",
    "        else:\n",
    "            #自定的\n",
    "            l.sum().backward()\n",
    "            updater(X.shape[0])\n",
    "        metric.add(float(l.sum()),accuracy(y_hat,y),y.numel())\n",
    "    return metric[0] / metric[2], metric[1] / metric[2]\n"
   ]
  },
  {
   "cell_type": "code",
   "execution_count": 6,
   "id": "c3d73410c4463c90",
   "metadata": {
    "ExecuteTime": {
     "end_time": "2025-02-04T03:58:20.532491Z",
     "start_time": "2025-02-04T03:58:20.528179Z"
    }
   },
   "outputs": [],
   "source": [
    "class Animator: #@save\n",
    "    \"\"\"在动画中绘制数据\"\"\"\n",
    "    def __init__(self, xlabel=None, ylabel=None, legend=None, xlim=None,\n",
    "                ylim=None, xscale='linear', yscale='linear',\n",
    "                fmts=('-', 'm--', 'g-.', 'r:'), nrows=1, ncols=1,\n",
    "                figsize=(3.5, 2.5)):\n",
    "        # 增量地绘制多条线\n",
    "        if legend is None:\n",
    "            legend = []\n",
    "        d2l.use_svg_display()\n",
    "        self.fig, self.axes = d2l.plt.subplots(nrows, ncols, figsize=figsize)\n",
    "        if nrows * ncols == 1:\n",
    "            self.axes = [self.axes, ]\n",
    "        # 使用lambda函数捕获参数\n",
    "        self.config_axes = lambda: d2l.set_axes(\n",
    "            self.axes[0], xlabel, ylabel, xlim, ylim, xscale, yscale, legend)\n",
    "        self.X, self.Y, self.fmts = None, None, fmts\n",
    "    def add(self, x, y):\n",
    "        # 向图表中添加多个数据点\n",
    "        if not hasattr(y, \"__len__\"):\n",
    "            y = [y]\n",
    "        n = len(y)\n",
    "        if not hasattr(x, \"__len__\"):\n",
    "            x = [x] * n\n",
    "        if not self.X:\n",
    "            self.X = [[] for _ in range(n)]\n",
    "        if not self.Y:\n",
    "            self.Y = [[] for _ in range(n)]\n",
    "        for i, (a, b) in enumerate(zip(x, y)):\n",
    "            if a is not None and b is not None:\n",
    "                self.X[i].append(a)\n",
    "                self.Y[i].append(b)\n",
    "        self.axes[0].cla()\n",
    "        for x, y, fmt in zip(self.X, self.Y, self.fmts):\n",
    "            self.axes[0].plot(x, y, fmt)\n",
    "        self.config_axes()\n",
    "        display.display(self.fig)\n",
    "        display.clear_output(wait=True)\n"
   ]
  },
  {
   "cell_type": "code",
   "execution_count": 8,
   "id": "938faba8b6831a18",
   "metadata": {
    "ExecuteTime": {
     "end_time": "2025-02-04T03:37:00.135147Z",
     "start_time": "2025-02-04T03:37:00.132439Z"
    }
   },
   "outputs": [],
   "source": [
    "def train_ch3(net,train_iter,test_iter,loss,num_epochs,updater):\n",
    "    \"\"\"训练模型（定义见第3章）\"\"\"\n",
    "    animator = Animator(xlabel='epoch', xlim=[1, num_epochs], ylim=[0.3, 0.9],legend=['train loss', 'train acc', 'test acc'])\n",
    "    for epoch in range(num_epochs):\n",
    "        train_metrics=train_epoch_ch3(net,train_iter,loss,updater)\n",
    "        test_acc=evaluate_accuracy(net,test_iter)\n",
    "        animator.add(epoch+1,train_metrics+(test_acc,))\n",
    "    train_loss,train_acc=train_metrics\n",
    "    assert train_loss < 0.5, train_loss\n",
    "    assert train_acc <= 1 and train_acc > 0.7, train_acc\n",
    "    assert test_acc <= 1 and test_acc > 0.7, test_acc\n",
    " "
   ]
  },
  {
   "cell_type": "code",
   "execution_count": 18,
   "id": "3a324de92dccc4df",
   "metadata": {},
   "outputs": [
    {
     "data": {
      "image/svg+xml": [
       "<?xml version=\"1.0\" encoding=\"utf-8\" standalone=\"no\"?>\n",
       "<!DOCTYPE svg PUBLIC \"-//W3C//DTD SVG 1.1//EN\"\n",
       "  \"http://www.w3.org/Graphics/SVG/1.1/DTD/svg11.dtd\">\n",
       "<svg xmlns:xlink=\"http://www.w3.org/1999/xlink\" width=\"238.965625pt\" height=\"183.35625pt\" viewBox=\"0 0 238.965625 183.35625\" xmlns=\"http://www.w3.org/2000/svg\" version=\"1.1\">\n",
       " <metadata>\n",
       "  <rdf:RDF xmlns:dc=\"http://purl.org/dc/elements/1.1/\" xmlns:cc=\"http://creativecommons.org/ns#\" xmlns:rdf=\"http://www.w3.org/1999/02/22-rdf-syntax-ns#\">\n",
       "   <cc:Work>\n",
       "    <dc:type rdf:resource=\"http://purl.org/dc/dcmitype/StillImage\"/>\n",
       "    <dc:date>2025-02-04T11:55:00.848118</dc:date>\n",
       "    <dc:format>image/svg+xml</dc:format>\n",
       "    <dc:creator>\n",
       "     <cc:Agent>\n",
       "      <dc:title>Matplotlib v3.10.0, https://matplotlib.org/</dc:title>\n",
       "     </cc:Agent>\n",
       "    </dc:creator>\n",
       "   </cc:Work>\n",
       "  </rdf:RDF>\n",
       " </metadata>\n",
       " <defs>\n",
       "  <style type=\"text/css\">*{stroke-linejoin: round; stroke-linecap: butt}</style>\n",
       " </defs>\n",
       " <g id=\"figure_1\">\n",
       "  <g id=\"patch_1\">\n",
       "   <path d=\"M 0 183.35625 \n",
       "L 238.965625 183.35625 \n",
       "L 238.965625 0 \n",
       "L 0 0 \n",
       "z\n",
       "\" style=\"fill: #ffffff\"/>\n",
       "  </g>\n",
       "  <g id=\"axes_1\">\n",
       "   <g id=\"patch_2\">\n",
       "    <path d=\"M 30.103125 145.8 \n",
       "L 225.403125 145.8 \n",
       "L 225.403125 7.2 \n",
       "L 30.103125 7.2 \n",
       "z\n",
       "\" style=\"fill: #ffffff\"/>\n",
       "   </g>\n",
       "   <g id=\"matplotlib.axis_1\">\n",
       "    <g id=\"xtick_1\">\n",
       "     <g id=\"line2d_1\">\n",
       "      <path d=\"M 51.803125 145.8 \n",
       "L 51.803125 7.2 \n",
       "\" clip-path=\"url(#pbcb4ab5285)\" style=\"fill: none; stroke: #b0b0b0; stroke-width: 0.8; stroke-linecap: square\"/>\n",
       "     </g>\n",
       "     <g id=\"line2d_2\">\n",
       "      <defs>\n",
       "       <path id=\"m624c52c910\" d=\"M 0 0 \n",
       "L 0 3.5 \n",
       "\" style=\"stroke: #000000; stroke-width: 0.8\"/>\n",
       "      </defs>\n",
       "      <g>\n",
       "       <use xlink:href=\"#m624c52c910\" x=\"51.803125\" y=\"145.8\" style=\"stroke: #000000; stroke-width: 0.8\"/>\n",
       "      </g>\n",
       "     </g>\n",
       "     <g id=\"text_1\">\n",
       "      <!-- 2 -->\n",
       "      <g transform=\"translate(48.621875 160.398438) scale(0.1 -0.1)\">\n",
       "       <defs>\n",
       "        <path id=\"DejaVuSans-32\" d=\"M 1228 531 \n",
       "L 3431 531 \n",
       "L 3431 0 \n",
       "L 469 0 \n",
       "L 469 531 \n",
       "Q 828 903 1448 1529 \n",
       "Q 2069 2156 2228 2338 \n",
       "Q 2531 2678 2651 2914 \n",
       "Q 2772 3150 2772 3378 \n",
       "Q 2772 3750 2511 3984 \n",
       "Q 2250 4219 1831 4219 \n",
       "Q 1534 4219 1204 4116 \n",
       "Q 875 4013 500 3803 \n",
       "L 500 4441 \n",
       "Q 881 4594 1212 4672 \n",
       "Q 1544 4750 1819 4750 \n",
       "Q 2544 4750 2975 4387 \n",
       "Q 3406 4025 3406 3419 \n",
       "Q 3406 3131 3298 2873 \n",
       "Q 3191 2616 2906 2266 \n",
       "Q 2828 2175 2409 1742 \n",
       "Q 1991 1309 1228 531 \n",
       "z\n",
       "\" transform=\"scale(0.015625)\"/>\n",
       "       </defs>\n",
       "       <use xlink:href=\"#DejaVuSans-32\"/>\n",
       "      </g>\n",
       "     </g>\n",
       "    </g>\n",
       "    <g id=\"xtick_2\">\n",
       "     <g id=\"line2d_3\">\n",
       "      <path d=\"M 95.203125 145.8 \n",
       "L 95.203125 7.2 \n",
       "\" clip-path=\"url(#pbcb4ab5285)\" style=\"fill: none; stroke: #b0b0b0; stroke-width: 0.8; stroke-linecap: square\"/>\n",
       "     </g>\n",
       "     <g id=\"line2d_4\">\n",
       "      <g>\n",
       "       <use xlink:href=\"#m624c52c910\" x=\"95.203125\" y=\"145.8\" style=\"stroke: #000000; stroke-width: 0.8\"/>\n",
       "      </g>\n",
       "     </g>\n",
       "     <g id=\"text_2\">\n",
       "      <!-- 4 -->\n",
       "      <g transform=\"translate(92.021875 160.398438) scale(0.1 -0.1)\">\n",
       "       <defs>\n",
       "        <path id=\"DejaVuSans-34\" d=\"M 2419 4116 \n",
       "L 825 1625 \n",
       "L 2419 1625 \n",
       "L 2419 4116 \n",
       "z\n",
       "M 2253 4666 \n",
       "L 3047 4666 \n",
       "L 3047 1625 \n",
       "L 3713 1625 \n",
       "L 3713 1100 \n",
       "L 3047 1100 \n",
       "L 3047 0 \n",
       "L 2419 0 \n",
       "L 2419 1100 \n",
       "L 313 1100 \n",
       "L 313 1709 \n",
       "L 2253 4666 \n",
       "z\n",
       "\" transform=\"scale(0.015625)\"/>\n",
       "       </defs>\n",
       "       <use xlink:href=\"#DejaVuSans-34\"/>\n",
       "      </g>\n",
       "     </g>\n",
       "    </g>\n",
       "    <g id=\"xtick_3\">\n",
       "     <g id=\"line2d_5\">\n",
       "      <path d=\"M 138.603125 145.8 \n",
       "L 138.603125 7.2 \n",
       "\" clip-path=\"url(#pbcb4ab5285)\" style=\"fill: none; stroke: #b0b0b0; stroke-width: 0.8; stroke-linecap: square\"/>\n",
       "     </g>\n",
       "     <g id=\"line2d_6\">\n",
       "      <g>\n",
       "       <use xlink:href=\"#m624c52c910\" x=\"138.603125\" y=\"145.8\" style=\"stroke: #000000; stroke-width: 0.8\"/>\n",
       "      </g>\n",
       "     </g>\n",
       "     <g id=\"text_3\">\n",
       "      <!-- 6 -->\n",
       "      <g transform=\"translate(135.421875 160.398438) scale(0.1 -0.1)\">\n",
       "       <defs>\n",
       "        <path id=\"DejaVuSans-36\" d=\"M 2113 2584 \n",
       "Q 1688 2584 1439 2293 \n",
       "Q 1191 2003 1191 1497 \n",
       "Q 1191 994 1439 701 \n",
       "Q 1688 409 2113 409 \n",
       "Q 2538 409 2786 701 \n",
       "Q 3034 994 3034 1497 \n",
       "Q 3034 2003 2786 2293 \n",
       "Q 2538 2584 2113 2584 \n",
       "z\n",
       "M 3366 4563 \n",
       "L 3366 3988 \n",
       "Q 3128 4100 2886 4159 \n",
       "Q 2644 4219 2406 4219 \n",
       "Q 1781 4219 1451 3797 \n",
       "Q 1122 3375 1075 2522 \n",
       "Q 1259 2794 1537 2939 \n",
       "Q 1816 3084 2150 3084 \n",
       "Q 2853 3084 3261 2657 \n",
       "Q 3669 2231 3669 1497 \n",
       "Q 3669 778 3244 343 \n",
       "Q 2819 -91 2113 -91 \n",
       "Q 1303 -91 875 529 \n",
       "Q 447 1150 447 2328 \n",
       "Q 447 3434 972 4092 \n",
       "Q 1497 4750 2381 4750 \n",
       "Q 2619 4750 2861 4703 \n",
       "Q 3103 4656 3366 4563 \n",
       "z\n",
       "\" transform=\"scale(0.015625)\"/>\n",
       "       </defs>\n",
       "       <use xlink:href=\"#DejaVuSans-36\"/>\n",
       "      </g>\n",
       "     </g>\n",
       "    </g>\n",
       "    <g id=\"xtick_4\">\n",
       "     <g id=\"line2d_7\">\n",
       "      <path d=\"M 182.003125 145.8 \n",
       "L 182.003125 7.2 \n",
       "\" clip-path=\"url(#pbcb4ab5285)\" style=\"fill: none; stroke: #b0b0b0; stroke-width: 0.8; stroke-linecap: square\"/>\n",
       "     </g>\n",
       "     <g id=\"line2d_8\">\n",
       "      <g>\n",
       "       <use xlink:href=\"#m624c52c910\" x=\"182.003125\" y=\"145.8\" style=\"stroke: #000000; stroke-width: 0.8\"/>\n",
       "      </g>\n",
       "     </g>\n",
       "     <g id=\"text_4\">\n",
       "      <!-- 8 -->\n",
       "      <g transform=\"translate(178.821875 160.398438) scale(0.1 -0.1)\">\n",
       "       <defs>\n",
       "        <path id=\"DejaVuSans-38\" d=\"M 2034 2216 \n",
       "Q 1584 2216 1326 1975 \n",
       "Q 1069 1734 1069 1313 \n",
       "Q 1069 891 1326 650 \n",
       "Q 1584 409 2034 409 \n",
       "Q 2484 409 2743 651 \n",
       "Q 3003 894 3003 1313 \n",
       "Q 3003 1734 2745 1975 \n",
       "Q 2488 2216 2034 2216 \n",
       "z\n",
       "M 1403 2484 \n",
       "Q 997 2584 770 2862 \n",
       "Q 544 3141 544 3541 \n",
       "Q 544 4100 942 4425 \n",
       "Q 1341 4750 2034 4750 \n",
       "Q 2731 4750 3128 4425 \n",
       "Q 3525 4100 3525 3541 \n",
       "Q 3525 3141 3298 2862 \n",
       "Q 3072 2584 2669 2484 \n",
       "Q 3125 2378 3379 2068 \n",
       "Q 3634 1759 3634 1313 \n",
       "Q 3634 634 3220 271 \n",
       "Q 2806 -91 2034 -91 \n",
       "Q 1263 -91 848 271 \n",
       "Q 434 634 434 1313 \n",
       "Q 434 1759 690 2068 \n",
       "Q 947 2378 1403 2484 \n",
       "z\n",
       "M 1172 3481 \n",
       "Q 1172 3119 1398 2916 \n",
       "Q 1625 2713 2034 2713 \n",
       "Q 2441 2713 2670 2916 \n",
       "Q 2900 3119 2900 3481 \n",
       "Q 2900 3844 2670 4047 \n",
       "Q 2441 4250 2034 4250 \n",
       "Q 1625 4250 1398 4047 \n",
       "Q 1172 3844 1172 3481 \n",
       "z\n",
       "\" transform=\"scale(0.015625)\"/>\n",
       "       </defs>\n",
       "       <use xlink:href=\"#DejaVuSans-38\"/>\n",
       "      </g>\n",
       "     </g>\n",
       "    </g>\n",
       "    <g id=\"xtick_5\">\n",
       "     <g id=\"line2d_9\">\n",
       "      <path d=\"M 225.403125 145.8 \n",
       "L 225.403125 7.2 \n",
       "\" clip-path=\"url(#pbcb4ab5285)\" style=\"fill: none; stroke: #b0b0b0; stroke-width: 0.8; stroke-linecap: square\"/>\n",
       "     </g>\n",
       "     <g id=\"line2d_10\">\n",
       "      <g>\n",
       "       <use xlink:href=\"#m624c52c910\" x=\"225.403125\" y=\"145.8\" style=\"stroke: #000000; stroke-width: 0.8\"/>\n",
       "      </g>\n",
       "     </g>\n",
       "     <g id=\"text_5\">\n",
       "      <!-- 10 -->\n",
       "      <g transform=\"translate(219.040625 160.398438) scale(0.1 -0.1)\">\n",
       "       <defs>\n",
       "        <path id=\"DejaVuSans-31\" d=\"M 794 531 \n",
       "L 1825 531 \n",
       "L 1825 4091 \n",
       "L 703 3866 \n",
       "L 703 4441 \n",
       "L 1819 4666 \n",
       "L 2450 4666 \n",
       "L 2450 531 \n",
       "L 3481 531 \n",
       "L 3481 0 \n",
       "L 794 0 \n",
       "L 794 531 \n",
       "z\n",
       "\" transform=\"scale(0.015625)\"/>\n",
       "        <path id=\"DejaVuSans-30\" d=\"M 2034 4250 \n",
       "Q 1547 4250 1301 3770 \n",
       "Q 1056 3291 1056 2328 \n",
       "Q 1056 1369 1301 889 \n",
       "Q 1547 409 2034 409 \n",
       "Q 2525 409 2770 889 \n",
       "Q 3016 1369 3016 2328 \n",
       "Q 3016 3291 2770 3770 \n",
       "Q 2525 4250 2034 4250 \n",
       "z\n",
       "M 2034 4750 \n",
       "Q 2819 4750 3233 4129 \n",
       "Q 3647 3509 3647 2328 \n",
       "Q 3647 1150 3233 529 \n",
       "Q 2819 -91 2034 -91 \n",
       "Q 1250 -91 836 529 \n",
       "Q 422 1150 422 2328 \n",
       "Q 422 3509 836 4129 \n",
       "Q 1250 4750 2034 4750 \n",
       "z\n",
       "\" transform=\"scale(0.015625)\"/>\n",
       "       </defs>\n",
       "       <use xlink:href=\"#DejaVuSans-31\"/>\n",
       "       <use xlink:href=\"#DejaVuSans-30\" transform=\"translate(63.623047 0)\"/>\n",
       "      </g>\n",
       "     </g>\n",
       "    </g>\n",
       "    <g id=\"text_6\">\n",
       "     <!-- epoch -->\n",
       "     <g transform=\"translate(112.525 174.076563) scale(0.1 -0.1)\">\n",
       "      <defs>\n",
       "       <path id=\"DejaVuSans-65\" d=\"M 3597 1894 \n",
       "L 3597 1613 \n",
       "L 953 1613 \n",
       "Q 991 1019 1311 708 \n",
       "Q 1631 397 2203 397 \n",
       "Q 2534 397 2845 478 \n",
       "Q 3156 559 3463 722 \n",
       "L 3463 178 \n",
       "Q 3153 47 2828 -22 \n",
       "Q 2503 -91 2169 -91 \n",
       "Q 1331 -91 842 396 \n",
       "Q 353 884 353 1716 \n",
       "Q 353 2575 817 3079 \n",
       "Q 1281 3584 2069 3584 \n",
       "Q 2775 3584 3186 3129 \n",
       "Q 3597 2675 3597 1894 \n",
       "z\n",
       "M 3022 2063 \n",
       "Q 3016 2534 2758 2815 \n",
       "Q 2500 3097 2075 3097 \n",
       "Q 1594 3097 1305 2825 \n",
       "Q 1016 2553 972 2059 \n",
       "L 3022 2063 \n",
       "z\n",
       "\" transform=\"scale(0.015625)\"/>\n",
       "       <path id=\"DejaVuSans-70\" d=\"M 1159 525 \n",
       "L 1159 -1331 \n",
       "L 581 -1331 \n",
       "L 581 3500 \n",
       "L 1159 3500 \n",
       "L 1159 2969 \n",
       "Q 1341 3281 1617 3432 \n",
       "Q 1894 3584 2278 3584 \n",
       "Q 2916 3584 3314 3078 \n",
       "Q 3713 2572 3713 1747 \n",
       "Q 3713 922 3314 415 \n",
       "Q 2916 -91 2278 -91 \n",
       "Q 1894 -91 1617 61 \n",
       "Q 1341 213 1159 525 \n",
       "z\n",
       "M 3116 1747 \n",
       "Q 3116 2381 2855 2742 \n",
       "Q 2594 3103 2138 3103 \n",
       "Q 1681 3103 1420 2742 \n",
       "Q 1159 2381 1159 1747 \n",
       "Q 1159 1113 1420 752 \n",
       "Q 1681 391 2138 391 \n",
       "Q 2594 391 2855 752 \n",
       "Q 3116 1113 3116 1747 \n",
       "z\n",
       "\" transform=\"scale(0.015625)\"/>\n",
       "       <path id=\"DejaVuSans-6f\" d=\"M 1959 3097 \n",
       "Q 1497 3097 1228 2736 \n",
       "Q 959 2375 959 1747 \n",
       "Q 959 1119 1226 758 \n",
       "Q 1494 397 1959 397 \n",
       "Q 2419 397 2687 759 \n",
       "Q 2956 1122 2956 1747 \n",
       "Q 2956 2369 2687 2733 \n",
       "Q 2419 3097 1959 3097 \n",
       "z\n",
       "M 1959 3584 \n",
       "Q 2709 3584 3137 3096 \n",
       "Q 3566 2609 3566 1747 \n",
       "Q 3566 888 3137 398 \n",
       "Q 2709 -91 1959 -91 \n",
       "Q 1206 -91 779 398 \n",
       "Q 353 888 353 1747 \n",
       "Q 353 2609 779 3096 \n",
       "Q 1206 3584 1959 3584 \n",
       "z\n",
       "\" transform=\"scale(0.015625)\"/>\n",
       "       <path id=\"DejaVuSans-63\" d=\"M 3122 3366 \n",
       "L 3122 2828 \n",
       "Q 2878 2963 2633 3030 \n",
       "Q 2388 3097 2138 3097 \n",
       "Q 1578 3097 1268 2742 \n",
       "Q 959 2388 959 1747 \n",
       "Q 959 1106 1268 751 \n",
       "Q 1578 397 2138 397 \n",
       "Q 2388 397 2633 464 \n",
       "Q 2878 531 3122 666 \n",
       "L 3122 134 \n",
       "Q 2881 22 2623 -34 \n",
       "Q 2366 -91 2075 -91 \n",
       "Q 1284 -91 818 406 \n",
       "Q 353 903 353 1747 \n",
       "Q 353 2603 823 3093 \n",
       "Q 1294 3584 2113 3584 \n",
       "Q 2378 3584 2631 3529 \n",
       "Q 2884 3475 3122 3366 \n",
       "z\n",
       "\" transform=\"scale(0.015625)\"/>\n",
       "       <path id=\"DejaVuSans-68\" d=\"M 3513 2113 \n",
       "L 3513 0 \n",
       "L 2938 0 \n",
       "L 2938 2094 \n",
       "Q 2938 2591 2744 2837 \n",
       "Q 2550 3084 2163 3084 \n",
       "Q 1697 3084 1428 2787 \n",
       "Q 1159 2491 1159 1978 \n",
       "L 1159 0 \n",
       "L 581 0 \n",
       "L 581 4863 \n",
       "L 1159 4863 \n",
       "L 1159 2956 \n",
       "Q 1366 3272 1645 3428 \n",
       "Q 1925 3584 2291 3584 \n",
       "Q 2894 3584 3203 3211 \n",
       "Q 3513 2838 3513 2113 \n",
       "z\n",
       "\" transform=\"scale(0.015625)\"/>\n",
       "      </defs>\n",
       "      <use xlink:href=\"#DejaVuSans-65\"/>\n",
       "      <use xlink:href=\"#DejaVuSans-70\" transform=\"translate(61.523438 0)\"/>\n",
       "      <use xlink:href=\"#DejaVuSans-6f\" transform=\"translate(125 0)\"/>\n",
       "      <use xlink:href=\"#DejaVuSans-63\" transform=\"translate(186.181641 0)\"/>\n",
       "      <use xlink:href=\"#DejaVuSans-68\" transform=\"translate(241.162109 0)\"/>\n",
       "     </g>\n",
       "    </g>\n",
       "   </g>\n",
       "   <g id=\"matplotlib.axis_2\">\n",
       "    <g id=\"ytick_1\">\n",
       "     <g id=\"line2d_11\">\n",
       "      <path d=\"M 30.103125 122.7 \n",
       "L 225.403125 122.7 \n",
       "\" clip-path=\"url(#pbcb4ab5285)\" style=\"fill: none; stroke: #b0b0b0; stroke-width: 0.8; stroke-linecap: square\"/>\n",
       "     </g>\n",
       "     <g id=\"line2d_12\">\n",
       "      <defs>\n",
       "       <path id=\"m230047a804\" d=\"M 0 0 \n",
       "L -3.5 0 \n",
       "\" style=\"stroke: #000000; stroke-width: 0.8\"/>\n",
       "      </defs>\n",
       "      <g>\n",
       "       <use xlink:href=\"#m230047a804\" x=\"30.103125\" y=\"122.7\" style=\"stroke: #000000; stroke-width: 0.8\"/>\n",
       "      </g>\n",
       "     </g>\n",
       "     <g id=\"text_7\">\n",
       "      <!-- 0.4 -->\n",
       "      <g transform=\"translate(7.2 126.499219) scale(0.1 -0.1)\">\n",
       "       <defs>\n",
       "        <path id=\"DejaVuSans-2e\" d=\"M 684 794 \n",
       "L 1344 794 \n",
       "L 1344 0 \n",
       "L 684 0 \n",
       "L 684 794 \n",
       "z\n",
       "\" transform=\"scale(0.015625)\"/>\n",
       "       </defs>\n",
       "       <use xlink:href=\"#DejaVuSans-30\"/>\n",
       "       <use xlink:href=\"#DejaVuSans-2e\" transform=\"translate(63.623047 0)\"/>\n",
       "       <use xlink:href=\"#DejaVuSans-34\" transform=\"translate(95.410156 0)\"/>\n",
       "      </g>\n",
       "     </g>\n",
       "    </g>\n",
       "    <g id=\"ytick_2\">\n",
       "     <g id=\"line2d_13\">\n",
       "      <path d=\"M 30.103125 76.5 \n",
       "L 225.403125 76.5 \n",
       "\" clip-path=\"url(#pbcb4ab5285)\" style=\"fill: none; stroke: #b0b0b0; stroke-width: 0.8; stroke-linecap: square\"/>\n",
       "     </g>\n",
       "     <g id=\"line2d_14\">\n",
       "      <g>\n",
       "       <use xlink:href=\"#m230047a804\" x=\"30.103125\" y=\"76.5\" style=\"stroke: #000000; stroke-width: 0.8\"/>\n",
       "      </g>\n",
       "     </g>\n",
       "     <g id=\"text_8\">\n",
       "      <!-- 0.6 -->\n",
       "      <g transform=\"translate(7.2 80.299219) scale(0.1 -0.1)\">\n",
       "       <use xlink:href=\"#DejaVuSans-30\"/>\n",
       "       <use xlink:href=\"#DejaVuSans-2e\" transform=\"translate(63.623047 0)\"/>\n",
       "       <use xlink:href=\"#DejaVuSans-36\" transform=\"translate(95.410156 0)\"/>\n",
       "      </g>\n",
       "     </g>\n",
       "    </g>\n",
       "    <g id=\"ytick_3\">\n",
       "     <g id=\"line2d_15\">\n",
       "      <path d=\"M 30.103125 30.3 \n",
       "L 225.403125 30.3 \n",
       "\" clip-path=\"url(#pbcb4ab5285)\" style=\"fill: none; stroke: #b0b0b0; stroke-width: 0.8; stroke-linecap: square\"/>\n",
       "     </g>\n",
       "     <g id=\"line2d_16\">\n",
       "      <g>\n",
       "       <use xlink:href=\"#m230047a804\" x=\"30.103125\" y=\"30.3\" style=\"stroke: #000000; stroke-width: 0.8\"/>\n",
       "      </g>\n",
       "     </g>\n",
       "     <g id=\"text_9\">\n",
       "      <!-- 0.8 -->\n",
       "      <g transform=\"translate(7.2 34.099219) scale(0.1 -0.1)\">\n",
       "       <use xlink:href=\"#DejaVuSans-30\"/>\n",
       "       <use xlink:href=\"#DejaVuSans-2e\" transform=\"translate(63.623047 0)\"/>\n",
       "       <use xlink:href=\"#DejaVuSans-38\" transform=\"translate(95.410156 0)\"/>\n",
       "      </g>\n",
       "     </g>\n",
       "    </g>\n",
       "   </g>\n",
       "   <g id=\"line2d_17\">\n",
       "    <path d=\"M 30.103125 33.574217 \n",
       "L 51.803125 83.755536 \n",
       "L 73.503125 93.717181 \n",
       "L 95.203125 99.481834 \n",
       "L 116.903125 103.045249 \n",
       "L 138.603125 105.614385 \n",
       "L 160.303125 107.608773 \n",
       "L 182.003125 109.27331 \n",
       "L 203.703125 110.642909 \n",
       "L 225.403125 111.90255 \n",
       "\" clip-path=\"url(#pbcb4ab5285)\" style=\"fill: none; stroke: #1f77b4; stroke-width: 1.5; stroke-linecap: square\"/>\n",
       "   </g>\n",
       "   <g id=\"line2d_18\">\n",
       "    <path d=\"M 30.103125 42.62 \n",
       "L 51.803125 27.0352 \n",
       "L 73.503125 24.294 \n",
       "L 95.203125 22.8849 \n",
       "L 116.903125 21.71835 \n",
       "L 138.603125 21.2525 \n",
       "L 160.303125 20.444 \n",
       "L 182.003125 19.9589 \n",
       "L 203.703125 19.71635 \n",
       "L 225.403125 19.2813 \n",
       "\" clip-path=\"url(#pbcb4ab5285)\" style=\"fill: none; stroke-dasharray: 5.55,2.4; stroke-dashoffset: 0; stroke: #bf00bf; stroke-width: 1.5\"/>\n",
       "   </g>\n",
       "   <g id=\"line2d_19\">\n",
       "    <path d=\"M 30.103125 34.5735 \n",
       "L 51.803125 29.0295 \n",
       "L 73.503125 27.3201 \n",
       "L 95.203125 26.8812 \n",
       "L 116.903125 25.5183 \n",
       "L 138.603125 23.9937 \n",
       "L 160.303125 24.9177 \n",
       "L 182.003125 22.7694 \n",
       "L 203.703125 22.5846 \n",
       "L 225.403125 22.5846 \n",
       "\" clip-path=\"url(#pbcb4ab5285)\" style=\"fill: none; stroke-dasharray: 9.6,2.4,1.5,2.4; stroke-dashoffset: 0; stroke: #008000; stroke-width: 1.5\"/>\n",
       "   </g>\n",
       "   <g id=\"patch_3\">\n",
       "    <path d=\"M 30.103125 145.8 \n",
       "L 30.103125 7.2 \n",
       "\" style=\"fill: none; stroke: #000000; stroke-width: 0.8; stroke-linejoin: miter; stroke-linecap: square\"/>\n",
       "   </g>\n",
       "   <g id=\"patch_4\">\n",
       "    <path d=\"M 225.403125 145.8 \n",
       "L 225.403125 7.2 \n",
       "\" style=\"fill: none; stroke: #000000; stroke-width: 0.8; stroke-linejoin: miter; stroke-linecap: square\"/>\n",
       "   </g>\n",
       "   <g id=\"patch_5\">\n",
       "    <path d=\"M 30.103125 145.8 \n",
       "L 225.403125 145.8 \n",
       "\" style=\"fill: none; stroke: #000000; stroke-width: 0.8; stroke-linejoin: miter; stroke-linecap: square\"/>\n",
       "   </g>\n",
       "   <g id=\"patch_6\">\n",
       "    <path d=\"M 30.103125 7.2 \n",
       "L 225.403125 7.2 \n",
       "\" style=\"fill: none; stroke: #000000; stroke-width: 0.8; stroke-linejoin: miter; stroke-linecap: square\"/>\n",
       "   </g>\n",
       "   <g id=\"legend_1\">\n",
       "    <g id=\"patch_7\">\n",
       "     <path d=\"M 140.634375 100.017188 \n",
       "L 218.403125 100.017188 \n",
       "Q 220.403125 100.017188 220.403125 98.017188 \n",
       "L 220.403125 54.982812 \n",
       "Q 220.403125 52.982812 218.403125 52.982812 \n",
       "L 140.634375 52.982812 \n",
       "Q 138.634375 52.982812 138.634375 54.982812 \n",
       "L 138.634375 98.017188 \n",
       "Q 138.634375 100.017188 140.634375 100.017188 \n",
       "z\n",
       "\" style=\"fill: #ffffff; opacity: 0.8; stroke: #cccccc; stroke-linejoin: miter\"/>\n",
       "    </g>\n",
       "    <g id=\"line2d_20\">\n",
       "     <path d=\"M 142.634375 61.08125 \n",
       "L 152.634375 61.08125 \n",
       "L 162.634375 61.08125 \n",
       "\" style=\"fill: none; stroke: #1f77b4; stroke-width: 1.5; stroke-linecap: square\"/>\n",
       "    </g>\n",
       "    <g id=\"text_10\">\n",
       "     <!-- train loss -->\n",
       "     <g transform=\"translate(170.634375 64.58125) scale(0.1 -0.1)\">\n",
       "      <defs>\n",
       "       <path id=\"DejaVuSans-74\" d=\"M 1172 4494 \n",
       "L 1172 3500 \n",
       "L 2356 3500 \n",
       "L 2356 3053 \n",
       "L 1172 3053 \n",
       "L 1172 1153 \n",
       "Q 1172 725 1289 603 \n",
       "Q 1406 481 1766 481 \n",
       "L 2356 481 \n",
       "L 2356 0 \n",
       "L 1766 0 \n",
       "Q 1100 0 847 248 \n",
       "Q 594 497 594 1153 \n",
       "L 594 3053 \n",
       "L 172 3053 \n",
       "L 172 3500 \n",
       "L 594 3500 \n",
       "L 594 4494 \n",
       "L 1172 4494 \n",
       "z\n",
       "\" transform=\"scale(0.015625)\"/>\n",
       "       <path id=\"DejaVuSans-72\" d=\"M 2631 2963 \n",
       "Q 2534 3019 2420 3045 \n",
       "Q 2306 3072 2169 3072 \n",
       "Q 1681 3072 1420 2755 \n",
       "Q 1159 2438 1159 1844 \n",
       "L 1159 0 \n",
       "L 581 0 \n",
       "L 581 3500 \n",
       "L 1159 3500 \n",
       "L 1159 2956 \n",
       "Q 1341 3275 1631 3429 \n",
       "Q 1922 3584 2338 3584 \n",
       "Q 2397 3584 2469 3576 \n",
       "Q 2541 3569 2628 3553 \n",
       "L 2631 2963 \n",
       "z\n",
       "\" transform=\"scale(0.015625)\"/>\n",
       "       <path id=\"DejaVuSans-61\" d=\"M 2194 1759 \n",
       "Q 1497 1759 1228 1600 \n",
       "Q 959 1441 959 1056 \n",
       "Q 959 750 1161 570 \n",
       "Q 1363 391 1709 391 \n",
       "Q 2188 391 2477 730 \n",
       "Q 2766 1069 2766 1631 \n",
       "L 2766 1759 \n",
       "L 2194 1759 \n",
       "z\n",
       "M 3341 1997 \n",
       "L 3341 0 \n",
       "L 2766 0 \n",
       "L 2766 531 \n",
       "Q 2569 213 2275 61 \n",
       "Q 1981 -91 1556 -91 \n",
       "Q 1019 -91 701 211 \n",
       "Q 384 513 384 1019 \n",
       "Q 384 1609 779 1909 \n",
       "Q 1175 2209 1959 2209 \n",
       "L 2766 2209 \n",
       "L 2766 2266 \n",
       "Q 2766 2663 2505 2880 \n",
       "Q 2244 3097 1772 3097 \n",
       "Q 1472 3097 1187 3025 \n",
       "Q 903 2953 641 2809 \n",
       "L 641 3341 \n",
       "Q 956 3463 1253 3523 \n",
       "Q 1550 3584 1831 3584 \n",
       "Q 2591 3584 2966 3190 \n",
       "Q 3341 2797 3341 1997 \n",
       "z\n",
       "\" transform=\"scale(0.015625)\"/>\n",
       "       <path id=\"DejaVuSans-69\" d=\"M 603 3500 \n",
       "L 1178 3500 \n",
       "L 1178 0 \n",
       "L 603 0 \n",
       "L 603 3500 \n",
       "z\n",
       "M 603 4863 \n",
       "L 1178 4863 \n",
       "L 1178 4134 \n",
       "L 603 4134 \n",
       "L 603 4863 \n",
       "z\n",
       "\" transform=\"scale(0.015625)\"/>\n",
       "       <path id=\"DejaVuSans-6e\" d=\"M 3513 2113 \n",
       "L 3513 0 \n",
       "L 2938 0 \n",
       "L 2938 2094 \n",
       "Q 2938 2591 2744 2837 \n",
       "Q 2550 3084 2163 3084 \n",
       "Q 1697 3084 1428 2787 \n",
       "Q 1159 2491 1159 1978 \n",
       "L 1159 0 \n",
       "L 581 0 \n",
       "L 581 3500 \n",
       "L 1159 3500 \n",
       "L 1159 2956 \n",
       "Q 1366 3272 1645 3428 \n",
       "Q 1925 3584 2291 3584 \n",
       "Q 2894 3584 3203 3211 \n",
       "Q 3513 2838 3513 2113 \n",
       "z\n",
       "\" transform=\"scale(0.015625)\"/>\n",
       "       <path id=\"DejaVuSans-20\" transform=\"scale(0.015625)\"/>\n",
       "       <path id=\"DejaVuSans-6c\" d=\"M 603 4863 \n",
       "L 1178 4863 \n",
       "L 1178 0 \n",
       "L 603 0 \n",
       "L 603 4863 \n",
       "z\n",
       "\" transform=\"scale(0.015625)\"/>\n",
       "       <path id=\"DejaVuSans-73\" d=\"M 2834 3397 \n",
       "L 2834 2853 \n",
       "Q 2591 2978 2328 3040 \n",
       "Q 2066 3103 1784 3103 \n",
       "Q 1356 3103 1142 2972 \n",
       "Q 928 2841 928 2578 \n",
       "Q 928 2378 1081 2264 \n",
       "Q 1234 2150 1697 2047 \n",
       "L 1894 2003 \n",
       "Q 2506 1872 2764 1633 \n",
       "Q 3022 1394 3022 966 \n",
       "Q 3022 478 2636 193 \n",
       "Q 2250 -91 1575 -91 \n",
       "Q 1294 -91 989 -36 \n",
       "Q 684 19 347 128 \n",
       "L 347 722 \n",
       "Q 666 556 975 473 \n",
       "Q 1284 391 1588 391 \n",
       "Q 1994 391 2212 530 \n",
       "Q 2431 669 2431 922 \n",
       "Q 2431 1156 2273 1281 \n",
       "Q 2116 1406 1581 1522 \n",
       "L 1381 1569 \n",
       "Q 847 1681 609 1914 \n",
       "Q 372 2147 372 2553 \n",
       "Q 372 3047 722 3315 \n",
       "Q 1072 3584 1716 3584 \n",
       "Q 2034 3584 2315 3537 \n",
       "Q 2597 3491 2834 3397 \n",
       "z\n",
       "\" transform=\"scale(0.015625)\"/>\n",
       "      </defs>\n",
       "      <use xlink:href=\"#DejaVuSans-74\"/>\n",
       "      <use xlink:href=\"#DejaVuSans-72\" transform=\"translate(39.208984 0)\"/>\n",
       "      <use xlink:href=\"#DejaVuSans-61\" transform=\"translate(80.322266 0)\"/>\n",
       "      <use xlink:href=\"#DejaVuSans-69\" transform=\"translate(141.601562 0)\"/>\n",
       "      <use xlink:href=\"#DejaVuSans-6e\" transform=\"translate(169.384766 0)\"/>\n",
       "      <use xlink:href=\"#DejaVuSans-20\" transform=\"translate(232.763672 0)\"/>\n",
       "      <use xlink:href=\"#DejaVuSans-6c\" transform=\"translate(264.550781 0)\"/>\n",
       "      <use xlink:href=\"#DejaVuSans-6f\" transform=\"translate(292.333984 0)\"/>\n",
       "      <use xlink:href=\"#DejaVuSans-73\" transform=\"translate(353.515625 0)\"/>\n",
       "      <use xlink:href=\"#DejaVuSans-73\" transform=\"translate(405.615234 0)\"/>\n",
       "     </g>\n",
       "    </g>\n",
       "    <g id=\"line2d_21\">\n",
       "     <path d=\"M 142.634375 75.759375 \n",
       "L 152.634375 75.759375 \n",
       "L 162.634375 75.759375 \n",
       "\" style=\"fill: none; stroke-dasharray: 5.55,2.4; stroke-dashoffset: 0; stroke: #bf00bf; stroke-width: 1.5\"/>\n",
       "    </g>\n",
       "    <g id=\"text_11\">\n",
       "     <!-- train acc -->\n",
       "     <g transform=\"translate(170.634375 79.259375) scale(0.1 -0.1)\">\n",
       "      <use xlink:href=\"#DejaVuSans-74\"/>\n",
       "      <use xlink:href=\"#DejaVuSans-72\" transform=\"translate(39.208984 0)\"/>\n",
       "      <use xlink:href=\"#DejaVuSans-61\" transform=\"translate(80.322266 0)\"/>\n",
       "      <use xlink:href=\"#DejaVuSans-69\" transform=\"translate(141.601562 0)\"/>\n",
       "      <use xlink:href=\"#DejaVuSans-6e\" transform=\"translate(169.384766 0)\"/>\n",
       "      <use xlink:href=\"#DejaVuSans-20\" transform=\"translate(232.763672 0)\"/>\n",
       "      <use xlink:href=\"#DejaVuSans-61\" transform=\"translate(264.550781 0)\"/>\n",
       "      <use xlink:href=\"#DejaVuSans-63\" transform=\"translate(325.830078 0)\"/>\n",
       "      <use xlink:href=\"#DejaVuSans-63\" transform=\"translate(380.810547 0)\"/>\n",
       "     </g>\n",
       "    </g>\n",
       "    <g id=\"line2d_22\">\n",
       "     <path d=\"M 142.634375 90.4375 \n",
       "L 152.634375 90.4375 \n",
       "L 162.634375 90.4375 \n",
       "\" style=\"fill: none; stroke-dasharray: 9.6,2.4,1.5,2.4; stroke-dashoffset: 0; stroke: #008000; stroke-width: 1.5\"/>\n",
       "    </g>\n",
       "    <g id=\"text_12\">\n",
       "     <!-- test acc -->\n",
       "     <g transform=\"translate(170.634375 93.9375) scale(0.1 -0.1)\">\n",
       "      <use xlink:href=\"#DejaVuSans-74\"/>\n",
       "      <use xlink:href=\"#DejaVuSans-65\" transform=\"translate(39.208984 0)\"/>\n",
       "      <use xlink:href=\"#DejaVuSans-73\" transform=\"translate(100.732422 0)\"/>\n",
       "      <use xlink:href=\"#DejaVuSans-74\" transform=\"translate(152.832031 0)\"/>\n",
       "      <use xlink:href=\"#DejaVuSans-20\" transform=\"translate(192.041016 0)\"/>\n",
       "      <use xlink:href=\"#DejaVuSans-61\" transform=\"translate(223.828125 0)\"/>\n",
       "      <use xlink:href=\"#DejaVuSans-63\" transform=\"translate(285.107422 0)\"/>\n",
       "      <use xlink:href=\"#DejaVuSans-63\" transform=\"translate(340.087891 0)\"/>\n",
       "     </g>\n",
       "    </g>\n",
       "   </g>\n",
       "  </g>\n",
       " </g>\n",
       " <defs>\n",
       "  <clipPath id=\"pbcb4ab5285\">\n",
       "   <rect x=\"30.103125\" y=\"7.2\" width=\"195.3\" height=\"138.6\"/>\n",
       "  </clipPath>\n",
       " </defs>\n",
       "</svg>\n"
      ],
      "text/plain": [
       "<Figure size 350x250 with 1 Axes>"
      ]
     },
     "metadata": {},
     "output_type": "display_data"
    },
    {
     "data": {
      "text/plain": [
       "<Figure size 640x480 with 0 Axes>"
      ]
     },
     "metadata": {},
     "output_type": "display_data"
    }
   ],
   "source": [
    "num_epochs = 10\n",
    "train_ch3(net, train_iter, test_iter, cross_entropy, num_epochs, updater)\n"
   ]
  },
  {
   "cell_type": "code",
   "execution_count": 19,
   "id": "e2d80956d3480e58",
   "metadata": {
    "ExecuteTime": {
     "end_time": "2025-02-04T03:38:30.108295Z",
     "start_time": "2025-02-04T03:38:26.886817Z"
    }
   },
   "outputs": [
    {
     "data": {
      "image/svg+xml": [
       "<?xml version=\"1.0\" encoding=\"utf-8\" standalone=\"no\"?>\n",
       "<!DOCTYPE svg PUBLIC \"-//W3C//DTD SVG 1.1//EN\"\n",
       "  \"http://www.w3.org/Graphics/SVG/1.1/DTD/svg11.dtd\">\n",
       "<svg xmlns:xlink=\"http://www.w3.org/1999/xlink\" width=\"516.6pt\" height=\"114.698357pt\" viewBox=\"0 0 516.6 114.698357\" xmlns=\"http://www.w3.org/2000/svg\" version=\"1.1\">\n",
       " <metadata>\n",
       "  <rdf:RDF xmlns:dc=\"http://purl.org/dc/elements/1.1/\" xmlns:cc=\"http://creativecommons.org/ns#\" xmlns:rdf=\"http://www.w3.org/1999/02/22-rdf-syntax-ns#\">\n",
       "   <cc:Work>\n",
       "    <dc:type rdf:resource=\"http://purl.org/dc/dcmitype/StillImage\"/>\n",
       "    <dc:date>2025-02-04T11:55:52.104819</dc:date>\n",
       "    <dc:format>image/svg+xml</dc:format>\n",
       "    <dc:creator>\n",
       "     <cc:Agent>\n",
       "      <dc:title>Matplotlib v3.10.0, https://matplotlib.org/</dc:title>\n",
       "     </cc:Agent>\n",
       "    </dc:creator>\n",
       "   </cc:Work>\n",
       "  </rdf:RDF>\n",
       " </metadata>\n",
       " <defs>\n",
       "  <style type=\"text/css\">*{stroke-linejoin: round; stroke-linecap: butt}</style>\n",
       " </defs>\n",
       " <g id=\"figure_1\">\n",
       "  <g id=\"patch_1\">\n",
       "   <path d=\"M 0 114.698357 \n",
       "L 516.6 114.698357 \n",
       "L 516.6 0 \n",
       "L 0 0 \n",
       "z\n",
       "\" style=\"fill: #ffffff\"/>\n",
       "  </g>\n",
       "  <g id=\"axes_1\">\n",
       "   <g id=\"patch_2\">\n",
       "    <path d=\"M 7.2 107.498357 \n",
       "L 78.942857 107.498357 \n",
       "L 78.942857 35.7555 \n",
       "L 7.2 35.7555 \n",
       "z\n",
       "\" style=\"fill: #ffffff\"/>\n",
       "   </g>\n",
       "   <g clip-path=\"url(#pd7bdd233b9)\">\n",
       "    <image xlink:href=\"data:image/png;base64,\n",
       "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\" id=\"image9126075d83\" transform=\"scale(1 -1) translate(0 -72)\" x=\"7.2\" y=\"-35.498357\" width=\"72\" height=\"72\"/>\n",
       "   </g>\n",
       "   <g id=\"patch_3\">\n",
       "    <path d=\"M 7.2 107.498357 \n",
       "L 7.2 35.7555 \n",
       "\" style=\"fill: none; stroke: #000000; stroke-width: 0.8; stroke-linejoin: miter; stroke-linecap: square\"/>\n",
       "   </g>\n",
       "   <g id=\"patch_4\">\n",
       "    <path d=\"M 78.942857 107.498357 \n",
       "L 78.942857 35.7555 \n",
       "\" style=\"fill: none; stroke: #000000; stroke-width: 0.8; stroke-linejoin: miter; stroke-linecap: square\"/>\n",
       "   </g>\n",
       "   <g id=\"patch_5\">\n",
       "    <path d=\"M 7.2 107.498357 \n",
       "L 78.942857 107.498357 \n",
       "\" style=\"fill: none; stroke: #000000; stroke-width: 0.8; stroke-linejoin: miter; stroke-linecap: square\"/>\n",
       "   </g>\n",
       "   <g id=\"patch_6\">\n",
       "    <path d=\"M 7.2 35.7555 \n",
       "L 78.942857 35.7555 \n",
       "\" style=\"fill: none; stroke: #000000; stroke-width: 0.8; stroke-linejoin: miter; stroke-linecap: square\"/>\n",
       "   </g>\n",
       "   <g id=\"text_1\">\n",
       "    <!-- ankle boot -->\n",
       "    <g transform=\"translate(11.348304 16.318125) scale(0.12 -0.12)\">\n",
       "     <defs>\n",
       "      <path id=\"DejaVuSans-61\" d=\"M 2194 1759 \n",
       "Q 1497 1759 1228 1600 \n",
       "Q 959 1441 959 1056 \n",
       "Q 959 750 1161 570 \n",
       "Q 1363 391 1709 391 \n",
       "Q 2188 391 2477 730 \n",
       "Q 2766 1069 2766 1631 \n",
       "L 2766 1759 \n",
       "L 2194 1759 \n",
       "z\n",
       "M 3341 1997 \n",
       "L 3341 0 \n",
       "L 2766 0 \n",
       "L 2766 531 \n",
       "Q 2569 213 2275 61 \n",
       "Q 1981 -91 1556 -91 \n",
       "Q 1019 -91 701 211 \n",
       "Q 384 513 384 1019 \n",
       "Q 384 1609 779 1909 \n",
       "Q 1175 2209 1959 2209 \n",
       "L 2766 2209 \n",
       "L 2766 2266 \n",
       "Q 2766 2663 2505 2880 \n",
       "Q 2244 3097 1772 3097 \n",
       "Q 1472 3097 1187 3025 \n",
       "Q 903 2953 641 2809 \n",
       "L 641 3341 \n",
       "Q 956 3463 1253 3523 \n",
       "Q 1550 3584 1831 3584 \n",
       "Q 2591 3584 2966 3190 \n",
       "Q 3341 2797 3341 1997 \n",
       "z\n",
       "\" transform=\"scale(0.015625)\"/>\n",
       "      <path id=\"DejaVuSans-6e\" d=\"M 3513 2113 \n",
       "L 3513 0 \n",
       "L 2938 0 \n",
       "L 2938 2094 \n",
       "Q 2938 2591 2744 2837 \n",
       "Q 2550 3084 2163 3084 \n",
       "Q 1697 3084 1428 2787 \n",
       "Q 1159 2491 1159 1978 \n",
       "L 1159 0 \n",
       "L 581 0 \n",
       "L 581 3500 \n",
       "L 1159 3500 \n",
       "L 1159 2956 \n",
       "Q 1366 3272 1645 3428 \n",
       "Q 1925 3584 2291 3584 \n",
       "Q 2894 3584 3203 3211 \n",
       "Q 3513 2838 3513 2113 \n",
       "z\n",
       "\" transform=\"scale(0.015625)\"/>\n",
       "      <path id=\"DejaVuSans-6b\" d=\"M 581 4863 \n",
       "L 1159 4863 \n",
       "L 1159 1991 \n",
       "L 2875 3500 \n",
       "L 3609 3500 \n",
       "L 1753 1863 \n",
       "L 3688 0 \n",
       "L 2938 0 \n",
       "L 1159 1709 \n",
       "L 1159 0 \n",
       "L 581 0 \n",
       "L 581 4863 \n",
       "z\n",
       "\" transform=\"scale(0.015625)\"/>\n",
       "      <path id=\"DejaVuSans-6c\" d=\"M 603 4863 \n",
       "L 1178 4863 \n",
       "L 1178 0 \n",
       "L 603 0 \n",
       "L 603 4863 \n",
       "z\n",
       "\" transform=\"scale(0.015625)\"/>\n",
       "      <path id=\"DejaVuSans-65\" d=\"M 3597 1894 \n",
       "L 3597 1613 \n",
       "L 953 1613 \n",
       "Q 991 1019 1311 708 \n",
       "Q 1631 397 2203 397 \n",
       "Q 2534 397 2845 478 \n",
       "Q 3156 559 3463 722 \n",
       "L 3463 178 \n",
       "Q 3153 47 2828 -22 \n",
       "Q 2503 -91 2169 -91 \n",
       "Q 1331 -91 842 396 \n",
       "Q 353 884 353 1716 \n",
       "Q 353 2575 817 3079 \n",
       "Q 1281 3584 2069 3584 \n",
       "Q 2775 3584 3186 3129 \n",
       "Q 3597 2675 3597 1894 \n",
       "z\n",
       "M 3022 2063 \n",
       "Q 3016 2534 2758 2815 \n",
       "Q 2500 3097 2075 3097 \n",
       "Q 1594 3097 1305 2825 \n",
       "Q 1016 2553 972 2059 \n",
       "L 3022 2063 \n",
       "z\n",
       "\" transform=\"scale(0.015625)\"/>\n",
       "      <path id=\"DejaVuSans-20\" transform=\"scale(0.015625)\"/>\n",
       "      <path id=\"DejaVuSans-62\" d=\"M 3116 1747 \n",
       "Q 3116 2381 2855 2742 \n",
       "Q 2594 3103 2138 3103 \n",
       "Q 1681 3103 1420 2742 \n",
       "Q 1159 2381 1159 1747 \n",
       "Q 1159 1113 1420 752 \n",
       "Q 1681 391 2138 391 \n",
       "Q 2594 391 2855 752 \n",
       "Q 3116 1113 3116 1747 \n",
       "z\n",
       "M 1159 2969 \n",
       "Q 1341 3281 1617 3432 \n",
       "Q 1894 3584 2278 3584 \n",
       "Q 2916 3584 3314 3078 \n",
       "Q 3713 2572 3713 1747 \n",
       "Q 3713 922 3314 415 \n",
       "Q 2916 -91 2278 -91 \n",
       "Q 1894 -91 1617 61 \n",
       "Q 1341 213 1159 525 \n",
       "L 1159 0 \n",
       "L 581 0 \n",
       "L 581 4863 \n",
       "L 1159 4863 \n",
       "L 1159 2969 \n",
       "z\n",
       "\" transform=\"scale(0.015625)\"/>\n",
       "      <path id=\"DejaVuSans-6f\" d=\"M 1959 3097 \n",
       "Q 1497 3097 1228 2736 \n",
       "Q 959 2375 959 1747 \n",
       "Q 959 1119 1226 758 \n",
       "Q 1494 397 1959 397 \n",
       "Q 2419 397 2687 759 \n",
       "Q 2956 1122 2956 1747 \n",
       "Q 2956 2369 2687 2733 \n",
       "Q 2419 3097 1959 3097 \n",
       "z\n",
       "M 1959 3584 \n",
       "Q 2709 3584 3137 3096 \n",
       "Q 3566 2609 3566 1747 \n",
       "Q 3566 888 3137 398 \n",
       "Q 2709 -91 1959 -91 \n",
       "Q 1206 -91 779 398 \n",
       "Q 353 888 353 1747 \n",
       "Q 353 2609 779 3096 \n",
       "Q 1206 3584 1959 3584 \n",
       "z\n",
       "\" transform=\"scale(0.015625)\"/>\n",
       "      <path id=\"DejaVuSans-74\" d=\"M 1172 4494 \n",
       "L 1172 3500 \n",
       "L 2356 3500 \n",
       "L 2356 3053 \n",
       "L 1172 3053 \n",
       "L 1172 1153 \n",
       "Q 1172 725 1289 603 \n",
       "Q 1406 481 1766 481 \n",
       "L 2356 481 \n",
       "L 2356 0 \n",
       "L 1766 0 \n",
       "Q 1100 0 847 248 \n",
       "Q 594 497 594 1153 \n",
       "L 594 3053 \n",
       "L 172 3053 \n",
       "L 172 3500 \n",
       "L 594 3500 \n",
       "L 594 4494 \n",
       "L 1172 4494 \n",
       "z\n",
       "\" transform=\"scale(0.015625)\"/>\n",
       "     </defs>\n",
       "     <use xlink:href=\"#DejaVuSans-61\"/>\n",
       "     <use xlink:href=\"#DejaVuSans-6e\" transform=\"translate(61.279297 0)\"/>\n",
       "     <use xlink:href=\"#DejaVuSans-6b\" transform=\"translate(124.658203 0)\"/>\n",
       "     <use xlink:href=\"#DejaVuSans-6c\" transform=\"translate(182.568359 0)\"/>\n",
       "     <use xlink:href=\"#DejaVuSans-65\" transform=\"translate(210.351562 0)\"/>\n",
       "     <use xlink:href=\"#DejaVuSans-20\" transform=\"translate(271.875 0)\"/>\n",
       "     <use xlink:href=\"#DejaVuSans-62\" transform=\"translate(303.662109 0)\"/>\n",
       "     <use xlink:href=\"#DejaVuSans-6f\" transform=\"translate(367.138672 0)\"/>\n",
       "     <use xlink:href=\"#DejaVuSans-6f\" transform=\"translate(428.320312 0)\"/>\n",
       "     <use xlink:href=\"#DejaVuSans-74\" transform=\"translate(489.501953 0)\"/>\n",
       "    </g>\n",
       "    <!-- ankle boot -->\n",
       "    <g transform=\"translate(11.348304 29.7555) scale(0.12 -0.12)\">\n",
       "     <use xlink:href=\"#DejaVuSans-61\"/>\n",
       "     <use xlink:href=\"#DejaVuSans-6e\" transform=\"translate(61.279297 0)\"/>\n",
       "     <use xlink:href=\"#DejaVuSans-6b\" transform=\"translate(124.658203 0)\"/>\n",
       "     <use xlink:href=\"#DejaVuSans-6c\" transform=\"translate(182.568359 0)\"/>\n",
       "     <use xlink:href=\"#DejaVuSans-65\" transform=\"translate(210.351562 0)\"/>\n",
       "     <use xlink:href=\"#DejaVuSans-20\" transform=\"translate(271.875 0)\"/>\n",
       "     <use xlink:href=\"#DejaVuSans-62\" transform=\"translate(303.662109 0)\"/>\n",
       "     <use xlink:href=\"#DejaVuSans-6f\" transform=\"translate(367.138672 0)\"/>\n",
       "     <use xlink:href=\"#DejaVuSans-6f\" transform=\"translate(428.320312 0)\"/>\n",
       "     <use xlink:href=\"#DejaVuSans-74\" transform=\"translate(489.501953 0)\"/>\n",
       "    </g>\n",
       "   </g>\n",
       "  </g>\n",
       "  <g id=\"axes_2\">\n",
       "   <g id=\"patch_7\">\n",
       "    <path d=\"M 93.291429 107.498357 \n",
       "L 165.034286 107.498357 \n",
       "L 165.034286 35.7555 \n",
       "L 93.291429 35.7555 \n",
       "z\n",
       "\" style=\"fill: #ffffff\"/>\n",
       "   </g>\n",
       "   <g clip-path=\"url(#pe07baaf3e2)\">\n",
       "    <image xlink:href=\"data:image/png;base64,\n",
       "iVBORw0KGgoAAAANSUhEUgAAAGQAAABkCAYAAABw4pVUAAAI0klEQVR4nO2da2wcVxXH57HrfdiOEzup8zaxkoBUEqI2iWkLqCEFkhaVgqrIVEikPD5R2g+IVkLiQyUk4AuPLxQIEhCpQkURlUCUprxSF0irtihtEqdOcEvsJLZjJ11n7fXuzs4MmiDNuf+T3ul6FUVX0/P7dK/OzmP37D33zLnnnrHvsu8PrRbw77wF+nf8+KW4faneAbI3P5HHY0uzcdvOtoEsbHjUsR3rRmM7tnIvDZRlMtCv/HFd3F7bUQLZ2A83x+32Q/TbvBs3/hsLiYhCDEMUYhhoFBdBeV0O+o+vOBm3Z4MFkD3QtQ8PVuaQ0KvrLxL61o0mDBKE2z4A3T/cfCBudzkFkG3aSZ/tP9T89WWEGIYoJC0ma3o7essTjbm4XeWOtJMOvdt1dIMv+2RSywF9/4hGR2vmNh2/VIoQhRiGKCQtc8jO7aehXw4p5LDadVG2tRf6X/rT0bi9f8lFkD1Z7onbWRttdhKupY8AuTb6svWQ7q8SoPuu3s/m578Iso3fqUJ/Q5ZCRMdqNZANfOg/cfttq3lkhBiGKCQtJutStR36eZtMRoeD0V2njuZkR/5s3B710D3clsOnfB2+RSYyIlBM5tVrKvfDydt0zapivq6eN6To85rlGMGtrVyuPWdOOWfEsfNr4nafddlqFhkhhiEKMQxRSFrmkEJGWdmzLKvXRfdRpfYw2tBel9zQEa8IsiyzxSpB6DQ9p2QtX3tc1Xa1stEGzWEP9f0dZI9++gHt9fPMtW54rf20MkIMQxSSFpPVkcEnUz9U3Ey0HtalEiY9TPmO9gm7zaKhX2f/F9Wc8eO4yVJdW4+dR/2sx47bnCV3fvC1vSBLsKaWy76zv4DudLPICDEMUYhhiELSMofkXIzEzgSUrLDeweQ35wy6tqUBcpFXuBgqmfYpWSC/iGgvn0N4X0c1zF5zpvg+x5eCpPfmaejXQk//z2609l+XEWIYohDDEIWkJnTiYuikysLfKo6Hsn8vbIjbD3aNgGy8kW1pDklaMeRklTBH0hzS93t88Ljte2e0z178qSNbkueQVCAKSYvJ6s7Oa1cMOTxI+9T4rXH768to9TDCC1u+JcBLiAznFLOUt9H0qhRPXID+xzrRvM4pbm/RQRPlVppzuzkyQgxDFGIYohDDaNlgL/joLuZtvc2sb8TwyPmJZdTZip+dVxLXVrjllsIhHH6cGo5vt/n+FJoL6v2Y4LeniEsOp+pKciD7JdkU2zQyQgxDFJIWk1ULsk1rdkc/uravHcatYbo8XI8lsTmKrFXzxZPjul3M1/VCSvKrrNInbkTUlPMEbPtdYbql3eYyQkxDFGIYopC0zCFvztE+johlbFuwypo8Ji2Pv6Hfe1y0a9p5Qv33vFvWiQpPhkvKXjnlUTgkIYB9zTU9dp7CdPORahUZIYYhCkmLyTo32wV9V6nco26RjtjR8Rb0jywb0J53iYNuKFxDMQuLMVmquxxRVSLKjoVP6qWA3N6LO7SnvOYebnJxv4wdiNubCkQhhiEKScscMjerd3PPNlC2tx1X3g4OUihljM03paBHm4Cw1KnE7aKDkVe+vVmlk81LJeWzl1kixWSD5sb9nzxitUp+ksK9SQWGODJCDEMUYhiikLTMIc4MJlQnwautPbmRSqyNeIWEVbkayE578++YlB3Rn72ivf5/G7hh6CN5Ok+RJYbfmqNqd347FsUYa9AcFpFV9ipywpOYVNcsMkIMQxSSmtzeKb0u+dZmj0UR5pVKk6szmADR/7tvxO0wgwd+9fbn4/a3lmPS2jcnPwr99+Vn4vbXlo6D7MgChUe+v+XDeG9PU2LD0Janm85f5vAizM0iI8QwRCGGIQpJyxyST8iqUPdfRNRYdeKKYovVfeERmx7SF64f2k7x8IOP7gRZ377j0H/dohCMO4zXf+Jnn4nba7sxI+bCCSU5bgten5dyyipBkblAv2ywGGSEGIYoJC0mq3NcX7OdV3ez2OqeWiRziI90h2SHz70KonsG1sbtvn3nQPbgCJqewc63tQUqf3uK7v0X/3oKZN+9uEsbiXbZxrWlDpmsw5WV1vVARohhiEIMQxSSGrd3Au1rEuUAwwirMhR9fe4K8y0DfQ2kqT30zqeeAziH/GrwbugfnFcmpwxzV4dfidtfufMLIAtnKWq8/jhGiflcVFT+zi+U6Z1T/0dCJ6lAFJIWkxWOopuZ9KReClDvq5T20ZkN7IbGtOd95fEn4vanDmwD2en9nXgP5SVxe/1h9K2rn6NEvcIEypwujBw0y1/H0GSttoZbOo+MEMMQhRiGKCQtc0hQrTY9h/CEBJXc53HF0E+45ut1umbvUZojrnLbi9rj7h2+BH11BfHuLR8H2ZnH3q89D6+SmlcSzL3jmHzeKjJCDEMUYhiiEMO4PrWQovcs+ZWEzTR6vY/8gELqEf0/p34tfNlSmWzQs8bBviGQvXUWQzl/rtBzwR2FUZD9s0rJ1s8c/xvInqu88I7vw4rY1DYJfU/Zm776H/oyT4tBRohhiELSarJGPH1xZF4iY6hKQ3109y/xRLupeZK96jTvkFl4toL7QdaxhLv7Oii39lgNCyK3KYl8z1ZwD0q3S6avx8WSPqUA3fcpn/KAC8MT1yHWKyPEOEQhhiEKMQz7Lvv+1jZUM84/dnvcPvHIT0DGM0uqSmmngP0nHCX5jO9Zv7bocUIxfqWcRjvbj4jHOdq9ivx6e4u4X+TeNz5Lnd24gtkqMkIMQxSSVpOlcvqnmHf7zJ4fQb8/S6ZgykdzMumTySgrZS4iViouaZeDceE2VoSzpAScLyhP+Pwt1N3MLK5UPPScjU8Fj5ynJLqIsYEWK10mICPEMEQhhiEKeS/MIRynHTM5Rr9N1ZO/fM9fQPbBAq3mDeRwpe+CTwZ+axvOL0nM+PPa9yjyPR8PjwzG7eDXN4FsyW/0q5LXCxkhhiEKeS+arMXg9nTH7Su7NoGs/ZB+u1sS/q5boJ+5Qq52+OpJyyRkhBiGKMQwRCGWWfwPvvyUsVzna0sAAAAASUVORK5CYII=\" id=\"image2235c8009c\" transform=\"scale(1 -1) translate(0 -72)\" x=\"93.291429\" y=\"-35.498357\" width=\"72\" height=\"72\"/>\n",
       "   </g>\n",
       "   <g id=\"patch_8\">\n",
       "    <path d=\"M 93.291429 107.498357 \n",
       "L 93.291429 35.7555 \n",
       "\" style=\"fill: none; stroke: #000000; stroke-width: 0.8; stroke-linejoin: miter; stroke-linecap: square\"/>\n",
       "   </g>\n",
       "   <g id=\"patch_9\">\n",
       "    <path d=\"M 165.034286 107.498357 \n",
       "L 165.034286 35.7555 \n",
       "\" style=\"fill: none; stroke: #000000; stroke-width: 0.8; stroke-linejoin: miter; stroke-linecap: square\"/>\n",
       "   </g>\n",
       "   <g id=\"patch_10\">\n",
       "    <path d=\"M 93.291429 107.498357 \n",
       "L 165.034286 107.498357 \n",
       "\" style=\"fill: none; stroke: #000000; stroke-width: 0.8; stroke-linejoin: miter; stroke-linecap: square\"/>\n",
       "   </g>\n",
       "   <g id=\"patch_11\">\n",
       "    <path d=\"M 93.291429 35.7555 \n",
       "L 165.034286 35.7555 \n",
       "\" style=\"fill: none; stroke: #000000; stroke-width: 0.8; stroke-linejoin: miter; stroke-linecap: square\"/>\n",
       "   </g>\n",
       "   <g id=\"text_2\">\n",
       "    <!-- pullover -->\n",
       "    <g transform=\"translate(104.836607 16.318125) scale(0.12 -0.12)\">\n",
       "     <defs>\n",
       "      <path id=\"DejaVuSans-70\" d=\"M 1159 525 \n",
       "L 1159 -1331 \n",
       "L 581 -1331 \n",
       "L 581 3500 \n",
       "L 1159 3500 \n",
       "L 1159 2969 \n",
       "Q 1341 3281 1617 3432 \n",
       "Q 1894 3584 2278 3584 \n",
       "Q 2916 3584 3314 3078 \n",
       "Q 3713 2572 3713 1747 \n",
       "Q 3713 922 3314 415 \n",
       "Q 2916 -91 2278 -91 \n",
       "Q 1894 -91 1617 61 \n",
       "Q 1341 213 1159 525 \n",
       "z\n",
       "M 3116 1747 \n",
       "Q 3116 2381 2855 2742 \n",
       "Q 2594 3103 2138 3103 \n",
       "Q 1681 3103 1420 2742 \n",
       "Q 1159 2381 1159 1747 \n",
       "Q 1159 1113 1420 752 \n",
       "Q 1681 391 2138 391 \n",
       "Q 2594 391 2855 752 \n",
       "Q 3116 1113 3116 1747 \n",
       "z\n",
       "\" transform=\"scale(0.015625)\"/>\n",
       "      <path id=\"DejaVuSans-75\" d=\"M 544 1381 \n",
       "L 544 3500 \n",
       "L 1119 3500 \n",
       "L 1119 1403 \n",
       "Q 1119 906 1312 657 \n",
       "Q 1506 409 1894 409 \n",
       "Q 2359 409 2629 706 \n",
       "Q 2900 1003 2900 1516 \n",
       "L 2900 3500 \n",
       "L 3475 3500 \n",
       "L 3475 0 \n",
       "L 2900 0 \n",
       "L 2900 538 \n",
       "Q 2691 219 2414 64 \n",
       "Q 2138 -91 1772 -91 \n",
       "Q 1169 -91 856 284 \n",
       "Q 544 659 544 1381 \n",
       "z\n",
       "M 1991 3584 \n",
       "L 1991 3584 \n",
       "z\n",
       "\" transform=\"scale(0.015625)\"/>\n",
       "      <path id=\"DejaVuSans-76\" d=\"M 191 3500 \n",
       "L 800 3500 \n",
       "L 1894 563 \n",
       "L 2988 3500 \n",
       "L 3597 3500 \n",
       "L 2284 0 \n",
       "L 1503 0 \n",
       "L 191 3500 \n",
       "z\n",
       "\" transform=\"scale(0.015625)\"/>\n",
       "      <path id=\"DejaVuSans-72\" d=\"M 2631 2963 \n",
       "Q 2534 3019 2420 3045 \n",
       "Q 2306 3072 2169 3072 \n",
       "Q 1681 3072 1420 2755 \n",
       "Q 1159 2438 1159 1844 \n",
       "L 1159 0 \n",
       "L 581 0 \n",
       "L 581 3500 \n",
       "L 1159 3500 \n",
       "L 1159 2956 \n",
       "Q 1341 3275 1631 3429 \n",
       "Q 1922 3584 2338 3584 \n",
       "Q 2397 3584 2469 3576 \n",
       "Q 2541 3569 2628 3553 \n",
       "L 2631 2963 \n",
       "z\n",
       "\" transform=\"scale(0.015625)\"/>\n",
       "     </defs>\n",
       "     <use xlink:href=\"#DejaVuSans-70\"/>\n",
       "     <use xlink:href=\"#DejaVuSans-75\" transform=\"translate(63.476562 0)\"/>\n",
       "     <use xlink:href=\"#DejaVuSans-6c\" transform=\"translate(126.855469 0)\"/>\n",
       "     <use xlink:href=\"#DejaVuSans-6c\" transform=\"translate(154.638672 0)\"/>\n",
       "     <use xlink:href=\"#DejaVuSans-6f\" transform=\"translate(182.421875 0)\"/>\n",
       "     <use xlink:href=\"#DejaVuSans-76\" transform=\"translate(243.603516 0)\"/>\n",
       "     <use xlink:href=\"#DejaVuSans-65\" transform=\"translate(302.783203 0)\"/>\n",
       "     <use xlink:href=\"#DejaVuSans-72\" transform=\"translate(364.306641 0)\"/>\n",
       "    </g>\n",
       "    <!-- pullover -->\n",
       "    <g transform=\"translate(104.836607 29.7555) scale(0.12 -0.12)\">\n",
       "     <use xlink:href=\"#DejaVuSans-70\"/>\n",
       "     <use xlink:href=\"#DejaVuSans-75\" transform=\"translate(63.476562 0)\"/>\n",
       "     <use xlink:href=\"#DejaVuSans-6c\" transform=\"translate(126.855469 0)\"/>\n",
       "     <use xlink:href=\"#DejaVuSans-6c\" transform=\"translate(154.638672 0)\"/>\n",
       "     <use xlink:href=\"#DejaVuSans-6f\" transform=\"translate(182.421875 0)\"/>\n",
       "     <use xlink:href=\"#DejaVuSans-76\" transform=\"translate(243.603516 0)\"/>\n",
       "     <use xlink:href=\"#DejaVuSans-65\" transform=\"translate(302.783203 0)\"/>\n",
       "     <use xlink:href=\"#DejaVuSans-72\" transform=\"translate(364.306641 0)\"/>\n",
       "    </g>\n",
       "   </g>\n",
       "  </g>\n",
       "  <g id=\"axes_3\">\n",
       "   <g id=\"patch_12\">\n",
       "    <path d=\"M 179.382857 107.498357 \n",
       "L 251.125714 107.498357 \n",
       "L 251.125714 35.7555 \n",
       "L 179.382857 35.7555 \n",
       "z\n",
       "\" style=\"fill: #ffffff\"/>\n",
       "   </g>\n",
       "   <g clip-path=\"url(#pd31f70cc2f)\">\n",
       "    <image xlink:href=\"data:image/png;base64,\n",
       "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\" id=\"image453438a04a\" transform=\"scale(1 -1) translate(0 -72)\" x=\"179.382857\" y=\"-35.498357\" width=\"72\" height=\"72\"/>\n",
       "   </g>\n",
       "   <g id=\"patch_13\">\n",
       "    <path d=\"M 179.382857 107.498357 \n",
       "L 179.382857 35.7555 \n",
       "\" style=\"fill: none; stroke: #000000; stroke-width: 0.8; stroke-linejoin: miter; stroke-linecap: square\"/>\n",
       "   </g>\n",
       "   <g id=\"patch_14\">\n",
       "    <path d=\"M 251.125714 107.498357 \n",
       "L 251.125714 35.7555 \n",
       "\" style=\"fill: none; stroke: #000000; stroke-width: 0.8; stroke-linejoin: miter; stroke-linecap: square\"/>\n",
       "   </g>\n",
       "   <g id=\"patch_15\">\n",
       "    <path d=\"M 179.382857 107.498357 \n",
       "L 251.125714 107.498357 \n",
       "\" style=\"fill: none; stroke: #000000; stroke-width: 0.8; stroke-linejoin: miter; stroke-linecap: square\"/>\n",
       "   </g>\n",
       "   <g id=\"patch_16\">\n",
       "    <path d=\"M 179.382857 35.7555 \n",
       "L 251.125714 35.7555 \n",
       "\" style=\"fill: none; stroke: #000000; stroke-width: 0.8; stroke-linejoin: miter; stroke-linecap: square\"/>\n",
       "   </g>\n",
       "   <g id=\"text_3\">\n",
       "    <!-- trouser -->\n",
       "    <g transform=\"translate(193.812723 16.318125) scale(0.12 -0.12)\">\n",
       "     <defs>\n",
       "      <path id=\"DejaVuSans-73\" d=\"M 2834 3397 \n",
       "L 2834 2853 \n",
       "Q 2591 2978 2328 3040 \n",
       "Q 2066 3103 1784 3103 \n",
       "Q 1356 3103 1142 2972 \n",
       "Q 928 2841 928 2578 \n",
       "Q 928 2378 1081 2264 \n",
       "Q 1234 2150 1697 2047 \n",
       "L 1894 2003 \n",
       "Q 2506 1872 2764 1633 \n",
       "Q 3022 1394 3022 966 \n",
       "Q 3022 478 2636 193 \n",
       "Q 2250 -91 1575 -91 \n",
       "Q 1294 -91 989 -36 \n",
       "Q 684 19 347 128 \n",
       "L 347 722 \n",
       "Q 666 556 975 473 \n",
       "Q 1284 391 1588 391 \n",
       "Q 1994 391 2212 530 \n",
       "Q 2431 669 2431 922 \n",
       "Q 2431 1156 2273 1281 \n",
       "Q 2116 1406 1581 1522 \n",
       "L 1381 1569 \n",
       "Q 847 1681 609 1914 \n",
       "Q 372 2147 372 2553 \n",
       "Q 372 3047 722 3315 \n",
       "Q 1072 3584 1716 3584 \n",
       "Q 2034 3584 2315 3537 \n",
       "Q 2597 3491 2834 3397 \n",
       "z\n",
       "\" transform=\"scale(0.015625)\"/>\n",
       "     </defs>\n",
       "     <use xlink:href=\"#DejaVuSans-74\"/>\n",
       "     <use xlink:href=\"#DejaVuSans-72\" transform=\"translate(39.208984 0)\"/>\n",
       "     <use xlink:href=\"#DejaVuSans-6f\" transform=\"translate(78.072266 0)\"/>\n",
       "     <use xlink:href=\"#DejaVuSans-75\" transform=\"translate(139.253906 0)\"/>\n",
       "     <use xlink:href=\"#DejaVuSans-73\" transform=\"translate(202.632812 0)\"/>\n",
       "     <use xlink:href=\"#DejaVuSans-65\" transform=\"translate(254.732422 0)\"/>\n",
       "     <use xlink:href=\"#DejaVuSans-72\" transform=\"translate(316.255859 0)\"/>\n",
       "    </g>\n",
       "    <!-- trouser -->\n",
       "    <g transform=\"translate(193.812723 29.7555) scale(0.12 -0.12)\">\n",
       "     <use xlink:href=\"#DejaVuSans-74\"/>\n",
       "     <use xlink:href=\"#DejaVuSans-72\" transform=\"translate(39.208984 0)\"/>\n",
       "     <use xlink:href=\"#DejaVuSans-6f\" transform=\"translate(78.072266 0)\"/>\n",
       "     <use xlink:href=\"#DejaVuSans-75\" transform=\"translate(139.253906 0)\"/>\n",
       "     <use xlink:href=\"#DejaVuSans-73\" transform=\"translate(202.632812 0)\"/>\n",
       "     <use xlink:href=\"#DejaVuSans-65\" transform=\"translate(254.732422 0)\"/>\n",
       "     <use xlink:href=\"#DejaVuSans-72\" transform=\"translate(316.255859 0)\"/>\n",
       "    </g>\n",
       "   </g>\n",
       "  </g>\n",
       "  <g id=\"axes_4\">\n",
       "   <g id=\"patch_17\">\n",
       "    <path d=\"M 265.474286 107.498357 \n",
       "L 337.217143 107.498357 \n",
       "L 337.217143 35.7555 \n",
       "L 265.474286 35.7555 \n",
       "z\n",
       "\" style=\"fill: #ffffff\"/>\n",
       "   </g>\n",
       "   <g clip-path=\"url(#p4d3e022987)\">\n",
       "    <image xlink:href=\"data:image/png;base64,\n",
       "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\" id=\"image51b5796513\" transform=\"scale(1 -1) translate(0 -72)\" x=\"265.474286\" y=\"-35.498357\" width=\"72\" height=\"72\"/>\n",
       "   </g>\n",
       "   <g id=\"patch_18\">\n",
       "    <path d=\"M 265.474286 107.498357 \n",
       "L 265.474286 35.7555 \n",
       "\" style=\"fill: none; stroke: #000000; stroke-width: 0.8; stroke-linejoin: miter; stroke-linecap: square\"/>\n",
       "   </g>\n",
       "   <g id=\"patch_19\">\n",
       "    <path d=\"M 337.217143 107.498357 \n",
       "L 337.217143 35.7555 \n",
       "\" style=\"fill: none; stroke: #000000; stroke-width: 0.8; stroke-linejoin: miter; stroke-linecap: square\"/>\n",
       "   </g>\n",
       "   <g id=\"patch_20\">\n",
       "    <path d=\"M 265.474286 107.498357 \n",
       "L 337.217143 107.498357 \n",
       "\" style=\"fill: none; stroke: #000000; stroke-width: 0.8; stroke-linejoin: miter; stroke-linecap: square\"/>\n",
       "   </g>\n",
       "   <g id=\"patch_21\">\n",
       "    <path d=\"M 265.474286 35.7555 \n",
       "L 337.217143 35.7555 \n",
       "\" style=\"fill: none; stroke: #000000; stroke-width: 0.8; stroke-linejoin: miter; stroke-linecap: square\"/>\n",
       "   </g>\n",
       "   <g id=\"text_4\">\n",
       "    <!-- trouser -->\n",
       "    <g transform=\"translate(279.904152 16.318125) scale(0.12 -0.12)\">\n",
       "     <use xlink:href=\"#DejaVuSans-74\"/>\n",
       "     <use xlink:href=\"#DejaVuSans-72\" transform=\"translate(39.208984 0)\"/>\n",
       "     <use xlink:href=\"#DejaVuSans-6f\" transform=\"translate(78.072266 0)\"/>\n",
       "     <use xlink:href=\"#DejaVuSans-75\" transform=\"translate(139.253906 0)\"/>\n",
       "     <use xlink:href=\"#DejaVuSans-73\" transform=\"translate(202.632812 0)\"/>\n",
       "     <use xlink:href=\"#DejaVuSans-65\" transform=\"translate(254.732422 0)\"/>\n",
       "     <use xlink:href=\"#DejaVuSans-72\" transform=\"translate(316.255859 0)\"/>\n",
       "    </g>\n",
       "    <!-- trouser -->\n",
       "    <g transform=\"translate(279.904152 29.7555) scale(0.12 -0.12)\">\n",
       "     <use xlink:href=\"#DejaVuSans-74\"/>\n",
       "     <use xlink:href=\"#DejaVuSans-72\" transform=\"translate(39.208984 0)\"/>\n",
       "     <use xlink:href=\"#DejaVuSans-6f\" transform=\"translate(78.072266 0)\"/>\n",
       "     <use xlink:href=\"#DejaVuSans-75\" transform=\"translate(139.253906 0)\"/>\n",
       "     <use xlink:href=\"#DejaVuSans-73\" transform=\"translate(202.632812 0)\"/>\n",
       "     <use xlink:href=\"#DejaVuSans-65\" transform=\"translate(254.732422 0)\"/>\n",
       "     <use xlink:href=\"#DejaVuSans-72\" transform=\"translate(316.255859 0)\"/>\n",
       "    </g>\n",
       "   </g>\n",
       "  </g>\n",
       "  <g id=\"axes_5\">\n",
       "   <g id=\"patch_22\">\n",
       "    <path d=\"M 351.565714 107.498357 \n",
       "L 423.308571 107.498357 \n",
       "L 423.308571 35.7555 \n",
       "L 351.565714 35.7555 \n",
       "z\n",
       "\" style=\"fill: #ffffff\"/>\n",
       "   </g>\n",
       "   <g clip-path=\"url(#p27dc36d5e0)\">\n",
       "    <image xlink:href=\"data:image/png;base64,\n",
       "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\" id=\"image42db4ae00e\" transform=\"scale(1 -1) translate(0 -72)\" x=\"351.565714\" y=\"-35.498357\" width=\"72\" height=\"72\"/>\n",
       "   </g>\n",
       "   <g id=\"patch_23\">\n",
       "    <path d=\"M 351.565714 107.498357 \n",
       "L 351.565714 35.7555 \n",
       "\" style=\"fill: none; stroke: #000000; stroke-width: 0.8; stroke-linejoin: miter; stroke-linecap: square\"/>\n",
       "   </g>\n",
       "   <g id=\"patch_24\">\n",
       "    <path d=\"M 423.308571 107.498357 \n",
       "L 423.308571 35.7555 \n",
       "\" style=\"fill: none; stroke: #000000; stroke-width: 0.8; stroke-linejoin: miter; stroke-linecap: square\"/>\n",
       "   </g>\n",
       "   <g id=\"patch_25\">\n",
       "    <path d=\"M 351.565714 107.498357 \n",
       "L 423.308571 107.498357 \n",
       "\" style=\"fill: none; stroke: #000000; stroke-width: 0.8; stroke-linejoin: miter; stroke-linecap: square\"/>\n",
       "   </g>\n",
       "   <g id=\"patch_26\">\n",
       "    <path d=\"M 351.565714 35.7555 \n",
       "L 423.308571 35.7555 \n",
       "\" style=\"fill: none; stroke: #000000; stroke-width: 0.8; stroke-linejoin: miter; stroke-linecap: square\"/>\n",
       "   </g>\n",
       "   <g id=\"text_5\">\n",
       "    <!-- shirt -->\n",
       "    <g transform=\"translate(374.023393 16.318125) scale(0.12 -0.12)\">\n",
       "     <defs>\n",
       "      <path id=\"DejaVuSans-68\" d=\"M 3513 2113 \n",
       "L 3513 0 \n",
       "L 2938 0 \n",
       "L 2938 2094 \n",
       "Q 2938 2591 2744 2837 \n",
       "Q 2550 3084 2163 3084 \n",
       "Q 1697 3084 1428 2787 \n",
       "Q 1159 2491 1159 1978 \n",
       "L 1159 0 \n",
       "L 581 0 \n",
       "L 581 4863 \n",
       "L 1159 4863 \n",
       "L 1159 2956 \n",
       "Q 1366 3272 1645 3428 \n",
       "Q 1925 3584 2291 3584 \n",
       "Q 2894 3584 3203 3211 \n",
       "Q 3513 2838 3513 2113 \n",
       "z\n",
       "\" transform=\"scale(0.015625)\"/>\n",
       "      <path id=\"DejaVuSans-69\" d=\"M 603 3500 \n",
       "L 1178 3500 \n",
       "L 1178 0 \n",
       "L 603 0 \n",
       "L 603 3500 \n",
       "z\n",
       "M 603 4863 \n",
       "L 1178 4863 \n",
       "L 1178 4134 \n",
       "L 603 4134 \n",
       "L 603 4863 \n",
       "z\n",
       "\" transform=\"scale(0.015625)\"/>\n",
       "     </defs>\n",
       "     <use xlink:href=\"#DejaVuSans-73\"/>\n",
       "     <use xlink:href=\"#DejaVuSans-68\" transform=\"translate(52.099609 0)\"/>\n",
       "     <use xlink:href=\"#DejaVuSans-69\" transform=\"translate(115.478516 0)\"/>\n",
       "     <use xlink:href=\"#DejaVuSans-72\" transform=\"translate(143.261719 0)\"/>\n",
       "     <use xlink:href=\"#DejaVuSans-74\" transform=\"translate(184.375 0)\"/>\n",
       "    </g>\n",
       "    <!-- shirt -->\n",
       "    <g transform=\"translate(374.023393 29.7555) scale(0.12 -0.12)\">\n",
       "     <use xlink:href=\"#DejaVuSans-73\"/>\n",
       "     <use xlink:href=\"#DejaVuSans-68\" transform=\"translate(52.099609 0)\"/>\n",
       "     <use xlink:href=\"#DejaVuSans-69\" transform=\"translate(115.478516 0)\"/>\n",
       "     <use xlink:href=\"#DejaVuSans-72\" transform=\"translate(143.261719 0)\"/>\n",
       "     <use xlink:href=\"#DejaVuSans-74\" transform=\"translate(184.375 0)\"/>\n",
       "    </g>\n",
       "   </g>\n",
       "  </g>\n",
       "  <g id=\"axes_6\">\n",
       "   <g id=\"patch_27\">\n",
       "    <path d=\"M 437.657143 107.498357 \n",
       "L 509.4 107.498357 \n",
       "L 509.4 35.7555 \n",
       "L 437.657143 35.7555 \n",
       "z\n",
       "\" style=\"fill: #ffffff\"/>\n",
       "   </g>\n",
       "   <g clip-path=\"url(#p559084a40e)\">\n",
       "    <image xlink:href=\"data:image/png;base64,\n",
       "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\" id=\"image3c5891b8c1\" transform=\"scale(1 -1) translate(0 -72)\" x=\"437.657143\" y=\"-35.498357\" width=\"72\" height=\"72\"/>\n",
       "   </g>\n",
       "   <g id=\"patch_28\">\n",
       "    <path d=\"M 437.657143 107.498357 \n",
       "L 437.657143 35.7555 \n",
       "\" style=\"fill: none; stroke: #000000; stroke-width: 0.8; stroke-linejoin: miter; stroke-linecap: square\"/>\n",
       "   </g>\n",
       "   <g id=\"patch_29\">\n",
       "    <path d=\"M 509.4 107.498357 \n",
       "L 509.4 35.7555 \n",
       "\" style=\"fill: none; stroke: #000000; stroke-width: 0.8; stroke-linejoin: miter; stroke-linecap: square\"/>\n",
       "   </g>\n",
       "   <g id=\"patch_30\">\n",
       "    <path d=\"M 437.657143 107.498357 \n",
       "L 509.4 107.498357 \n",
       "\" style=\"fill: none; stroke: #000000; stroke-width: 0.8; stroke-linejoin: miter; stroke-linecap: square\"/>\n",
       "   </g>\n",
       "   <g id=\"patch_31\">\n",
       "    <path d=\"M 437.657143 35.7555 \n",
       "L 509.4 35.7555 \n",
       "\" style=\"fill: none; stroke: #000000; stroke-width: 0.8; stroke-linejoin: miter; stroke-linecap: square\"/>\n",
       "   </g>\n",
       "   <g id=\"text_6\">\n",
       "    <!-- trouser -->\n",
       "    <g transform=\"translate(452.087009 16.318125) scale(0.12 -0.12)\">\n",
       "     <use xlink:href=\"#DejaVuSans-74\"/>\n",
       "     <use xlink:href=\"#DejaVuSans-72\" transform=\"translate(39.208984 0)\"/>\n",
       "     <use xlink:href=\"#DejaVuSans-6f\" transform=\"translate(78.072266 0)\"/>\n",
       "     <use xlink:href=\"#DejaVuSans-75\" transform=\"translate(139.253906 0)\"/>\n",
       "     <use xlink:href=\"#DejaVuSans-73\" transform=\"translate(202.632812 0)\"/>\n",
       "     <use xlink:href=\"#DejaVuSans-65\" transform=\"translate(254.732422 0)\"/>\n",
       "     <use xlink:href=\"#DejaVuSans-72\" transform=\"translate(316.255859 0)\"/>\n",
       "    </g>\n",
       "    <!-- trouser -->\n",
       "    <g transform=\"translate(452.087009 29.7555) scale(0.12 -0.12)\">\n",
       "     <use xlink:href=\"#DejaVuSans-74\"/>\n",
       "     <use xlink:href=\"#DejaVuSans-72\" transform=\"translate(39.208984 0)\"/>\n",
       "     <use xlink:href=\"#DejaVuSans-6f\" transform=\"translate(78.072266 0)\"/>\n",
       "     <use xlink:href=\"#DejaVuSans-75\" transform=\"translate(139.253906 0)\"/>\n",
       "     <use xlink:href=\"#DejaVuSans-73\" transform=\"translate(202.632812 0)\"/>\n",
       "     <use xlink:href=\"#DejaVuSans-65\" transform=\"translate(254.732422 0)\"/>\n",
       "     <use xlink:href=\"#DejaVuSans-72\" transform=\"translate(316.255859 0)\"/>\n",
       "    </g>\n",
       "   </g>\n",
       "  </g>\n",
       " </g>\n",
       " <defs>\n",
       "  <clipPath id=\"pd7bdd233b9\">\n",
       "   <rect x=\"7.2\" y=\"35.7555\" width=\"71.742857\" height=\"71.742857\"/>\n",
       "  </clipPath>\n",
       "  <clipPath id=\"pe07baaf3e2\">\n",
       "   <rect x=\"93.291429\" y=\"35.7555\" width=\"71.742857\" height=\"71.742857\"/>\n",
       "  </clipPath>\n",
       "  <clipPath id=\"pd31f70cc2f\">\n",
       "   <rect x=\"179.382857\" y=\"35.7555\" width=\"71.742857\" height=\"71.742857\"/>\n",
       "  </clipPath>\n",
       "  <clipPath id=\"p4d3e022987\">\n",
       "   <rect x=\"265.474286\" y=\"35.7555\" width=\"71.742857\" height=\"71.742857\"/>\n",
       "  </clipPath>\n",
       "  <clipPath id=\"p27dc36d5e0\">\n",
       "   <rect x=\"351.565714\" y=\"35.7555\" width=\"71.742857\" height=\"71.742857\"/>\n",
       "  </clipPath>\n",
       "  <clipPath id=\"p559084a40e\">\n",
       "   <rect x=\"437.657143\" y=\"35.7555\" width=\"71.742857\" height=\"71.742857\"/>\n",
       "  </clipPath>\n",
       " </defs>\n",
       "</svg>\n"
      ],
      "text/plain": [
       "<Figure size 900x150 with 6 Axes>"
      ]
     },
     "metadata": {},
     "output_type": "display_data"
    }
   ],
   "source": [
    "def predict_ch3(net, test_iter, n=6): #@save\n",
    "    \"\"\"预测标签（定义见第3章）\"\"\"\n",
    "    for X, y in test_iter:\n",
    "        break\n",
    "    trues = d2l.get_fashion_mnist_labels(y)\n",
    "    preds = d2l.get_fashion_mnist_labels(net(X).argmax(axis=1))\n",
    "    titles = [true +'\\n' + pred for true, pred in zip(trues, preds)]\n",
    "    d2l.show_images(X[0:n].reshape((n, 28, 28)), 1, n, titles=titles[0:n])\n",
    "predict_ch3(net, test_iter)\n"
   ]
  },
  {
   "cell_type": "markdown",
   "id": "2f0d3045865783c8",
   "metadata": {},
   "source": [
    "softmax的简单实现"
   ]
  },
  {
   "cell_type": "code",
   "execution_count": 18,
   "id": "ab8ee060ba8249a0",
   "metadata": {
    "ExecuteTime": {
     "end_time": "2025-02-04T03:59:00.766016Z",
     "start_time": "2025-02-04T03:59:00.763441Z"
    }
   },
   "outputs": [],
   "source": [
    "import torch\n",
    "from torch import nn\n",
    "from d2l import torch as d2l"
   ]
  },
  {
   "cell_type": "code",
   "execution_count": 19,
   "id": "520e11cc0167d470",
   "metadata": {
    "ExecuteTime": {
     "end_time": "2025-02-04T03:59:10.041358Z",
     "start_time": "2025-02-04T03:59:10.012343Z"
    }
   },
   "outputs": [],
   "source": [
    "batch_size = 256\n",
    "train_iter, test_iter = d2l.load_data_fashion_mnist(batch_size)"
   ]
  },
  {
   "cell_type": "code",
   "execution_count": 20,
   "id": "c6dd56d6638b490b",
   "metadata": {
    "ExecuteTime": {
     "end_time": "2025-02-04T03:59:37.841623Z",
     "start_time": "2025-02-04T03:59:37.838299Z"
    }
   },
   "outputs": [
    {
     "data": {
      "text/plain": [
       "Sequential(\n",
       "  (0): Flatten(start_dim=1, end_dim=-1)\n",
       "  (1): Linear(in_features=784, out_features=10, bias=True)\n",
       ")"
      ]
     },
     "execution_count": 20,
     "metadata": {},
     "output_type": "execute_result"
    }
   ],
   "source": [
    "# PyTorch不会隐式地调整输入的形状。因此，\n",
    "# 我们在线性层前定义了展平层（flatten），来调整网络输入的形状\n",
    "net = nn.Sequential(nn.Flatten(), nn.Linear(784, 10))\n",
    "def init_weights(m):\n",
    "    if type(m) == nn.Linear:\n",
    "        nn.init.normal_(m.weight, std=0.01)\n",
    "net.apply(init_weights)"
   ]
  },
  {
   "cell_type": "code",
   "execution_count": 21,
   "id": "a6de6c757dcfdf61",
   "metadata": {
    "ExecuteTime": {
     "end_time": "2025-02-04T04:00:43.367299Z",
     "start_time": "2025-02-04T04:00:43.364747Z"
    }
   },
   "outputs": [],
   "source": [
    "loss = nn.CrossEntropyLoss(reduction='none')\n",
    "trainer = torch.optim.SGD(net.parameters(), lr=0.1)"
   ]
  },
  {
   "cell_type": "code",
   "execution_count": 22,
   "id": "5c4e34ed60e5e300",
   "metadata": {},
   "outputs": [
    {
     "data": {
      "image/svg+xml": [
       "<?xml version=\"1.0\" encoding=\"utf-8\" standalone=\"no\"?>\n",
       "<!DOCTYPE svg PUBLIC \"-//W3C//DTD SVG 1.1//EN\"\n",
       "  \"http://www.w3.org/Graphics/SVG/1.1/DTD/svg11.dtd\">\n",
       "<svg xmlns:xlink=\"http://www.w3.org/1999/xlink\" width=\"238.965625pt\" height=\"183.35625pt\" viewBox=\"0 0 238.965625 183.35625\" xmlns=\"http://www.w3.org/2000/svg\" version=\"1.1\">\n",
       " <metadata>\n",
       "  <rdf:RDF xmlns:dc=\"http://purl.org/dc/elements/1.1/\" xmlns:cc=\"http://creativecommons.org/ns#\" xmlns:rdf=\"http://www.w3.org/1999/02/22-rdf-syntax-ns#\">\n",
       "   <cc:Work>\n",
       "    <dc:type rdf:resource=\"http://purl.org/dc/dcmitype/StillImage\"/>\n",
       "    <dc:date>2025-02-04T12:09:08.868249</dc:date>\n",
       "    <dc:format>image/svg+xml</dc:format>\n",
       "    <dc:creator>\n",
       "     <cc:Agent>\n",
       "      <dc:title>Matplotlib v3.10.0, https://matplotlib.org/</dc:title>\n",
       "     </cc:Agent>\n",
       "    </dc:creator>\n",
       "   </cc:Work>\n",
       "  </rdf:RDF>\n",
       " </metadata>\n",
       " <defs>\n",
       "  <style type=\"text/css\">*{stroke-linejoin: round; stroke-linecap: butt}</style>\n",
       " </defs>\n",
       " <g id=\"figure_1\">\n",
       "  <g id=\"patch_1\">\n",
       "   <path d=\"M 0 183.35625 \n",
       "L 238.965625 183.35625 \n",
       "L 238.965625 0 \n",
       "L 0 0 \n",
       "z\n",
       "\" style=\"fill: #ffffff\"/>\n",
       "  </g>\n",
       "  <g id=\"axes_1\">\n",
       "   <g id=\"patch_2\">\n",
       "    <path d=\"M 30.103125 145.8 \n",
       "L 225.403125 145.8 \n",
       "L 225.403125 7.2 \n",
       "L 30.103125 7.2 \n",
       "z\n",
       "\" style=\"fill: #ffffff\"/>\n",
       "   </g>\n",
       "   <g id=\"matplotlib.axis_1\">\n",
       "    <g id=\"xtick_1\">\n",
       "     <g id=\"line2d_1\">\n",
       "      <path d=\"M 51.803125 145.8 \n",
       "L 51.803125 7.2 \n",
       "\" clip-path=\"url(#p7869d14566)\" style=\"fill: none; stroke: #b0b0b0; stroke-width: 0.8; stroke-linecap: square\"/>\n",
       "     </g>\n",
       "     <g id=\"line2d_2\">\n",
       "      <defs>\n",
       "       <path id=\"m5e4326cbf0\" d=\"M 0 0 \n",
       "L 0 3.5 \n",
       "\" style=\"stroke: #000000; stroke-width: 0.8\"/>\n",
       "      </defs>\n",
       "      <g>\n",
       "       <use xlink:href=\"#m5e4326cbf0\" x=\"51.803125\" y=\"145.8\" style=\"stroke: #000000; stroke-width: 0.8\"/>\n",
       "      </g>\n",
       "     </g>\n",
       "     <g id=\"text_1\">\n",
       "      <!-- 2 -->\n",
       "      <g transform=\"translate(48.621875 160.398438) scale(0.1 -0.1)\">\n",
       "       <defs>\n",
       "        <path id=\"DejaVuSans-32\" d=\"M 1228 531 \n",
       "L 3431 531 \n",
       "L 3431 0 \n",
       "L 469 0 \n",
       "L 469 531 \n",
       "Q 828 903 1448 1529 \n",
       "Q 2069 2156 2228 2338 \n",
       "Q 2531 2678 2651 2914 \n",
       "Q 2772 3150 2772 3378 \n",
       "Q 2772 3750 2511 3984 \n",
       "Q 2250 4219 1831 4219 \n",
       "Q 1534 4219 1204 4116 \n",
       "Q 875 4013 500 3803 \n",
       "L 500 4441 \n",
       "Q 881 4594 1212 4672 \n",
       "Q 1544 4750 1819 4750 \n",
       "Q 2544 4750 2975 4387 \n",
       "Q 3406 4025 3406 3419 \n",
       "Q 3406 3131 3298 2873 \n",
       "Q 3191 2616 2906 2266 \n",
       "Q 2828 2175 2409 1742 \n",
       "Q 1991 1309 1228 531 \n",
       "z\n",
       "\" transform=\"scale(0.015625)\"/>\n",
       "       </defs>\n",
       "       <use xlink:href=\"#DejaVuSans-32\"/>\n",
       "      </g>\n",
       "     </g>\n",
       "    </g>\n",
       "    <g id=\"xtick_2\">\n",
       "     <g id=\"line2d_3\">\n",
       "      <path d=\"M 95.203125 145.8 \n",
       "L 95.203125 7.2 \n",
       "\" clip-path=\"url(#p7869d14566)\" style=\"fill: none; stroke: #b0b0b0; stroke-width: 0.8; stroke-linecap: square\"/>\n",
       "     </g>\n",
       "     <g id=\"line2d_4\">\n",
       "      <g>\n",
       "       <use xlink:href=\"#m5e4326cbf0\" x=\"95.203125\" y=\"145.8\" style=\"stroke: #000000; stroke-width: 0.8\"/>\n",
       "      </g>\n",
       "     </g>\n",
       "     <g id=\"text_2\">\n",
       "      <!-- 4 -->\n",
       "      <g transform=\"translate(92.021875 160.398438) scale(0.1 -0.1)\">\n",
       "       <defs>\n",
       "        <path id=\"DejaVuSans-34\" d=\"M 2419 4116 \n",
       "L 825 1625 \n",
       "L 2419 1625 \n",
       "L 2419 4116 \n",
       "z\n",
       "M 2253 4666 \n",
       "L 3047 4666 \n",
       "L 3047 1625 \n",
       "L 3713 1625 \n",
       "L 3713 1100 \n",
       "L 3047 1100 \n",
       "L 3047 0 \n",
       "L 2419 0 \n",
       "L 2419 1100 \n",
       "L 313 1100 \n",
       "L 313 1709 \n",
       "L 2253 4666 \n",
       "z\n",
       "\" transform=\"scale(0.015625)\"/>\n",
       "       </defs>\n",
       "       <use xlink:href=\"#DejaVuSans-34\"/>\n",
       "      </g>\n",
       "     </g>\n",
       "    </g>\n",
       "    <g id=\"xtick_3\">\n",
       "     <g id=\"line2d_5\">\n",
       "      <path d=\"M 138.603125 145.8 \n",
       "L 138.603125 7.2 \n",
       "\" clip-path=\"url(#p7869d14566)\" style=\"fill: none; stroke: #b0b0b0; stroke-width: 0.8; stroke-linecap: square\"/>\n",
       "     </g>\n",
       "     <g id=\"line2d_6\">\n",
       "      <g>\n",
       "       <use xlink:href=\"#m5e4326cbf0\" x=\"138.603125\" y=\"145.8\" style=\"stroke: #000000; stroke-width: 0.8\"/>\n",
       "      </g>\n",
       "     </g>\n",
       "     <g id=\"text_3\">\n",
       "      <!-- 6 -->\n",
       "      <g transform=\"translate(135.421875 160.398438) scale(0.1 -0.1)\">\n",
       "       <defs>\n",
       "        <path id=\"DejaVuSans-36\" d=\"M 2113 2584 \n",
       "Q 1688 2584 1439 2293 \n",
       "Q 1191 2003 1191 1497 \n",
       "Q 1191 994 1439 701 \n",
       "Q 1688 409 2113 409 \n",
       "Q 2538 409 2786 701 \n",
       "Q 3034 994 3034 1497 \n",
       "Q 3034 2003 2786 2293 \n",
       "Q 2538 2584 2113 2584 \n",
       "z\n",
       "M 3366 4563 \n",
       "L 3366 3988 \n",
       "Q 3128 4100 2886 4159 \n",
       "Q 2644 4219 2406 4219 \n",
       "Q 1781 4219 1451 3797 \n",
       "Q 1122 3375 1075 2522 \n",
       "Q 1259 2794 1537 2939 \n",
       "Q 1816 3084 2150 3084 \n",
       "Q 2853 3084 3261 2657 \n",
       "Q 3669 2231 3669 1497 \n",
       "Q 3669 778 3244 343 \n",
       "Q 2819 -91 2113 -91 \n",
       "Q 1303 -91 875 529 \n",
       "Q 447 1150 447 2328 \n",
       "Q 447 3434 972 4092 \n",
       "Q 1497 4750 2381 4750 \n",
       "Q 2619 4750 2861 4703 \n",
       "Q 3103 4656 3366 4563 \n",
       "z\n",
       "\" transform=\"scale(0.015625)\"/>\n",
       "       </defs>\n",
       "       <use xlink:href=\"#DejaVuSans-36\"/>\n",
       "      </g>\n",
       "     </g>\n",
       "    </g>\n",
       "    <g id=\"xtick_4\">\n",
       "     <g id=\"line2d_7\">\n",
       "      <path d=\"M 182.003125 145.8 \n",
       "L 182.003125 7.2 \n",
       "\" clip-path=\"url(#p7869d14566)\" style=\"fill: none; stroke: #b0b0b0; stroke-width: 0.8; stroke-linecap: square\"/>\n",
       "     </g>\n",
       "     <g id=\"line2d_8\">\n",
       "      <g>\n",
       "       <use xlink:href=\"#m5e4326cbf0\" x=\"182.003125\" y=\"145.8\" style=\"stroke: #000000; stroke-width: 0.8\"/>\n",
       "      </g>\n",
       "     </g>\n",
       "     <g id=\"text_4\">\n",
       "      <!-- 8 -->\n",
       "      <g transform=\"translate(178.821875 160.398438) scale(0.1 -0.1)\">\n",
       "       <defs>\n",
       "        <path id=\"DejaVuSans-38\" d=\"M 2034 2216 \n",
       "Q 1584 2216 1326 1975 \n",
       "Q 1069 1734 1069 1313 \n",
       "Q 1069 891 1326 650 \n",
       "Q 1584 409 2034 409 \n",
       "Q 2484 409 2743 651 \n",
       "Q 3003 894 3003 1313 \n",
       "Q 3003 1734 2745 1975 \n",
       "Q 2488 2216 2034 2216 \n",
       "z\n",
       "M 1403 2484 \n",
       "Q 997 2584 770 2862 \n",
       "Q 544 3141 544 3541 \n",
       "Q 544 4100 942 4425 \n",
       "Q 1341 4750 2034 4750 \n",
       "Q 2731 4750 3128 4425 \n",
       "Q 3525 4100 3525 3541 \n",
       "Q 3525 3141 3298 2862 \n",
       "Q 3072 2584 2669 2484 \n",
       "Q 3125 2378 3379 2068 \n",
       "Q 3634 1759 3634 1313 \n",
       "Q 3634 634 3220 271 \n",
       "Q 2806 -91 2034 -91 \n",
       "Q 1263 -91 848 271 \n",
       "Q 434 634 434 1313 \n",
       "Q 434 1759 690 2068 \n",
       "Q 947 2378 1403 2484 \n",
       "z\n",
       "M 1172 3481 \n",
       "Q 1172 3119 1398 2916 \n",
       "Q 1625 2713 2034 2713 \n",
       "Q 2441 2713 2670 2916 \n",
       "Q 2900 3119 2900 3481 \n",
       "Q 2900 3844 2670 4047 \n",
       "Q 2441 4250 2034 4250 \n",
       "Q 1625 4250 1398 4047 \n",
       "Q 1172 3844 1172 3481 \n",
       "z\n",
       "\" transform=\"scale(0.015625)\"/>\n",
       "       </defs>\n",
       "       <use xlink:href=\"#DejaVuSans-38\"/>\n",
       "      </g>\n",
       "     </g>\n",
       "    </g>\n",
       "    <g id=\"xtick_5\">\n",
       "     <g id=\"line2d_9\">\n",
       "      <path d=\"M 225.403125 145.8 \n",
       "L 225.403125 7.2 \n",
       "\" clip-path=\"url(#p7869d14566)\" style=\"fill: none; stroke: #b0b0b0; stroke-width: 0.8; stroke-linecap: square\"/>\n",
       "     </g>\n",
       "     <g id=\"line2d_10\">\n",
       "      <g>\n",
       "       <use xlink:href=\"#m5e4326cbf0\" x=\"225.403125\" y=\"145.8\" style=\"stroke: #000000; stroke-width: 0.8\"/>\n",
       "      </g>\n",
       "     </g>\n",
       "     <g id=\"text_5\">\n",
       "      <!-- 10 -->\n",
       "      <g transform=\"translate(219.040625 160.398438) scale(0.1 -0.1)\">\n",
       "       <defs>\n",
       "        <path id=\"DejaVuSans-31\" d=\"M 794 531 \n",
       "L 1825 531 \n",
       "L 1825 4091 \n",
       "L 703 3866 \n",
       "L 703 4441 \n",
       "L 1819 4666 \n",
       "L 2450 4666 \n",
       "L 2450 531 \n",
       "L 3481 531 \n",
       "L 3481 0 \n",
       "L 794 0 \n",
       "L 794 531 \n",
       "z\n",
       "\" transform=\"scale(0.015625)\"/>\n",
       "        <path id=\"DejaVuSans-30\" d=\"M 2034 4250 \n",
       "Q 1547 4250 1301 3770 \n",
       "Q 1056 3291 1056 2328 \n",
       "Q 1056 1369 1301 889 \n",
       "Q 1547 409 2034 409 \n",
       "Q 2525 409 2770 889 \n",
       "Q 3016 1369 3016 2328 \n",
       "Q 3016 3291 2770 3770 \n",
       "Q 2525 4250 2034 4250 \n",
       "z\n",
       "M 2034 4750 \n",
       "Q 2819 4750 3233 4129 \n",
       "Q 3647 3509 3647 2328 \n",
       "Q 3647 1150 3233 529 \n",
       "Q 2819 -91 2034 -91 \n",
       "Q 1250 -91 836 529 \n",
       "Q 422 1150 422 2328 \n",
       "Q 422 3509 836 4129 \n",
       "Q 1250 4750 2034 4750 \n",
       "z\n",
       "\" transform=\"scale(0.015625)\"/>\n",
       "       </defs>\n",
       "       <use xlink:href=\"#DejaVuSans-31\"/>\n",
       "       <use xlink:href=\"#DejaVuSans-30\" transform=\"translate(63.623047 0)\"/>\n",
       "      </g>\n",
       "     </g>\n",
       "    </g>\n",
       "    <g id=\"text_6\">\n",
       "     <!-- epoch -->\n",
       "     <g transform=\"translate(112.525 174.076563) scale(0.1 -0.1)\">\n",
       "      <defs>\n",
       "       <path id=\"DejaVuSans-65\" d=\"M 3597 1894 \n",
       "L 3597 1613 \n",
       "L 953 1613 \n",
       "Q 991 1019 1311 708 \n",
       "Q 1631 397 2203 397 \n",
       "Q 2534 397 2845 478 \n",
       "Q 3156 559 3463 722 \n",
       "L 3463 178 \n",
       "Q 3153 47 2828 -22 \n",
       "Q 2503 -91 2169 -91 \n",
       "Q 1331 -91 842 396 \n",
       "Q 353 884 353 1716 \n",
       "Q 353 2575 817 3079 \n",
       "Q 1281 3584 2069 3584 \n",
       "Q 2775 3584 3186 3129 \n",
       "Q 3597 2675 3597 1894 \n",
       "z\n",
       "M 3022 2063 \n",
       "Q 3016 2534 2758 2815 \n",
       "Q 2500 3097 2075 3097 \n",
       "Q 1594 3097 1305 2825 \n",
       "Q 1016 2553 972 2059 \n",
       "L 3022 2063 \n",
       "z\n",
       "\" transform=\"scale(0.015625)\"/>\n",
       "       <path id=\"DejaVuSans-70\" d=\"M 1159 525 \n",
       "L 1159 -1331 \n",
       "L 581 -1331 \n",
       "L 581 3500 \n",
       "L 1159 3500 \n",
       "L 1159 2969 \n",
       "Q 1341 3281 1617 3432 \n",
       "Q 1894 3584 2278 3584 \n",
       "Q 2916 3584 3314 3078 \n",
       "Q 3713 2572 3713 1747 \n",
       "Q 3713 922 3314 415 \n",
       "Q 2916 -91 2278 -91 \n",
       "Q 1894 -91 1617 61 \n",
       "Q 1341 213 1159 525 \n",
       "z\n",
       "M 3116 1747 \n",
       "Q 3116 2381 2855 2742 \n",
       "Q 2594 3103 2138 3103 \n",
       "Q 1681 3103 1420 2742 \n",
       "Q 1159 2381 1159 1747 \n",
       "Q 1159 1113 1420 752 \n",
       "Q 1681 391 2138 391 \n",
       "Q 2594 391 2855 752 \n",
       "Q 3116 1113 3116 1747 \n",
       "z\n",
       "\" transform=\"scale(0.015625)\"/>\n",
       "       <path id=\"DejaVuSans-6f\" d=\"M 1959 3097 \n",
       "Q 1497 3097 1228 2736 \n",
       "Q 959 2375 959 1747 \n",
       "Q 959 1119 1226 758 \n",
       "Q 1494 397 1959 397 \n",
       "Q 2419 397 2687 759 \n",
       "Q 2956 1122 2956 1747 \n",
       "Q 2956 2369 2687 2733 \n",
       "Q 2419 3097 1959 3097 \n",
       "z\n",
       "M 1959 3584 \n",
       "Q 2709 3584 3137 3096 \n",
       "Q 3566 2609 3566 1747 \n",
       "Q 3566 888 3137 398 \n",
       "Q 2709 -91 1959 -91 \n",
       "Q 1206 -91 779 398 \n",
       "Q 353 888 353 1747 \n",
       "Q 353 2609 779 3096 \n",
       "Q 1206 3584 1959 3584 \n",
       "z\n",
       "\" transform=\"scale(0.015625)\"/>\n",
       "       <path id=\"DejaVuSans-63\" d=\"M 3122 3366 \n",
       "L 3122 2828 \n",
       "Q 2878 2963 2633 3030 \n",
       "Q 2388 3097 2138 3097 \n",
       "Q 1578 3097 1268 2742 \n",
       "Q 959 2388 959 1747 \n",
       "Q 959 1106 1268 751 \n",
       "Q 1578 397 2138 397 \n",
       "Q 2388 397 2633 464 \n",
       "Q 2878 531 3122 666 \n",
       "L 3122 134 \n",
       "Q 2881 22 2623 -34 \n",
       "Q 2366 -91 2075 -91 \n",
       "Q 1284 -91 818 406 \n",
       "Q 353 903 353 1747 \n",
       "Q 353 2603 823 3093 \n",
       "Q 1294 3584 2113 3584 \n",
       "Q 2378 3584 2631 3529 \n",
       "Q 2884 3475 3122 3366 \n",
       "z\n",
       "\" transform=\"scale(0.015625)\"/>\n",
       "       <path id=\"DejaVuSans-68\" d=\"M 3513 2113 \n",
       "L 3513 0 \n",
       "L 2938 0 \n",
       "L 2938 2094 \n",
       "Q 2938 2591 2744 2837 \n",
       "Q 2550 3084 2163 3084 \n",
       "Q 1697 3084 1428 2787 \n",
       "Q 1159 2491 1159 1978 \n",
       "L 1159 0 \n",
       "L 581 0 \n",
       "L 581 4863 \n",
       "L 1159 4863 \n",
       "L 1159 2956 \n",
       "Q 1366 3272 1645 3428 \n",
       "Q 1925 3584 2291 3584 \n",
       "Q 2894 3584 3203 3211 \n",
       "Q 3513 2838 3513 2113 \n",
       "z\n",
       "\" transform=\"scale(0.015625)\"/>\n",
       "      </defs>\n",
       "      <use xlink:href=\"#DejaVuSans-65\"/>\n",
       "      <use xlink:href=\"#DejaVuSans-70\" transform=\"translate(61.523438 0)\"/>\n",
       "      <use xlink:href=\"#DejaVuSans-6f\" transform=\"translate(125 0)\"/>\n",
       "      <use xlink:href=\"#DejaVuSans-63\" transform=\"translate(186.181641 0)\"/>\n",
       "      <use xlink:href=\"#DejaVuSans-68\" transform=\"translate(241.162109 0)\"/>\n",
       "     </g>\n",
       "    </g>\n",
       "   </g>\n",
       "   <g id=\"matplotlib.axis_2\">\n",
       "    <g id=\"ytick_1\">\n",
       "     <g id=\"line2d_11\">\n",
       "      <path d=\"M 30.103125 122.7 \n",
       "L 225.403125 122.7 \n",
       "\" clip-path=\"url(#p7869d14566)\" style=\"fill: none; stroke: #b0b0b0; stroke-width: 0.8; stroke-linecap: square\"/>\n",
       "     </g>\n",
       "     <g id=\"line2d_12\">\n",
       "      <defs>\n",
       "       <path id=\"m0f388bc1ad\" d=\"M 0 0 \n",
       "L -3.5 0 \n",
       "\" style=\"stroke: #000000; stroke-width: 0.8\"/>\n",
       "      </defs>\n",
       "      <g>\n",
       "       <use xlink:href=\"#m0f388bc1ad\" x=\"30.103125\" y=\"122.7\" style=\"stroke: #000000; stroke-width: 0.8\"/>\n",
       "      </g>\n",
       "     </g>\n",
       "     <g id=\"text_7\">\n",
       "      <!-- 0.4 -->\n",
       "      <g transform=\"translate(7.2 126.499219) scale(0.1 -0.1)\">\n",
       "       <defs>\n",
       "        <path id=\"DejaVuSans-2e\" d=\"M 684 794 \n",
       "L 1344 794 \n",
       "L 1344 0 \n",
       "L 684 0 \n",
       "L 684 794 \n",
       "z\n",
       "\" transform=\"scale(0.015625)\"/>\n",
       "       </defs>\n",
       "       <use xlink:href=\"#DejaVuSans-30\"/>\n",
       "       <use xlink:href=\"#DejaVuSans-2e\" transform=\"translate(63.623047 0)\"/>\n",
       "       <use xlink:href=\"#DejaVuSans-34\" transform=\"translate(95.410156 0)\"/>\n",
       "      </g>\n",
       "     </g>\n",
       "    </g>\n",
       "    <g id=\"ytick_2\">\n",
       "     <g id=\"line2d_13\">\n",
       "      <path d=\"M 30.103125 76.5 \n",
       "L 225.403125 76.5 \n",
       "\" clip-path=\"url(#p7869d14566)\" style=\"fill: none; stroke: #b0b0b0; stroke-width: 0.8; stroke-linecap: square\"/>\n",
       "     </g>\n",
       "     <g id=\"line2d_14\">\n",
       "      <g>\n",
       "       <use xlink:href=\"#m0f388bc1ad\" x=\"30.103125\" y=\"76.5\" style=\"stroke: #000000; stroke-width: 0.8\"/>\n",
       "      </g>\n",
       "     </g>\n",
       "     <g id=\"text_8\">\n",
       "      <!-- 0.6 -->\n",
       "      <g transform=\"translate(7.2 80.299219) scale(0.1 -0.1)\">\n",
       "       <use xlink:href=\"#DejaVuSans-30\"/>\n",
       "       <use xlink:href=\"#DejaVuSans-2e\" transform=\"translate(63.623047 0)\"/>\n",
       "       <use xlink:href=\"#DejaVuSans-36\" transform=\"translate(95.410156 0)\"/>\n",
       "      </g>\n",
       "     </g>\n",
       "    </g>\n",
       "    <g id=\"ytick_3\">\n",
       "     <g id=\"line2d_15\">\n",
       "      <path d=\"M 30.103125 30.3 \n",
       "L 225.403125 30.3 \n",
       "\" clip-path=\"url(#p7869d14566)\" style=\"fill: none; stroke: #b0b0b0; stroke-width: 0.8; stroke-linecap: square\"/>\n",
       "     </g>\n",
       "     <g id=\"line2d_16\">\n",
       "      <g>\n",
       "       <use xlink:href=\"#m0f388bc1ad\" x=\"30.103125\" y=\"30.3\" style=\"stroke: #000000; stroke-width: 0.8\"/>\n",
       "      </g>\n",
       "     </g>\n",
       "     <g id=\"text_9\">\n",
       "      <!-- 0.8 -->\n",
       "      <g transform=\"translate(7.2 34.099219) scale(0.1 -0.1)\">\n",
       "       <use xlink:href=\"#DejaVuSans-30\"/>\n",
       "       <use xlink:href=\"#DejaVuSans-2e\" transform=\"translate(63.623047 0)\"/>\n",
       "       <use xlink:href=\"#DejaVuSans-38\" transform=\"translate(95.410156 0)\"/>\n",
       "      </g>\n",
       "     </g>\n",
       "    </g>\n",
       "   </g>\n",
       "   <g id=\"line2d_17\">\n",
       "    <path d=\"M 30.103125 33.373271 \n",
       "L 51.803125 83.100963 \n",
       "L 73.503125 93.650018 \n",
       "L 95.203125 99.307613 \n",
       "L 116.903125 103.201755 \n",
       "L 138.603125 105.353274 \n",
       "L 160.303125 107.906323 \n",
       "L 182.003125 109.390463 \n",
       "L 203.703125 110.783785 \n",
       "L 225.403125 111.828777 \n",
       "\" clip-path=\"url(#p7869d14566)\" style=\"fill: none; stroke: #1f77b4; stroke-width: 1.5; stroke-linecap: square\"/>\n",
       "   </g>\n",
       "   <g id=\"line2d_18\">\n",
       "    <path d=\"M 30.103125 41.27635 \n",
       "L 51.803125 27.1815 \n",
       "L 73.503125 24.30555 \n",
       "L 95.203125 22.9311 \n",
       "L 116.903125 21.69525 \n",
       "L 138.603125 21.25635 \n",
       "L 160.303125 20.14755 \n",
       "L 182.003125 19.83955 \n",
       "L 203.703125 19.25435 \n",
       "L 225.403125 19.2659 \n",
       "\" clip-path=\"url(#p7869d14566)\" style=\"fill: none; stroke-dasharray: 5.55,2.4; stroke-dashoffset: 0; stroke: #bf00bf; stroke-width: 1.5\"/>\n",
       "   </g>\n",
       "   <g id=\"line2d_19\">\n",
       "    <path d=\"M 30.103125 38.1771 \n",
       "L 51.803125 27.8514 \n",
       "L 73.503125 26.0727 \n",
       "L 95.203125 25.2411 \n",
       "L 116.903125 25.1487 \n",
       "L 138.603125 26.1882 \n",
       "L 160.303125 22.7001 \n",
       "L 182.003125 23.5317 \n",
       "L 203.703125 23.1621 \n",
       "L 225.403125 22.4229 \n",
       "\" clip-path=\"url(#p7869d14566)\" style=\"fill: none; stroke-dasharray: 9.6,2.4,1.5,2.4; stroke-dashoffset: 0; stroke: #008000; stroke-width: 1.5\"/>\n",
       "   </g>\n",
       "   <g id=\"patch_3\">\n",
       "    <path d=\"M 30.103125 145.8 \n",
       "L 30.103125 7.2 \n",
       "\" style=\"fill: none; stroke: #000000; stroke-width: 0.8; stroke-linejoin: miter; stroke-linecap: square\"/>\n",
       "   </g>\n",
       "   <g id=\"patch_4\">\n",
       "    <path d=\"M 225.403125 145.8 \n",
       "L 225.403125 7.2 \n",
       "\" style=\"fill: none; stroke: #000000; stroke-width: 0.8; stroke-linejoin: miter; stroke-linecap: square\"/>\n",
       "   </g>\n",
       "   <g id=\"patch_5\">\n",
       "    <path d=\"M 30.103125 145.8 \n",
       "L 225.403125 145.8 \n",
       "\" style=\"fill: none; stroke: #000000; stroke-width: 0.8; stroke-linejoin: miter; stroke-linecap: square\"/>\n",
       "   </g>\n",
       "   <g id=\"patch_6\">\n",
       "    <path d=\"M 30.103125 7.2 \n",
       "L 225.403125 7.2 \n",
       "\" style=\"fill: none; stroke: #000000; stroke-width: 0.8; stroke-linejoin: miter; stroke-linecap: square\"/>\n",
       "   </g>\n",
       "   <g id=\"legend_1\">\n",
       "    <g id=\"patch_7\">\n",
       "     <path d=\"M 140.634375 100.017188 \n",
       "L 218.403125 100.017188 \n",
       "Q 220.403125 100.017188 220.403125 98.017188 \n",
       "L 220.403125 54.982812 \n",
       "Q 220.403125 52.982812 218.403125 52.982812 \n",
       "L 140.634375 52.982812 \n",
       "Q 138.634375 52.982812 138.634375 54.982812 \n",
       "L 138.634375 98.017188 \n",
       "Q 138.634375 100.017188 140.634375 100.017188 \n",
       "z\n",
       "\" style=\"fill: #ffffff; opacity: 0.8; stroke: #cccccc; stroke-linejoin: miter\"/>\n",
       "    </g>\n",
       "    <g id=\"line2d_20\">\n",
       "     <path d=\"M 142.634375 61.08125 \n",
       "L 152.634375 61.08125 \n",
       "L 162.634375 61.08125 \n",
       "\" style=\"fill: none; stroke: #1f77b4; stroke-width: 1.5; stroke-linecap: square\"/>\n",
       "    </g>\n",
       "    <g id=\"text_10\">\n",
       "     <!-- train loss -->\n",
       "     <g transform=\"translate(170.634375 64.58125) scale(0.1 -0.1)\">\n",
       "      <defs>\n",
       "       <path id=\"DejaVuSans-74\" d=\"M 1172 4494 \n",
       "L 1172 3500 \n",
       "L 2356 3500 \n",
       "L 2356 3053 \n",
       "L 1172 3053 \n",
       "L 1172 1153 \n",
       "Q 1172 725 1289 603 \n",
       "Q 1406 481 1766 481 \n",
       "L 2356 481 \n",
       "L 2356 0 \n",
       "L 1766 0 \n",
       "Q 1100 0 847 248 \n",
       "Q 594 497 594 1153 \n",
       "L 594 3053 \n",
       "L 172 3053 \n",
       "L 172 3500 \n",
       "L 594 3500 \n",
       "L 594 4494 \n",
       "L 1172 4494 \n",
       "z\n",
       "\" transform=\"scale(0.015625)\"/>\n",
       "       <path id=\"DejaVuSans-72\" d=\"M 2631 2963 \n",
       "Q 2534 3019 2420 3045 \n",
       "Q 2306 3072 2169 3072 \n",
       "Q 1681 3072 1420 2755 \n",
       "Q 1159 2438 1159 1844 \n",
       "L 1159 0 \n",
       "L 581 0 \n",
       "L 581 3500 \n",
       "L 1159 3500 \n",
       "L 1159 2956 \n",
       "Q 1341 3275 1631 3429 \n",
       "Q 1922 3584 2338 3584 \n",
       "Q 2397 3584 2469 3576 \n",
       "Q 2541 3569 2628 3553 \n",
       "L 2631 2963 \n",
       "z\n",
       "\" transform=\"scale(0.015625)\"/>\n",
       "       <path id=\"DejaVuSans-61\" d=\"M 2194 1759 \n",
       "Q 1497 1759 1228 1600 \n",
       "Q 959 1441 959 1056 \n",
       "Q 959 750 1161 570 \n",
       "Q 1363 391 1709 391 \n",
       "Q 2188 391 2477 730 \n",
       "Q 2766 1069 2766 1631 \n",
       "L 2766 1759 \n",
       "L 2194 1759 \n",
       "z\n",
       "M 3341 1997 \n",
       "L 3341 0 \n",
       "L 2766 0 \n",
       "L 2766 531 \n",
       "Q 2569 213 2275 61 \n",
       "Q 1981 -91 1556 -91 \n",
       "Q 1019 -91 701 211 \n",
       "Q 384 513 384 1019 \n",
       "Q 384 1609 779 1909 \n",
       "Q 1175 2209 1959 2209 \n",
       "L 2766 2209 \n",
       "L 2766 2266 \n",
       "Q 2766 2663 2505 2880 \n",
       "Q 2244 3097 1772 3097 \n",
       "Q 1472 3097 1187 3025 \n",
       "Q 903 2953 641 2809 \n",
       "L 641 3341 \n",
       "Q 956 3463 1253 3523 \n",
       "Q 1550 3584 1831 3584 \n",
       "Q 2591 3584 2966 3190 \n",
       "Q 3341 2797 3341 1997 \n",
       "z\n",
       "\" transform=\"scale(0.015625)\"/>\n",
       "       <path id=\"DejaVuSans-69\" d=\"M 603 3500 \n",
       "L 1178 3500 \n",
       "L 1178 0 \n",
       "L 603 0 \n",
       "L 603 3500 \n",
       "z\n",
       "M 603 4863 \n",
       "L 1178 4863 \n",
       "L 1178 4134 \n",
       "L 603 4134 \n",
       "L 603 4863 \n",
       "z\n",
       "\" transform=\"scale(0.015625)\"/>\n",
       "       <path id=\"DejaVuSans-6e\" d=\"M 3513 2113 \n",
       "L 3513 0 \n",
       "L 2938 0 \n",
       "L 2938 2094 \n",
       "Q 2938 2591 2744 2837 \n",
       "Q 2550 3084 2163 3084 \n",
       "Q 1697 3084 1428 2787 \n",
       "Q 1159 2491 1159 1978 \n",
       "L 1159 0 \n",
       "L 581 0 \n",
       "L 581 3500 \n",
       "L 1159 3500 \n",
       "L 1159 2956 \n",
       "Q 1366 3272 1645 3428 \n",
       "Q 1925 3584 2291 3584 \n",
       "Q 2894 3584 3203 3211 \n",
       "Q 3513 2838 3513 2113 \n",
       "z\n",
       "\" transform=\"scale(0.015625)\"/>\n",
       "       <path id=\"DejaVuSans-20\" transform=\"scale(0.015625)\"/>\n",
       "       <path id=\"DejaVuSans-6c\" d=\"M 603 4863 \n",
       "L 1178 4863 \n",
       "L 1178 0 \n",
       "L 603 0 \n",
       "L 603 4863 \n",
       "z\n",
       "\" transform=\"scale(0.015625)\"/>\n",
       "       <path id=\"DejaVuSans-73\" d=\"M 2834 3397 \n",
       "L 2834 2853 \n",
       "Q 2591 2978 2328 3040 \n",
       "Q 2066 3103 1784 3103 \n",
       "Q 1356 3103 1142 2972 \n",
       "Q 928 2841 928 2578 \n",
       "Q 928 2378 1081 2264 \n",
       "Q 1234 2150 1697 2047 \n",
       "L 1894 2003 \n",
       "Q 2506 1872 2764 1633 \n",
       "Q 3022 1394 3022 966 \n",
       "Q 3022 478 2636 193 \n",
       "Q 2250 -91 1575 -91 \n",
       "Q 1294 -91 989 -36 \n",
       "Q 684 19 347 128 \n",
       "L 347 722 \n",
       "Q 666 556 975 473 \n",
       "Q 1284 391 1588 391 \n",
       "Q 1994 391 2212 530 \n",
       "Q 2431 669 2431 922 \n",
       "Q 2431 1156 2273 1281 \n",
       "Q 2116 1406 1581 1522 \n",
       "L 1381 1569 \n",
       "Q 847 1681 609 1914 \n",
       "Q 372 2147 372 2553 \n",
       "Q 372 3047 722 3315 \n",
       "Q 1072 3584 1716 3584 \n",
       "Q 2034 3584 2315 3537 \n",
       "Q 2597 3491 2834 3397 \n",
       "z\n",
       "\" transform=\"scale(0.015625)\"/>\n",
       "      </defs>\n",
       "      <use xlink:href=\"#DejaVuSans-74\"/>\n",
       "      <use xlink:href=\"#DejaVuSans-72\" transform=\"translate(39.208984 0)\"/>\n",
       "      <use xlink:href=\"#DejaVuSans-61\" transform=\"translate(80.322266 0)\"/>\n",
       "      <use xlink:href=\"#DejaVuSans-69\" transform=\"translate(141.601562 0)\"/>\n",
       "      <use xlink:href=\"#DejaVuSans-6e\" transform=\"translate(169.384766 0)\"/>\n",
       "      <use xlink:href=\"#DejaVuSans-20\" transform=\"translate(232.763672 0)\"/>\n",
       "      <use xlink:href=\"#DejaVuSans-6c\" transform=\"translate(264.550781 0)\"/>\n",
       "      <use xlink:href=\"#DejaVuSans-6f\" transform=\"translate(292.333984 0)\"/>\n",
       "      <use xlink:href=\"#DejaVuSans-73\" transform=\"translate(353.515625 0)\"/>\n",
       "      <use xlink:href=\"#DejaVuSans-73\" transform=\"translate(405.615234 0)\"/>\n",
       "     </g>\n",
       "    </g>\n",
       "    <g id=\"line2d_21\">\n",
       "     <path d=\"M 142.634375 75.759375 \n",
       "L 152.634375 75.759375 \n",
       "L 162.634375 75.759375 \n",
       "\" style=\"fill: none; stroke-dasharray: 5.55,2.4; stroke-dashoffset: 0; stroke: #bf00bf; stroke-width: 1.5\"/>\n",
       "    </g>\n",
       "    <g id=\"text_11\">\n",
       "     <!-- train acc -->\n",
       "     <g transform=\"translate(170.634375 79.259375) scale(0.1 -0.1)\">\n",
       "      <use xlink:href=\"#DejaVuSans-74\"/>\n",
       "      <use xlink:href=\"#DejaVuSans-72\" transform=\"translate(39.208984 0)\"/>\n",
       "      <use xlink:href=\"#DejaVuSans-61\" transform=\"translate(80.322266 0)\"/>\n",
       "      <use xlink:href=\"#DejaVuSans-69\" transform=\"translate(141.601562 0)\"/>\n",
       "      <use xlink:href=\"#DejaVuSans-6e\" transform=\"translate(169.384766 0)\"/>\n",
       "      <use xlink:href=\"#DejaVuSans-20\" transform=\"translate(232.763672 0)\"/>\n",
       "      <use xlink:href=\"#DejaVuSans-61\" transform=\"translate(264.550781 0)\"/>\n",
       "      <use xlink:href=\"#DejaVuSans-63\" transform=\"translate(325.830078 0)\"/>\n",
       "      <use xlink:href=\"#DejaVuSans-63\" transform=\"translate(380.810547 0)\"/>\n",
       "     </g>\n",
       "    </g>\n",
       "    <g id=\"line2d_22\">\n",
       "     <path d=\"M 142.634375 90.4375 \n",
       "L 152.634375 90.4375 \n",
       "L 162.634375 90.4375 \n",
       "\" style=\"fill: none; stroke-dasharray: 9.6,2.4,1.5,2.4; stroke-dashoffset: 0; stroke: #008000; stroke-width: 1.5\"/>\n",
       "    </g>\n",
       "    <g id=\"text_12\">\n",
       "     <!-- test acc -->\n",
       "     <g transform=\"translate(170.634375 93.9375) scale(0.1 -0.1)\">\n",
       "      <use xlink:href=\"#DejaVuSans-74\"/>\n",
       "      <use xlink:href=\"#DejaVuSans-65\" transform=\"translate(39.208984 0)\"/>\n",
       "      <use xlink:href=\"#DejaVuSans-73\" transform=\"translate(100.732422 0)\"/>\n",
       "      <use xlink:href=\"#DejaVuSans-74\" transform=\"translate(152.832031 0)\"/>\n",
       "      <use xlink:href=\"#DejaVuSans-20\" transform=\"translate(192.041016 0)\"/>\n",
       "      <use xlink:href=\"#DejaVuSans-61\" transform=\"translate(223.828125 0)\"/>\n",
       "      <use xlink:href=\"#DejaVuSans-63\" transform=\"translate(285.107422 0)\"/>\n",
       "      <use xlink:href=\"#DejaVuSans-63\" transform=\"translate(340.087891 0)\"/>\n",
       "     </g>\n",
       "    </g>\n",
       "   </g>\n",
       "  </g>\n",
       " </g>\n",
       " <defs>\n",
       "  <clipPath id=\"p7869d14566\">\n",
       "   <rect x=\"30.103125\" y=\"7.2\" width=\"195.3\" height=\"138.6\"/>\n",
       "  </clipPath>\n",
       " </defs>\n",
       "</svg>\n"
      ],
      "text/plain": [
       "<Figure size 350x250 with 1 Axes>"
      ]
     },
     "metadata": {},
     "output_type": "display_data"
    }
   ],
   "source": [
    "num_epochs = 10\n",
    "train_ch3(net, train_iter, test_iter, loss, num_epochs, trainer)"
   ]
  },
  {
   "cell_type": "code",
   "execution_count": null,
   "id": "66922b18-b93b-45ce-8018-5f316e9e0223",
   "metadata": {},
   "outputs": [],
   "source": []
  }
 ],
 "metadata": {
  "kernelspec": {
   "display_name": "Python 3 (ipykernel)",
   "language": "python",
   "name": "python3"
  },
  "language_info": {
   "codemirror_mode": {
    "name": "ipython",
    "version": 3
   },
   "file_extension": ".py",
   "mimetype": "text/x-python",
   "name": "python",
   "nbconvert_exporter": "python",
   "pygments_lexer": "ipython3",
   "version": "3.12.3"
  }
 },
 "nbformat": 4,
 "nbformat_minor": 5
}
