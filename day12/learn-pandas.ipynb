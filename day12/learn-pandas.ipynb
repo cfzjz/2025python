{
 "cells": [
  {
   "cell_type": "code",
   "id": "initial_id",
   "metadata": {
    "collapsed": true,
    "ExecuteTime": {
     "end_time": "2025-01-09T00:54:21.928173Z",
     "start_time": "2025-01-09T00:54:21.376791Z"
    }
   },
   "source": [
    "import pandas as pd\n",
    "import numpy as np"
   ],
   "outputs": [],
   "execution_count": 2
  },
  {
   "metadata": {
    "ExecuteTime": {
     "end_time": "2025-01-08T01:51:07.163683Z",
     "start_time": "2025-01-08T01:51:07.160633Z"
    }
   },
   "cell_type": "code",
   "source": [
    "ser_obj = pd.Series(range(10, 20))\n",
    "print(ser_obj)"
   ],
   "id": "1b26c4aadd37c72c",
   "outputs": [
    {
     "name": "stdout",
     "output_type": "stream",
     "text": [
      "0    10\n",
      "1    11\n",
      "2    12\n",
      "3    13\n",
      "4    14\n",
      "5    15\n",
      "6    16\n",
      "7    17\n",
      "8    18\n",
      "9    19\n",
      "dtype: int64\n"
     ]
    }
   ],
   "execution_count": 2
  },
  {
   "metadata": {
    "ExecuteTime": {
     "end_time": "2025-01-08T02:39:03.695104Z",
     "start_time": "2025-01-08T02:39:03.689849Z"
    }
   },
   "cell_type": "code",
   "source": [
    "# 获取数据\n",
    "print(ser_obj.values)  #values实际是ndarray\n",
    "print(type(ser_obj.values))  #类型是ndarray\n",
    "# 获取索引\n",
    "print(ser_obj.index)  #内部自带的类型--RangeIndex\n",
    "ser_obj.dtype"
   ],
   "id": "7057a765d33514bc",
   "outputs": [
    {
     "name": "stdout",
     "output_type": "stream",
     "text": [
      "[10 11 12 13 14 15 16 17 18 19]\n",
      "<class 'numpy.ndarray'>\n",
      "RangeIndex(start=0, stop=10, step=1)\n"
     ]
    },
    {
     "data": {
      "text/plain": [
       "dtype('int64')"
      ]
     },
     "execution_count": 3,
     "metadata": {},
     "output_type": "execute_result"
    }
   ],
   "execution_count": 3
  },
  {
   "metadata": {
    "ExecuteTime": {
     "end_time": "2025-01-08T02:40:00.220112Z",
     "start_time": "2025-01-08T02:40:00.216551Z"
    }
   },
   "cell_type": "code",
   "source": [
    "print(ser_obj[0])\n",
    "ser_obj[9]  #\n",
    "# 访问不存在的索引下标会报keyerror"
   ],
   "id": "88c3813cb33e103e",
   "outputs": [
    {
     "name": "stdout",
     "output_type": "stream",
     "text": [
      "10\n"
     ]
    },
    {
     "data": {
      "text/plain": [
       "np.int64(19)"
      ]
     },
     "execution_count": 4,
     "metadata": {},
     "output_type": "execute_result"
    }
   ],
   "execution_count": 4
  },
  {
   "metadata": {
    "ExecuteTime": {
     "end_time": "2025-01-08T02:47:59.534037Z",
     "start_time": "2025-01-08T02:47:59.529341Z"
    }
   },
   "cell_type": "code",
   "source": [
    "print(ser_obj * 2)\n",
    "print(ser_obj > 15)\n"
   ],
   "id": "2d57fce7397dd83a",
   "outputs": [
    {
     "name": "stdout",
     "output_type": "stream",
     "text": [
      "0    20\n",
      "1    22\n",
      "2    24\n",
      "3    26\n",
      "4    28\n",
      "5    30\n",
      "6    32\n",
      "7    34\n",
      "8    36\n",
      "9    38\n",
      "dtype: int64\n",
      "0    False\n",
      "1    False\n",
      "2    False\n",
      "3    False\n",
      "4    False\n",
      "5    False\n",
      "6     True\n",
      "7     True\n",
      "8     True\n",
      "9     True\n",
      "dtype: bool\n"
     ]
    }
   ],
   "execution_count": 5
  },
  {
   "metadata": {
    "ExecuteTime": {
     "end_time": "2025-01-08T02:49:44.330660Z",
     "start_time": "2025-01-08T02:49:44.327133Z"
    }
   },
   "cell_type": "code",
   "source": [
    "# 通过dict构建Series\n",
    "year_data = {2001: 17.8, 2002: 20.1, 2003: 16.5}\n",
    "ser_obj2 = pd.Series(year_data)\n",
    "print(ser_obj2)\n",
    "print(ser_obj2.index)\n",
    "print(ser_obj2[2001])"
   ],
   "id": "571808b976659cbd",
   "outputs": [
    {
     "name": "stdout",
     "output_type": "stream",
     "text": [
      "2001    17.8\n",
      "2002    20.1\n",
      "2003    16.5\n",
      "dtype: float64\n",
      "Index([2001, 2002, 2003], dtype='int64')\n",
      "17.8\n"
     ]
    }
   ],
   "execution_count": 8
  },
  {
   "metadata": {
    "ExecuteTime": {
     "end_time": "2025-01-08T08:30:55.208476Z",
     "start_time": "2025-01-08T08:30:55.205430Z"
    }
   },
   "cell_type": "code",
   "source": [
    "#有点鸡肋\n",
    "print(ser_obj2.name)  #Series名字\n",
    "print(ser_obj2.index.name)  #索引名字\n",
    "ser_obj2.name = 'temp'\n",
    "ser_obj2.index.name = 'year1'\n",
    "print('-' * 50)\n",
    "print(ser_obj2.head())  #head默认显示前5行"
   ],
   "id": "2a16a1eb8a935368",
   "outputs": [
    {
     "name": "stdout",
     "output_type": "stream",
     "text": [
      "None\n",
      "None\n",
      "--------------------------------------------------\n",
      "year1\n",
      "2001    17.8\n",
      "2002    20.1\n",
      "2003    16.5\n",
      "Name: temp, dtype: float64\n"
     ]
    }
   ],
   "execution_count": 9
  },
  {
   "metadata": {
    "ExecuteTime": {
     "end_time": "2025-01-08T08:37:30.626368Z",
     "start_time": "2025-01-08T08:37:30.621295Z"
    }
   },
   "cell_type": "code",
   "source": [
    "t = pd.DataFrame(np.arange(12).reshape((3, 4)))  #默认索引是0-2\n",
    "print(t)\n",
    "print('-' * 50)"
   ],
   "id": "f9c9fe13f77ed4f7",
   "outputs": [
    {
     "name": "stdout",
     "output_type": "stream",
     "text": [
      "   0  1   2   3\n",
      "0  0  1   2   3\n",
      "1  4  5   6   7\n",
      "2  8  9  10  11\n",
      "--------------------------------------------------\n"
     ]
    }
   ],
   "execution_count": 10
  },
  {
   "metadata": {
    "ExecuteTime": {
     "end_time": "2025-01-08T08:39:16.439656Z",
     "start_time": "2025-01-08T08:39:16.431907Z"
    }
   },
   "cell_type": "code",
   "source": [
    "array = np.random.randn(5, 4)\n",
    "print(array)\n",
    "print('-' * 50)\n",
    "df_obj = pd.DataFrame(array)\n",
    "print(df_obj.head())  #默认显示前5行"
   ],
   "id": "5b5c48e023d9690f",
   "outputs": [
    {
     "name": "stdout",
     "output_type": "stream",
     "text": [
      "[[-2.61133544 -1.27053097  0.07285142  0.86986323]\n",
      " [ 0.25828913 -0.66479145 -0.75816169 -1.84749768]\n",
      " [-0.56971805  0.64898084 -0.09415107 -0.43642876]\n",
      " [-0.9147446  -1.50350764  0.01954264 -0.08395839]\n",
      " [-0.00932987 -0.68760368  0.79901649 -0.01637435]]\n",
      "--------------------------------------------------\n",
      "          0         1         2         3\n",
      "0 -2.611335 -1.270531  0.072851  0.869863\n",
      "1  0.258289 -0.664791 -0.758162 -1.847498\n",
      "2 -0.569718  0.648981 -0.094151 -0.436429\n",
      "3 -0.914745 -1.503508  0.019543 -0.083958\n",
      "4 -0.009330 -0.687604  0.799016 -0.016374\n"
     ]
    }
   ],
   "execution_count": 11
  },
  {
   "metadata": {
    "ExecuteTime": {
     "end_time": "2025-01-08T08:39:51.587105Z",
     "start_time": "2025-01-08T08:39:51.584051Z"
    }
   },
   "cell_type": "code",
   "source": "t.loc[0]  #单独把某一行取出来,类型是series",
   "id": "5bea8bb032874784",
   "outputs": [
    {
     "data": {
      "text/plain": [
       "0    0\n",
       "1    1\n",
       "2    2\n",
       "3    3\n",
       "Name: 0, dtype: int64"
      ]
     },
     "execution_count": 12,
     "metadata": {},
     "output_type": "execute_result"
    }
   ],
   "execution_count": 12
  },
  {
   "metadata": {
    "ExecuteTime": {
     "end_time": "2025-01-08T09:15:19.001135Z",
     "start_time": "2025-01-08T09:15:18.996562Z"
    }
   },
   "cell_type": "code",
   "source": [
    "d2 = [{\"name\": \"xiaohong\", \"age\": 32, \"tel\": 10010},\n",
    "      {\"name\": \"xiaogang\", \"tel\": 10000},\n",
    "      {\"name\": \"xiaowang\", \"age\": 22}]\n",
    "df6 = pd.DataFrame(d2)\n",
    "print(df6)  #缺失值会用NaN填充\n",
    "print(type(df6.values))  #ndarray"
   ],
   "id": "99faa7448c8abfc4",
   "outputs": [
    {
     "name": "stdout",
     "output_type": "stream",
     "text": [
      "       name   age      tel\n",
      "0  xiaohong  32.0  10010.0\n",
      "1  xiaogang   NaN  10000.0\n",
      "2  xiaowang  22.0      NaN\n",
      "<class 'numpy.ndarray'>\n"
     ]
    }
   ],
   "execution_count": 13
  },
  {
   "metadata": {
    "ExecuteTime": {
     "end_time": "2025-01-08T09:17:11.488910Z",
     "start_time": "2025-01-08T09:17:11.484831Z"
    }
   },
   "cell_type": "code",
   "source": "pd.Series(1, index=list(range(3, 7)), dtype='float32')",
   "id": "965d45cf21036351",
   "outputs": [
    {
     "data": {
      "text/plain": [
       "3    1.0\n",
       "4    1.0\n",
       "5    1.0\n",
       "6    1.0\n",
       "dtype: float32"
      ]
     },
     "execution_count": 14,
     "metadata": {},
     "output_type": "execute_result"
    }
   ],
   "execution_count": 14
  },
  {
   "metadata": {
    "ExecuteTime": {
     "end_time": "2025-01-08T09:17:42.970942Z",
     "start_time": "2025-01-08T09:17:42.965354Z"
    }
   },
   "cell_type": "code",
   "source": [
    "#df中不同列可以是不同的数据类型,同一列必须是一个数据类型\n",
    "import pandas as pd\n",
    "import numpy as np\n",
    "\n",
    "dict_data = {'A': 1,\n",
    "             'B': pd.Timestamp('20190926'),\n",
    "             'C': pd.Series(1, index=list(range(4)), dtype='float32'),\n",
    "             'D': np.array([1, 2, 3, 4], dtype='int32'),\n",
    "             'E': [\"Python\", \"Java\", \"C++\", \"C\"],\n",
    "             'F': 'wangdao'}\n",
    "df_obj2 = pd.DataFrame(dict_data)\n",
    "print(df_obj2)"
   ],
   "id": "9946590bdb1f0e00",
   "outputs": [
    {
     "name": "stdout",
     "output_type": "stream",
     "text": [
      "   A          B    C  D       E        F\n",
      "0  1 2019-09-26  1.0  1  Python  wangdao\n",
      "1  1 2019-09-26  1.0  2    Java  wangdao\n",
      "2  1 2019-09-26  1.0  3     C++  wangdao\n",
      "3  1 2019-09-26  1.0  4       C  wangdao\n"
     ]
    }
   ],
   "execution_count": 15
  },
  {
   "metadata": {
    "ExecuteTime": {
     "end_time": "2025-01-08T10:16:01.696939Z",
     "start_time": "2025-01-08T10:16:01.692612Z"
    }
   },
   "cell_type": "code",
   "source": [
    "print(df_obj2.index)  #行索引,重点\n",
    "#不可改变\n",
    "# df_obj2.index[0]=2  不可以单独修改某个索引值\n",
    "print(df_obj2.columns)  #列索引，重点\n",
    "df_obj2.dtypes  #每一列的数据类型，重点"
   ],
   "id": "bbe6b016cff1077f",
   "outputs": [
    {
     "name": "stdout",
     "output_type": "stream",
     "text": [
      "Index([0, 1, 2, 3], dtype='int64')\n",
      "Index(['A', 'B', 'C', 'D', 'E', 'F'], dtype='object')\n"
     ]
    },
    {
     "data": {
      "text/plain": [
       "A            int64\n",
       "B    datetime64[s]\n",
       "C          float32\n",
       "D            int32\n",
       "E           object\n",
       "F           object\n",
       "dtype: object"
      ]
     },
     "execution_count": 16,
     "metadata": {},
     "output_type": "execute_result"
    }
   ],
   "execution_count": 16
  },
  {
   "metadata": {
    "ExecuteTime": {
     "end_time": "2025-01-08T13:51:27.383025Z",
     "start_time": "2025-01-08T13:51:27.378436Z"
    }
   },
   "cell_type": "code",
   "source": [
    "# 感受日期,初始化df，设置行索引，列索引\n",
    "dates = pd.date_range('20130101', periods=6)  #默认freq='D'，即天\n",
    "df = pd.DataFrame(np.random.randn(6, 4), index=dates, columns=list('ABCD'))\n",
    "print(df)\n",
    "print('-' * 50)\n",
    "print(df.index)"
   ],
   "id": "33d1225ea446f7a1",
   "outputs": [
    {
     "name": "stdout",
     "output_type": "stream",
     "text": [
      "                   A         B         C         D\n",
      "2013-01-01  0.229101 -0.092735 -0.464707  0.619139\n",
      "2013-01-02 -0.248893  0.396537 -0.436350 -0.737482\n",
      "2013-01-03 -1.304176 -0.399415 -0.716253 -0.902696\n",
      "2013-01-04  0.975542  0.511531  0.620195  0.910228\n",
      "2013-01-05  0.376300 -2.910673  0.235085 -1.650460\n",
      "2013-01-06 -0.120734  0.990697 -0.874154 -0.423352\n",
      "--------------------------------------------------\n",
      "DatetimeIndex(['2013-01-01', '2013-01-02', '2013-01-03', '2013-01-04',\n",
      "               '2013-01-05', '2013-01-06'],\n",
      "              dtype='datetime64[ns]', freq='D')\n"
     ]
    }
   ],
   "execution_count": 17
  },
  {
   "metadata": {
    "ExecuteTime": {
     "end_time": "2025-01-08T13:54:24.705120Z",
     "start_time": "2025-01-08T13:54:24.700413Z"
    }
   },
   "cell_type": "code",
   "source": [
    "#取数据\n",
    "print(df_obj2)\n",
    "print('-' * 50)\n",
    "print(type(df_obj2))\n",
    "print('-' * 50)\n",
    "#pd中使用索引名来取某一行，或者列\n",
    "print(df_obj2['B'])\n",
    "print('-' * 50)\n",
    "#把df的某一列取出来是series\n",
    "print(type(df_obj2['B']))"
   ],
   "id": "6813650f1eb031f3",
   "outputs": [
    {
     "name": "stdout",
     "output_type": "stream",
     "text": [
      "   A          B    C  D       E        F\n",
      "0  1 2019-09-26  1.0  1  Python  wangdao\n",
      "1  1 2019-09-26  1.0  2    Java  wangdao\n",
      "2  1 2019-09-26  1.0  3     C++  wangdao\n",
      "3  1 2019-09-26  1.0  4       C  wangdao\n",
      "--------------------------------------------------\n",
      "<class 'pandas.core.frame.DataFrame'>\n",
      "--------------------------------------------------\n",
      "0   2019-09-26\n",
      "1   2019-09-26\n",
      "2   2019-09-26\n",
      "3   2019-09-26\n",
      "Name: B, dtype: datetime64[s]\n",
      "--------------------------------------------------\n",
      "<class 'pandas.core.series.Series'>\n"
     ]
    }
   ],
   "execution_count": 18
  },
  {
   "metadata": {
    "ExecuteTime": {
     "end_time": "2025-01-08T13:56:42.111409Z",
     "start_time": "2025-01-08T13:56:42.107034Z"
    }
   },
   "cell_type": "code",
   "source": [
    "#增加列数据，列名是自定义的\n",
    "df_obj2['G'] = df_obj2['D'] + 4\n",
    "print(df_obj2.head())"
   ],
   "id": "a78279d89faafbdf",
   "outputs": [
    {
     "name": "stdout",
     "output_type": "stream",
     "text": [
      "   A          B    C  D       E        F  G\n",
      "0  1 2019-09-26  1.0  1  Python  wangdao  5\n",
      "1  1 2019-09-26  1.0  2    Java  wangdao  6\n",
      "2  1 2019-09-26  1.0  3     C++  wangdao  7\n",
      "3  1 2019-09-26  1.0  4       C  wangdao  8\n"
     ]
    }
   ],
   "execution_count": 19
  },
  {
   "metadata": {
    "ExecuteTime": {
     "end_time": "2025-01-08T13:57:21.698881Z",
     "start_time": "2025-01-08T13:57:21.695310Z"
    }
   },
   "cell_type": "code",
   "source": [
    "del (df_obj2['G'])\n",
    "print(df_obj2)"
   ],
   "id": "8db133f6c12cd2e4",
   "outputs": [
    {
     "name": "stdout",
     "output_type": "stream",
     "text": [
      "   A          B    C  D       E        F\n",
      "0  1 2019-09-26  1.0  1  Python  wangdao\n",
      "1  1 2019-09-26  1.0  2    Java  wangdao\n",
      "2  1 2019-09-26  1.0  3     C++  wangdao\n",
      "3  1 2019-09-26  1.0  4       C  wangdao\n"
     ]
    }
   ],
   "execution_count": 20
  },
  {
   "metadata": {
    "ExecuteTime": {
     "end_time": "2025-01-08T14:00:03.154561Z",
     "start_time": "2025-01-08T14:00:03.150926Z"
    }
   },
   "cell_type": "code",
   "source": [
    "dict_data = {'A': 1,\n",
    "             'B': pd.Timestamp('20190926'),\n",
    "             'C': pd.Series(1, index=list(range(4)), dtype='float32'),\n",
    "             'D': np.array([1, 2, 3, 4], dtype='int32'),\n",
    "             'E': [\"Python\", \"Java\", \"C++\", \"C\"],\n",
    "             'F': 'wangdao'}\n",
    "df_obj2 = pd.DataFrame(dict_data)\n",
    "print(df_obj2.index)"
   ],
   "id": "5520339cce770a02",
   "outputs": [
    {
     "name": "stdout",
     "output_type": "stream",
     "text": [
      "Index([0, 1, 2, 3], dtype='int64')\n"
     ]
    }
   ],
   "execution_count": 21
  },
  {
   "metadata": {},
   "cell_type": "markdown",
   "source": "# 3 常见的Index种类\n",
   "id": "cf1b75f73abab27a"
  },
  {
   "metadata": {
    "ExecuteTime": {
     "end_time": "2025-01-09T00:57:02.876527Z",
     "start_time": "2025-01-09T00:57:02.871402Z"
    }
   },
   "cell_type": "code",
   "source": [
    "ser_obj = pd.Series(range(5), index=list(\"abcde\"))\n",
    "print(ser_obj)\n",
    "ser_obj.index"
   ],
   "id": "2e72390cfd6066cf",
   "outputs": [
    {
     "name": "stdout",
     "output_type": "stream",
     "text": [
      "a    0\n",
      "b    1\n",
      "c    2\n",
      "d    3\n",
      "e    4\n",
      "dtype: int64\n"
     ]
    },
    {
     "data": {
      "text/plain": [
       "Index(['a', 'b', 'c', 'd', 'e'], dtype='object')"
      ]
     },
     "execution_count": 6,
     "metadata": {},
     "output_type": "execute_result"
    }
   ],
   "execution_count": 6
  },
  {
   "metadata": {
    "ExecuteTime": {
     "end_time": "2025-01-08T14:09:42.059488Z",
     "start_time": "2025-01-08T14:09:42.056842Z"
    }
   },
   "cell_type": "code",
   "source": [
    "# 行索引，不仅可以用索引名，可以用索引位置或来取\n",
    "print(ser_obj['b'])  #索引名\n",
    "print(ser_obj.iloc[2])  #位置索引"
   ],
   "id": "67c9661a507d2b17",
   "outputs": [
    {
     "name": "stdout",
     "output_type": "stream",
     "text": [
      "1\n",
      "2\n"
     ]
    }
   ],
   "execution_count": 24
  },
  {
   "metadata": {
    "ExecuteTime": {
     "end_time": "2025-01-08T14:10:31.588009Z",
     "start_time": "2025-01-08T14:10:31.584692Z"
    }
   },
   "cell_type": "code",
   "source": [
    "# 切片索引\n",
    "print(ser_obj.iloc[1:3])  #索引位置取数据，左闭右开\n",
    "print(ser_obj.loc['b':'d'])  #记住索引名  左闭右闭"
   ],
   "id": "a20f1c816aea89be",
   "outputs": [
    {
     "name": "stdout",
     "output_type": "stream",
     "text": [
      "b    1\n",
      "c    2\n",
      "dtype: int64\n",
      "b    1\n",
      "c    2\n",
      "d    3\n",
      "dtype: int64\n"
     ]
    }
   ],
   "execution_count": 25
  },
  {
   "metadata": {
    "ExecuteTime": {
     "end_time": "2025-01-08T14:10:47.574475Z",
     "start_time": "2025-01-08T14:10:47.571127Z"
    }
   },
   "cell_type": "code",
   "source": [
    "# 不连续索引\n",
    "print(ser_obj.iloc[[0, 2, 4]])\n",
    "print(ser_obj.loc[['a', 'e']])"
   ],
   "id": "3a5a184d65d2617b",
   "outputs": [
    {
     "name": "stdout",
     "output_type": "stream",
     "text": [
      "a    0\n",
      "c    2\n",
      "e    4\n",
      "dtype: int64\n",
      "a    0\n",
      "e    4\n",
      "dtype: int64\n"
     ]
    }
   ],
   "execution_count": 26
  },
  {
   "metadata": {
    "ExecuteTime": {
     "end_time": "2025-01-08T14:11:06.853339Z",
     "start_time": "2025-01-08T14:11:06.850448Z"
    }
   },
   "cell_type": "code",
   "source": [
    "# 布尔索引\n",
    "ser_bool = ser_obj > 2\n",
    "print(ser_obj)\n",
    "print(ser_bool)"
   ],
   "id": "dbb302b8a0642747",
   "outputs": [
    {
     "name": "stdout",
     "output_type": "stream",
     "text": [
      "a    0\n",
      "b    1\n",
      "c    2\n",
      "d    3\n",
      "e    4\n",
      "dtype: int64\n",
      "a    False\n",
      "b    False\n",
      "c    False\n",
      "d     True\n",
      "e     True\n",
      "dtype: bool\n"
     ]
    }
   ],
   "execution_count": 27
  },
  {
   "metadata": {
    "ExecuteTime": {
     "end_time": "2025-01-08T14:11:42.804172Z",
     "start_time": "2025-01-08T14:11:42.801203Z"
    }
   },
   "cell_type": "code",
   "source": [
    "print('-' * 50)\n",
    "print(ser_obj[ser_bool])\n",
    "\n",
    "print(ser_obj[ser_obj > 2])  #取出大于2的元素"
   ],
   "id": "ae4d0cd8cdfb0d71",
   "outputs": [
    {
     "name": "stdout",
     "output_type": "stream",
     "text": [
      "--------------------------------------------------\n",
      "d    3\n",
      "e    4\n",
      "dtype: int64\n",
      "d    3\n",
      "e    4\n",
      "dtype: int64\n"
     ]
    }
   ],
   "execution_count": 28
  },
  {
   "metadata": {
    "ExecuteTime": {
     "end_time": "2025-01-09T00:54:27.063299Z",
     "start_time": "2025-01-09T00:54:27.056679Z"
    }
   },
   "cell_type": "code",
   "source": [
    "df_obj = pd.DataFrame(np.random.randn(5, 4),\n",
    "                      columns=['a', 'b', 'c', 'd'])\n",
    "print(df_obj.head())"
   ],
   "id": "bec787f2a73458ca",
   "outputs": [
    {
     "name": "stdout",
     "output_type": "stream",
     "text": [
      "          a         b         c         d\n",
      "0 -0.414485 -0.878530  1.007766  0.631062\n",
      "1 -0.147731 -0.619559  0.691963 -0.262576\n",
      "2  1.630783  0.092879  0.172507 -0.660360\n",
      "3 -1.184289 -1.174673  1.501334 -1.552249\n",
      "4 -0.880051 -0.748081  0.633947  0.570480\n"
     ]
    }
   ],
   "execution_count": 3
  },
  {
   "metadata": {
    "ExecuteTime": {
     "end_time": "2025-01-09T00:54:44.394916Z",
     "start_time": "2025-01-09T00:54:44.390431Z"
    }
   },
   "cell_type": "code",
   "source": [
    "# 列索引\n",
    "print(df_obj['a'])  # 返回Series类型\n",
    "print('-' * 50)\n",
    "print(df_obj[['a']])  # 返回DataFrame类型\n",
    "print('-' * 50)\n",
    "print(type(df_obj[['a']]))  # 返回DataFrame类型"
   ],
   "id": "54440d1071a382da",
   "outputs": [
    {
     "name": "stdout",
     "output_type": "stream",
     "text": [
      "0   -0.414485\n",
      "1   -0.147731\n",
      "2    1.630783\n",
      "3   -1.184289\n",
      "4   -0.880051\n",
      "Name: a, dtype: float64\n",
      "--------------------------------------------------\n",
      "          a\n",
      "0 -0.414485\n",
      "1 -0.147731\n",
      "2  1.630783\n",
      "3 -1.184289\n",
      "4 -0.880051\n",
      "--------------------------------------------------\n",
      "<class 'pandas.core.frame.DataFrame'>\n"
     ]
    }
   ],
   "execution_count": 4
  },
  {
   "metadata": {
    "ExecuteTime": {
     "end_time": "2025-01-09T00:57:18.166759Z",
     "start_time": "2025-01-09T00:57:18.162677Z"
    }
   },
   "cell_type": "code",
   "source": [
    "# 标签索引 loc，建议使用loc，效率更高\n",
    "# Series\n",
    "print(ser_obj)\n",
    "print(ser_obj['b':'d'])\n",
    "print(ser_obj.loc['b':'d'])  #前闭后闭\n",
    "print('-' * 50)\n"
   ],
   "id": "56936fe54abe9c88",
   "outputs": [
    {
     "name": "stdout",
     "output_type": "stream",
     "text": [
      "a    0\n",
      "b    1\n",
      "c    2\n",
      "d    3\n",
      "e    4\n",
      "dtype: int64\n",
      "b    1\n",
      "c    2\n",
      "d    3\n",
      "dtype: int64\n",
      "b    1\n",
      "c    2\n",
      "d    3\n",
      "dtype: int64\n",
      "--------------------------------------------------\n"
     ]
    }
   ],
   "execution_count": 7
  },
  {
   "metadata": {
    "ExecuteTime": {
     "end_time": "2025-01-09T00:58:11.297576Z",
     "start_time": "2025-01-09T00:58:11.292534Z"
    }
   },
   "cell_type": "code",
   "source": [
    "# DataFrame\n",
    "df_obj = pd.DataFrame(np.random.randn(5, 4),\n",
    "                      columns=list('abcd'),\n",
    "                      index=list('abcde'))\n",
    "print(df_obj)\n",
    "print('-' * 50)\n",
    "print(df_obj['a'])  #建议不用,拿的是列\n",
    "print('-' * 50)\n",
    "print(df_obj.loc['a'])  #拿的是行\n",
    "print('-' * 50)\n"
   ],
   "id": "27b3f82bb2407a47",
   "outputs": [
    {
     "name": "stdout",
     "output_type": "stream",
     "text": [
      "          a         b         c         d\n",
      "a  0.526026 -1.058210  1.248682 -0.739383\n",
      "b -0.187368  1.023097 -0.165742  0.633198\n",
      "c -1.370587 -0.673064 -1.183964  1.686454\n",
      "d -1.346354 -0.490064  0.812079  0.275658\n",
      "e  1.174434 -1.562149 -1.640989  0.058134\n",
      "--------------------------------------------------\n",
      "a    0.526026\n",
      "b   -0.187368\n",
      "c   -1.370587\n",
      "d   -1.346354\n",
      "e    1.174434\n",
      "Name: a, dtype: float64\n",
      "--------------------------------------------------\n",
      "a    0.526026\n",
      "b   -1.058210\n",
      "c    1.248682\n",
      "d   -0.739383\n",
      "Name: a, dtype: float64\n",
      "--------------------------------------------------\n"
     ]
    }
   ],
   "execution_count": 8
  },
  {
   "metadata": {
    "ExecuteTime": {
     "end_time": "2025-01-09T00:59:24.993770Z",
     "start_time": "2025-01-09T00:59:24.987640Z"
    }
   },
   "cell_type": "code",
   "source": [
    "# 第一个参数索引行，第二个参数是列,loc或者iloc效率高于直接用取下标的方式，前闭后闭\n",
    "print(df_obj.loc['a':'c', 'b':'d'])  #连续索引\n",
    "print(df_obj.loc[['a', 'c'], ['b', 'd']])  #不连续索引\n",
    "print(df_obj.loc[['c'], ['b']])  #取一个值,返回的是DataFrame类型\n",
    "print(df_obj.loc['c', 'b'])  #取一个值"
   ],
   "id": "8095a30af0aaabcc",
   "outputs": [
    {
     "name": "stdout",
     "output_type": "stream",
     "text": [
      "          b         c         d\n",
      "a -1.058210  1.248682 -0.739383\n",
      "b  1.023097 -0.165742  0.633198\n",
      "c -0.673064 -1.183964  1.686454\n",
      "          b         d\n",
      "a -1.058210 -0.739383\n",
      "c -0.673064  1.686454\n",
      "          b\n",
      "c -0.673064\n",
      "-0.6730637112010989\n"
     ]
    }
   ],
   "execution_count": 9
  },
  {
   "metadata": {
    "ExecuteTime": {
     "end_time": "2025-01-09T01:01:01.185890Z",
     "start_time": "2025-01-09T01:01:01.182324Z"
    }
   },
   "cell_type": "code",
   "source": [
    "ser_obj\n",
    "print('-' * 50)\n",
    "# Series\n",
    "print(ser_obj[1:3])\n",
    "print('-' * 50)\n",
    "print(ser_obj.iloc[1:3])  # 前闭后开[)，效率高\n"
   ],
   "id": "e086d0a11141ef68",
   "outputs": [
    {
     "name": "stdout",
     "output_type": "stream",
     "text": [
      "--------------------------------------------------\n",
      "b    1\n",
      "c    2\n",
      "dtype: int64\n",
      "--------------------------------------------------\n",
      "b    1\n",
      "c    2\n",
      "dtype: int64\n"
     ]
    }
   ],
   "execution_count": 10
  },
  {
   "metadata": {
    "ExecuteTime": {
     "end_time": "2025-01-09T01:02:06.627927Z",
     "start_time": "2025-01-09T01:02:06.622340Z"
    }
   },
   "cell_type": "code",
   "source": [
    "\n",
    "# DataFrame，iloc是前闭后开[)\n",
    "print(df_obj)\n",
    "print('-' * 50)\n",
    "print(df_obj.iloc[0:2, 0:2])\n",
    "print('-' * 50)\n",
    "print(df_obj.iloc[[0, 2], [0, 2]])  # 不连续索引\n",
    "print('-' * 50)\n",
    "print(df_obj.iloc[0, 0])  # 取一个值"
   ],
   "id": "84638106874acda7",
   "outputs": [
    {
     "name": "stdout",
     "output_type": "stream",
     "text": [
      "          a         b         c         d\n",
      "a  0.526026 -1.058210  1.248682 -0.739383\n",
      "b -0.187368  1.023097 -0.165742  0.633198\n",
      "c -1.370587 -0.673064 -1.183964  1.686454\n",
      "d -1.346354 -0.490064  0.812079  0.275658\n",
      "e  1.174434 -1.562149 -1.640989  0.058134\n",
      "--------------------------------------------------\n",
      "          a         b\n",
      "a  0.526026 -1.058210\n",
      "b -0.187368  1.023097\n",
      "--------------------------------------------------\n",
      "          a         c\n",
      "a  0.526026  1.248682\n",
      "c -1.370587 -1.183964\n",
      "--------------------------------------------------\n",
      "0.5260262439147996\n"
     ]
    }
   ],
   "execution_count": 11
  },
  {
   "metadata": {
    "ExecuteTime": {
     "end_time": "2025-01-09T01:03:16.985115Z",
     "start_time": "2025-01-09T01:03:16.979499Z"
    }
   },
   "cell_type": "code",
   "source": [
    "#没有设置行和列索引的DataFrame，iloc和loc的区别\n",
    "df_obj2 = pd.DataFrame(np.random.randn(5, 4))\n",
    "print(df_obj2)\n",
    "print('-' * 50)\n",
    "print(df_obj2.iloc[0:2])  #左闭右开 2行\n",
    "print('-' * 50)\n",
    "print(df_obj2.loc[0:2])  #左闭右闭 3行"
   ],
   "id": "13130028766b4725",
   "outputs": [
    {
     "name": "stdout",
     "output_type": "stream",
     "text": [
      "          0         1         2         3\n",
      "0  1.122320  0.986960  1.268999 -0.553231\n",
      "1 -0.682589 -1.605446  0.360611  0.360934\n",
      "2 -0.968254 -1.356336 -0.556278  1.377174\n",
      "3 -0.116615  0.374331  0.432478  2.079731\n",
      "4  0.034562  0.314744  1.508955  1.569632\n",
      "--------------------------------------------------\n",
      "          0         1         2         3\n",
      "0  1.122320  0.986960  1.268999 -0.553231\n",
      "1 -0.682589 -1.605446  0.360611  0.360934\n",
      "--------------------------------------------------\n",
      "          0         1         2         3\n",
      "0  1.122320  0.986960  1.268999 -0.553231\n",
      "1 -0.682589 -1.605446  0.360611  0.360934\n",
      "2 -0.968254 -1.356336 -0.556278  1.377174\n"
     ]
    }
   ],
   "execution_count": 12
  },
  {
   "metadata": {
    "ExecuteTime": {
     "end_time": "2025-01-09T01:04:36.643029Z",
     "start_time": "2025-01-09T01:04:36.638940Z"
    }
   },
   "cell_type": "code",
   "source": [
    "s1 = pd.Series(range(10, 20), index=range(10))\n",
    "s2 = pd.Series(range(20, 25), index=range(5))\n",
    "# Series 对齐运算\n",
    "print('s1+s2: ')\n",
    "s3 = s1 + s2\n",
    "print(s3)  #缺失数据默认是NaN  np.nan"
   ],
   "id": "f5bb90d4dd8add6c",
   "outputs": [
    {
     "name": "stdout",
     "output_type": "stream",
     "text": [
      "s1+s2: \n",
      "0    30.0\n",
      "1    32.0\n",
      "2    34.0\n",
      "3    36.0\n",
      "4    38.0\n",
      "5     NaN\n",
      "6     NaN\n",
      "7     NaN\n",
      "8     NaN\n",
      "9     NaN\n",
      "dtype: float64\n"
     ]
    }
   ],
   "execution_count": 13
  },
  {
   "metadata": {
    "ExecuteTime": {
     "end_time": "2025-01-09T01:05:14.623502Z",
     "start_time": "2025-01-09T01:05:14.620957Z"
    }
   },
   "cell_type": "code",
   "source": [
    "#两个长度不同的一维ndarray相加\n",
    "a1 = np.array([1, 2, 3, 4, 5])\n",
    "a2 = np.array([1])  # 长度为1\n",
    "print(a2.shape)\n",
    "print(a1 + a2)"
   ],
   "id": "eb1379e09999781e",
   "outputs": [
    {
     "name": "stdout",
     "output_type": "stream",
     "text": [
      "(1,)\n",
      "[2 3 4 5 6]\n"
     ]
    }
   ],
   "execution_count": 14
  },
  {
   "metadata": {
    "ExecuteTime": {
     "end_time": "2025-01-09T01:07:10.505423Z",
     "start_time": "2025-01-09T01:07:10.500810Z"
    }
   },
   "cell_type": "code",
   "source": [
    "print(np.isnan(s3[6]))\n",
    "print('-' * 50)\n",
    "print(s2.add(s1, fill_value=0))  #未对齐的数据将和填充值做运算\n",
    "print(s2.sub(s1, fill_value=0))"
   ],
   "id": "3af9a2e6c3cd5c0f",
   "outputs": [
    {
     "name": "stdout",
     "output_type": "stream",
     "text": [
      "True\n",
      "--------------------------------------------------\n",
      "0    30.0\n",
      "1    32.0\n",
      "2    34.0\n",
      "3    36.0\n",
      "4    38.0\n",
      "5    15.0\n",
      "6    16.0\n",
      "7    17.0\n",
      "8    18.0\n",
      "9    19.0\n",
      "dtype: float64\n",
      "0    10.0\n",
      "1    10.0\n",
      "2    10.0\n",
      "3    10.0\n",
      "4    10.0\n",
      "5   -15.0\n",
      "6   -16.0\n",
      "7   -17.0\n",
      "8   -18.0\n",
      "9   -19.0\n",
      "dtype: float64\n"
     ]
    }
   ],
   "execution_count": 15
  },
  {
   "metadata": {
    "ExecuteTime": {
     "end_time": "2025-01-09T01:09:00.620852Z",
     "start_time": "2025-01-09T01:09:00.613180Z"
    }
   },
   "cell_type": "code",
   "source": [
    "#df的对齐运算\n",
    "df1 = pd.DataFrame(np.ones((2, 2)), columns=['a', 'b'])\n",
    "df2 = pd.DataFrame(np.ones((3, 3)), columns=['a', 'b', 'c'])\n",
    "print(df1)\n",
    "print(df2)\n",
    "print('-' * 50)\n",
    "print(df2.dtypes)\n",
    "print(df1 - df2)\n",
    "print(df2.sub(df1, fill_value=2))  #未对齐的数据将和填充值做运算"
   ],
   "id": "d2b8e8af5d313b5d",
   "outputs": [
    {
     "name": "stdout",
     "output_type": "stream",
     "text": [
      "     a    b\n",
      "0  1.0  1.0\n",
      "1  1.0  1.0\n",
      "     a    b    c\n",
      "0  1.0  1.0  1.0\n",
      "1  1.0  1.0  1.0\n",
      "2  1.0  1.0  1.0\n",
      "--------------------------------------------------\n",
      "a    float64\n",
      "b    float64\n",
      "c    float64\n",
      "dtype: object\n",
      "     a    b   c\n",
      "0  0.0  0.0 NaN\n",
      "1  0.0  0.0 NaN\n",
      "2  NaN  NaN NaN\n",
      "     a    b    c\n",
      "0  0.0  0.0 -1.0\n",
      "1  0.0  0.0 -1.0\n",
      "2 -1.0 -1.0 -1.0\n"
     ]
    }
   ],
   "execution_count": 17
  },
  {
   "metadata": {
    "ExecuteTime": {
     "end_time": "2025-01-09T06:00:56.726692Z",
     "start_time": "2025-01-09T06:00:56.720056Z"
    }
   },
   "cell_type": "code",
   "source": [
    "df = pd.DataFrame(np.random.randn(5, 4) - 1)\n",
    "print(df)\n",
    "print(np.abs(df))"
   ],
   "id": "64d88eef1a6dab1a",
   "outputs": [
    {
     "name": "stdout",
     "output_type": "stream",
     "text": [
      "          0         1         2         3\n",
      "0 -0.246997 -0.230565 -0.858117 -0.769128\n",
      "1 -0.087230  0.279511 -0.561987 -0.582700\n",
      "2  0.570058 -1.733503 -0.546222 -0.555152\n",
      "3 -1.204561 -0.563471 -2.014922 -1.878405\n",
      "4 -2.388825 -1.067696 -2.249344  0.544550\n",
      "          0         1         2         3\n",
      "0  0.246997  0.230565  0.858117  0.769128\n",
      "1  0.087230  0.279511  0.561987  0.582700\n",
      "2  0.570058  1.733503  0.546222  0.555152\n",
      "3  1.204561  0.563471  2.014922  1.878405\n",
      "4  2.388825  1.067696  2.249344  0.544550\n"
     ]
    }
   ],
   "execution_count": 18
  },
  {
   "metadata": {
    "ExecuteTime": {
     "end_time": "2025-01-09T06:01:39.730529Z",
     "start_time": "2025-01-09T06:01:39.726956Z"
    }
   },
   "cell_type": "code",
   "source": "print(df.apply(lambda x: x.max()))",
   "id": "58899c13243da80f",
   "outputs": [
    {
     "name": "stdout",
     "output_type": "stream",
     "text": [
      "0    0.570058\n",
      "1    0.279511\n",
      "2   -0.546222\n",
      "3    0.544550\n",
      "dtype: float64\n"
     ]
    }
   ],
   "execution_count": 19
  }
 ],
 "metadata": {
  "kernelspec": {
   "display_name": "Python 3",
   "language": "python",
   "name": "python3"
  },
  "language_info": {
   "codemirror_mode": {
    "name": "ipython",
    "version": 2
   },
   "file_extension": ".py",
   "mimetype": "text/x-python",
   "name": "python",
   "nbconvert_exporter": "python",
   "pygments_lexer": "ipython2",
   "version": "2.7.6"
  }
 },
 "nbformat": 4,
 "nbformat_minor": 5
}
