{
 "cells": [
  {
   "cell_type": "code",
   "id": "initial_id",
   "metadata": {
    "collapsed": true,
    "ExecuteTime": {
     "end_time": "2025-01-09T00:54:21.928173Z",
     "start_time": "2025-01-09T00:54:21.376791Z"
    }
   },
   "source": [
    "import pandas as pd\n",
    "import numpy as np"
   ],
   "outputs": [],
   "execution_count": 2
  },
  {
   "metadata": {
    "ExecuteTime": {
     "end_time": "2025-01-08T01:51:07.163683Z",
     "start_time": "2025-01-08T01:51:07.160633Z"
    }
   },
   "cell_type": "code",
   "source": [
    "ser_obj = pd.Series(range(10, 20))\n",
    "print(ser_obj)"
   ],
   "id": "1b26c4aadd37c72c",
   "outputs": [
    {
     "name": "stdout",
     "output_type": "stream",
     "text": [
      "0    10\n",
      "1    11\n",
      "2    12\n",
      "3    13\n",
      "4    14\n",
      "5    15\n",
      "6    16\n",
      "7    17\n",
      "8    18\n",
      "9    19\n",
      "dtype: int64\n"
     ]
    }
   ],
   "execution_count": 2
  },
  {
   "metadata": {
    "ExecuteTime": {
     "end_time": "2025-01-08T02:39:03.695104Z",
     "start_time": "2025-01-08T02:39:03.689849Z"
    }
   },
   "cell_type": "code",
   "source": [
    "# 获取数据\n",
    "print(ser_obj.values)  #values实际是ndarray\n",
    "print(type(ser_obj.values))  #类型是ndarray\n",
    "# 获取索引\n",
    "print(ser_obj.index)  #内部自带的类型--RangeIndex\n",
    "ser_obj.dtype"
   ],
   "id": "7057a765d33514bc",
   "outputs": [
    {
     "name": "stdout",
     "output_type": "stream",
     "text": [
      "[10 11 12 13 14 15 16 17 18 19]\n",
      "<class 'numpy.ndarray'>\n",
      "RangeIndex(start=0, stop=10, step=1)\n"
     ]
    },
    {
     "data": {
      "text/plain": [
       "dtype('int64')"
      ]
     },
     "execution_count": 3,
     "metadata": {},
     "output_type": "execute_result"
    }
   ],
   "execution_count": 3
  },
  {
   "metadata": {
    "ExecuteTime": {
     "end_time": "2025-01-08T02:40:00.220112Z",
     "start_time": "2025-01-08T02:40:00.216551Z"
    }
   },
   "cell_type": "code",
   "source": [
    "print(ser_obj[0])\n",
    "ser_obj[9]  #\n",
    "# 访问不存在的索引下标会报keyerror"
   ],
   "id": "88c3813cb33e103e",
   "outputs": [
    {
     "name": "stdout",
     "output_type": "stream",
     "text": [
      "10\n"
     ]
    },
    {
     "data": {
      "text/plain": [
       "np.int64(19)"
      ]
     },
     "execution_count": 4,
     "metadata": {},
     "output_type": "execute_result"
    }
   ],
   "execution_count": 4
  },
  {
   "metadata": {
    "ExecuteTime": {
     "end_time": "2025-01-08T02:47:59.534037Z",
     "start_time": "2025-01-08T02:47:59.529341Z"
    }
   },
   "cell_type": "code",
   "source": [
    "print(ser_obj * 2)\n",
    "print(ser_obj > 15)\n"
   ],
   "id": "2d57fce7397dd83a",
   "outputs": [
    {
     "name": "stdout",
     "output_type": "stream",
     "text": [
      "0    20\n",
      "1    22\n",
      "2    24\n",
      "3    26\n",
      "4    28\n",
      "5    30\n",
      "6    32\n",
      "7    34\n",
      "8    36\n",
      "9    38\n",
      "dtype: int64\n",
      "0    False\n",
      "1    False\n",
      "2    False\n",
      "3    False\n",
      "4    False\n",
      "5    False\n",
      "6     True\n",
      "7     True\n",
      "8     True\n",
      "9     True\n",
      "dtype: bool\n"
     ]
    }
   ],
   "execution_count": 5
  },
  {
   "metadata": {
    "ExecuteTime": {
     "end_time": "2025-01-08T02:49:44.330660Z",
     "start_time": "2025-01-08T02:49:44.327133Z"
    }
   },
   "cell_type": "code",
   "source": [
    "# 通过dict构建Series\n",
    "year_data = {2001: 17.8, 2002: 20.1, 2003: 16.5}\n",
    "ser_obj2 = pd.Series(year_data)\n",
    "print(ser_obj2)\n",
    "print(ser_obj2.index)\n",
    "print(ser_obj2[2001])"
   ],
   "id": "571808b976659cbd",
   "outputs": [
    {
     "name": "stdout",
     "output_type": "stream",
     "text": [
      "2001    17.8\n",
      "2002    20.1\n",
      "2003    16.5\n",
      "dtype: float64\n",
      "Index([2001, 2002, 2003], dtype='int64')\n",
      "17.8\n"
     ]
    }
   ],
   "execution_count": 8
  },
  {
   "metadata": {
    "ExecuteTime": {
     "end_time": "2025-01-08T08:30:55.208476Z",
     "start_time": "2025-01-08T08:30:55.205430Z"
    }
   },
   "cell_type": "code",
   "source": [
    "#有点鸡肋\n",
    "print(ser_obj2.name)  #Series名字\n",
    "print(ser_obj2.index.name)  #索引名字\n",
    "ser_obj2.name = 'temp'\n",
    "ser_obj2.index.name = 'year1'\n",
    "print('-' * 50)\n",
    "print(ser_obj2.head())  #head默认显示前5行"
   ],
   "id": "2a16a1eb8a935368",
   "outputs": [
    {
     "name": "stdout",
     "output_type": "stream",
     "text": [
      "None\n",
      "None\n",
      "--------------------------------------------------\n",
      "year1\n",
      "2001    17.8\n",
      "2002    20.1\n",
      "2003    16.5\n",
      "Name: temp, dtype: float64\n"
     ]
    }
   ],
   "execution_count": 9
  },
  {
   "metadata": {
    "ExecuteTime": {
     "end_time": "2025-01-08T08:37:30.626368Z",
     "start_time": "2025-01-08T08:37:30.621295Z"
    }
   },
   "cell_type": "code",
   "source": [
    "t = pd.DataFrame(np.arange(12).reshape((3, 4)))  #默认索引是0-2\n",
    "print(t)\n",
    "print('-' * 50)"
   ],
   "id": "f9c9fe13f77ed4f7",
   "outputs": [
    {
     "name": "stdout",
     "output_type": "stream",
     "text": [
      "   0  1   2   3\n",
      "0  0  1   2   3\n",
      "1  4  5   6   7\n",
      "2  8  9  10  11\n",
      "--------------------------------------------------\n"
     ]
    }
   ],
   "execution_count": 10
  },
  {
   "metadata": {
    "ExecuteTime": {
     "end_time": "2025-01-08T08:39:16.439656Z",
     "start_time": "2025-01-08T08:39:16.431907Z"
    }
   },
   "cell_type": "code",
   "source": [
    "array = np.random.randn(5, 4)\n",
    "print(array)\n",
    "print('-' * 50)\n",
    "df_obj = pd.DataFrame(array)\n",
    "print(df_obj.head())  #默认显示前5行"
   ],
   "id": "5b5c48e023d9690f",
   "outputs": [
    {
     "name": "stdout",
     "output_type": "stream",
     "text": [
      "[[-2.61133544 -1.27053097  0.07285142  0.86986323]\n",
      " [ 0.25828913 -0.66479145 -0.75816169 -1.84749768]\n",
      " [-0.56971805  0.64898084 -0.09415107 -0.43642876]\n",
      " [-0.9147446  -1.50350764  0.01954264 -0.08395839]\n",
      " [-0.00932987 -0.68760368  0.79901649 -0.01637435]]\n",
      "--------------------------------------------------\n",
      "          0         1         2         3\n",
      "0 -2.611335 -1.270531  0.072851  0.869863\n",
      "1  0.258289 -0.664791 -0.758162 -1.847498\n",
      "2 -0.569718  0.648981 -0.094151 -0.436429\n",
      "3 -0.914745 -1.503508  0.019543 -0.083958\n",
      "4 -0.009330 -0.687604  0.799016 -0.016374\n"
     ]
    }
   ],
   "execution_count": 11
  },
  {
   "metadata": {
    "ExecuteTime": {
     "end_time": "2025-01-08T08:39:51.587105Z",
     "start_time": "2025-01-08T08:39:51.584051Z"
    }
   },
   "cell_type": "code",
   "source": "t.loc[0]  #单独把某一行取出来,类型是series",
   "id": "5bea8bb032874784",
   "outputs": [
    {
     "data": {
      "text/plain": [
       "0    0\n",
       "1    1\n",
       "2    2\n",
       "3    3\n",
       "Name: 0, dtype: int64"
      ]
     },
     "execution_count": 12,
     "metadata": {},
     "output_type": "execute_result"
    }
   ],
   "execution_count": 12
  },
  {
   "metadata": {
    "ExecuteTime": {
     "end_time": "2025-01-08T09:15:19.001135Z",
     "start_time": "2025-01-08T09:15:18.996562Z"
    }
   },
   "cell_type": "code",
   "source": [
    "d2 = [{\"name\": \"xiaohong\", \"age\": 32, \"tel\": 10010},\n",
    "      {\"name\": \"xiaogang\", \"tel\": 10000},\n",
    "      {\"name\": \"xiaowang\", \"age\": 22}]\n",
    "df6 = pd.DataFrame(d2)\n",
    "print(df6)  #缺失值会用NaN填充\n",
    "print(type(df6.values))  #ndarray"
   ],
   "id": "99faa7448c8abfc4",
   "outputs": [
    {
     "name": "stdout",
     "output_type": "stream",
     "text": [
      "       name   age      tel\n",
      "0  xiaohong  32.0  10010.0\n",
      "1  xiaogang   NaN  10000.0\n",
      "2  xiaowang  22.0      NaN\n",
      "<class 'numpy.ndarray'>\n"
     ]
    }
   ],
   "execution_count": 13
  },
  {
   "metadata": {
    "ExecuteTime": {
     "end_time": "2025-01-08T09:17:11.488910Z",
     "start_time": "2025-01-08T09:17:11.484831Z"
    }
   },
   "cell_type": "code",
   "source": "pd.Series(1, index=list(range(3, 7)), dtype='float32')",
   "id": "965d45cf21036351",
   "outputs": [
    {
     "data": {
      "text/plain": [
       "3    1.0\n",
       "4    1.0\n",
       "5    1.0\n",
       "6    1.0\n",
       "dtype: float32"
      ]
     },
     "execution_count": 14,
     "metadata": {},
     "output_type": "execute_result"
    }
   ],
   "execution_count": 14
  },
  {
   "metadata": {
    "ExecuteTime": {
     "end_time": "2025-01-08T09:17:42.970942Z",
     "start_time": "2025-01-08T09:17:42.965354Z"
    }
   },
   "cell_type": "code",
   "source": [
    "#df中不同列可以是不同的数据类型,同一列必须是一个数据类型\n",
    "import pandas as pd\n",
    "import numpy as np\n",
    "\n",
    "dict_data = {'A': 1,\n",
    "             'B': pd.Timestamp('20190926'),\n",
    "             'C': pd.Series(1, index=list(range(4)), dtype='float32'),\n",
    "             'D': np.array([1, 2, 3, 4], dtype='int32'),\n",
    "             'E': [\"Python\", \"Java\", \"C++\", \"C\"],\n",
    "             'F': 'wangdao'}\n",
    "df_obj2 = pd.DataFrame(dict_data)\n",
    "print(df_obj2)"
   ],
   "id": "9946590bdb1f0e00",
   "outputs": [
    {
     "name": "stdout",
     "output_type": "stream",
     "text": [
      "   A          B    C  D       E        F\n",
      "0  1 2019-09-26  1.0  1  Python  wangdao\n",
      "1  1 2019-09-26  1.0  2    Java  wangdao\n",
      "2  1 2019-09-26  1.0  3     C++  wangdao\n",
      "3  1 2019-09-26  1.0  4       C  wangdao\n"
     ]
    }
   ],
   "execution_count": 15
  },
  {
   "metadata": {
    "ExecuteTime": {
     "end_time": "2025-01-08T10:16:01.696939Z",
     "start_time": "2025-01-08T10:16:01.692612Z"
    }
   },
   "cell_type": "code",
   "source": [
    "print(df_obj2.index)  #行索引,重点\n",
    "#不可改变\n",
    "# df_obj2.index[0]=2  不可以单独修改某个索引值\n",
    "print(df_obj2.columns)  #列索引，重点\n",
    "df_obj2.dtypes  #每一列的数据类型，重点"
   ],
   "id": "bbe6b016cff1077f",
   "outputs": [
    {
     "name": "stdout",
     "output_type": "stream",
     "text": [
      "Index([0, 1, 2, 3], dtype='int64')\n",
      "Index(['A', 'B', 'C', 'D', 'E', 'F'], dtype='object')\n"
     ]
    },
    {
     "data": {
      "text/plain": [
       "A            int64\n",
       "B    datetime64[s]\n",
       "C          float32\n",
       "D            int32\n",
       "E           object\n",
       "F           object\n",
       "dtype: object"
      ]
     },
     "execution_count": 16,
     "metadata": {},
     "output_type": "execute_result"
    }
   ],
   "execution_count": 16
  },
  {
   "metadata": {
    "ExecuteTime": {
     "end_time": "2025-01-08T13:51:27.383025Z",
     "start_time": "2025-01-08T13:51:27.378436Z"
    }
   },
   "cell_type": "code",
   "source": [
    "# 感受日期,初始化df，设置行索引，列索引\n",
    "dates = pd.date_range('20130101', periods=6)  #默认freq='D'，即天\n",
    "df = pd.DataFrame(np.random.randn(6, 4), index=dates, columns=list('ABCD'))\n",
    "print(df)\n",
    "print('-' * 50)\n",
    "print(df.index)"
   ],
   "id": "33d1225ea446f7a1",
   "outputs": [
    {
     "name": "stdout",
     "output_type": "stream",
     "text": [
      "                   A         B         C         D\n",
      "2013-01-01  0.229101 -0.092735 -0.464707  0.619139\n",
      "2013-01-02 -0.248893  0.396537 -0.436350 -0.737482\n",
      "2013-01-03 -1.304176 -0.399415 -0.716253 -0.902696\n",
      "2013-01-04  0.975542  0.511531  0.620195  0.910228\n",
      "2013-01-05  0.376300 -2.910673  0.235085 -1.650460\n",
      "2013-01-06 -0.120734  0.990697 -0.874154 -0.423352\n",
      "--------------------------------------------------\n",
      "DatetimeIndex(['2013-01-01', '2013-01-02', '2013-01-03', '2013-01-04',\n",
      "               '2013-01-05', '2013-01-06'],\n",
      "              dtype='datetime64[ns]', freq='D')\n"
     ]
    }
   ],
   "execution_count": 17
  },
  {
   "metadata": {
    "ExecuteTime": {
     "end_time": "2025-01-08T13:54:24.705120Z",
     "start_time": "2025-01-08T13:54:24.700413Z"
    }
   },
   "cell_type": "code",
   "source": [
    "#取数据\n",
    "print(df_obj2)\n",
    "print('-' * 50)\n",
    "print(type(df_obj2))\n",
    "print('-' * 50)\n",
    "#pd中使用索引名来取某一行，或者列\n",
    "print(df_obj2['B'])\n",
    "print('-' * 50)\n",
    "#把df的某一列取出来是series\n",
    "print(type(df_obj2['B']))"
   ],
   "id": "6813650f1eb031f3",
   "outputs": [
    {
     "name": "stdout",
     "output_type": "stream",
     "text": [
      "   A          B    C  D       E        F\n",
      "0  1 2019-09-26  1.0  1  Python  wangdao\n",
      "1  1 2019-09-26  1.0  2    Java  wangdao\n",
      "2  1 2019-09-26  1.0  3     C++  wangdao\n",
      "3  1 2019-09-26  1.0  4       C  wangdao\n",
      "--------------------------------------------------\n",
      "<class 'pandas.core.frame.DataFrame'>\n",
      "--------------------------------------------------\n",
      "0   2019-09-26\n",
      "1   2019-09-26\n",
      "2   2019-09-26\n",
      "3   2019-09-26\n",
      "Name: B, dtype: datetime64[s]\n",
      "--------------------------------------------------\n",
      "<class 'pandas.core.series.Series'>\n"
     ]
    }
   ],
   "execution_count": 18
  },
  {
   "metadata": {
    "ExecuteTime": {
     "end_time": "2025-01-08T13:56:42.111409Z",
     "start_time": "2025-01-08T13:56:42.107034Z"
    }
   },
   "cell_type": "code",
   "source": [
    "#增加列数据，列名是自定义的\n",
    "df_obj2['G'] = df_obj2['D'] + 4\n",
    "print(df_obj2.head())"
   ],
   "id": "a78279d89faafbdf",
   "outputs": [
    {
     "name": "stdout",
     "output_type": "stream",
     "text": [
      "   A          B    C  D       E        F  G\n",
      "0  1 2019-09-26  1.0  1  Python  wangdao  5\n",
      "1  1 2019-09-26  1.0  2    Java  wangdao  6\n",
      "2  1 2019-09-26  1.0  3     C++  wangdao  7\n",
      "3  1 2019-09-26  1.0  4       C  wangdao  8\n"
     ]
    }
   ],
   "execution_count": 19
  },
  {
   "metadata": {
    "ExecuteTime": {
     "end_time": "2025-01-08T13:57:21.698881Z",
     "start_time": "2025-01-08T13:57:21.695310Z"
    }
   },
   "cell_type": "code",
   "source": [
    "del (df_obj2['G'])\n",
    "print(df_obj2)"
   ],
   "id": "8db133f6c12cd2e4",
   "outputs": [
    {
     "name": "stdout",
     "output_type": "stream",
     "text": [
      "   A          B    C  D       E        F\n",
      "0  1 2019-09-26  1.0  1  Python  wangdao\n",
      "1  1 2019-09-26  1.0  2    Java  wangdao\n",
      "2  1 2019-09-26  1.0  3     C++  wangdao\n",
      "3  1 2019-09-26  1.0  4       C  wangdao\n"
     ]
    }
   ],
   "execution_count": 20
  },
  {
   "metadata": {
    "ExecuteTime": {
     "end_time": "2025-01-08T14:00:03.154561Z",
     "start_time": "2025-01-08T14:00:03.150926Z"
    }
   },
   "cell_type": "code",
   "source": [
    "dict_data = {'A': 1,\n",
    "             'B': pd.Timestamp('20190926'),\n",
    "             'C': pd.Series(1, index=list(range(4)), dtype='float32'),\n",
    "             'D': np.array([1, 2, 3, 4], dtype='int32'),\n",
    "             'E': [\"Python\", \"Java\", \"C++\", \"C\"],\n",
    "             'F': 'wangdao'}\n",
    "df_obj2 = pd.DataFrame(dict_data)\n",
    "print(df_obj2.index)"
   ],
   "id": "5520339cce770a02",
   "outputs": [
    {
     "name": "stdout",
     "output_type": "stream",
     "text": [
      "Index([0, 1, 2, 3], dtype='int64')\n"
     ]
    }
   ],
   "execution_count": 21
  },
  {
   "metadata": {},
   "cell_type": "markdown",
   "source": "# 3 常见的Index种类\n",
   "id": "cf1b75f73abab27a"
  },
  {
   "metadata": {
    "ExecuteTime": {
     "end_time": "2025-01-09T00:57:02.876527Z",
     "start_time": "2025-01-09T00:57:02.871402Z"
    }
   },
   "cell_type": "code",
   "source": [
    "ser_obj = pd.Series(range(5), index=list(\"abcde\"))\n",
    "print(ser_obj)\n",
    "ser_obj.index"
   ],
   "id": "2e72390cfd6066cf",
   "outputs": [
    {
     "name": "stdout",
     "output_type": "stream",
     "text": [
      "a    0\n",
      "b    1\n",
      "c    2\n",
      "d    3\n",
      "e    4\n",
      "dtype: int64\n"
     ]
    },
    {
     "data": {
      "text/plain": [
       "Index(['a', 'b', 'c', 'd', 'e'], dtype='object')"
      ]
     },
     "execution_count": 6,
     "metadata": {},
     "output_type": "execute_result"
    }
   ],
   "execution_count": 6
  },
  {
   "metadata": {
    "ExecuteTime": {
     "end_time": "2025-01-08T14:09:42.059488Z",
     "start_time": "2025-01-08T14:09:42.056842Z"
    }
   },
   "cell_type": "code",
   "source": [
    "# 行索引，不仅可以用索引名，可以用索引位置或来取\n",
    "print(ser_obj['b'])  #索引名\n",
    "print(ser_obj.iloc[2])  #位置索引"
   ],
   "id": "67c9661a507d2b17",
   "outputs": [
    {
     "name": "stdout",
     "output_type": "stream",
     "text": [
      "1\n",
      "2\n"
     ]
    }
   ],
   "execution_count": 24
  },
  {
   "metadata": {
    "ExecuteTime": {
     "end_time": "2025-01-08T14:10:31.588009Z",
     "start_time": "2025-01-08T14:10:31.584692Z"
    }
   },
   "cell_type": "code",
   "source": [
    "# 切片索引\n",
    "print(ser_obj.iloc[1:3])  #索引位置取数据，左闭右开\n",
    "print(ser_obj.loc['b':'d'])  #记住索引名  左闭右闭"
   ],
   "id": "a20f1c816aea89be",
   "outputs": [
    {
     "name": "stdout",
     "output_type": "stream",
     "text": [
      "b    1\n",
      "c    2\n",
      "dtype: int64\n",
      "b    1\n",
      "c    2\n",
      "d    3\n",
      "dtype: int64\n"
     ]
    }
   ],
   "execution_count": 25
  },
  {
   "metadata": {
    "ExecuteTime": {
     "end_time": "2025-01-08T14:10:47.574475Z",
     "start_time": "2025-01-08T14:10:47.571127Z"
    }
   },
   "cell_type": "code",
   "source": [
    "# 不连续索引\n",
    "print(ser_obj.iloc[[0, 2, 4]])\n",
    "print(ser_obj.loc[['a', 'e']])"
   ],
   "id": "3a5a184d65d2617b",
   "outputs": [
    {
     "name": "stdout",
     "output_type": "stream",
     "text": [
      "a    0\n",
      "c    2\n",
      "e    4\n",
      "dtype: int64\n",
      "a    0\n",
      "e    4\n",
      "dtype: int64\n"
     ]
    }
   ],
   "execution_count": 26
  },
  {
   "metadata": {
    "ExecuteTime": {
     "end_time": "2025-01-08T14:11:06.853339Z",
     "start_time": "2025-01-08T14:11:06.850448Z"
    }
   },
   "cell_type": "code",
   "source": [
    "# 布尔索引\n",
    "ser_bool = ser_obj > 2\n",
    "print(ser_obj)\n",
    "print(ser_bool)"
   ],
   "id": "dbb302b8a0642747",
   "outputs": [
    {
     "name": "stdout",
     "output_type": "stream",
     "text": [
      "a    0\n",
      "b    1\n",
      "c    2\n",
      "d    3\n",
      "e    4\n",
      "dtype: int64\n",
      "a    False\n",
      "b    False\n",
      "c    False\n",
      "d     True\n",
      "e     True\n",
      "dtype: bool\n"
     ]
    }
   ],
   "execution_count": 27
  },
  {
   "metadata": {
    "ExecuteTime": {
     "end_time": "2025-01-08T14:11:42.804172Z",
     "start_time": "2025-01-08T14:11:42.801203Z"
    }
   },
   "cell_type": "code",
   "source": [
    "print('-' * 50)\n",
    "print(ser_obj[ser_bool])\n",
    "\n",
    "print(ser_obj[ser_obj > 2])  #取出大于2的元素"
   ],
   "id": "ae4d0cd8cdfb0d71",
   "outputs": [
    {
     "name": "stdout",
     "output_type": "stream",
     "text": [
      "--------------------------------------------------\n",
      "d    3\n",
      "e    4\n",
      "dtype: int64\n",
      "d    3\n",
      "e    4\n",
      "dtype: int64\n"
     ]
    }
   ],
   "execution_count": 28
  },
  {
   "metadata": {
    "ExecuteTime": {
     "end_time": "2025-01-09T00:54:27.063299Z",
     "start_time": "2025-01-09T00:54:27.056679Z"
    }
   },
   "cell_type": "code",
   "source": [
    "df_obj = pd.DataFrame(np.random.randn(5, 4),\n",
    "                      columns=['a', 'b', 'c', 'd'])\n",
    "print(df_obj.head())"
   ],
   "id": "bec787f2a73458ca",
   "outputs": [
    {
     "name": "stdout",
     "output_type": "stream",
     "text": [
      "          a         b         c         d\n",
      "0 -0.414485 -0.878530  1.007766  0.631062\n",
      "1 -0.147731 -0.619559  0.691963 -0.262576\n",
      "2  1.630783  0.092879  0.172507 -0.660360\n",
      "3 -1.184289 -1.174673  1.501334 -1.552249\n",
      "4 -0.880051 -0.748081  0.633947  0.570480\n"
     ]
    }
   ],
   "execution_count": 3
  },
  {
   "metadata": {
    "ExecuteTime": {
     "end_time": "2025-01-09T00:54:44.394916Z",
     "start_time": "2025-01-09T00:54:44.390431Z"
    }
   },
   "cell_type": "code",
   "source": [
    "# 列索引\n",
    "print(df_obj['a'])  # 返回Series类型\n",
    "print('-' * 50)\n",
    "print(df_obj[['a']])  # 返回DataFrame类型\n",
    "print('-' * 50)\n",
    "print(type(df_obj[['a']]))  # 返回DataFrame类型"
   ],
   "id": "54440d1071a382da",
   "outputs": [
    {
     "name": "stdout",
     "output_type": "stream",
     "text": [
      "0   -0.414485\n",
      "1   -0.147731\n",
      "2    1.630783\n",
      "3   -1.184289\n",
      "4   -0.880051\n",
      "Name: a, dtype: float64\n",
      "--------------------------------------------------\n",
      "          a\n",
      "0 -0.414485\n",
      "1 -0.147731\n",
      "2  1.630783\n",
      "3 -1.184289\n",
      "4 -0.880051\n",
      "--------------------------------------------------\n",
      "<class 'pandas.core.frame.DataFrame'>\n"
     ]
    }
   ],
   "execution_count": 4
  },
  {
   "metadata": {
    "ExecuteTime": {
     "end_time": "2025-01-09T00:57:18.166759Z",
     "start_time": "2025-01-09T00:57:18.162677Z"
    }
   },
   "cell_type": "code",
   "source": [
    "# 标签索引 loc，建议使用loc，效率更高\n",
    "# Series\n",
    "print(ser_obj)\n",
    "print(ser_obj['b':'d'])\n",
    "print(ser_obj.loc['b':'d'])  #前闭后闭\n",
    "print('-' * 50)\n"
   ],
   "id": "56936fe54abe9c88",
   "outputs": [
    {
     "name": "stdout",
     "output_type": "stream",
     "text": [
      "a    0\n",
      "b    1\n",
      "c    2\n",
      "d    3\n",
      "e    4\n",
      "dtype: int64\n",
      "b    1\n",
      "c    2\n",
      "d    3\n",
      "dtype: int64\n",
      "b    1\n",
      "c    2\n",
      "d    3\n",
      "dtype: int64\n",
      "--------------------------------------------------\n"
     ]
    }
   ],
   "execution_count": 7
  },
  {
   "metadata": {
    "ExecuteTime": {
     "end_time": "2025-01-09T00:58:11.297576Z",
     "start_time": "2025-01-09T00:58:11.292534Z"
    }
   },
   "cell_type": "code",
   "source": [
    "# DataFrame\n",
    "df_obj = pd.DataFrame(np.random.randn(5, 4),\n",
    "                      columns=list('abcd'),\n",
    "                      index=list('abcde'))\n",
    "print(df_obj)\n",
    "print('-' * 50)\n",
    "print(df_obj['a'])  #建议不用,拿的是列\n",
    "print('-' * 50)\n",
    "print(df_obj.loc['a'])  #拿的是行\n",
    "print('-' * 50)\n"
   ],
   "id": "27b3f82bb2407a47",
   "outputs": [
    {
     "name": "stdout",
     "output_type": "stream",
     "text": [
      "          a         b         c         d\n",
      "a  0.526026 -1.058210  1.248682 -0.739383\n",
      "b -0.187368  1.023097 -0.165742  0.633198\n",
      "c -1.370587 -0.673064 -1.183964  1.686454\n",
      "d -1.346354 -0.490064  0.812079  0.275658\n",
      "e  1.174434 -1.562149 -1.640989  0.058134\n",
      "--------------------------------------------------\n",
      "a    0.526026\n",
      "b   -0.187368\n",
      "c   -1.370587\n",
      "d   -1.346354\n",
      "e    1.174434\n",
      "Name: a, dtype: float64\n",
      "--------------------------------------------------\n",
      "a    0.526026\n",
      "b   -1.058210\n",
      "c    1.248682\n",
      "d   -0.739383\n",
      "Name: a, dtype: float64\n",
      "--------------------------------------------------\n"
     ]
    }
   ],
   "execution_count": 8
  },
  {
   "metadata": {
    "ExecuteTime": {
     "end_time": "2025-01-09T00:59:24.993770Z",
     "start_time": "2025-01-09T00:59:24.987640Z"
    }
   },
   "cell_type": "code",
   "source": [
    "# 第一个参数索引行，第二个参数是列,loc或者iloc效率高于直接用取下标的方式，前闭后闭\n",
    "print(df_obj.loc['a':'c', 'b':'d'])  #连续索引\n",
    "print(df_obj.loc[['a', 'c'], ['b', 'd']])  #不连续索引\n",
    "print(df_obj.loc[['c'], ['b']])  #取一个值,返回的是DataFrame类型\n",
    "print(df_obj.loc['c', 'b'])  #取一个值"
   ],
   "id": "8095a30af0aaabcc",
   "outputs": [
    {
     "name": "stdout",
     "output_type": "stream",
     "text": [
      "          b         c         d\n",
      "a -1.058210  1.248682 -0.739383\n",
      "b  1.023097 -0.165742  0.633198\n",
      "c -0.673064 -1.183964  1.686454\n",
      "          b         d\n",
      "a -1.058210 -0.739383\n",
      "c -0.673064  1.686454\n",
      "          b\n",
      "c -0.673064\n",
      "-0.6730637112010989\n"
     ]
    }
   ],
   "execution_count": 9
  },
  {
   "metadata": {
    "ExecuteTime": {
     "end_time": "2025-01-09T01:01:01.185890Z",
     "start_time": "2025-01-09T01:01:01.182324Z"
    }
   },
   "cell_type": "code",
   "source": [
    "ser_obj\n",
    "print('-' * 50)\n",
    "# Series\n",
    "print(ser_obj[1:3])\n",
    "print('-' * 50)\n",
    "print(ser_obj.iloc[1:3])  # 前闭后开[)，效率高\n"
   ],
   "id": "e086d0a11141ef68",
   "outputs": [
    {
     "name": "stdout",
     "output_type": "stream",
     "text": [
      "--------------------------------------------------\n",
      "b    1\n",
      "c    2\n",
      "dtype: int64\n",
      "--------------------------------------------------\n",
      "b    1\n",
      "c    2\n",
      "dtype: int64\n"
     ]
    }
   ],
   "execution_count": 10
  },
  {
   "metadata": {
    "ExecuteTime": {
     "end_time": "2025-01-09T01:02:06.627927Z",
     "start_time": "2025-01-09T01:02:06.622340Z"
    }
   },
   "cell_type": "code",
   "source": [
    "\n",
    "# DataFrame，iloc是前闭后开[)\n",
    "print(df_obj)\n",
    "print('-' * 50)\n",
    "print(df_obj.iloc[0:2, 0:2])\n",
    "print('-' * 50)\n",
    "print(df_obj.iloc[[0, 2], [0, 2]])  # 不连续索引\n",
    "print('-' * 50)\n",
    "print(df_obj.iloc[0, 0])  # 取一个值"
   ],
   "id": "84638106874acda7",
   "outputs": [
    {
     "name": "stdout",
     "output_type": "stream",
     "text": [
      "          a         b         c         d\n",
      "a  0.526026 -1.058210  1.248682 -0.739383\n",
      "b -0.187368  1.023097 -0.165742  0.633198\n",
      "c -1.370587 -0.673064 -1.183964  1.686454\n",
      "d -1.346354 -0.490064  0.812079  0.275658\n",
      "e  1.174434 -1.562149 -1.640989  0.058134\n",
      "--------------------------------------------------\n",
      "          a         b\n",
      "a  0.526026 -1.058210\n",
      "b -0.187368  1.023097\n",
      "--------------------------------------------------\n",
      "          a         c\n",
      "a  0.526026  1.248682\n",
      "c -1.370587 -1.183964\n",
      "--------------------------------------------------\n",
      "0.5260262439147996\n"
     ]
    }
   ],
   "execution_count": 11
  },
  {
   "metadata": {
    "ExecuteTime": {
     "end_time": "2025-01-09T01:03:16.985115Z",
     "start_time": "2025-01-09T01:03:16.979499Z"
    }
   },
   "cell_type": "code",
   "source": [
    "#没有设置行和列索引的DataFrame，iloc和loc的区别\n",
    "df_obj2 = pd.DataFrame(np.random.randn(5, 4))\n",
    "print(df_obj2)\n",
    "print('-' * 50)\n",
    "print(df_obj2.iloc[0:2])  #左闭右开 2行\n",
    "print('-' * 50)\n",
    "print(df_obj2.loc[0:2])  #左闭右闭 3行"
   ],
   "id": "13130028766b4725",
   "outputs": [
    {
     "name": "stdout",
     "output_type": "stream",
     "text": [
      "          0         1         2         3\n",
      "0  1.122320  0.986960  1.268999 -0.553231\n",
      "1 -0.682589 -1.605446  0.360611  0.360934\n",
      "2 -0.968254 -1.356336 -0.556278  1.377174\n",
      "3 -0.116615  0.374331  0.432478  2.079731\n",
      "4  0.034562  0.314744  1.508955  1.569632\n",
      "--------------------------------------------------\n",
      "          0         1         2         3\n",
      "0  1.122320  0.986960  1.268999 -0.553231\n",
      "1 -0.682589 -1.605446  0.360611  0.360934\n",
      "--------------------------------------------------\n",
      "          0         1         2         3\n",
      "0  1.122320  0.986960  1.268999 -0.553231\n",
      "1 -0.682589 -1.605446  0.360611  0.360934\n",
      "2 -0.968254 -1.356336 -0.556278  1.377174\n"
     ]
    }
   ],
   "execution_count": 12
  },
  {
   "metadata": {
    "ExecuteTime": {
     "end_time": "2025-01-09T01:04:36.643029Z",
     "start_time": "2025-01-09T01:04:36.638940Z"
    }
   },
   "cell_type": "code",
   "source": [
    "s1 = pd.Series(range(10, 20), index=range(10))\n",
    "s2 = pd.Series(range(20, 25), index=range(5))\n",
    "# Series 对齐运算\n",
    "print('s1+s2: ')\n",
    "s3 = s1 + s2\n",
    "print(s3)  #缺失数据默认是NaN  np.nan"
   ],
   "id": "f5bb90d4dd8add6c",
   "outputs": [
    {
     "name": "stdout",
     "output_type": "stream",
     "text": [
      "s1+s2: \n",
      "0    30.0\n",
      "1    32.0\n",
      "2    34.0\n",
      "3    36.0\n",
      "4    38.0\n",
      "5     NaN\n",
      "6     NaN\n",
      "7     NaN\n",
      "8     NaN\n",
      "9     NaN\n",
      "dtype: float64\n"
     ]
    }
   ],
   "execution_count": 13
  },
  {
   "metadata": {
    "ExecuteTime": {
     "end_time": "2025-01-09T01:05:14.623502Z",
     "start_time": "2025-01-09T01:05:14.620957Z"
    }
   },
   "cell_type": "code",
   "source": [
    "#两个长度不同的一维ndarray相加\n",
    "a1 = np.array([1, 2, 3, 4, 5])\n",
    "a2 = np.array([1])  # 长度为1\n",
    "print(a2.shape)\n",
    "print(a1 + a2)"
   ],
   "id": "eb1379e09999781e",
   "outputs": [
    {
     "name": "stdout",
     "output_type": "stream",
     "text": [
      "(1,)\n",
      "[2 3 4 5 6]\n"
     ]
    }
   ],
   "execution_count": 14
  },
  {
   "metadata": {
    "ExecuteTime": {
     "end_time": "2025-01-09T01:07:10.505423Z",
     "start_time": "2025-01-09T01:07:10.500810Z"
    }
   },
   "cell_type": "code",
   "source": [
    "print(np.isnan(s3[6]))\n",
    "print('-' * 50)\n",
    "print(s2.add(s1, fill_value=0))  #未对齐的数据将和填充值做运算\n",
    "print(s2.sub(s1, fill_value=0))"
   ],
   "id": "3af9a2e6c3cd5c0f",
   "outputs": [
    {
     "name": "stdout",
     "output_type": "stream",
     "text": [
      "True\n",
      "--------------------------------------------------\n",
      "0    30.0\n",
      "1    32.0\n",
      "2    34.0\n",
      "3    36.0\n",
      "4    38.0\n",
      "5    15.0\n",
      "6    16.0\n",
      "7    17.0\n",
      "8    18.0\n",
      "9    19.0\n",
      "dtype: float64\n",
      "0    10.0\n",
      "1    10.0\n",
      "2    10.0\n",
      "3    10.0\n",
      "4    10.0\n",
      "5   -15.0\n",
      "6   -16.0\n",
      "7   -17.0\n",
      "8   -18.0\n",
      "9   -19.0\n",
      "dtype: float64\n"
     ]
    }
   ],
   "execution_count": 15
  },
  {
   "metadata": {
    "ExecuteTime": {
     "end_time": "2025-01-09T01:09:00.620852Z",
     "start_time": "2025-01-09T01:09:00.613180Z"
    }
   },
   "cell_type": "code",
   "source": [
    "#df的对齐运算\n",
    "df1 = pd.DataFrame(np.ones((2, 2)), columns=['a', 'b'])\n",
    "df2 = pd.DataFrame(np.ones((3, 3)), columns=['a', 'b', 'c'])\n",
    "print(df1)\n",
    "print(df2)\n",
    "print('-' * 50)\n",
    "print(df2.dtypes)\n",
    "print(df1 - df2)\n",
    "print(df2.sub(df1, fill_value=2))  #未对齐的数据将和填充值做运算"
   ],
   "id": "d2b8e8af5d313b5d",
   "outputs": [
    {
     "name": "stdout",
     "output_type": "stream",
     "text": [
      "     a    b\n",
      "0  1.0  1.0\n",
      "1  1.0  1.0\n",
      "     a    b    c\n",
      "0  1.0  1.0  1.0\n",
      "1  1.0  1.0  1.0\n",
      "2  1.0  1.0  1.0\n",
      "--------------------------------------------------\n",
      "a    float64\n",
      "b    float64\n",
      "c    float64\n",
      "dtype: object\n",
      "     a    b   c\n",
      "0  0.0  0.0 NaN\n",
      "1  0.0  0.0 NaN\n",
      "2  NaN  NaN NaN\n",
      "     a    b    c\n",
      "0  0.0  0.0 -1.0\n",
      "1  0.0  0.0 -1.0\n",
      "2 -1.0 -1.0 -1.0\n"
     ]
    }
   ],
   "execution_count": 17
  },
  {
   "metadata": {
    "ExecuteTime": {
     "end_time": "2025-01-09T06:00:56.726692Z",
     "start_time": "2025-01-09T06:00:56.720056Z"
    }
   },
   "cell_type": "code",
   "source": [
    "df = pd.DataFrame(np.random.randn(5, 4) - 1)\n",
    "print(df)\n",
    "print(np.abs(df))"
   ],
   "id": "64d88eef1a6dab1a",
   "outputs": [
    {
     "name": "stdout",
     "output_type": "stream",
     "text": [
      "          0         1         2         3\n",
      "0 -0.246997 -0.230565 -0.858117 -0.769128\n",
      "1 -0.087230  0.279511 -0.561987 -0.582700\n",
      "2  0.570058 -1.733503 -0.546222 -0.555152\n",
      "3 -1.204561 -0.563471 -2.014922 -1.878405\n",
      "4 -2.388825 -1.067696 -2.249344  0.544550\n",
      "          0         1         2         3\n",
      "0  0.246997  0.230565  0.858117  0.769128\n",
      "1  0.087230  0.279511  0.561987  0.582700\n",
      "2  0.570058  1.733503  0.546222  0.555152\n",
      "3  1.204561  0.563471  2.014922  1.878405\n",
      "4  2.388825  1.067696  2.249344  0.544550\n"
     ]
    }
   ],
   "execution_count": 18
  },
  {
   "metadata": {
    "ExecuteTime": {
     "end_time": "2025-01-09T10:35:03.773626Z",
     "start_time": "2025-01-09T10:35:03.770558Z"
    }
   },
   "cell_type": "code",
   "source": "print(df.apply(lambda x: x.max(),axis=0))",
   "id": "58899c13243da80f",
   "outputs": [
    {
     "name": "stdout",
     "output_type": "stream",
     "text": [
      "0    0.570058\n",
      "1    0.279511\n",
      "2   -0.546222\n",
      "3    0.544550\n",
      "dtype: float64\n"
     ]
    }
   ],
   "execution_count": 21
  },
  {
   "metadata": {
    "ExecuteTime": {
     "end_time": "2025-01-09T10:35:14.344361Z",
     "start_time": "2025-01-09T10:35:14.341294Z"
    }
   },
   "cell_type": "code",
   "source": [
    "#apply作用在行上\n",
    "print(df.apply(lambda x : x.max(), axis=1))"
   ],
   "id": "8e6ef94f5d9e0a87",
   "outputs": [
    {
     "name": "stdout",
     "output_type": "stream",
     "text": [
      "0   -0.230565\n",
      "1    0.279511\n",
      "2    0.570058\n",
      "3   -0.563471\n",
      "4    0.544550\n",
      "dtype: float64\n"
     ]
    }
   ],
   "execution_count": 22
  },
  {
   "metadata": {
    "ExecuteTime": {
     "end_time": "2025-01-09T10:40:31.971572Z",
     "start_time": "2025-01-09T10:40:31.967488Z"
    }
   },
   "cell_type": "code",
   "source": [
    "# 使用applymap应用到每个数据\n",
    "print(df.map(lambda x : f'{x:.2f}'))\n",
    "df.dtypes"
   ],
   "id": "89d13d1ad3cac9a1",
   "outputs": [
    {
     "name": "stdout",
     "output_type": "stream",
     "text": [
      "       0      1      2      3\n",
      "0  -0.25  -0.23  -0.86  -0.77\n",
      "1  -0.09   0.28  -0.56  -0.58\n",
      "2   0.57  -1.73  -0.55  -0.56\n",
      "3  -1.20  -0.56  -2.01  -1.88\n",
      "4  -2.39  -1.07  -2.25   0.54\n"
     ]
    },
    {
     "data": {
      "text/plain": [
       "0    float64\n",
       "1    float64\n",
       "2    float64\n",
       "3    float64\n",
       "dtype: object"
      ]
     },
     "execution_count": 35,
     "metadata": {},
     "output_type": "execute_result"
    }
   ],
   "execution_count": 35
  },
  {
   "metadata": {
    "ExecuteTime": {
     "end_time": "2025-01-09T10:45:02.323437Z",
     "start_time": "2025-01-09T10:45:02.317810Z"
    }
   },
   "cell_type": "code",
   "source": [
    "# Series\n",
    "print(np.random.randint(5, size=5))\n",
    "print('-'*50)\n",
    "s4 = pd.Series(range(10, 15), index = np.random.randint(5, size=5)) #索引随机生成\n",
    "print(s4)\n",
    "print('-'*50)\n",
    "# 索引排序,sort_index返回一个新的排好索引的series\n",
    "print(s4.sort_index())\n",
    "print(s4)\n",
    "# s4.loc[0:3]  loc索引值不唯一时直接报错\n",
    "print(s4.iloc[0:3])\n",
    "s4[0:3]  #默认用的位置索引"
   ],
   "id": "c7d004ec1986a645",
   "outputs": [
    {
     "name": "stdout",
     "output_type": "stream",
     "text": [
      "[1 2 2 3 1]\n",
      "--------------------------------------------------\n",
      "2    10\n",
      "4    11\n",
      "4    12\n",
      "2    13\n",
      "3    14\n",
      "dtype: int64\n",
      "--------------------------------------------------\n",
      "2    10\n",
      "2    13\n",
      "3    14\n",
      "4    11\n",
      "4    12\n",
      "dtype: int64\n",
      "2    10\n",
      "4    11\n",
      "4    12\n",
      "2    13\n",
      "3    14\n",
      "dtype: int64\n",
      "2    10\n",
      "4    11\n",
      "4    12\n",
      "dtype: int64\n"
     ]
    },
    {
     "data": {
      "text/plain": [
       "2    10\n",
       "4    11\n",
       "4    12\n",
       "dtype: int64"
      ]
     },
     "execution_count": 37,
     "metadata": {},
     "output_type": "execute_result"
    }
   ],
   "execution_count": 37
  },
  {
   "metadata": {
    "ExecuteTime": {
     "end_time": "2025-01-09T10:45:38.468650Z",
     "start_time": "2025-01-09T10:45:38.463567Z"
    }
   },
   "cell_type": "code",
   "source": [
    "# DataFrame\n",
    "df4 = pd.DataFrame(np.random.randn(5, 5),\n",
    "                   index=np.random.randint(5, size=5),\n",
    "                   columns=np.random.randint(5, size=5))\n",
    "print(df4)\n",
    "#轴零是行索引排序\n",
    "df4_isort = df4.sort_index(axis=0, ascending=False)\n",
    "print(df4_isort)"
   ],
   "id": "836f7672ef8a16b7",
   "outputs": [
    {
     "name": "stdout",
     "output_type": "stream",
     "text": [
      "          3         3         3         1         4\n",
      "3 -0.065104 -2.522119 -0.420076 -0.120763  1.090195\n",
      "4  1.494598  0.918623 -1.080053 -0.643597 -1.348454\n",
      "0 -0.260016 -0.301000  1.582768 -0.151202 -1.610185\n",
      "2  0.966849  0.605068  1.625329  0.428779 -0.277186\n",
      "1  0.338107 -0.805400 -1.993015 -0.897092 -0.921272\n",
      "          3         3         3         1         4\n",
      "4  1.494598  0.918623 -1.080053 -0.643597 -1.348454\n",
      "3 -0.065104 -2.522119 -0.420076 -0.120763  1.090195\n",
      "2  0.966849  0.605068  1.625329  0.428779 -0.277186\n",
      "1  0.338107 -0.805400 -1.993015 -0.897092 -0.921272\n",
      "0 -0.260016 -0.301000  1.582768 -0.151202 -1.610185\n"
     ]
    }
   ],
   "execution_count": 38
  },
  {
   "metadata": {
    "ExecuteTime": {
     "end_time": "2025-01-09T10:46:03.479374Z",
     "start_time": "2025-01-09T10:46:03.475805Z"
    }
   },
   "cell_type": "code",
   "source": [
    "#轴1是列索引排序\n",
    "df4_isort = df4.sort_index(axis=1, ascending=True)\n",
    "print(df4_isort)"
   ],
   "id": "8986bf6d708e3e5d",
   "outputs": [
    {
     "name": "stdout",
     "output_type": "stream",
     "text": [
      "          1         3         3         3         4\n",
      "3 -0.120763 -0.065104 -2.522119 -0.420076  1.090195\n",
      "4 -0.643597  1.494598  0.918623 -1.080053 -1.348454\n",
      "0 -0.151202 -0.260016 -0.301000  1.582768 -1.610185\n",
      "2  0.428779  0.966849  0.605068  1.625329 -0.277186\n",
      "1 -0.897092  0.338107 -0.805400 -1.993015 -0.921272\n"
     ]
    }
   ],
   "execution_count": 39
  },
  {
   "metadata": {
    "ExecuteTime": {
     "end_time": "2025-01-09T10:46:37.191587Z",
     "start_time": "2025-01-09T10:46:37.186480Z"
    }
   },
   "cell_type": "code",
   "source": [
    "# 按值排序,by后是column的值\n",
    "import random\n",
    "l=[random.randint(0,100) for i in range(24)] #生成24个随机数\n",
    "df4 = pd.DataFrame(np.array(l).reshape(6,4)) #生成6行4列的dataframe\n",
    "# print(df4) #查看数据,ndarray\n",
    "# print('-'*50)\n",
    "print(df4)\n",
    "print('-'*50)\n",
    "#按轴零排序，by后是列名,交换的是行\n",
    "df4_vsort = df4.sort_values(by=3,axis=0, ascending=False) #寻找的是columns里的3,重要\n",
    "print(df4_vsort)\n"
   ],
   "id": "ba286201e626f9d9",
   "outputs": [
    {
     "name": "stdout",
     "output_type": "stream",
     "text": [
      "    0   1    2   3\n",
      "0   5  67  100  37\n",
      "1  67  23   31  77\n",
      "2  99  63   61  16\n",
      "3  38   1   94  67\n",
      "4  71  29   45  85\n",
      "5  32  81   28  28\n",
      "--------------------------------------------------\n",
      "    0   1    2   3\n",
      "4  71  29   45  85\n",
      "1  67  23   31  77\n",
      "3  38   1   94  67\n",
      "0   5  67  100  37\n",
      "5  32  81   28  28\n",
      "2  99  63   61  16\n"
     ]
    }
   ],
   "execution_count": 40
  },
  {
   "metadata": {
    "ExecuteTime": {
     "end_time": "2025-01-09T10:49:27.375573Z",
     "start_time": "2025-01-09T10:49:27.371498Z"
    }
   },
   "cell_type": "code",
   "source": [
    "#按轴1排序，by后行索引名，交换的是列\n",
    "df4_vsort = df4.sort_values(by=3,axis=1, ascending=False) #寻找的是index里的3\n",
    "print(df4_vsort)"
   ],
   "id": "122e220c8ed89b47",
   "outputs": [
    {
     "name": "stdout",
     "output_type": "stream",
     "text": [
      "     2   3   0   1\n",
      "0  100  37   5  67\n",
      "1   31  77  67  23\n",
      "2   61  16  99  63\n",
      "3   94  67  38   1\n",
      "4   45  85  71  29\n",
      "5   28  28  32  81\n"
     ]
    }
   ],
   "execution_count": 41
  },
  {
   "metadata": {
    "ExecuteTime": {
     "end_time": "2025-01-09T11:03:18.719021Z",
     "start_time": "2025-01-09T11:03:18.715452Z"
    }
   },
   "cell_type": "code",
   "source": [
    "df_data = pd.DataFrame([np.random.randn(3), [1., 2., np.nan],\n",
    "                       [np.nan, 4., np.nan], [1., 2., 3.]])\n",
    "print(df_data.head())"
   ],
   "id": "3863f6fedf3688cc",
   "outputs": [
    {
     "name": "stdout",
     "output_type": "stream",
     "text": [
      "          0        1         2\n",
      "0  0.164724  0.05371 -0.319976\n",
      "1  1.000000  2.00000       NaN\n",
      "2       NaN  4.00000       NaN\n",
      "3  1.000000  2.00000  3.000000\n"
     ]
    }
   ],
   "execution_count": 56
  },
  {
   "metadata": {
    "ExecuteTime": {
     "end_time": "2025-01-09T10:53:47.946180Z",
     "start_time": "2025-01-09T10:53:47.943127Z"
    }
   },
   "cell_type": "code",
   "source": "print(df_data.isnull())",
   "id": "7d11c60f680b8b31",
   "outputs": [
    {
     "name": "stdout",
     "output_type": "stream",
     "text": [
      "       0      1      2\n",
      "0  False  False  False\n",
      "1  False  False   True\n",
      "2   True  False   True\n",
      "3  False  False  False\n"
     ]
    }
   ],
   "execution_count": 44
  },
  {
   "metadata": {
    "ExecuteTime": {
     "end_time": "2025-01-09T10:54:25.312742Z",
     "start_time": "2025-01-09T10:54:25.309671Z"
    }
   },
   "cell_type": "code",
   "source": "print(df_data.isnull().sum()/len(df_data))",
   "id": "a121a96b7c76b6c2",
   "outputs": [
    {
     "name": "stdout",
     "output_type": "stream",
     "text": [
      "0    0.25\n",
      "1    0.00\n",
      "2    0.50\n",
      "dtype: float64\n"
     ]
    }
   ],
   "execution_count": 45
  },
  {
   "metadata": {
    "ExecuteTime": {
     "end_time": "2025-01-09T11:03:29.994717Z",
     "start_time": "2025-01-09T11:03:29.990614Z"
    }
   },
   "cell_type": "code",
   "source": [
    "#subset=[0]是指按第一列来删除,第一列有空值就删除对应的行\n",
    "print(df_data.dropna(subset=[0]))"
   ],
   "id": "40575aa36152bafb",
   "outputs": [
    {
     "name": "stdout",
     "output_type": "stream",
     "text": [
      "          0        1         2\n",
      "0  0.164724  0.05371 -0.319976\n",
      "1  1.000000  2.00000       NaN\n",
      "3  1.000000  2.00000  3.000000\n"
     ]
    }
   ],
   "execution_count": 57
  },
  {
   "metadata": {
    "ExecuteTime": {
     "end_time": "2025-01-09T11:03:33.763029Z",
     "start_time": "2025-01-09T11:03:33.759432Z"
    }
   },
   "cell_type": "code",
   "source": [
    "#用的不多，用在某个特征缺失太多时，才会进行删除\n",
    "print(df_data.dropna(axis=1))  #某列有nan就删除该列"
   ],
   "id": "61ada3d85e02de8c",
   "outputs": [
    {
     "name": "stdout",
     "output_type": "stream",
     "text": [
      "         1\n",
      "0  0.05371\n",
      "1  2.00000\n",
      "2  4.00000\n",
      "3  2.00000\n"
     ]
    }
   ],
   "execution_count": 58
  },
  {
   "metadata": {
    "ExecuteTime": {
     "end_time": "2025-01-09T11:03:36.622130Z",
     "start_time": "2025-01-09T11:03:36.617548Z"
    }
   },
   "cell_type": "code",
   "source": [
    "print(df_data.iloc[:,0].fillna(-100.))\n",
    "df_data"
   ],
   "id": "cfff41e89338a3c4",
   "outputs": [
    {
     "name": "stdout",
     "output_type": "stream",
     "text": [
      "0      0.164724\n",
      "1      1.000000\n",
      "2   -100.000000\n",
      "3      1.000000\n",
      "Name: 0, dtype: float64\n"
     ]
    },
    {
     "data": {
      "text/plain": [
       "          0        1         2\n",
       "0  0.164724  0.05371 -0.319976\n",
       "1  1.000000  2.00000       NaN\n",
       "2       NaN  4.00000       NaN\n",
       "3  1.000000  2.00000  3.000000"
      ],
      "text/html": [
       "<div>\n",
       "<style scoped>\n",
       "    .dataframe tbody tr th:only-of-type {\n",
       "        vertical-align: middle;\n",
       "    }\n",
       "\n",
       "    .dataframe tbody tr th {\n",
       "        vertical-align: top;\n",
       "    }\n",
       "\n",
       "    .dataframe thead th {\n",
       "        text-align: right;\n",
       "    }\n",
       "</style>\n",
       "<table border=\"1\" class=\"dataframe\">\n",
       "  <thead>\n",
       "    <tr style=\"text-align: right;\">\n",
       "      <th></th>\n",
       "      <th>0</th>\n",
       "      <th>1</th>\n",
       "      <th>2</th>\n",
       "    </tr>\n",
       "  </thead>\n",
       "  <tbody>\n",
       "    <tr>\n",
       "      <th>0</th>\n",
       "      <td>0.164724</td>\n",
       "      <td>0.05371</td>\n",
       "      <td>-0.319976</td>\n",
       "    </tr>\n",
       "    <tr>\n",
       "      <th>1</th>\n",
       "      <td>1.000000</td>\n",
       "      <td>2.00000</td>\n",
       "      <td>NaN</td>\n",
       "    </tr>\n",
       "    <tr>\n",
       "      <th>2</th>\n",
       "      <td>NaN</td>\n",
       "      <td>4.00000</td>\n",
       "      <td>NaN</td>\n",
       "    </tr>\n",
       "    <tr>\n",
       "      <th>3</th>\n",
       "      <td>1.000000</td>\n",
       "      <td>2.00000</td>\n",
       "      <td>3.000000</td>\n",
       "    </tr>\n",
       "  </tbody>\n",
       "</table>\n",
       "</div>"
      ]
     },
     "execution_count": 59,
     "metadata": {},
     "output_type": "execute_result"
    }
   ],
   "execution_count": 59
  },
  {
   "metadata": {
    "ExecuteTime": {
     "end_time": "2025-01-09T11:03:40.363615Z",
     "start_time": "2025-01-09T11:03:40.359008Z"
    }
   },
   "cell_type": "code",
   "source": [
    "#依次拿到每一列\n",
    "for i in df_data.columns:\n",
    "    print(df_data.loc[:,i])\n",
    "df_data"
   ],
   "id": "f132d2a956fec839",
   "outputs": [
    {
     "name": "stdout",
     "output_type": "stream",
     "text": [
      "0    0.164724\n",
      "1    1.000000\n",
      "2         NaN\n",
      "3    1.000000\n",
      "Name: 0, dtype: float64\n",
      "0    0.05371\n",
      "1    2.00000\n",
      "2    4.00000\n",
      "3    2.00000\n",
      "Name: 1, dtype: float64\n",
      "0   -0.319976\n",
      "1         NaN\n",
      "2         NaN\n",
      "3    3.000000\n",
      "Name: 2, dtype: float64\n"
     ]
    },
    {
     "data": {
      "text/plain": [
       "          0        1         2\n",
       "0  0.164724  0.05371 -0.319976\n",
       "1  1.000000  2.00000       NaN\n",
       "2       NaN  4.00000       NaN\n",
       "3  1.000000  2.00000  3.000000"
      ],
      "text/html": [
       "<div>\n",
       "<style scoped>\n",
       "    .dataframe tbody tr th:only-of-type {\n",
       "        vertical-align: middle;\n",
       "    }\n",
       "\n",
       "    .dataframe tbody tr th {\n",
       "        vertical-align: top;\n",
       "    }\n",
       "\n",
       "    .dataframe thead th {\n",
       "        text-align: right;\n",
       "    }\n",
       "</style>\n",
       "<table border=\"1\" class=\"dataframe\">\n",
       "  <thead>\n",
       "    <tr style=\"text-align: right;\">\n",
       "      <th></th>\n",
       "      <th>0</th>\n",
       "      <th>1</th>\n",
       "      <th>2</th>\n",
       "    </tr>\n",
       "  </thead>\n",
       "  <tbody>\n",
       "    <tr>\n",
       "      <th>0</th>\n",
       "      <td>0.164724</td>\n",
       "      <td>0.05371</td>\n",
       "      <td>-0.319976</td>\n",
       "    </tr>\n",
       "    <tr>\n",
       "      <th>1</th>\n",
       "      <td>1.000000</td>\n",
       "      <td>2.00000</td>\n",
       "      <td>NaN</td>\n",
       "    </tr>\n",
       "    <tr>\n",
       "      <th>2</th>\n",
       "      <td>NaN</td>\n",
       "      <td>4.00000</td>\n",
       "      <td>NaN</td>\n",
       "    </tr>\n",
       "    <tr>\n",
       "      <th>3</th>\n",
       "      <td>1.000000</td>\n",
       "      <td>2.00000</td>\n",
       "      <td>3.000000</td>\n",
       "    </tr>\n",
       "  </tbody>\n",
       "</table>\n",
       "</div>"
      ]
     },
     "execution_count": 60,
     "metadata": {},
     "output_type": "execute_result"
    }
   ],
   "execution_count": 60
  },
  {
   "metadata": {
    "ExecuteTime": {
     "end_time": "2025-01-09T11:03:49.343491Z",
     "start_time": "2025-01-09T11:03:49.338900Z"
    }
   },
   "cell_type": "code",
   "source": [
    "df_data.iloc[:,2]=df_data.iloc[:,2].fillna(df_data.iloc[:,2].mean())\n",
    "df_data"
   ],
   "id": "ed57b0f265e177bd",
   "outputs": [
    {
     "data": {
      "text/plain": [
       "          0        1         2\n",
       "0  0.164724  0.05371 -0.319976\n",
       "1  1.000000  2.00000  1.340012\n",
       "2       NaN  4.00000  1.340012\n",
       "3  1.000000  2.00000  3.000000"
      ],
      "text/html": [
       "<div>\n",
       "<style scoped>\n",
       "    .dataframe tbody tr th:only-of-type {\n",
       "        vertical-align: middle;\n",
       "    }\n",
       "\n",
       "    .dataframe tbody tr th {\n",
       "        vertical-align: top;\n",
       "    }\n",
       "\n",
       "    .dataframe thead th {\n",
       "        text-align: right;\n",
       "    }\n",
       "</style>\n",
       "<table border=\"1\" class=\"dataframe\">\n",
       "  <thead>\n",
       "    <tr style=\"text-align: right;\">\n",
       "      <th></th>\n",
       "      <th>0</th>\n",
       "      <th>1</th>\n",
       "      <th>2</th>\n",
       "    </tr>\n",
       "  </thead>\n",
       "  <tbody>\n",
       "    <tr>\n",
       "      <th>0</th>\n",
       "      <td>0.164724</td>\n",
       "      <td>0.05371</td>\n",
       "      <td>-0.319976</td>\n",
       "    </tr>\n",
       "    <tr>\n",
       "      <th>1</th>\n",
       "      <td>1.000000</td>\n",
       "      <td>2.00000</td>\n",
       "      <td>1.340012</td>\n",
       "    </tr>\n",
       "    <tr>\n",
       "      <th>2</th>\n",
       "      <td>NaN</td>\n",
       "      <td>4.00000</td>\n",
       "      <td>1.340012</td>\n",
       "    </tr>\n",
       "    <tr>\n",
       "      <th>3</th>\n",
       "      <td>1.000000</td>\n",
       "      <td>2.00000</td>\n",
       "      <td>3.000000</td>\n",
       "    </tr>\n",
       "  </tbody>\n",
       "</table>\n",
       "</div>"
      ]
     },
     "execution_count": 61,
     "metadata": {},
     "output_type": "execute_result"
    }
   ],
   "execution_count": 61
  },
  {
   "metadata": {
    "ExecuteTime": {
     "end_time": "2025-01-09T11:05:16.386585Z",
     "start_time": "2025-01-09T11:05:16.380980Z"
    }
   },
   "cell_type": "code",
   "source": [
    "#MultiIndex是层级索引，索引类型的一种\n",
    "index1 = pd.MultiIndex.from_arrays([['a', 'a', 'a', 'b', 'b', 'b', 'c', 'c', 'c', 'd', 'd', 'd'],\n",
    "                [0, 1, 2, 0, 1, 2, 0, 1, 2, 0, 1, 2]], names=['cloth', 'size'])\n",
    "\n",
    "ser_obj = pd.Series(np.random.randn(12),index=index1)\n",
    "print(ser_obj)\n",
    "print(type(ser_obj)) #Series\n",
    "print(type(ser_obj.index)) #索引类型，MultiIndex\n",
    "print(ser_obj.index)\n",
    "print(ser_obj.index.levels) #层级索引的索引值\n",
    "ser_obj.index.codes  #没那么重要，代表索引的位置"
   ],
   "id": "527eb3fb1ba9234b",
   "outputs": [
    {
     "name": "stdout",
     "output_type": "stream",
     "text": [
      "cloth  size\n",
      "a      0      -0.910130\n",
      "       1       0.290214\n",
      "       2      -0.687708\n",
      "b      0      -0.848799\n",
      "       1       1.640477\n",
      "       2       0.308347\n",
      "c      0      -0.548141\n",
      "       1       2.022996\n",
      "       2       0.510271\n",
      "d      0      -1.001488\n",
      "       1       0.486512\n",
      "       2      -0.066082\n",
      "dtype: float64\n",
      "<class 'pandas.core.series.Series'>\n",
      "<class 'pandas.core.indexes.multi.MultiIndex'>\n",
      "MultiIndex([('a', 0),\n",
      "            ('a', 1),\n",
      "            ('a', 2),\n",
      "            ('b', 0),\n",
      "            ('b', 1),\n",
      "            ('b', 2),\n",
      "            ('c', 0),\n",
      "            ('c', 1),\n",
      "            ('c', 2),\n",
      "            ('d', 0),\n",
      "            ('d', 1),\n",
      "            ('d', 2)],\n",
      "           names=['cloth', 'size'])\n",
      "[['a', 'b', 'c', 'd'], [0, 1, 2]]\n"
     ]
    },
    {
     "data": {
      "text/plain": [
       "FrozenList([[0, 0, 0, 1, 1, 1, 2, 2, 2, 3, 3, 3], [0, 1, 2, 0, 1, 2, 0, 1, 2, 0, 1, 2]])"
      ]
     },
     "execution_count": 62,
     "metadata": {},
     "output_type": "execute_result"
    }
   ],
   "execution_count": 62
  },
  {
   "metadata": {
    "ExecuteTime": {
     "end_time": "2025-01-09T11:07:24.579142Z",
     "start_time": "2025-01-09T11:07:24.574555Z"
    }
   },
   "cell_type": "code",
   "source": [
    "#层级索引如何取数据\n",
    "print('-'*50)\n",
    "print(ser_obj['c']) #取出c的所有数据，取出的是series\n",
    "print('-'*50)\n",
    "print(ser_obj.loc['a', 2])\n",
    "print('-'*50)\n",
    "print(ser_obj[:, 2]) #取出所有行的内层索引为2的数据"
   ],
   "id": "ffbb5dc188ee763a",
   "outputs": [
    {
     "name": "stdout",
     "output_type": "stream",
     "text": [
      "--------------------------------------------------\n",
      "size\n",
      "0   -0.548141\n",
      "1    2.022996\n",
      "2    0.510271\n",
      "dtype: float64\n",
      "--------------------------------------------------\n",
      "-0.6877083538109864\n",
      "--------------------------------------------------\n",
      "cloth\n",
      "a   -0.687708\n",
      "b    0.308347\n",
      "c    0.510271\n",
      "d   -0.066082\n",
      "dtype: float64\n"
     ]
    }
   ],
   "execution_count": 63
  },
  {
   "metadata": {
    "ExecuteTime": {
     "end_time": "2025-01-09T11:08:19.947751Z",
     "start_time": "2025-01-09T11:08:19.943672Z"
    }
   },
   "cell_type": "code",
   "source": [
    "print(ser_obj.swaplevel())\n",
    "print('-'*50)\n",
    "print(ser_obj)\n",
    "print('-'*50)\n",
    "ser_obj=ser_obj.swaplevel()\n",
    "print(ser_obj)"
   ],
   "id": "4db3f915cfe938cc",
   "outputs": [
    {
     "name": "stdout",
     "output_type": "stream",
     "text": [
      "size  cloth\n",
      "0     a       -0.910130\n",
      "1     a        0.290214\n",
      "2     a       -0.687708\n",
      "0     b       -0.848799\n",
      "1     b        1.640477\n",
      "2     b        0.308347\n",
      "0     c       -0.548141\n",
      "1     c        2.022996\n",
      "2     c        0.510271\n",
      "0     d       -1.001488\n",
      "1     d        0.486512\n",
      "2     d       -0.066082\n",
      "dtype: float64\n",
      "--------------------------------------------------\n",
      "cloth  size\n",
      "a      0      -0.910130\n",
      "       1       0.290214\n",
      "       2      -0.687708\n",
      "b      0      -0.848799\n",
      "       1       1.640477\n",
      "       2       0.308347\n",
      "c      0      -0.548141\n",
      "       1       2.022996\n",
      "       2       0.510271\n",
      "d      0      -1.001488\n",
      "       1       0.486512\n",
      "       2      -0.066082\n",
      "dtype: float64\n",
      "--------------------------------------------------\n",
      "size  cloth\n",
      "0     a       -0.910130\n",
      "1     a        0.290214\n",
      "2     a       -0.687708\n",
      "0     b       -0.848799\n",
      "1     b        1.640477\n",
      "2     b        0.308347\n",
      "0     c       -0.548141\n",
      "1     c        2.022996\n",
      "2     c        0.510271\n",
      "0     d       -1.001488\n",
      "1     d        0.486512\n",
      "2     d       -0.066082\n",
      "dtype: float64\n"
     ]
    }
   ],
   "execution_count": 64
  },
  {
   "metadata": {
    "ExecuteTime": {
     "end_time": "2025-01-09T11:10:05.361407Z",
     "start_time": "2025-01-09T11:10:05.358338Z"
    }
   },
   "cell_type": "code",
   "source": "print(ser_obj.sort_index(level=0))",
   "id": "40fc5c83575b251d",
   "outputs": [
    {
     "name": "stdout",
     "output_type": "stream",
     "text": [
      "size  cloth\n",
      "0     a       -0.910130\n",
      "      b       -0.848799\n",
      "      c       -0.548141\n",
      "      d       -1.001488\n",
      "1     a        0.290214\n",
      "      b        1.640477\n",
      "      c        2.022996\n",
      "      d        0.486512\n",
      "2     a       -0.687708\n",
      "      b        0.308347\n",
      "      c        0.510271\n",
      "      d       -0.066082\n",
      "dtype: float64\n"
     ]
    }
   ],
   "execution_count": 65
  },
  {
   "metadata": {
    "ExecuteTime": {
     "end_time": "2025-01-09T11:11:10.667994Z",
     "start_time": "2025-01-09T11:11:10.664435Z"
    }
   },
   "cell_type": "code",
   "source": "ser_obj",
   "id": "a4dcec3b9e8b267d",
   "outputs": [
    {
     "data": {
      "text/plain": [
       "size  cloth\n",
       "0     a       -0.910130\n",
       "1     a        0.290214\n",
       "2     a       -0.687708\n",
       "0     b       -0.848799\n",
       "1     b        1.640477\n",
       "2     b        0.308347\n",
       "0     c       -0.548141\n",
       "1     c        2.022996\n",
       "2     c        0.510271\n",
       "0     d       -1.001488\n",
       "1     d        0.486512\n",
       "2     d       -0.066082\n",
       "dtype: float64"
      ]
     },
     "execution_count": 67,
     "metadata": {},
     "output_type": "execute_result"
    }
   ],
   "execution_count": 67
  },
  {
   "metadata": {
    "ExecuteTime": {
     "end_time": "2025-01-09T11:12:34.203685Z",
     "start_time": "2025-01-09T11:12:34.199611Z"
    }
   },
   "cell_type": "code",
   "source": [
    "\n",
    "#把最大索引变为列索引\n",
    "df_obj=ser_obj.unstack('size')  #unstack的level参数是索引层级\n",
    "print(df_obj)"
   ],
   "id": "dd8a3dc813870a5c",
   "outputs": [
    {
     "name": "stdout",
     "output_type": "stream",
     "text": [
      "size          0         1         2\n",
      "cloth                              \n",
      "a     -0.910130  0.290214 -0.687708\n",
      "b     -0.848799  1.640477  0.308347\n",
      "c     -0.548141  2.022996  0.510271\n",
      "d     -1.001488  0.486512 -0.066082\n"
     ]
    }
   ],
   "execution_count": 68
  },
  {
   "metadata": {
    "ExecuteTime": {
     "end_time": "2025-01-09T11:13:18.332945Z",
     "start_time": "2025-01-09T11:13:18.329396Z"
    }
   },
   "cell_type": "code",
   "source": [
    "#对df进行stack，就会把行，列索引进行堆叠，变为series\n",
    "#把列索引放入内层,只能放到内层\n",
    "print(df_obj.stack())  #stack变为series和unstack保持一致的"
   ],
   "id": "809d8a33d904fbf4",
   "outputs": [
    {
     "name": "stdout",
     "output_type": "stream",
     "text": [
      "cloth  size\n",
      "a      0      -0.910130\n",
      "       1       0.290214\n",
      "       2      -0.687708\n",
      "b      0      -0.848799\n",
      "       1       1.640477\n",
      "       2       0.308347\n",
      "c      0      -0.548141\n",
      "       1       2.022996\n",
      "       2       0.510271\n",
      "d      0      -1.001488\n",
      "       1       0.486512\n",
      "       2      -0.066082\n",
      "dtype: float64\n"
     ]
    }
   ],
   "execution_count": 69
  },
  {
   "metadata": {
    "ExecuteTime": {
     "end_time": "2025-01-09T13:26:32.422661Z",
     "start_time": "2025-01-09T13:26:32.415474Z"
    }
   },
   "cell_type": "code",
   "source": [
    "index1 = pd.MultiIndex.from_arrays([['a', 'a', 'a', 'b', 'b', 'b', 'c', 'c', 'c', 'd', 'd', 'd'],\n",
    "                [0, 1, 2, 0, 1, 2, 0, 1, 2, 0, 1, 2]], names=['cloth', 'size'])\n",
    "\n",
    "ser_obj = pd.Series(np.random.randn(12),index=index1)\n",
    "df_obj=ser_obj.unstack(0)\n",
    "print(df_obj)\n",
    "#计算最小值有空值如何处理\n",
    "df_obj.loc[0,'b']=np.nan\n",
    "print(df_obj)\n",
    "print('-'*50)\n",
    "print(df_obj.min(axis=0))"
   ],
   "id": "634d0e5b50850955",
   "outputs": [
    {
     "name": "stdout",
     "output_type": "stream",
     "text": [
      "cloth         a         b         c         d\n",
      "size                                         \n",
      "0      1.668265  1.393959  1.815546  0.190261\n",
      "1     -0.226285 -0.851010 -0.223469  0.086441\n",
      "2     -0.934412  0.864778  2.242993  0.001848\n",
      "cloth         a         b         c         d\n",
      "size                                         \n",
      "0      1.668265       NaN  1.815546  0.190261\n",
      "1     -0.226285 -0.851010 -0.223469  0.086441\n",
      "2     -0.934412  0.864778  2.242993  0.001848\n",
      "--------------------------------------------------\n",
      "cloth\n",
      "a   -0.934412\n",
      "b   -0.851010\n",
      "c   -0.223469\n",
      "d    0.001848\n",
      "dtype: float64\n"
     ]
    }
   ],
   "execution_count": 70
  },
  {
   "metadata": {
    "ExecuteTime": {
     "end_time": "2025-01-09T13:26:48.701644Z",
     "start_time": "2025-01-09T13:26:48.694474Z"
    }
   },
   "cell_type": "code",
   "source": "print(df_obj.describe())",
   "id": "deef833e61d545b5",
   "outputs": [
    {
     "name": "stdout",
     "output_type": "stream",
     "text": [
      "cloth         a         b         c         d\n",
      "count  3.000000  2.000000  3.000000  3.000000\n",
      "mean   0.169189  0.006884  1.278357  0.092850\n",
      "std    1.345653  1.213245  1.318062  0.094370\n",
      "min   -0.934412 -0.851010 -0.223469  0.001848\n",
      "25%   -0.580349 -0.422063  0.796039  0.044145\n",
      "50%   -0.226285  0.006884  1.815546  0.086441\n",
      "75%    0.720990  0.435831  2.029270  0.138351\n",
      "max    1.668265  0.864778  2.242993  0.190261\n"
     ]
    }
   ],
   "execution_count": 71
  },
  {
   "metadata": {
    "ExecuteTime": {
     "end_time": "2025-01-09T13:27:53.315578Z",
     "start_time": "2025-01-09T13:27:53.311995Z"
    }
   },
   "cell_type": "code",
   "source": "df_obj.loc[:,'c']",
   "id": "b3d1b0513520c89e",
   "outputs": [
    {
     "data": {
      "text/plain": [
       "size\n",
       "0    1.815546\n",
       "1   -0.223469\n",
       "2    2.242993\n",
       "Name: c, dtype: float64"
      ]
     },
     "execution_count": 72,
     "metadata": {},
     "output_type": "execute_result"
    }
   ],
   "execution_count": 72
  },
  {
   "metadata": {
    "ExecuteTime": {
     "end_time": "2025-01-09T13:28:14.208499Z",
     "start_time": "2025-01-09T13:28:14.205932Z"
    }
   },
   "cell_type": "code",
   "source": [
    "#计算最小值或者最大值的索引的位置\n",
    "print(df_obj.loc[:,'c'].argmin())#argmin和argmax只能是series，不能是df"
   ],
   "id": "d8cbe90cd7b38c3a",
   "outputs": [
    {
     "name": "stdout",
     "output_type": "stream",
     "text": [
      "1\n"
     ]
    }
   ],
   "execution_count": 73
  },
  {
   "metadata": {
    "ExecuteTime": {
     "end_time": "2025-01-09T13:29:45.239977Z",
     "start_time": "2025-01-09T13:29:45.236412Z"
    }
   },
   "cell_type": "code",
   "source": [
    "#返回的是一个series\n",
    "#计算最小值或者最大值的索引值\n",
    "df_obj.idxmin(axis=0, skipna=True)"
   ],
   "id": "7595104cb354b1ac",
   "outputs": [
    {
     "data": {
      "text/plain": [
       "cloth\n",
       "a    2\n",
       "b    1\n",
       "c    1\n",
       "d    2\n",
       "dtype: int64"
      ]
     },
     "execution_count": 74,
     "metadata": {},
     "output_type": "execute_result"
    }
   ],
   "execution_count": 74
  },
  {
   "metadata": {
    "ExecuteTime": {
     "end_time": "2025-01-09T13:31:27.997352Z",
     "start_time": "2025-01-09T13:31:26.741533Z"
    }
   },
   "cell_type": "code",
   "source": [
    "from matplotlib import pyplot as plt\n",
    "\n",
    "file_path = \"IMDB-Movie-Data.csv\"\n",
    "df = pd.read_csv(file_path) #不加路径默认当前路径\n",
    "# 打印数据信息\n",
    "print(df.info()) #查看数据的信息\n",
    "print('-'*50)\n",
    "df.head() #查看数值类型的数据的信息"
   ],
   "id": "53eda354d8f4201c",
   "outputs": [
    {
     "name": "stdout",
     "output_type": "stream",
     "text": [
      "<class 'pandas.core.frame.DataFrame'>\n",
      "RangeIndex: 1000 entries, 0 to 999\n",
      "Data columns (total 12 columns):\n",
      " #   Column              Non-Null Count  Dtype  \n",
      "---  ------              --------------  -----  \n",
      " 0   Rank                1000 non-null   int64  \n",
      " 1   Title               1000 non-null   object \n",
      " 2   Genre               1000 non-null   object \n",
      " 3   Description         1000 non-null   object \n",
      " 4   Director            1000 non-null   object \n",
      " 5   Actors              1000 non-null   object \n",
      " 6   Year                1000 non-null   int64  \n",
      " 7   Runtime (Minutes)   1000 non-null   int64  \n",
      " 8   Rating              1000 non-null   float64\n",
      " 9   Votes               1000 non-null   int64  \n",
      " 10  Revenue (Millions)  872 non-null    float64\n",
      " 11  Metascore           936 non-null    float64\n",
      "dtypes: float64(3), int64(4), object(5)\n",
      "memory usage: 93.9+ KB\n",
      "None\n",
      "--------------------------------------------------\n"
     ]
    },
    {
     "data": {
      "text/plain": [
       "   Rank                    Title                     Genre  \\\n",
       "0     1  Guardians of the Galaxy   Action,Adventure,Sci-Fi   \n",
       "1     2               Prometheus  Adventure,Mystery,Sci-Fi   \n",
       "2     3                    Split           Horror,Thriller   \n",
       "3     4                     Sing   Animation,Comedy,Family   \n",
       "4     5            Suicide Squad  Action,Adventure,Fantasy   \n",
       "\n",
       "                                         Description              Director  \\\n",
       "0  A group of intergalactic criminals are forced ...            James Gunn   \n",
       "1  Following clues to the origin of mankind, a te...          Ridley Scott   \n",
       "2  Three girls are kidnapped by a man with a diag...    M. Night Shyamalan   \n",
       "3  In a city of humanoid animals, a hustling thea...  Christophe Lourdelet   \n",
       "4  A secret government agency recruits some of th...            David Ayer   \n",
       "\n",
       "                                              Actors  Year  Runtime (Minutes)  \\\n",
       "0  Chris Pratt, Vin Diesel, Bradley Cooper, Zoe S...  2014                121   \n",
       "1  Noomi Rapace, Logan Marshall-Green, Michael Fa...  2012                124   \n",
       "2  James McAvoy, Anya Taylor-Joy, Haley Lu Richar...  2016                117   \n",
       "3  Matthew McConaughey,Reese Witherspoon, Seth Ma...  2016                108   \n",
       "4  Will Smith, Jared Leto, Margot Robbie, Viola D...  2016                123   \n",
       "\n",
       "   Rating   Votes  Revenue (Millions)  Metascore  \n",
       "0     8.1  757074              333.13       76.0  \n",
       "1     7.0  485820              126.46       65.0  \n",
       "2     7.3  157606              138.12       62.0  \n",
       "3     7.2   60545              270.32       59.0  \n",
       "4     6.2  393727              325.02       40.0  "
      ],
      "text/html": [
       "<div>\n",
       "<style scoped>\n",
       "    .dataframe tbody tr th:only-of-type {\n",
       "        vertical-align: middle;\n",
       "    }\n",
       "\n",
       "    .dataframe tbody tr th {\n",
       "        vertical-align: top;\n",
       "    }\n",
       "\n",
       "    .dataframe thead th {\n",
       "        text-align: right;\n",
       "    }\n",
       "</style>\n",
       "<table border=\"1\" class=\"dataframe\">\n",
       "  <thead>\n",
       "    <tr style=\"text-align: right;\">\n",
       "      <th></th>\n",
       "      <th>Rank</th>\n",
       "      <th>Title</th>\n",
       "      <th>Genre</th>\n",
       "      <th>Description</th>\n",
       "      <th>Director</th>\n",
       "      <th>Actors</th>\n",
       "      <th>Year</th>\n",
       "      <th>Runtime (Minutes)</th>\n",
       "      <th>Rating</th>\n",
       "      <th>Votes</th>\n",
       "      <th>Revenue (Millions)</th>\n",
       "      <th>Metascore</th>\n",
       "    </tr>\n",
       "  </thead>\n",
       "  <tbody>\n",
       "    <tr>\n",
       "      <th>0</th>\n",
       "      <td>1</td>\n",
       "      <td>Guardians of the Galaxy</td>\n",
       "      <td>Action,Adventure,Sci-Fi</td>\n",
       "      <td>A group of intergalactic criminals are forced ...</td>\n",
       "      <td>James Gunn</td>\n",
       "      <td>Chris Pratt, Vin Diesel, Bradley Cooper, Zoe S...</td>\n",
       "      <td>2014</td>\n",
       "      <td>121</td>\n",
       "      <td>8.1</td>\n",
       "      <td>757074</td>\n",
       "      <td>333.13</td>\n",
       "      <td>76.0</td>\n",
       "    </tr>\n",
       "    <tr>\n",
       "      <th>1</th>\n",
       "      <td>2</td>\n",
       "      <td>Prometheus</td>\n",
       "      <td>Adventure,Mystery,Sci-Fi</td>\n",
       "      <td>Following clues to the origin of mankind, a te...</td>\n",
       "      <td>Ridley Scott</td>\n",
       "      <td>Noomi Rapace, Logan Marshall-Green, Michael Fa...</td>\n",
       "      <td>2012</td>\n",
       "      <td>124</td>\n",
       "      <td>7.0</td>\n",
       "      <td>485820</td>\n",
       "      <td>126.46</td>\n",
       "      <td>65.0</td>\n",
       "    </tr>\n",
       "    <tr>\n",
       "      <th>2</th>\n",
       "      <td>3</td>\n",
       "      <td>Split</td>\n",
       "      <td>Horror,Thriller</td>\n",
       "      <td>Three girls are kidnapped by a man with a diag...</td>\n",
       "      <td>M. Night Shyamalan</td>\n",
       "      <td>James McAvoy, Anya Taylor-Joy, Haley Lu Richar...</td>\n",
       "      <td>2016</td>\n",
       "      <td>117</td>\n",
       "      <td>7.3</td>\n",
       "      <td>157606</td>\n",
       "      <td>138.12</td>\n",
       "      <td>62.0</td>\n",
       "    </tr>\n",
       "    <tr>\n",
       "      <th>3</th>\n",
       "      <td>4</td>\n",
       "      <td>Sing</td>\n",
       "      <td>Animation,Comedy,Family</td>\n",
       "      <td>In a city of humanoid animals, a hustling thea...</td>\n",
       "      <td>Christophe Lourdelet</td>\n",
       "      <td>Matthew McConaughey,Reese Witherspoon, Seth Ma...</td>\n",
       "      <td>2016</td>\n",
       "      <td>108</td>\n",
       "      <td>7.2</td>\n",
       "      <td>60545</td>\n",
       "      <td>270.32</td>\n",
       "      <td>59.0</td>\n",
       "    </tr>\n",
       "    <tr>\n",
       "      <th>4</th>\n",
       "      <td>5</td>\n",
       "      <td>Suicide Squad</td>\n",
       "      <td>Action,Adventure,Fantasy</td>\n",
       "      <td>A secret government agency recruits some of th...</td>\n",
       "      <td>David Ayer</td>\n",
       "      <td>Will Smith, Jared Leto, Margot Robbie, Viola D...</td>\n",
       "      <td>2016</td>\n",
       "      <td>123</td>\n",
       "      <td>6.2</td>\n",
       "      <td>393727</td>\n",
       "      <td>325.02</td>\n",
       "      <td>40.0</td>\n",
       "    </tr>\n",
       "  </tbody>\n",
       "</table>\n",
       "</div>"
      ]
     },
     "execution_count": 75,
     "metadata": {},
     "output_type": "execute_result"
    }
   ],
   "execution_count": 75
  },
  {
   "metadata": {
    "ExecuteTime": {
     "end_time": "2025-01-09T13:32:29.751733Z",
     "start_time": "2025-01-09T13:32:29.742545Z"
    }
   },
   "cell_type": "code",
   "source": "df.describe()",
   "id": "5796e76bcdf45af6",
   "outputs": [
    {
     "data": {
      "text/plain": [
       "              Rank         Year  Runtime (Minutes)       Rating         Votes  \\\n",
       "count  1000.000000  1000.000000        1000.000000  1000.000000  1.000000e+03   \n",
       "mean    500.500000  2012.783000         113.172000     6.723200  1.698083e+05   \n",
       "std     288.819436     3.205962          18.810908     0.945429  1.887626e+05   \n",
       "min       1.000000  2006.000000          66.000000     1.900000  6.100000e+01   \n",
       "25%     250.750000  2010.000000         100.000000     6.200000  3.630900e+04   \n",
       "50%     500.500000  2014.000000         111.000000     6.800000  1.107990e+05   \n",
       "75%     750.250000  2016.000000         123.000000     7.400000  2.399098e+05   \n",
       "max    1000.000000  2016.000000         191.000000     9.000000  1.791916e+06   \n",
       "\n",
       "       Revenue (Millions)   Metascore  \n",
       "count          872.000000  936.000000  \n",
       "mean            82.956376   58.985043  \n",
       "std            103.253540   17.194757  \n",
       "min              0.000000   11.000000  \n",
       "25%             13.270000   47.000000  \n",
       "50%             47.985000   59.500000  \n",
       "75%            113.715000   72.000000  \n",
       "max            936.630000  100.000000  "
      ],
      "text/html": [
       "<div>\n",
       "<style scoped>\n",
       "    .dataframe tbody tr th:only-of-type {\n",
       "        vertical-align: middle;\n",
       "    }\n",
       "\n",
       "    .dataframe tbody tr th {\n",
       "        vertical-align: top;\n",
       "    }\n",
       "\n",
       "    .dataframe thead th {\n",
       "        text-align: right;\n",
       "    }\n",
       "</style>\n",
       "<table border=\"1\" class=\"dataframe\">\n",
       "  <thead>\n",
       "    <tr style=\"text-align: right;\">\n",
       "      <th></th>\n",
       "      <th>Rank</th>\n",
       "      <th>Year</th>\n",
       "      <th>Runtime (Minutes)</th>\n",
       "      <th>Rating</th>\n",
       "      <th>Votes</th>\n",
       "      <th>Revenue (Millions)</th>\n",
       "      <th>Metascore</th>\n",
       "    </tr>\n",
       "  </thead>\n",
       "  <tbody>\n",
       "    <tr>\n",
       "      <th>count</th>\n",
       "      <td>1000.000000</td>\n",
       "      <td>1000.000000</td>\n",
       "      <td>1000.000000</td>\n",
       "      <td>1000.000000</td>\n",
       "      <td>1.000000e+03</td>\n",
       "      <td>872.000000</td>\n",
       "      <td>936.000000</td>\n",
       "    </tr>\n",
       "    <tr>\n",
       "      <th>mean</th>\n",
       "      <td>500.500000</td>\n",
       "      <td>2012.783000</td>\n",
       "      <td>113.172000</td>\n",
       "      <td>6.723200</td>\n",
       "      <td>1.698083e+05</td>\n",
       "      <td>82.956376</td>\n",
       "      <td>58.985043</td>\n",
       "    </tr>\n",
       "    <tr>\n",
       "      <th>std</th>\n",
       "      <td>288.819436</td>\n",
       "      <td>3.205962</td>\n",
       "      <td>18.810908</td>\n",
       "      <td>0.945429</td>\n",
       "      <td>1.887626e+05</td>\n",
       "      <td>103.253540</td>\n",
       "      <td>17.194757</td>\n",
       "    </tr>\n",
       "    <tr>\n",
       "      <th>min</th>\n",
       "      <td>1.000000</td>\n",
       "      <td>2006.000000</td>\n",
       "      <td>66.000000</td>\n",
       "      <td>1.900000</td>\n",
       "      <td>6.100000e+01</td>\n",
       "      <td>0.000000</td>\n",
       "      <td>11.000000</td>\n",
       "    </tr>\n",
       "    <tr>\n",
       "      <th>25%</th>\n",
       "      <td>250.750000</td>\n",
       "      <td>2010.000000</td>\n",
       "      <td>100.000000</td>\n",
       "      <td>6.200000</td>\n",
       "      <td>3.630900e+04</td>\n",
       "      <td>13.270000</td>\n",
       "      <td>47.000000</td>\n",
       "    </tr>\n",
       "    <tr>\n",
       "      <th>50%</th>\n",
       "      <td>500.500000</td>\n",
       "      <td>2014.000000</td>\n",
       "      <td>111.000000</td>\n",
       "      <td>6.800000</td>\n",
       "      <td>1.107990e+05</td>\n",
       "      <td>47.985000</td>\n",
       "      <td>59.500000</td>\n",
       "    </tr>\n",
       "    <tr>\n",
       "      <th>75%</th>\n",
       "      <td>750.250000</td>\n",
       "      <td>2016.000000</td>\n",
       "      <td>123.000000</td>\n",
       "      <td>7.400000</td>\n",
       "      <td>2.399098e+05</td>\n",
       "      <td>113.715000</td>\n",
       "      <td>72.000000</td>\n",
       "    </tr>\n",
       "    <tr>\n",
       "      <th>max</th>\n",
       "      <td>1000.000000</td>\n",
       "      <td>2016.000000</td>\n",
       "      <td>191.000000</td>\n",
       "      <td>9.000000</td>\n",
       "      <td>1.791916e+06</td>\n",
       "      <td>936.630000</td>\n",
       "      <td>100.000000</td>\n",
       "    </tr>\n",
       "  </tbody>\n",
       "</table>\n",
       "</div>"
      ]
     },
     "execution_count": 76,
     "metadata": {},
     "output_type": "execute_result"
    }
   ],
   "execution_count": 76
  },
  {
   "metadata": {
    "ExecuteTime": {
     "end_time": "2025-01-09T13:39:07.404185Z",
     "start_time": "2025-01-09T13:39:07.400644Z"
    }
   },
   "cell_type": "code",
   "source": [
    "# 导演的人数\n",
    "print(len(set(df[\"Director\"].tolist())))\n",
    "print(len(df[\"Director\"].unique())) #推荐这种方式"
   ],
   "id": "1067072963fa444e",
   "outputs": [
    {
     "name": "stdout",
     "output_type": "stream",
     "text": [
      "644\n",
      "644\n",
      "<class 'pandas.core.frame.DataFrame'>\n"
     ]
    }
   ],
   "execution_count": 80
  },
  {
   "metadata": {
    "ExecuteTime": {
     "end_time": "2025-01-09T13:33:18.783543Z",
     "start_time": "2025-01-09T13:33:18.773227Z"
    }
   },
   "cell_type": "code",
   "source": [
    "# # 获取演员的人数 #二维列表\n",
    "temp_actors_list = df[\"Actors\"].str.split(\", \").tolist()\n",
    "print(temp_actors_list)"
   ],
   "id": "875260e52e01fc0a",
   "outputs": [
    {
     "name": "stdout",
     "output_type": "stream",
     "text": [
      "[['Chris Pratt', 'Vin Diesel', 'Bradley Cooper', 'Zoe Saldana'], ['Noomi Rapace', 'Logan Marshall-Green', 'Michael Fassbender', 'Charlize Theron'], ['James McAvoy', 'Anya Taylor-Joy', 'Haley Lu Richardson', 'Jessica Sula'], ['Matthew McConaughey,Reese Witherspoon', 'Seth MacFarlane', 'Scarlett Johansson'], ['Will Smith', 'Jared Leto', 'Margot Robbie', 'Viola Davis'], ['Matt Damon', 'Tian Jing', 'Willem Dafoe', 'Andy Lau'], ['Ryan Gosling', 'Emma Stone', 'Rosemarie DeWitt', 'J.K. Simmons'], ['Essie Davis', 'Andrea Riseborough', 'Julian Barratt,Kenneth Branagh'], ['Charlie Hunnam', 'Robert Pattinson', 'Sienna Miller', 'Tom Holland'], ['Jennifer Lawrence', 'Chris Pratt', 'Michael Sheen,Laurence Fishburne'], ['Eddie Redmayne', 'Katherine Waterston', 'Alison Sudol,Dan Fogler'], ['Taraji P. Henson', 'Octavia Spencer', 'Janelle Monáe,Kevin Costner'], ['Felicity Jones', 'Diego Luna', 'Alan Tudyk', 'Donnie Yen'], [\"Auli'i Cravalho\", 'Dwayne Johnson', 'Rachel House', 'Temuera Morrison'], ['Anne Hathaway', 'Jason Sudeikis', 'Austin Stowell,Tim Blake Nelson'], ['Louis C.K.', 'Eric Stonestreet', 'Kevin Hart', 'Lake Bell'], ['Andrew Garfield', 'Sam Worthington', 'Luke Bracey,Teresa Palmer'], ['Matt Damon', 'Tommy Lee Jones', 'Alicia Vikander,Vincent Cassel'], ['Dev Patel', 'Nicole Kidman', 'Rooney Mara', 'Sunny Pawar'], ['Amy Adams', 'Jeremy Renner', 'Forest Whitaker,Michael Stuhlbarg'], ['Matthew McConaughey', 'Edgar Ramírez', 'Bryce Dallas Howard', 'Corey Stoll'], ['Casey Affleck', 'Michelle Williams', 'Kyle Chandler,Lucas Hedges'], ['Emma Booth', 'Ashleigh Cummings', 'Stephen Curry,Susie Porter'], ['Anna Kendrick', 'Justin Timberlake,Zooey Deschanel', 'Christopher Mintz-Plasse'], ['Liam Hemsworth', 'Jeff Goldblum', 'Bill Pullman,Maika Monroe'], ['Fiona Gordon', 'Dominique Abel,Emmanuelle Riva', 'Pierre Richard'], ['Prabhas', 'Rana Daggubati', 'Anushka Shetty,Tamannaah Bhatia'], ['Jocelin Donahue', 'Jesse Bradford', 'Jesse Borrego,Lori Petty'], ['Mila Kunis', 'Kathryn Hahn', 'Kristen Bell,Christina Applegate'], ['Michael Fassbender', 'Marion Cotillard', 'Jeremy Irons,Brendan Gleeson'], ['Zoey Deutch', 'James Franco', 'Tangie Ambrose,Cedric the Entertainer'], ['Amy Adams', 'Jake Gyllenhaal', 'Michael Shannon', 'Aaron Taylor-Johnson'], ['James McAvoy', 'Michael Fassbender', 'Jennifer Lawrence', 'Nicholas Hoult'], ['Ryan Reynolds', 'Morena Baccarin', 'T.J. Miller', 'Ed Skrein'], ['Milla Jovovich', 'Iain Glen', 'Ali Larter', 'Shawn Roberts'], ['Chris Evans', 'Robert Downey Jr.,Scarlett Johansson', 'Sebastian Stan'], ['Matthew McConaughey', 'Anne Hathaway', 'Jessica Chastain', 'Mackenzie Foy'], ['Benedict Cumberbatch', 'Chiwetel Ejiofor', 'Rachel McAdams', 'Benedict Wong'], ['Denzel Washington', 'Chris Pratt', \"Ethan Hawke,Vincent D'Onofrio\"], ['John Francis Daley', 'Austin Pendleton', 'Colleen Camp', 'Neil Flynn'], ['Seth Rogen', 'Kristen Wiig', 'Jonah Hill', 'Alistair Abell'], ['Mahershala Ali', 'Shariff Earp', 'Duan Sanderson', 'Alex R. Hibbert'], ['Brittany Blanton', 'Ayse Howard', 'Roman Jossart,Nadia White'], ['Michael Keaton', 'Nick Offerman', 'John Carroll Lynch', 'Linda Cardellini'], ['Gabriel Chavarria', 'Demián Bichir', 'Theo Rossi,Tony Revolori'], ['Johnny Depp', 'Penélope Cruz', 'Ian McShane', 'Geoffrey Rush'], ['Jessica Chastain', 'Mark Strong', 'Gugu Mbatha-Raw,Michael Stuhlbarg'], ['Hermione Corfield', 'Addison Timlin', 'Joely Richardson,Jeremy Irvine'], ['Chris Pine', 'Zachary Quinto', 'Karl Urban', 'Zoe Saldana'], ['Charlize Theron', 'Javier Bardem', 'Adèle Exarchopoulos,Jared Harris'], ['Daisy Ridley', 'John Boyega', 'Oscar Isaac', 'Domhnall Gleeson'], ['Kate Beckinsale', 'Theo James', 'Tobias Menzies', 'Lara Pulver'], ['Jennifer Aniston', 'Kate Hudson', 'Julia Roberts', 'Jason Sudeikis'], ['Keanu Reeves', 'Michael Nyqvist', 'Alfie Allen', 'Willem Dafoe'], ['Christian Bale', 'Heath Ledger', 'Aaron Eckhart,Michael Caine'], ['Andrew Garfield', 'Adam Driver', 'Liam Neeson,Tadanobu Asano'], ['Stephen Lang', 'Jane Levy', 'Dylan Minnette', 'Daniel Zovatto'], ['Emilia Clarke', 'Sam Claflin', 'Janet McTeer', 'Charles Dance'], ['Gemma Arterton', 'Sam Claflin', 'Bill Nighy', 'Jack Huston'], ['Tom Hanks', 'Aaron Eckhart', 'Laura Linney', 'Valerie Mahaffey'], ['Ben Affleck', 'Henry Cavill', 'Amy Adams', 'Jesse Eisenberg'], ['Brian Cox', 'Emile Hirsch', 'Ophelia Lovibond', 'Michael McElhatton'], ['Emily Blunt', 'Haley Bennett', 'Rebecca Ferguson', 'Justin Theroux'], ['Dakota Johnson', 'Jamie Dornan', 'Jennifer Ehle,Eloise Mumford'], ['Christian Bale', 'Hugh Jackman', 'Scarlett Johansson', 'Michael Caine'], ['Colin Firth', 'Taron Egerton', 'Samuel L. Jackson,Michael Caine'], ['Mark Wahlberg', 'Michelle Monaghan', 'J.K. Simmons', 'John Goodman'], ['Tom Hardy', 'Charlize Theron', 'Nicholas Hoult', 'Zoë Kravitz'], ['Bryan Cranston', 'Jennifer Garner', \"Beverly D'Angelo,Jason O'Mara\"], ['Mark Wahlberg', 'Kurt Russell', 'Douglas M. Griffin', 'James DuMont'], ['Oscar Isaac', 'Charlotte Le Bon', 'Christian Bale', 'Daniel Giménez Cacho'], ['Brad Pitt', 'Marion Cotillard', 'Jared Harris', 'Vincent Ebrahim'], ['Lewis MacDougall', 'Sigourney Weaver', 'Felicity Jones,Toby Kebbell'], ['Will Smith', 'Edward Norton', 'Kate Winslet', 'Michael Peña'], ['Ginnifer Goodwin', 'Jason Bateman', 'Idris Elba', 'Jenny Slate'], ['Johnny Depp', 'Orlando Bloom', 'Keira Knightley,Geoffrey Rush'], ['Robert Downey Jr.', 'Chris Evans', 'Scarlett Johansson,Jeremy Renner'], ['Brad Pitt', 'Diane Kruger', 'Eli Roth,Mélanie Laurent'], ['Johnny Depp', 'Orlando Bloom', 'Keira Knightley', 'Jack Davenport'], ['Melissa McCarthy', 'Kristen Wiig', 'Kate McKinnon', 'Leslie Jones'], ['Leonardo DiCaprio', 'Joseph Gordon-Levitt', 'Ellen Page', 'Ken Watanabe'], ['Viggo Mortensen', 'George MacKay', 'Samantha Isler,Annalise Basso'], ['Leonardo DiCaprio', 'Jonah Hill', 'Margot Robbie,Matthew McConaughey'], ['Ben Affleck', 'Rosamund Pike', 'Neil Patrick Harris,Tyler Perry'], ['Vin Diesel', 'Paul Walker', 'Dwayne Johnson', 'Jason Statham'], ['Chris Pratt', 'Bryce Dallas Howard', 'Ty Simpkins,Judy Greer'], ['Ben Affleck', 'Elle Fanning', 'Brendan Gleeson', 'Chris Messina'], ['Sam Worthington', 'Zoe Saldana', 'Sigourney Weaver', 'Michelle Rodriguez'], ['Samuel L. Jackson', 'Kurt Russell', 'Jennifer Jason Leigh', 'Walton Goggins'], ['Ben Affleck', 'Anna Kendrick', 'J.K. Simmons', 'Jon Bernthal'], ['Hugh Jackman', 'Jake Gyllenhaal', 'Viola Davis,Melissa Leo'], ['Travis Fimmel', 'Paula Patton', 'Ben Foster', 'Dominic Cooper'], ['Emma Stone', 'Viola Davis', 'Octavia Spencer', 'Bryce Dallas Howard'], ['Jonah Hill', 'Miles Teller', 'Steve Lantz', 'Gregg Weiner'], ['Robert Downey Jr.', 'Chris Evans', 'Mark Ruffalo', 'Chris Hemsworth'], ['Russell Crowe', 'Ryan Gosling', 'Angourie Rice', 'Matt Bomer'], ['Ryûnosuke Kamiki', 'Mone Kamishiraishi', 'Ryô Narita', 'Aoi Yuki'], ['Aaron Poole', 'Kenneth Welsh,Daniel Fathers', 'Kathleen Munroe'], ['Kristen Stewart', 'Lars Eidinger', 'Sigrid Bouaziz,Anders Danielsen Lie'], ['Leonardo DiCaprio', 'Matt Damon', 'Jack Nicholson', 'Mark Wahlberg'], ['Tom Hardy', 'Emily Browning', 'Taron Egerton', 'Paul Anderson'], ['Chris Hemsworth', 'Anthony Hopkins', 'Natalie Portman', 'Tom Hiddleston'], ['Matt Damon', 'Jessica Chastain', 'Kristen Wiig', 'Kate Mara'], ['Mario Casas', 'Ana Wagener', 'José Coronado', 'Bárbara Lennie'], ['Henry Cavill', 'Armie Hammer', 'Alicia Vikander', 'Elizabeth Debicki'], ['Chris Pine', 'Ben Foster', 'Jeff Bridges', 'Gil Birmingham'], ['Robert De Niro', 'Leslie Mann', 'Danny DeVito', 'Edie Falco'], ['Alexander Skarsgård', 'Rory J. Saper', 'Christian Stevens', 'Christoph Waltz'], ['Eve Lindley', 'Richard Kind', 'Mark Consuelos', 'Katherine Reis'], ['Alicia Vikander', 'Domhnall Gleeson', 'Oscar Isaac,Sonoya Mizuno'], ['John Gallagher Jr.', 'Tony Goldwyn', 'Adria Arjona', 'John C. McGinley'], ['Chiwetel Ejiofor', 'Michael Kenneth Williams', 'Michael Fassbender', 'Brad Pitt'], ['Keanu Reeves', 'Jason Momoa', 'Jim Carrey', 'Diego Luna'], ['Gerard Butler', 'Lena Headey', 'David Wenham', 'Dominic West'], ['Daniel Radcliffe', 'Emma Watson', 'Rupert Grint', 'Michael Gambon'], ['Jason Bateman', 'Olivia Munn', 'T.J. Miller,Jennifer Aniston'], ['Elle Fanning', 'Christina Hendricks', 'Keanu Reeves', 'Karl Glusman'], ['Aamir Khan', 'Sakshi Tanwar', 'Fatima Sana Shaikh,Sanya Malhotra'], ['John Goodman', 'Mary Elizabeth Winstead', 'John Gallagher Jr.', 'Douglas M. Griffin'], ['Ellen DeGeneres', \"Albert Brooks,Ed O'Neill\", 'Kaitlin Olson'], ['Eva Green', 'Asa Butterfield', 'Samuel L. Jackson', 'Judi Dench'], ['Shailene Woodley', 'Theo James', 'Kate Winslet', 'Jai Courtney'], ['Zac Efron', 'Adam Devine', 'Anna Kendrick', 'Aubrey Plaza'], ['Scott Adkins', 'Teodora Duhovnikova', 'Alon Aboutboul', 'Julian Vergov'], ['Christian Bale', 'Tom Hardy', 'Anne Hathaway,Gary Oldman'], ['Neel Sethi', 'Bill Murray', 'Ben Kingsley', 'Idris Elba'], ['Mark Wahlberg', 'Nicola Peltz', 'Jack Reynor', 'Stanley Tucci'], ['Emma Roberts', 'Dave Franco', 'Emily Meade', 'Miles Heizer'], ['Meryl Streep', 'Pierce Brosnan', 'Amanda Seyfried,Stellan Skarsgård'], ['Leonardo DiCaprio', 'Tom Hardy', 'Will Poulter', 'Domhnall Gleeson'], ['Denzel Washington', 'Viola Davis', 'Stephen Henderson', 'Jovan Adepo'], ['Anna Kendrick', 'Meryl Streep', 'Chris Pine', 'Emily Blunt'], ['Blake Lively', 'Óscar Jaenada', 'Angelo Josue Lozano Corzo', 'Brett Cullen'], ['Miles Teller', 'J.K. Simmons', 'Melissa Benoist', 'Paul Reiser'], ['Vin Diesel', 'Paul Walker', 'Dwayne Johnson', 'Michelle Rodriguez'], ['Ryan Gosling', 'Bradley Cooper', 'Eva Mendes,Craig Van Hook'], ['Tommy Lee Jones', 'Javier Bardem', 'Josh Brolin', 'Woody Harrelson'], ['Leonardo DiCaprio', 'Carey Mulligan', 'Joel Edgerton,Tobey Maguire'], ['Leonardo DiCaprio', 'Emily Mortimer', 'Mark Ruffalo,Ben Kingsley'], ['Dakota Fanning', 'Guy Pearce', 'Kit Harington,Carice van Houten'], ['Chris Pine', 'Zachary Quinto', 'Simon Pegg', 'Leonard Nimoy'], ['Zachary Gordon', 'Robert Capron', 'Rachael Harris,Steve Zahn'], ['Christian Bale', 'Steve Carell', 'Ryan Gosling', 'Brad Pitt'], ['Brie Larson', 'Jacob Tremblay', 'Sean Bridgers,Wendy Crewson'], ['Jamie Foxx', 'Christoph Waltz', 'Leonardo DiCaprio,Kerry Washington'], ['Min-hee Kim', 'Jung-woo Ha', 'Jin-woong Jo', 'So-ri Moon'], ['Hailee Steinfeld', 'Haley Lu Richardson', 'Blake Jenner', 'Kyra Sedgwick'], ['Jackie Earle Haley', 'Patrick Wilson', 'Carla Gugino,Malin Akerman'], ['Michael Cera', 'Jonah Hill', 'Christopher Mintz-Plasse', 'Bill Hader'], ['Tom Hanks', 'Felicity Jones', 'Irrfan Khan', 'Ben Foster'], ['Mark Rylance', 'Ruby Barnhill', 'Penelope Wilton,Jemaine Clement'], ['Jennifer Lawrence', 'Josh Hutcherson', 'Liam Hemsworth,Stanley Tucci'], ['Morgan Saylor', 'Brian Marc', 'Justin Bartha', 'Adrian Martinez'], ['Emily Blunt', 'Josh Brolin', 'Benicio Del Toro', 'Jon Bernthal'], ['Chris Isaak', 'Kiefer Sutherland', 'C.H. Evans', 'Sandra Kinder'], ['Reiko Aylesworth', 'Steven Pasquale,Shareeka Epps', 'John Ortiz'], ['Idris Elba', 'Charlie Hunnam', 'Rinko Kikuchi,Charlie Day'], ['Steve Carell', 'Ryan Gosling', 'Julianne Moore', 'Emma Stone'], ['Michael Cera', 'Mary Elizabeth Winstead', 'Kieran Culkin', 'Alison Pill'], ['Simon Pegg', 'Nick Frost', 'Martin Freeman', 'Bill Nighy'], ['Armie Hammer', 'Annabelle Wallis,Tom Cullen', 'Clint Dyer'], ['Sharlto Copley', 'Brie Larson', 'Armie Hammer', 'Cillian Murphy'], ['Patrick Stewart', 'Ian McKellen', 'Hugh Jackman', 'James McAvoy'], ['Tom Cruise', 'Cobie Smulders', 'Aldis Hodge', 'Robert Knepper'], ['Daniel Craig', 'Eva Green', 'Judi Dench', 'Jeffrey Wright'], ['Kristen Stewart', 'Robert Pattinson', 'Billy Burke,Sarah Clarke'], ['Jesse Eisenberg', 'Mark Ruffalo', 'Woody Harrelson', 'Dave Franco'], ['Helen Mirren', 'Ryan Reynolds', 'Daniel Brühl', 'Katie Holmes'], ['John Krasinski', 'Pablo Schreiber', 'James Badge Dale,David Denman'], ['Daniel Craig', 'Christoph Waltz', 'Léa Seydoux', 'Ralph Fiennes'], ['Jake Gyllenhaal', 'Rene Russo', 'Bill Paxton', 'Riz Ahmed'], ['Charlize Theron', 'Art Parkinson', 'Matthew McConaughey', 'Ralph Fiennes'], ['Graham Skipper', 'Chase Williamson', 'Brea Grant,Barbara Crampton'], ['Joaquin Phoenix', 'Amy Adams', 'Scarlett Johansson,Rooney Mara'], ['Kristen Bell', 'Idina Menzel', 'Jonathan Groff', 'Josh Gad'], ['George Clooney', 'Britt Robertson', 'Hugh Laurie', 'Raffey Cassidy'], ['Gary Oldman', 'Keri Russell', 'Andy Serkis', 'Kodi Smit-McPhee'], ['Ben Stiller', 'Jack Black', 'Robert Downey Jr.', 'Jeff Kahn'], ['Vera Farmiga', 'Patrick Wilson', 'Madison Wolfe', \"Frances O'Connor\"], ['Paul Rudd', 'Michael Douglas', 'Corey Stoll', 'Evangeline Lilly'], ['Renée Zellweger', 'Gemma Jones', 'Jim Broadbent,Sally Phillips'], ['Anya Taylor-Joy', 'Ralph Ineson', 'Kate Dickie', 'Julian Richings'], ['Lily James', 'Cate Blanchett', 'Richard Madden,Helena Bonham Carter'], ['Tom Hughes', 'Charlotte Le Bon', 'Oona Chaplin', 'Barry Ward'], ['Taraneh Alidoosti', 'Shahab Hosseini', 'Babak Karimi,Farid Sajjadi Hosseini'], ['Aomi Muyock', 'Karl Glusman', 'Klara Kristin', 'Juan Saavedra'], ['Joe Alwyn', 'Garrett Hedlund', 'Arturo Castro', 'Mason Lee'], ['Mia Wasikowska', 'Jessica Chastain', 'Tom Hiddleston', 'Charlie Hunnam'], ['Ryan Gosling', 'Carey Mulligan', 'Bryan Cranston', 'Albert Brooks'], ['Amy Schumer', 'Bill Hader', 'Brie Larson', 'Colin Quinn'], ['Michael Fassbender', 'Alicia Vikander', 'Rachel Weisz', 'Florence Clery'], ['Erika Linder', 'Natalie Krill', 'Sebastian Pigott', 'Mayko Nguyen'], ['Mark Ruffalo', 'Michael Keaton', 'Rachel McAdams', 'Liev Schreiber'], ['Kate Mara', 'Anya Taylor-Joy', 'Rose Leslie', 'Michael Yare'], ['Tom Hardy', 'Nick Nolte', 'Joel Edgerton', 'Jennifer Morrison'], ['Chris Evans', 'Hugo Weaving', 'Samuel L. Jackson,Hayley Atwell'], ['Callan McAuliffe', 'Lorraine Nicholson', 'Daniel Eric Gold', 'Clifton Collins Jr.'], ['Emile Hirsch', 'Vince Vaughn', 'Catherine Keener', 'Marcia Gay Harden'], ['Benedict Cumberbatch', 'Keira Knightley', 'Matthew Goode', 'Allen Leech'], ['Dwayne Johnson', 'Kevin Hart', 'Danielle Nicolet', 'Amy Ryan'], ['Tom Cruise', 'Emily Blunt', 'Bill Paxton', 'Brendan Gleeson'], ['Dane DeHaan', 'Jason Isaacs', 'Mia Goth', 'Ivo Nandi'], ['Joseph Gordon-Levitt', 'Shailene Woodley', 'Melissa Leo,Zachary Quinto'], ['Robert Downey Jr.', 'Gwyneth Paltrow', 'Terrence Howard', 'Jeff Bridges'], ['Shailene Woodley', 'Theo James', 'Jeff Daniels,Naomi Watts'], ['James McAvoy', 'Michael Fassbender', 'Jennifer Lawrence', 'Kevin Bacon'], ['Garance Marillier', 'Ella Rumpf', 'Rabah Nait Oufella,Laurent Lucas'], ['Adam Driver', 'Golshifteh Farahani', 'Nellie', 'Rizwan Manji'], ['Kristen Wiig', 'Maya Rudolph', 'Rose Byrne', 'Terry Crews'], ['Gemma Arterton', 'Glenn Close', 'Dominique Tipper,Paddy Considine'], ['Dwayne Johnson', 'Carla Gugino', 'Alexandra Daddario,Colton Haynes'], ['Vanessa Hudgens', 'Selena Gomez', 'Ashley Benson,Rachel Korine'], ['Shia LaBeouf', 'Megan Fox', 'Josh Duhamel', 'Tyrese Gibson'], ['Josh Brolin', 'Elizabeth Olsen', 'Samuel L. Jackson', 'Sharlto Copley'], ['Chris Hemsworth', 'Natalie Portman', 'Tom Hiddleston,Stellan Skarsgård'], ['Brenton Thwaites', 'Nikolaj Coster-Waldau', 'Gerard Butler', 'Chadwick Boseman'], ['Chris Evans', 'Samuel L. Jackson,Scarlett Johansson', 'Robert Redford'], ['Lucas Till', 'Jane Levy', 'Thomas Lennon', 'Barry Pepper'], ['Mark Huberman', 'Susan Loughnane', 'Steve Oram,Catherine Walker'], ['Aaron Taylor-Johnson', 'Nicolas Cage', 'Chloë Grace Moretz', 'Garrett M. Brown'], ['Sharlto Copley', 'Tim Roth', 'Haley Bennett', 'Danila Kozlovsky'], ['Owen Wilson', 'Bonnie Hunt', 'Paul Newman', 'Larry the Cable Guy'], ['Maika Monroe', 'Keir Gilchrist', 'Olivia Luccardi,Lili Sepe'], ['Daniel Craig', 'Rooney Mara', 'Christopher Plummer,Stellan Skarsgård'], ['Jason Sudeikis', 'Jennifer Aniston', 'Emma Roberts', 'Ed Helms'], ['Sasha Lane', 'Shia LaBeouf', 'Riley Keough', 'McCaul Lombardi'], ['Colin Farrell', 'Rachel Weisz', 'Jessica Barden,Olivia Colman'], ['Adrien Brody', 'Laurence Fishburne', 'Topher Grace,Alice Braga'], ['Angelina Jolie', 'Elle Fanning', 'Sharlto Copley,Lesley Manville'], ['Noomi Rapace', 'Michael Chiklis', 'Kerry Bishé,Peter Stormare'], ['Ivana Baquero', 'Ariadna Gil', 'Sergi López,Maribel Verdú'], ['Patrick Wilson', 'Jessica Biel', 'Haley Bennett', 'Vincent Kartheiser'], ['Gerardo Taracena', 'Raoul Max Trujillo', 'Dalia Hernández,Rudy Youngblood'], ['Tom Cruise', 'Rebecca Ferguson', 'Jeremy Renner', 'Simon Pegg'], ['Chris Hemsworth', 'Jessica Chastain', 'Charlize Theron', 'Emily Blunt'], ['Logan Lerman', 'Emma Watson', 'Ezra Miller', 'Paul Rudd'], ['Natalie Portman', 'Peter Sarsgaard', 'Greta Gerwig,Billy Crudup'], ['Kate Beckinsale', 'Mel Raido', 'Duncan Joiner', 'Lucas Till'], ['Ralph Fiennes', 'F. Murray Abraham', 'Mathieu Amalric,Adrien Brody'], ['Saoirse Ronan', 'Max Irons', 'Jake Abel', 'Diane Kruger'], ['Brad Pitt', 'Shia LaBeouf', 'Logan Lerman', 'Michael Peña'], ['Amy Poehler', 'Bill Hader', 'Lewis Black', 'Mindy Kaling'], ['Luke Wilson', 'Eddie Izzard', 'J.K. Simmons', 'Lewis Black'], ['Arnold Schwarzenegger', 'Jason Clarke', 'Emilia Clarke,Jai Courtney'], ['Logan Lerman', 'Kevin McKidd', 'Steve Coogan,Brandon T. Jackson'], ['Hugh Jackman', 'Russell Crowe', 'Anne Hathaway,Amanda Seyfried'], ['Julianne Moore', 'Clive Owen', 'Chiwetel Ejiofor,Michael Caine'], ['Annette Bening', 'Elle Fanning', 'Greta Gerwig', 'Billy Crudup'], ['Melissa McCarthy', 'Rose Byrne', 'Jude Law', 'Jason Statham'], ['François Cluzet', 'Omar Sy', 'Anne Le Ny', 'Audrey Fleurot'], ['Diane Lane', 'Alec Baldwin', 'Arnaud Viard', 'Linda Gegusch'], ['Christos Stergioglou', 'Michele Valley', 'Angeliki Papoulia', 'Hristos Passalis'], [\"O'Shea Jackson Jr.\", 'Corey Hawkins', 'Jason Mitchell,Neil Brown Jr.'], ['Andrew Garfield', 'Emma Stone', 'Jamie Foxx', 'Paul Giamatti'], ['Patrick Wilson', 'Vera Farmiga', 'Ron Livingston', 'Lili Taylor'], ['Zach Galifianakis', 'Bradley Cooper', 'Justin Bartha', 'Ed Helms'], ['Alexander Skarsgård', 'Brooklyn Decker', 'Liam Neeson,Rihanna'], ['James Franco', 'Andy Serkis', 'Freida Pinto', 'Karin Konoval'], ['Teresa Palmer', 'Gabriel Bateman', 'Maria Bello,Billy Burke'], ['Richard Gere', 'Lior Ashkenazi', 'Michael Sheen,Charlotte Gainsbourg'], ['Michael Keaton', 'Zach Galifianakis,Edward Norton', 'Andrea Riseborough'], ['Natalie Portman', 'Mila Kunis', 'Vincent Cassel,Winona Ryder'], ['Tyler James Williams', 'Tessa Thompson', 'Kyle Gallner,Teyonah Parris'], ['Charlotte Gainsbourg', 'Stellan Skarsgård', 'Stacy Martin', 'Shia LaBeouf'], ['Megan Fox', 'Will Arnett', 'Tyler Perry', 'Laura Linney'], ['Keanu Reeves', 'Lorenza Izzo', 'Ana de Armas', 'Aaron Burns'], ['Robert De Niro', 'Zac Efron', 'Zoey Deutch', 'Aubrey Plaza'], ['Tom Hanks', 'Halle Berry', 'Hugh Grant', 'Hugo Weaving'], ['Hugh Jackman', 'Liev Schreiber', 'Ryan Reynolds', 'Danny Huston'], ['Sarah Hyland', 'Steven Krueger', 'Justin Chon', 'Clara Mamet'], ['Daniel Craig', 'Javier Bardem', 'Naomie Harris', 'Judi Dench'], ['Martin Freeman', 'Ian McKellen', 'Richard Armitage,Andy Serkis'], ['Jonah Hill', 'Channing Tatum', 'Ice Cube,Brie Larson'], ['Ferdia Walsh-Peelo', 'Aidan Gillen', 'Maria Doyle Kennedy', 'Jack Reynor'], ['Elle Fanning', 'Dane DeHaan', 'Carly Rae Jepsen', 'Maddie Ziegler'], ['Tom Cruise', 'Morgan Freeman', 'Andrea Riseborough', 'Olga Kurylenko'], ['Channing Tatum', 'Jonah Hill', 'Ice Cube,Nick Offerman'], ['Jake Gyllenhaal', 'Robert Downey Jr.', 'Mark Ruffalo,Anthony Edwards'], ['Blake Jenner', 'Tyler Hoechlin', 'Ryan Guzman,Zoey Deutch'], ['Robert Downey Jr.', 'Guy Pearce', 'Gwyneth Paltrow,Don Cheadle'], ['Jesse Eisenberg', 'Common', 'Mark Ruffalo', 'Woody Harrelson'], ['Robert Downey Jr.', 'Jude Law', 'Rachel McAdams', 'Mark Strong'], ['Kurt Russell', 'Zoë Bell', 'Rosario Dawson', 'Vanessa Ferlito'], ['Eddie Redmayne', 'Alicia Vikander', 'Amber Heard', 'Ben Whishaw'], ['Dwayne Johnson', 'John Hurt', 'Ian McShane', 'Joseph Fiennes'], ['Emily Browning', 'Vanessa Hudgens', 'Abbie Cornish,Jena Malone'], ['Zach Galifianakis', 'Isla Fisher', 'Jon Hamm', 'Gal Gadot'], ['Channing Tatum', 'Mila Kunis,Eddie Redmayne', 'Sean Bean'], ['Zach Galifianakis', 'Kristen Wiig', 'Owen Wilson', 'Ross Kimball'], ['Romain Duris', 'Charlotte Le Bon', 'Jalil Lespert', 'Camille Cottin'], ['Yoo Gong', 'Soo-an Kim', 'Yu-mi Jung', 'Dong-seok Ma'], ['Anna Kendrick', 'Brittany Snow', 'Rebel Wilson', 'Anna Camp'], ['Seth Rogen', 'Rose Byrne', 'Zac Efron', 'Chloë Grace Moretz'], ['Lily James', 'Jai Courtney', 'Christopher Plummer', 'Loïs van Wijk'], ['Henry Cavill', 'Amy Adams', 'Michael Shannon', 'Diane Lane'], ['Benjamin Walker', 'Teresa Palmer', 'Alexandra Daddario,Maggie Grace'], ['Ray Romano', 'Denis Leary', 'John Leguizamo', 'Chris Wedge'], ['Anne Hathaway', 'Meryl Streep', 'Adrian Grenier', 'Emily Blunt'], ['Bryan Cranston', 'John Leguizamo', 'Diane Kruger', 'Amy Ryan'], ['Daniel Day-Lewis', 'Paul Dano', 'Ciarán Hinds,Martin Stringer'], ['Denzel Washington', 'Marton Csokas', 'Chloë Grace Moretz', 'David Harbour'], ['Mark Wahlberg', 'Taylor Kitsch', 'Emile Hirsch', 'Ben Foster'], ['Kristen Connolly', 'Chris Hemsworth', 'Anna Hutchison,Fran Kranz'], ['Anna Faris', 'Colin Hanks', 'Emma Stone', 'Kat Dennings'], ['Jay Baruchel', 'Alice Eve', 'T.J. Miller', 'Mike Vogel'], ['Joaquin Phoenix', 'Josh Brolin', 'Owen Wilson,Katherine Waterston'], ['Mia Wasikowska', 'Johnny Depp', 'Helena Bonham Carter', 'Anne Hathaway'], ['Emile Hirsch', 'Zoë Kravitz', 'Zoey Deutch,Emory Cohen'], ['Lucas Black', 'Zachery Ty Bryan', 'Shad Moss', 'Damien Marzette'], ['Dakota Johnson', 'Rebel Wilson', 'Leslie Mann', 'Alison Brie'], ['Quinton Aaron', 'Sandra Bullock', 'Tim McGraw,Jae Head'], ['Léa Seydoux', 'Adèle Exarchopoulos', 'Salim Kechiouche', 'Aurélien Recoing'], ['Essie Davis', 'Noah Wiseman', 'Daniel Henshall', 'Hayley McElhinney'], ['Ian McKellen', 'Martin Freeman', 'Richard Armitage,Cate Blanchett'], ['Daniel Radcliffe', 'Emma Watson', 'Rupert Grint', 'Brendan Gleeson'], ['Chris Evans', 'Jamie Bell', 'Tilda Swinton', 'Ed Harris'], ['Chloë Grace Moretz', 'Matthew Zuk', 'Gabriela Lopez,Bailey Anne Borders'], ['Connor Paolo', 'Nick Damici', 'Laura Abramsen', 'A.C. Peterson'], ['Olivia DeJonge', 'Ed Oxenbould', 'Deanna Dunagan', 'Peter McRobbie'], ['Vin Diesel', 'Paul Walker', 'Dwayne Johnson', 'Jordana Brewster'], ['Channing Tatum', 'Jenna Dewan Tatum', 'Damaine Radcliff', \"De'Shawn Washington\"], ['Riley Keough', 'Jena Malone', 'Jessie Ok Gray', 'Cary Joji Fukunaga'], ['Gerard Butler', 'Tom Wilkinson', 'Idris Elba', 'Thandie Newton'], ['Justin Timberlake', 'Amanda Seyfried', 'Cillian Murphy,Olivia Wilde'], ['Jesse Eisenberg', 'Andrew Garfield', 'Justin Timberlake,Rooney Mara'], ['Vin Diesel', 'Rose Leslie', 'Elijah Wood', 'Ólafur Darri Ólafsson'], ['Daniel Radcliffe', 'James McAvoy', 'Jessica Brown Findlay', 'Andrew Scott'], ['Luke Treadaway', 'Bob the Cat', 'Ruta Gedmintas', 'Joanne Froggatt'], ['Anton Yelchin', 'Imogen Poots', 'Alia Shawkat,Patrick Stewart'], ['Chris Hemsworth', 'Viola Davis', 'Wei Tang', 'Leehom Wang'], ['Andy Samberg', 'Katie Crown,Kelsey Grammer', 'Jennifer Aniston'], ['Bradley Cooper', 'Sienna Miller', 'Kyle Gallner', 'Cole Konis'], ['Matthew McConaughey', 'Jennifer Garner', 'Jared Leto', 'Steve Zahn'], ['Daniel Day-Lewis', 'Sally Field', 'David Strathairn,Joseph Gordon-Levitt'], ['Daniel Brühl', 'Chris Hemsworth', 'Olivia Wilde,Alexandra Maria Lara'], ['Kate Bosworth', 'Thomas Jane', 'Jacob Tremblay,Annabeth Gish'], ['Bradley Cooper', 'Jennifer Lawrence', 'Robert De Niro', 'Jacki Weaver'], ['Alexi Pappas', 'Chase Offerle', 'Rachel Dratch', 'Andy Buckley'], ['Shailene Woodley', 'Ansel Elgort', 'Nat Wolff', 'Laura Dern'], ['Adam Sandler', 'Drew Barrymore', 'Wendi McLendon-Covey', 'Kevin Nealon'], ['Vin Diesel', 'Paul Walker', 'Michelle Rodriguez', 'Jordana Brewster'], ['Joseph Gordon-Levitt', 'Bruce Willis', 'Emily Blunt', 'Paul Dano'], ['Channing Tatum', 'Jamie Foxx', 'Maggie Gyllenhaal,Jason Clarke'], ['Bryce Dallas Howard', 'Robert Redford', 'Oakes Fegley,Oona Laurence'], ['Tobey Maguire', 'Kirsten Dunst', 'Topher Grace', 'Thomas Haden Church'], ['Logan Lerman', 'Matthew Macfadyen', 'Ray Stevenson', 'Milla Jovovich'], ['Charlie Cox', 'Claire Danes', 'Sienna Miller', 'Ian McKellen'], ['Christian Bale', 'Amy Adams', 'Bradley Cooper,Jennifer Lawrence'], ['Megan Fox', 'Amanda Seyfried', 'Adam Brody', 'Johnny Simmons'], ['Owen Wilson', 'Rachel McAdams', 'Kathy Bates', 'Kurt Fuller'], ['Florence Pugh', 'Christopher Fairbank', 'Cosmo Jarvis', 'Naomi Ackie'], ['Jennifer Lawrence', 'Robert De Niro', 'Bradley Cooper', 'Edgar Ramírez'], ['Kate Winslet', 'Judy Davis', 'Liam Hemsworth,Hugo Weaving'], ['Jesse Eisenberg', 'Kristen Stewart', 'Steve Carell', 'Blake Lively'], ['Shailene Woodley', 'Ansel Elgort', 'Theo James,Kate Winslet'], ['Ben Barnes', 'Julianne Moore', 'Jeff Bridges', 'Alicia Vikander'], ['Omar Sy', 'Clémence Poésy', 'Antoine Bertrand', 'Ashley Walters'], ['Eddie Redmayne', 'Felicity Jones', 'Tom Prior', 'Sophie Perry'], ['James Franco', 'Jonah Hill', 'Seth Rogen,Jay Baruchel'], ['Domhnall Gleeson', 'Rachel McAdams', 'Bill Nighy,Lydia Wilson'], ['Will Ferrell', 'John C. Reilly', 'Mary Steenburgen,Richard Jenkins'], ['Andy Powers', 'Laura Allen', 'Peter Stormare', 'Christian Distefano'], ['Chris Pine', 'Zachary Quinto', 'Zoe Saldana', 'Benedict Cumberbatch'], ['Jesse Eisenberg', 'Emma Stone', 'Woody Harrelson,Abigail Breslin'], ['Josh Brolin', 'George Clooney', 'Alden Ehrenreich', 'Ralph Fiennes'], ['Dev Patel', 'Freida Pinto', 'Saurabh Shukla', 'Anil Kapoor'], ['Kristen Stewart', 'Robert Pattinson', 'Taylor Lautner', 'Peter Facinelli'], ['William Fichtner', 'Jon Voight', 'Lia Marie Johnson,Gabriel Basso'], ['Andrew Garfield', 'Emma Stone', 'Rhys Ifans', 'Irrfan Khan'], ['Jack Huston', 'Toby Kebbell', 'Rodrigo Santoro,Nazanin Boniadi'], ['Jacob Latimore', 'Seychelle Gabriel', 'Dulé Hill', 'Storm Reid'], [\"Dylan O'Brien\", 'Kaya Scodelario', 'Will Poulter', 'Thomas Brodie-Sangster'], ['Kevin Costner', 'Ryan Reynolds', 'Gal Gadot', 'Gary Oldman'], ['Angelina Jolie', 'James McAvoy', 'Morgan Freeman', 'Terence Stamp'], ['Meryl Streep', 'Hugh Grant', 'Simon Helberg', 'Rebecca Ferguson'], ['Nicholas Hoult', 'Felicity Jones', 'Anthony Hopkins', 'Ben Kingsley'], ['Johnny Depp', 'Benedict Cumberbatch', 'Dakota Johnson', 'Joel Edgerton'], ['Michael B. Jordan', 'Sylvester Stallone', 'Tessa Thompson', 'Phylicia Rashad'], ['Paul Dano', 'Daniel Radcliffe', 'Mary Elizabeth Winstead', 'Antonia Ribero'], ['Sylvester Stallone', 'Jason Statham', 'Jet Li', 'Antonio Banderas'], ['Jemaine Clement', 'Taika Waititi,Cori Gonzalez-Macuer', 'Jonny Brugh'], ['Jake Gyllenhaal', 'Rachel McAdams', 'Oona Laurence,Forest Whitaker'], ['John Gallagher Jr.', 'Kate Siegel', 'Michael Trucco,Samantha Sloyan'], ['Tom Hanks', 'Mark Rylance', 'Alan Alda', 'Amy Ryan'], ['Chris Pratt', 'Will Ferrell', 'Elizabeth Banks', 'Will Arnett'], ['Jason Clarke', 'Ang Phula Sherpa', 'Thomas M. Wright', 'Martin Henderson'], ['Adam Sandler', 'Kevin James', 'Michelle Monaghan,Peter Dinklage'], ['Russell Crowe', 'Cate Blanchett', 'Matthew Macfadyen,Max von Sydow'], ['Hugh Jackman', 'Will Yun Lee', 'Tao Okamoto', 'Rila Fukushima'], ['Taylor Kitsch', 'Lynn Collins', 'Willem Dafoe,Samantha Morton'], ['Keegan-Michael Key', 'Jordan Peele', 'Tiffany Haddish,Method Man'], ['Sean Penn', 'Idris Elba', 'Jasmine Trinca', 'Javier Bardem'], ['Michael Fassbender', 'Kate Winslet', 'Seth Rogen', 'Jeff Daniels'], ['Tim Pigott-Smith', 'Naomi Battrick', 'Ellie Kendrick,James Cosmo'], ['Adam Sandler', 'Kevin James', 'Chris Rock', 'David Spade'], ['Blake Lively', 'Michiel Huisman', 'Harrison Ford,Kathy Baker'], ['Edward Norton', 'Liv Tyler', 'Tim Roth', 'William Hurt'], ['Vince Vaughn', 'Malin Akerman', 'Jon Favreau', 'Jason Bateman'], ['Simon Pegg', 'Kate Beckinsale', 'Sanjeev Bhaskar', 'Rob Riggle'], ['Channing Tatum', 'Alex Pettyfer', 'Olivia Munn,Matthew McConaughey'], ['Sandra Bullock', 'Jon Hamm', 'Michael Keaton', 'Pierre Coffin'], ['Natasha Henstridge', 'Lukas Hassel', 'Lin Shaye,Dominique Swain'], ['Tom Hardy', 'Kelly Adams', 'Luing Andrews,Katy Barker'], ['Steve Carell', 'Jason Segel', 'Russell Brand', 'Julie Andrews'], ['James Marsden', 'Michelle Monaghan', 'Luke Bracey,Liana Liberato'], ['Logan Marshall-Green', 'Emayatzy Corinealdi', 'Michiel Huisman', 'Tammy Blanchard'], ['Jessica Chastain', 'Joel Edgerton', 'Chris Pratt', 'Mark Strong'], ['Mandy Moore', 'Zachary Levi', 'Donna Murphy', 'Ron Perlman'], ['Jennifer Lawrence', 'Josh Hutcherson', 'Liam Hemsworth', 'Woody Harrelson'], ['Ed Helms', 'Christina Applegate', 'Skyler Gisondo', 'Steele Stebbins'], ['Liam Neeson', 'Maggie Grace', 'Famke Janssen', 'Leland Orser'], ['Anna Kendrick', 'Rebel Wilson', 'Hailee Steinfeld,Brittany Snow'], ['Billy Crystal', 'John Goodman', 'Steve Buscemi', 'Helen Mirren'], ['Isabelle Huppert', 'Laurent Lafitte', 'Anne Consigny,Charles Berling'], ['Jason Statham', 'Jessica Alba', 'Tommy Lee Jones,Michelle Yeoh'], ['Justin Long', 'Michael Parks', 'Haley Joel Osment,Genesis Rodriguez'], ['Alison Brie', 'Gerard Butler', 'Willem Dafoe', 'Gretchen Mol'], ['Keira Knightley', 'James McAvoy', 'Brenda Blethyn,Saoirse Ronan'], ['Daniel Radcliffe', 'Emma Watson', 'Rupert Grint', 'Bill Nighy'], ['Michael Fassbender', 'Carey Mulligan', 'James Badge Dale', 'Lucy Walters'], ['Saoirse Ronan', 'Cate Blanchett', 'Eric Bana', 'Vicky Krieps'], ['Lauren Birkell', 'Paul Borghese', 'Chira Cassel', 'Anthony Cirillo'], ['Lily James', 'Sam Riley', 'Jack Huston', 'Bella Heathcote'], ['Sullivan Stapleton', 'Eva Green', 'Lena Headey', 'Hans Matheson'], ['Gerard Butler', 'Aaron Eckhart', 'Morgan Freeman,Angela Bassett'], ['Brad Pitt', 'Cate Blanchett', 'Tilda Swinton', 'Julia Ormond'], ['Mickey Rourke', 'Jessica Alba', 'Josh Brolin', 'Joseph Gordon-Levitt'], ['Matt Damon', 'Edgar Ramírez', 'Joan Allen', 'Julia Stiles'], [\"Srdjan 'Zika' Todorovic\", 'Sergej Trifunovic,Jelena Gavrilovic', 'Slobodan Bestic'], ['Frank Grillo', 'Elizabeth Mitchell', 'Mykelti Williamson', 'Joseph Julian Soria'], ['Aamir Khan', 'Madhavan', 'Mona Singh', 'Sharman Joshi'], ['Ben Stiller', 'Owen Wilson', 'Penélope Cruz', 'Will Ferrell'], ['Brad Pitt', 'Mireille Enos', 'Daniella Kertesz', 'James Badge Dale'], ['Tom Cruise', 'Jeremy Renner', 'Simon Pegg', 'Paula Patton'], ['Marilyn Manson', 'Mark Boone Junior', 'Sam Quartin', 'Niko Nicotera'], ['James McAvoy', 'Jamie Bell', 'Eddie Marsan', 'Imogen Poots'], ['Scott Eastwood', 'Britt Robertson', 'Alan Alda', 'Jack Huston'], ['Naomi Watts', 'Ewan McGregor', 'Tom Holland', 'Oaklee Pendergast'], ['Aaron Taylor-Johnson', 'Chloë Grace Moretz,Christopher Mintz-Plasse', 'Jim Carrey'], ['Alex Karpovsky', 'Wyatt Russell', 'Meredith Hagner,Melanie Lynskey'], ['James Franco', 'Michelle Williams', 'Rachel Weisz', 'Mila Kunis'], ['Saoirse Ronan', 'Emory Cohen', 'Domhnall Gleeson,Jim Broadbent'], ['Dakota Fanning', 'Teri Hatcher', 'John Hodgman', 'Jennifer Saunders'], ['Ryan Gosling', 'Michelle Williams', 'John Doman,Faith Wladyka'], ['Logan Paul', 'Peyton List', 'Lia Marie Johnson,Calum Worthy'], ['Radha Mitchell', 'Laurie Holden', 'Sean Bean,Deborah Kara Unger'], ['Karl Urban', 'Olivia Thirlby', 'Lena Headey', 'Rachel Wood'], ['Sam Neill', 'Julian Dennison', 'Rima Te Wiata', 'Rachel House'], ['Ryan Potter', 'Scott Adsit', 'Jamie Chung,T.J. Miller'], ['Chloë Grace Moretz', 'Julianne Moore', 'Gabriella Wilde', 'Portia Doubleday'], ['Robert Downey Jr.', 'Mickey Rourke', 'Gwyneth Paltrow,Don Cheadle'], ['Jake Gyllenhaal', 'Naomi Watts', 'Chris Cooper,Judah Lewis'], ['Dennis Quaid', 'Ben Foster', 'Cam Gigandet', 'Antje Traue'], ['Gerard Butler', 'Aaron Eckhart', 'Morgan Freeman,Angela Bassett'], ['Alex Pettyfer', 'Timothy Olyphant', 'Dianna Agron', 'Teresa Palmer'], ['Mads Mikkelsen', 'Thomas Bo Larsen', 'Annika Wedderkopp', 'Lasse Fogelstrøm'], ['Sandra Bullock', 'Ryan Reynolds', 'Mary Steenburgen,Craig T. Nelson'], ['Will Ferrell', 'Kevin Hart', 'Alison Brie', 'T.I.'], ['Adam Sandler', 'Jennifer Aniston', 'Brooklyn Decker,Nicole Kidman'], ['Leonardo DiCaprio', 'Kate Winslet', 'Christopher Fitzgerald', 'Jonathan Roumie'], ['Ben Affleck', 'Rebecca Hall', 'Jon Hamm', 'Jeremy Renner'], ['Lauren Cohan', 'Rupert Evans', 'James Russell', 'Jim Norton'], ['Rachel Weisz', 'Tom Wilkinson', 'Timothy Spall', 'Andrew Scott'], ['Ethan Hawke', 'Sarah Snook', 'Noah Taylor', 'Madeleine West'], ['Jack Black', 'Dylan Minnette', 'Odeya Rush', 'Ryan Lee'], ['Robert Downey Jr.', 'Jude Law', 'Jared Harris', 'Rachel McAdams'], ['Angelina Jolie', 'Liev Schreiber', 'Chiwetel Ejiofor', 'Daniel Olbrychski'], ['Jake Gyllenhaal', 'Mélanie Laurent', 'Sarah Gadon,Isabella Rossellini'], ['Sharlto Copley', 'David James', 'Jason Cope', 'Nathalie Boltt'], ['Will Ferrell', 'Mark Wahlberg', 'Derek Jeter', 'Eva Mendes'], ['Denzel Washington', 'Russell Crowe', 'Chiwetel Ejiofor,Josh Brolin'], ['Kirsten Dunst', 'Jason Schwartzman', 'Rip Torn', 'Judy Davis'], ['John Cusack', 'Thandie Newton', 'Chiwetel Ejiofor,Amanda Peet'], ['Daniel Radcliffe', 'Emma Watson', 'Rupert Grint', 'Michael Gambon'], ['Ben Affleck', 'Bryan Cranston', 'John Goodman', 'Alan Arkin'], ['Taron Egerton', 'Hugh Jackman', 'Tom Costello', 'Jo Hartley'], ['Ulrich Mühe', 'Martina Gedeck,Sebastian Koch', 'Ulrich Tukur'], ['Dominic Monaghan', 'Ksenia Solo', \"Jennette McCurdy,Da'Vone McDonald\"], ['Alia Shawkat', 'Nancy Kwan', 'Annabelle Attanasio,Alfred Molina'], ['Michael Fassbender', 'Marion Cotillard', 'Jack Madigan,Frank Madigan'], ['Kristen Bell', 'Jason Segel', 'Paul Rudd', 'Mila Kunis'], ['Brenton Thwaites', 'Jeff Bridges', 'Meryl Streep', 'Taylor Swift'], ['Casey Affleck', 'Chiwetel Ejiofor', 'Anthony Mackie,Aaron Paul'], ['Giuseppe Battiston', 'Anna Foglietta', 'Marco Giallini,Edoardo Leo'], ['Jason Sudeikis', 'Josh Gad', 'Danny McBride', 'Maya Rudolph'], ['Jared Gilman', 'Kara Hayward', 'Bruce Willis', 'Bill Murray'], ['John Travolta', 'Queen Latifah', 'Nikki Blonsky,Michelle Pfeiffer'], ['Julianne Hough', 'Josh Duhamel', 'Cobie Smulders,David Lyons'], ['Will Smith', 'Margot Robbie', 'Rodrigo Santoro', 'Adrian Martinez'], ['Brad Garrett', 'Lou Romano', 'Patton Oswalt,Ian Holm'], ['Connor Paolo', 'Nick Damici', 'Kelly McGillis', 'Gregory Jones'], ['Denzel Washington', 'Mila Kunis', 'Ray Stevenson', 'Gary Oldman'], ['Mike Vogel', 'Jessica Lucas', 'Lizzy Caplan', 'T.J. Miller'], ['Edgar Ramírez', 'Luke Bracey', 'Ray Winstone', 'Teresa Palmer'], ['Scarlett Johansson', 'Jeremy McWilliams', 'Lynsey Taylor Mackay', 'Dougie McConnell'], ['Will Smith', 'Alice Braga', 'Charlie Tahan', 'Salli Richardson-Whitfield'], ['Will Smith', 'Tommy Lee Jones', 'Josh Brolin,Jemaine Clement'], ['Elle Fanning', 'AJ Michalka', 'Kyle Chandler', 'Joel Courtney'], ['Gerard Butler', 'Jamie Foxx', 'Leslie Bibb', 'Colm Meaney'], ['Edward Asner', 'Jordan Nagai', 'John Ratzenberger', 'Christopher Plummer'], [\"Dylan O'Brien\", 'Kaya Scodelario', 'Thomas Brodie-Sangster,Giancarlo Esposito'], ['Cate Blanchett', 'Rooney Mara', 'Sarah Paulson', 'Kyle Chandler'], ['Daniel Radcliffe', 'Toni Collette', 'Tracy Letts', 'Sam Trammell'], ['Michael Caine', 'Harvey Keitel', 'Rachel Weisz', 'Jane Fonda'], ['Jared Leto', 'Sarah Polley', 'Diane Kruger', 'Linh Dan Pham'], ['Riz Ahmed', 'Billie Piper', 'James Floyd', 'Cush Jumbo'], ['Aaron Taylor-Johnson', 'Taylor Kitsch', 'Blake Lively,Benicio Del Toro'], ['Zooey Deschanel', 'Joseph Gordon-Levitt', 'Geoffrey Arend', 'Chloë Grace Moretz'], ['Emma Stone', 'Stephen Merchant', 'Richard Gere', 'Liev Schreiber'], ['Sandra Bullock', 'George Clooney', 'Ed Harris', 'Orto Ignatiussen'], ['Asa Butterfield', 'David Thewlis', 'Rupert Friend', \"Zac Mattoon O'Brien\"], ['Mark Wahlberg', 'Michael Peña', 'Rhona Mitra', 'Danny Glover'], ['Mark Wahlberg', 'Zooey Deschanel', 'John Leguizamo', 'Ashlyn Sanchez'], ['Kurt Russell', 'Patrick Wilson', 'Matthew Fox', 'Richard Jenkins'], ['Channing Tatum', 'Joe Manganiello', 'Matt Bomer,Adam Rodriguez'], ['Emma Stone', 'Amanda Bynes', 'Penn Badgley', 'Dan Byrd'], ['Christian Bale', 'Joel Edgerton', 'Ben Kingsley', 'Sigourney Weaver'], ['Sharlto Copley', 'Dev Patel', 'Hugh Jackman,Sigourney Weaver'], ['Ian McKellen', 'Martin Freeman', 'Richard Armitage,Ken Stott'], ['Chiwetel Ejiofor', 'Thandie Newton', 'Anika Noni Rose,Joseph Mawle'], ['Jamie Dornan', 'Cillian Murphy', 'Brian Caspe', 'Karel Hermánek Jr.'], ['Michael Fassbender', 'Penélope Cruz', 'Cameron Diaz,Javier Bardem'], ['Anton Adasinsky', 'Aleksandr Armer', 'Vilen Babichev', 'Rostislav Bershauer'], ['Tina Fey', 'Margot Robbie', 'Martin Freeman', 'Alfred Molina'], ['Clive Owen', 'Catherine Keener', 'Liana Liberato,Jason Clarke'], ['Billy Magnussen', 'Terry Chen', 'Teresa Navarro,Vanessa Ross'], ['Matt Damon', 'Jodie Foster', 'Sharlto Copley', 'Alice Braga'], ['Lorenza Izzo', 'Ariel Levy', 'Aaron Burns', 'Kirby Bliss Blanton'], ['Aaron Taylor-Johnson', 'Elizabeth Olsen', 'Bryan Cranston', 'Ken Watanabe'], ['Jeremy Renner', 'Rachel Weisz', 'Edward Norton', 'Scott Glenn'], ['Russell Crowe', 'Abbie Cornish', 'Albert Finney', 'Marion Cotillard'], ['Alycia Debnam-Carey', 'William Moseley', 'Connor Paolo', 'Brit Morgan'], ['Denzel Washington', 'Paula Patton', 'Jim Caviezel', 'Val Kilmer'], ['Scarlett Johansson', 'Morgan Freeman', 'Min-sik Choi,Amr Waked'], ['Cynthia Nixon', 'Jennifer Ehle', 'Duncan Duff', 'Keith Carradine'], ['Aaron Paul', 'Dominic Cooper', 'Imogen Poots', 'Scott Mescudi'], ['Tom Cruise', 'Rosamund Pike', 'Richard Jenkins', 'Werner Herzog'], ['Adam Sandler', 'David Spade', 'Paula Patton', 'Kathryn Hahn'], ['Jim Carrey', 'Charlotte Gainsbourg', 'Marton Csokas', 'Kati Outinen'], ['Ewan McGregor', 'Jennifer Connelly', 'Dakota Fanning', 'Peter Riegert'], ['Ewan McGregor', 'Pierce Brosnan', 'Olivia Williams,Jon Bernthal'], ['Bradley Cooper', 'Anna Friel', 'Abbie Cornish', 'Robert De Niro'], ['James Badge Dale', 'Emily Mortimer', 'Bruce Greenwood,Max Martini'], ['Hilary Swank', 'Gerard Butler', 'Harry Connick Jr.', 'Lisa Kudrow'], ['Patrick Wilson', 'Lena Headey', 'Ray Winstone,Richard Dreyfuss'], ['Michael Shannon', 'Joel Edgerton', 'Kirsten Dunst', 'Adam Driver'], ['Keegan-Michael Key', 'Gillian Jacobs', 'Mike Birbiglia,Chris Gethard'], ['Mia Wasikowska', 'Johnny Depp', 'Helena Bonham Carter,Anne Hathaway'], ['Elisabeth Moss', 'Naomi Watts', 'Ron Perlman', 'Liev Schreiber'], ['Dave Johns', 'Hayley Squires', 'Sharon Percy', 'Briana Shann'], ['Jennifer Aniston', 'Vince Vaughn', 'Jon Favreau', 'Joey Lauren Adams'], ['Ruth Negga', 'Joel Edgerton', 'Will Dalton', 'Dean Mumford'], ['Miles Teller', 'Kate Mara', 'Michael B. Jordan', 'Jamie Bell'], ['Mia Goth', 'Martin McCann', 'Barry Ward', 'Andrew Simpson'], ['Emma Watson', 'Daniel Brühl', 'Michael Nyqvist,Richenda Carey'], ['Jennifer Lopez', 'Ryan Guzman', 'Kristin Chenoweth', 'John Corbett'], ['Jason Bateman', 'Rebecca Hall', 'Joel Edgerton', 'Allison Tolman'], ['Luke Evans', 'Dominic Cooper', 'Sarah Gadon', 'Art Parkinson'], ['Chris Hemsworth', 'Cillian Murphy', 'Brendan Gleeson,Ben Whishaw'], ['Luke Wilson', 'Maya Rudolph', 'Dax Shepard', 'Terry Crews'], ['Sylvester Stallone', 'Jason Statham', 'Jet Li', 'Dolph Lundgren'], ['Jane Levy', 'Shiloh Fernandez', 'Jessica Lucas', 'Lou Taylor Pucci'], ['Ethan Hawke', 'Juliet Rylance', 'James Ransone,Fred Dalton Thompson'], ['John C. Reilly', 'Jack McBrayer', 'Jane Lynch', 'Sarah Silverman'], ['Kristen Stewart', 'Chris Hemsworth', 'Charlize Theron', 'Sam Claflin'], ['Levi Miller', 'Hugh Jackman', 'Garrett Hedlund', 'Rooney Mara'], ['Shia LaBeouf', 'Rosie Huntington-Whiteley', 'Tyrese Gibson', 'Josh Duhamel'], ['Ellen Page', 'Michael Cera', 'Jennifer Garner', 'Jason Bateman'], ['Tom Hanks', 'Sarita Choudhury', 'Ben Whishaw,Alexander Black'], ['George Clooney', 'Julia Roberts', \"Jack O'Connell,Dominic West\"], ['Cameron Diaz', 'Leslie Mann', 'Kate Upton', 'Nikolaj Coster-Waldau'], ['Amy Adams', 'Susan Sarandon', 'James Marsden', 'Patrick Dempsey'], ['Robert De Niro', 'Anne Hathaway', 'Rene Russo,Anders Holm'], ['Steve Carell', 'Toni Collette', 'Greg Kinnear', 'Abigail Breslin'], ['Miles Teller', 'Aaron Eckhart', 'Katey Sagal', 'Ciarán Hinds'], ['Sam Worthington', 'Liam Neeson', 'Ralph Fiennes,Jason Flemyng'], ['Chris Pine', 'Casey Affleck', 'Ben Foster', 'Eric Bana'], ['Jeff Bridges', 'Garrett Hedlund', 'Olivia Wilde', 'Bruce Boxleitner'], ['Jennifer Lawrence', 'Josh Hutcherson', 'Liam Hemsworth', 'Philip Seymour Hoffman'], ['Ryan Gosling', 'Kirsten Dunst', 'Frank Langella', 'Lily Rabe'], ['Dave Bautista', 'Alain Moussi', 'Gina Carano', 'Jean-Claude Van Damme'], ['Noah Ringer', 'Nicola Peltz', 'Jackson Rathbone,Dev Patel'], ['Jason Segel', 'Cameron Diaz', 'Rob Corddry', 'Ellie Kemper'], ['Cameron Diaz', 'Matthew Morrison', 'J. Todd Smith', 'Dennis Quaid'], ['Brad Pitt', 'Robin Wright', 'Jonah Hill', 'Philip Seymour Hoffman'], ['Nicolas Cage', 'Eva Mendes', 'Sam Elliott', 'Matt Long'], [\"Jack O'Connell\", 'Miyavi', 'Domhnall Gleeson', 'Garrett Hedlund'], ['Henry Cavill', 'Mickey Rourke', 'John Hurt', 'Stephen Dorff'], ['Cillian Murphy', 'Rose Byrne', 'Chris Evans', 'Michelle Yeoh'], ['Kelly Macdonald,Billy Connolly', 'Emma Thompson', 'Julie Walters'], ['Michael Nyqvist', 'Noomi Rapace', 'Ewa Fröling,Lena Endre'], ['Naomi Watts', 'Robin Wright', 'Xavier Samuel', 'James Frecheville'], ['Tom Hardy', 'Noomi Rapace', 'James Gandolfini,Matthias Schoenaerts'], ['Amanda Bynes', 'Laura Ramsey', 'Channing Tatum,Vinnie Jones'], ['Will Ferrell', 'Mark Wahlberg', 'Linda Cardellini', 'Thomas Haden Church'], ['Kodi Smit-McPhee', 'Chloë Grace Moretz', 'Richard Jenkins', 'Cara Buono'], ['Sean Faris', 'Djimon Hounsou', 'Amber Heard', 'Cam Gigandet'], ['Sacha Baron Cohen', 'Mark Strong', 'Rebel Wilson,Freddie Crowder'], ['Sam Rockwell', 'Kevin Spacey', 'Dominique McElligott,Rosie Shaw'], ['Will Ferrell', 'Jonah Hill', 'Brad Pitt', 'Tina Fey'], ['Sean Penn', 'Ryan Gosling', 'Emma Stone', 'Giovanni Ribisi'], ['Mel Gibson', 'Erin Moriarty', 'Diego Luna', 'Michael Parks'], ['Jennifer Aniston', 'Jennifer Connelly', 'Morgan Lily,Trenton Rogers'], ['Jack Black', 'Bryan Cranston', 'Dustin Hoffman', 'Angelina Jolie'], ['Matt Vael', 'Simon Cotton', 'Kevin Leslie', 'Olivia Moyles'], [\"Fionn O'Shea\", 'Nicholas Galitzine', 'Andrew Scott', 'Moe Dunford'], ['Jennifer Lawrence', 'John Hawkes', 'Garret Dillahunt,Isaiah Stone'], ['Jason Bateman', 'Charlie Day', 'Jason Sudeikis', 'Steve Wiebe'], ['Anne Dorval', 'Antoine-Olivier Pilon', 'Suzanne Clément,Patrick Huard'], ['Ron Perlman', 'Selma Blair', 'Doug Jones', 'John Alexander'], ['Alice Englert', 'Viola Davis', 'Emma Thompson,Alden Ehrenreich'], ['Sandra Hüller', 'Peter Simonischek', 'Michael Wittenborn,Thomas Loibl'], ['Rachel Weisz', 'Mark Wahlberg', 'Saoirse Ronan', 'Susan Sarandon'], ['Brad Pitt', 'Casey Affleck', 'Sam Shepard', 'Mary-Louise Parker'], ['Joseph Gordon-Levitt', 'Scarlett Johansson,Julianne Moore', 'Tony Danza'], ['Idris Elba', 'Richard Madden', 'Charlotte Le Bon', 'Kelly Reilly'], ['Paul Sidhu', 'Branden Coles', 'Arielle Holmes', 'Kelcey Watson'], ['Matthew McConaughey', 'Gugu Mbatha-Raw', 'Mahershala Ali', 'Keri Russell'], ['Anna Kendrick', 'Sam Rockwell', 'Tim Roth', 'James Ransone'], ['Ben Stiller', 'Kristen Wiig', 'Jon Daly', 'Kathryn Hahn'], ['Shameik Moore', 'Tony Revolori', 'Kiersey Clemons,Kimberly Elise'], ['Kate Beckinsale', 'Michael Ealy', 'India Eisley', 'Stephen Rea'], ['Willem Dafoe', 'Charlotte Gainsbourg', 'Storm Acheche Sahlstrøm'], ['Jared Padalecki', 'Amanda Righetti', 'Derek Mears,Danielle Panabaker'], ['Liam Neeson', 'Forest Whitaker', 'Maggie Grace,Famke Janssen'], ['Colin Farrell', 'Bokeem Woodbine', 'Bryan Cranston,Kate Beckinsale'], ['Patrick Stewart', 'Hugh Jackman', 'Halle Berry', 'Famke Janssen'], ['Lyndsy Fonseca', 'Michael Doneger', 'Tommy Dewey,Bruce Campbell'], ['Keanu Reeves', 'Renée Zellweger', 'Gugu Mbatha-Raw', 'Gabriel Basso'], ['Ben Stiller', 'Robin Williams', 'Owen Wilson', 'Dick Van Dyke'], ['Jake Gyllenhaal', 'Anne Hathaway', 'Judy Greer', 'Oliver Platt'], ['James Franco', 'Seth Rogen', 'Randall Park', 'Lizzy Caplan'], ['Kang-ho Song', 'Hee-Bong Byun', 'Hae-il Park', 'Doona Bae'], ['Amber Perkins', 'Rachel Quinn', 'Dean Waite', 'Jael Elizabeth Steinmeyer'], ['Ben Burtt', 'Elissa Knight', 'Jeff Garlin', 'Fred Willard'], ['Seth Rogen', 'Katherine Heigl', 'Paul Rudd', 'Leslie Mann'], ['Jake Gyllenhaal', 'Michelle Monaghan', 'Vera Farmiga,Jeffrey Wright'], ['Tom Hardy', 'Shia LaBeouf', 'Guy Pearce', 'Jason Clarke'], ['Heather Sossaman', 'Matthew Bohrer', 'Courtney Halverson', 'Shelley Hennig'], ['Jason Biggs', 'Alyson Hannigan,Seann William Scott', 'Chris Klein'], ['Will Smith', 'Thandie Newton', 'Jaden Smith', 'Brian Howe'], ['Darío Grandinetti', 'María Marull', 'Mónica Villa', 'Rita Cortese'], ['Adam Sandler', 'Terry Crews', 'Jorge Garcia', 'Taylor Lautner'], ['Pierre Niney', 'Paula Beer', 'Ernst Stötzner', 'Marie Gruber'], [\"Sofia Black-D'Elia\", 'Analeigh Tipton,Travis Tope', 'Michael Kelly'], ['Clint Eastwood', 'Bee Vang', 'Christopher Carley,Ahney Her'], ['Bradley Cooper', 'Sienna Miller', 'Daniel Brühl', 'Riccardo Scamarcio'], ['Dan Crisafulli', 'Kay Whitney', 'Richard Garcia', 'Pat Cashman'], ['Emily Browning', 'Rachael Blake', 'Ewen Leslie', 'Bridgette Barrett'], ['Zoey Deutch', 'Lucy Fry', 'Danila Kozlovsky', 'Gabriel Byrne'], ['Johnny Depp', 'Helena Bonham Carter', 'Alan Rickman,Timothy Spall'], ['Anthony Hopkins', 'Jeffrey Dean Morgan', 'Abbie Cornish', 'Colin Farrell'], ['Patrick Wilson', 'Rose Byrne', 'Ty Simpkins', 'Lin Shaye'], ['Andy Samberg', 'Jorma Taccone,Akiva Schaffer', 'Sarah Silverman'], ['Ellie Kendrick', 'David Troughton', 'Jack Holden,Joe Blakemore'], ['Christian Bale', 'Johnny Depp', 'Christian Stolte', 'Jason Clarke'], ['Ellar Coltrane', 'Patricia Arquette', 'Ethan Hawke,Elijah Smith'], ['Megan Fox', 'Will Arnett', 'William Fichtner', 'Noel Fisher'], ['Naomi Watts', 'Viggo Mortensen', 'Armin Mueller-Stahl', 'Josef Altin'], ['Geoffrey Rush', 'Nicholas Hope', 'Sam Neill', 'Ewen Leslie'], ['Seth Rogen', 'James Franco', 'Gary Cole', 'Danny McBride'], [\"Dylan O'Brien\", 'Britt Robertson', 'Victoria Justice', 'James Frecheville'], ['Morgan Freeman', 'Ed Harris', 'Casey Affleck', 'Michelle Monaghan'], ['Sandra Bullock', 'Michael McDonald', 'Melissa McCarthy,Demián Bichir'], ['Isabelle Huppert', 'André Marcon', 'Roman Kolinka,Edith Scob'], ['Keira Knightley', 'Jude Law', 'Aaron Taylor-Johnson,Matthew Macfadyen'], ['Ethan Hawke', 'David Thewlis', 'Emma Watson,Dale Dickey'], ['Mark Wahlberg', 'Seth MacFarlane', 'Amanda Seyfried', 'Jessica Barth'], ['Mark Wahlberg', 'Dwayne Johnson', 'Anthony Mackie,Tony Shalhoub'], ['Leonardo DiCaprio', 'Djimon Hounsou', 'Jennifer Connelly', 'Kagiso Kuypers'], ['Colin Firth', 'Reese Witherspoon', 'Alessandro Nivola,James Hamrick'], ['Tom Hardy', 'Gary Oldman', 'Noomi Rapace', 'Joel Kinnaman'], ['Jeremy Renner', 'Anthony Mackie', 'Brian Geraghty,Guy Pearce'], ['Ryan Reynolds', 'Blake Lively', 'Peter Sarsgaard,Mark Strong'], ['Alexander Skarsgård', 'Michael Peña', 'Theo James', 'Tessa Thompson'], ['Thomas Jane', 'Marcia Gay Harden', 'Laurie Holden,Andre Braugher'], ['Sylvester Stallone', 'Arnold Schwarzenegger', '50 Cent', \"Vincent D'Onofrio\"], ['Lily Collins', 'Sam Claflin', 'Christian Cooke', 'Jaime Winstone'], ['Mae Whitman', 'Bella Thorne', 'Robbie Amell', 'Allison Janney'], ['Byung-hun Lee', 'Yoo Gong', 'Kang-ho Song', 'Ji-min Han'], ['Jennifer Lawrence', 'Josh Hutcherson', 'Liam Hemsworth', 'Woody Harrelson'], ['Tilda Swinton', 'John C. Reilly', 'Ezra Miller', 'Jasper Newell'], ['Kate Beckinsale', 'Chloë Sevigny', 'Xavier Samuel,Emma Greenwell'], ['Lily Collins', 'Jamie Campbell Bower', 'Robert Sheehan,Jemima West'], ['Will Smith', 'Rosario Dawson', 'Woody Harrelson,Michael Ealy'], ['Colin Firth', 'Geoffrey Rush', 'Helena Bonham Carter,Derek Jacobi'], ['Stuart Graham', 'Laine Megaw', 'Brian Milligan', 'Liam McMahon'], ['Hayden Christensen', 'Samuel L. Jackson', 'Jamie Bell,Rachel Bilson'], ['Tom Hanks', 'Tim Allen', 'Joan Cusack', 'Ned Beatty'], ['Gary Oldman', 'Colin Firth', 'Tom Hardy', 'Mark Strong'], ['Milla Jovovich', 'Sienna Guillory', 'Michelle Rodriguez', 'Aryana Engineer'], ['Alia Bhatt', 'Shah Rukh Khan', 'Kunal Kapoor', 'Priyanka Moodley'], ['Colin Firth', 'Jude Law', 'Nicole Kidman', 'Laura Linney'], ['Kit Harington', 'Emily Browning', 'Kiefer Sutherland', 'Adewale Akinnuoye-Agbaje'], ['Suraj Sharma', 'Irrfan Khan', 'Adil Hussain', 'Tabu'], ['Richard Gere', 'Joan Allen', 'Cary-Hiroyuki Tagawa,Sarah Roemer'], ['Channing Tatum', 'Rosario Dawson', 'Chris Pratt', 'Jenna Dewan Tatum'], ['Michael Pitt', 'Steven Yeun', 'Astrid Bergès-Frisbey', 'Brit Marling'], ['Bruce Willis', 'Justin Long', 'Timothy Olyphant', 'Maggie Q'], ['Wesley Elder', 'Christina Grimmie', 'Osric Chau', 'Olan Rogers'], ['Naomi Watts', 'Tim Roth', 'Michael Pitt', 'Brady Corbet'], ['Mark Wahlberg', 'Mila Kunis', 'Seth MacFarlane', 'Joel McHale'], ['Bruce Willis', 'Helen Mirren', 'Morgan Freeman,Mary-Louise Parker'], ['Nicole Kidman', 'Hugh Jackman', 'Shea Adams', 'Eddie Baroo'], ['Dwayne Johnson', 'Billy Bob Thornton', 'Maggie Grace', 'Mauricio Lopez'], ['Josh Stewart', 'Bill Engvall', 'Alex Essoe', 'Ronnie Gene Blevins'], ['Matt Damon', 'Emily Blunt', 'Lisa Thoreson', 'Florence Kastriner'], ['Sharlto Copley', 'Charlie Day', 'Richard Jenkins', 'Anna Kendrick'], ['Robert Downey Jr.', 'Robert Duvall', 'Vera Farmiga', 'Billy Bob Thornton'], ['Eric Bana', 'Rebecca Hall', 'Jim Broadbent', 'Ciarán Hinds'], ['Shia LaBeouf', 'Megan Fox', 'Josh Duhamel', 'Tyrese Gibson'], ['Emmanuel Garijo', 'Tom Hudson', 'Baptiste Goy', 'Axel Devillers'], ['Diego Luna', 'Zoe Saldana', 'Channing Tatum', 'Ron Perlman'], ['Lubna Azabal', 'Mélissa Désormeaux-Poulin', 'Maxim Gaudette', 'Mustafa Kamel'], ['Ben Stiller', 'Michelle Monaghan,Malin Akerman', 'Jerry Stiller'], ['Elijah Wood', 'Brittany Murphy', 'Hugh Jackman', 'Robin Williams'], ['Adrian Grenier', 'Kevin Connolly', 'Jerry Ferrara', 'Kevin Dillon'], ['Scott Speedman', 'Liv Tyler', 'Gemma Ward', 'Alex Fisher'], ['Russell Crowe', 'Jennifer Connelly', 'Anthony Hopkins', 'Emma Watson'], ['Seth Rogen', 'Rose Byrne', 'Zac Efron', 'Lisa Kudrow'], ['Charlotte Gainsbourg', 'Stellan Skarsgård', 'Willem Dafoe', 'Jamie Bell'], ['Reese Witherspoon', 'Laura Dern', 'Gaby Hoffmann,Michiel Huisman'], ['Adam Sandler', 'Salma Hayek', 'Kevin James', 'Chris Rock'], ['James Allen McCune', 'Callie Hernandez', 'Corbin Reid', 'Brandon Scott'], ['Jackie Chan', 'Jaden Smith', 'Taraji P. Henson', 'Wenwen Han'], ['Johnny Depp', 'Michelle Pfeiffer', 'Eva Green', 'Helena Bonham Carter'], ['Mila Kunis', 'Justin Timberlake', 'Patricia Clarkson', 'Jenna Elfman'], ['Edward Norton', 'Jessica Biel', 'Paul Giamatti', 'Rufus Sewell'], ['Liam Neeson', 'Bradley Cooper', 'Sharlto Copley,Jessica Biel'], ['Dan Stevens', 'Sheila Kelley', 'Maika Monroe', 'Joel David Moore'], ['Vince Vaughn', 'Owen Wilson', 'Rose Byrne', 'Aasif Mandvi'], ['Simon Pegg', 'Nick Frost', 'Seth Rogen', 'Mia Stallard'], ['Jessica Brown Findlay', 'Andrew Scott', 'Jeremy Irvine,Tom Wilkinson'], ['Tom Hanks', 'Audrey Tautou', 'Jean Reno', 'Ian McKellen'], ['Eddie Murphy', 'Britt Robertson', 'Natascha McElhone', 'Xavier Samuel'], ['Asa Butterfield', 'Chloë Grace Moretz', 'Christopher Lee', 'Ben Kingsley'], ['Emma Roberts', 'Kiernan Shipka', 'Lauren Holly', 'Lucy Boynton'], ['Leonardo DiCaprio', 'Russell Crowe', 'Mark Strong,Golshifteh Farahani'], ['Christian Bale', 'Cate Blanchett', 'Natalie Portman,Brian Dennehy'], ['Brendan Fraser', 'Jet Li', 'Maria Bello', 'Michelle Yeoh'], ['Melissa McCarthy', 'Kristen Bell', 'Peter Dinklage', 'Ella Anderson'], ['Edgar Ramírez', 'Usher Raymond', 'Robert De Niro', 'Rubén Blades'], ['Ricardo Darín', 'Soledad Villamil', 'Pablo Rago,Carla Quevedo'], ['Jeff Bridges', 'Matt Damon', 'Hailee Steinfeld,Josh Brolin'], ['Zac Efron', 'Wes Bentley', 'Emily Ratajkowski', 'Jonny Weston'], ['Seth MacFarlane', 'Charlize Theron', 'Liam Neeson,Amanda Seyfried'], ['Brian White', 'Karrueche Tran', 'Angelique Pereira,Jessica Vanessa DeLeon'], ['Lily Collins', 'Haley Bennett', 'Taissa Farmiga', 'Steve Tom'], ['Elizabeth Reaser', 'Lulu Wilson', 'Annalise Basso,Henry Thomas'], ['Logan Lerman', 'Alexandra Daddario', 'Brandon T. Jackson', 'Nathan Fillion'], ['Anthony Hopkins', 'Ryan Gosling', 'David Strathairn,Rosamund Pike'], ['Karen Gillan', 'Brenton Thwaites', 'Katee Sackhoff,Rory Cochrane'], ['Colin Farrell', 'Brendan Gleeson', 'Ciarán Hinds,Elizabeth Berrington'], ['Reese Witherspoon', 'Chris Pine', 'Tom Hardy', 'Til Schweiger'], ['Tatiana Pauhofová', 'Karl Markovics', 'Gedeon Burkhard,Simona Stasová'], ['Viggo Mortensen', 'Charlize Theron', 'Kodi Smit-McPhee,Robert Duvall'], ['Abbie Cornish', 'Dermot Mulroney', 'Justin Long,Diego Klattenhoff'], ['Larenz Tate', 'Meagan Good', 'Rotimi', 'Rick Gonzalez'], ['Jason Momoa', 'Ron Perlman', 'Rose McGowan,Stephen Lang'], ['Mark Wahlberg', 'Christian Bale', 'Amy Adams,Melissa Leo'], ['Freddie Highmore', 'Keri Russell', 'Jonathan Rhys Meyers', 'Terrence Howard'], ['Jon Favreau', 'Robert Downey Jr.', 'Scarlett Johansson,Dustin Hoffman'], ['Helen Mirren', 'Aaron Paul', 'Alan Rickman', 'Barkhad Abdi'], ['Shia LaBeouf', 'Michelle Monaghan', 'Rosario Dawson,Michael Chiklis'], ['Ethan Hawke', 'Lena Headey', 'Max Burkholder,Adelaide Kane'], ['Aamir Khan', 'Anushka Sharma', 'Sanjay Dutt,Boman Irani'], ['Harrison Ford', 'Asa Butterfield', 'Hailee Steinfeld', 'Abigail Breslin'], ['Harrison Ford', 'Cate Blanchett', 'Shia LaBeouf,Karen Allen'], ['Nat Wolff', 'Cara Delevingne', 'Austin Abrams', 'Justice Smith'], ['Tom Hiddleston', 'Jeremy Irons', 'Sienna Miller', 'Luke Evans'], ['Daniel Craig', 'Olga Kurylenko', 'Mathieu Amalric', 'Judi Dench'], ['Sigourney Weaver', 'Michelle Rodriguez', 'Tony Shalhoub,Anthony LaPaglia'], ['Jay Baruchel', 'Gerard Butler,Christopher Mintz-Plasse', 'Craig Ferguson'], ['Paul Giamatti', 'Bryce Dallas Howard', 'Jeffrey Wright', 'Bob Balaban'], ['Hugh Jackman', 'Rachel Weisz', 'Sean Patrick Thomas', 'Ellen Burstyn'], ['Owen Wilson', 'Larry the Cable Guy,Michael Caine', 'Emily Mortimer'], ['Malcolm McDowell', 'Richard Brake', 'Jeff Daniel Phillips,Sheri Moon Zombie'], ['Abigail Breslin', 'Wes Bentley', 'Logan Huffman,Alexander Ludwig'], ['Maddy Curley', 'John DeLuca', 'Nikki SooHoo', 'Drew Seeley'], ['Dev Patel', 'Jeremy Irons', 'Malcolm Sinclair', 'Raghuvir Joshi'], ['Liam Neeson', 'Diane Kruger', 'January Jones,Aidan Quinn'], ['Ryan Reynolds', 'Natalie Martinez', 'Matthew Goode,Ben Kingsley'], ['Kevin Costner', 'Demi Moore', 'William Hurt', 'Dane Cook'], ['Callum Turner', 'Grace Van Patten', 'Michal Vondel', 'Mike Birbiglia'], ['Chris Evans', 'Alice Eve', 'Emma Fitzpatrick', 'John Cullum'], ['Tom Hanks', 'Barkhad Abdi', 'Barkhad Abdirahman,Catherine Keener'], ['Rooney Mara', 'Eric Bana', 'Theo James', 'Aidan Turner'], ['Ben Winchell', 'Josh Brener', 'Maria Bello', 'Andy Garcia'], ['Adam Sandler', 'Andy Samberg', 'Selena Gomez', 'Kevin James'], ['Will Smith', 'Charlize Theron', 'Jason Bateman', 'Jae Head'], ['Amy Poehler', 'Tina Fey', 'Maya Rudolph', 'Ike Barinholtz'], ['Robert De Niro', 'Michelle Pfeiffer', 'Dianna Agron', \"John D'Leo\"], ['Seth Rogen', 'Elizabeth Banks', 'Craig Robinson', 'Gerry Bednob'], ['Gaspard Schlatter', 'Sixtine Murat', 'Paulin Jaccoud,Michel Vuillermoz'], ['Sam Worthington', 'Elizabeth Banks', 'Jamie Bell', 'Mandy Gonzalez'], ['Natalie Portman', 'Ashton Kutcher', 'Kevin Kline', 'Cary Elwes'], ['Christian Bale', 'Steve Zahn', 'Jeremy Davies', 'Zach Grenier'], ['Steve Carell', 'Kristen Wiig', 'Benjamin Bratt', 'Miranda Cosgrove'], ['Liam Neeson', 'Dan Stevens', 'David Harbour', 'Boyd Holbrook'], ['Simon Pegg', 'Nick Frost', 'Martin Freeman', 'Rosamund Pike'], ['Lily-Rose Depp', 'Harley Quinn Smith', 'Johnny Depp,Adam Brody'], ['Colin Farrell', 'Woody Harrelson', 'Sam Rockwell,Christopher Walken'], ['Ray Winstone', 'Crispin Glover', 'Angelina Jolie,Robin Wright'], ['Chris Pine', 'Kevin Costner', 'Keira Knightley,Kenneth Branagh'], ['John Cusack', 'Samuel L. Jackson', 'Mary McCormack', 'Paul Birchard'], ['Mark Wahlberg', 'Jessica Lange', 'John Goodman', 'Brie Larson'], ['Jake Gyllenhaal', 'Gemma Arterton', 'Ben Kingsley,Alfred Molina'], ['Miles Teller', 'Shailene Woodley', 'Kyle Chandler,Jennifer Jason Leigh'], ['David Oyelowo', 'Rosamund Pike', 'Tom Felton', 'Jack Davenport'], ['Nicolas Cage', 'Tom Sizemore', 'Thomas Jane,Matt Lanter'], ['Munro Chambers', 'Laurence Leboeuf', 'Michael Ironside', 'Edwin Wright'], ['Jessica Chastain', 'Nikolaj Coster-Waldau', 'Megan Charpentier', 'Isabelle Nélisse'], ['Vera Farmiga', 'Peter Sarsgaard', 'Isabelle Fuhrman', 'CCH Pounder'], ['Woody Allen', 'Penélope Cruz', 'Jesse Eisenberg', 'Ellen Page'], ['George Clooney', 'Meryl Streep', 'Bill Murray', 'Jason Schwartzman'], ['Denzel Washington', 'Clive Owen', 'Jodie Foster,Christopher Plummer'], ['Pierce Brosnan', 'Jason Barry', 'Karen Moskow', 'Kai Ryssdal'], ['James Franco', 'Amber Tamblyn', 'Kate Mara', 'Sean Bott'], ['Ward Horton', 'Annabelle Wallis', 'Alfre Woodard,Tony Amendola'], ['Katie Cassidy', 'Elizabeth Henstridge', 'Adam Campbell', 'Miles Fisher'], ['Michelle Williams', 'Kristin Scott Thomas', 'Margot Robbie,Eric Godon'], ['Christopher Plummer', 'Lily Cole', 'Heath Ledger,Andrew Garfield'], ['Dennis Quaid', 'Channing Tatum', 'Marlon Wayans,Adewale Akinnuoye-Agbaje'], ['Rebecca Hall', 'Michael C. Hall', 'Tracy Letts', 'Maria Dizzia'], ['Shia LaBeouf', 'Jai Courtney', 'Gary Oldman', 'Kate Mara'], ['Michael Vartan', 'Erin Moriarty', 'Nadine Velazquez,Ronnie Gene Blevins'], ['Naomi Watts', 'Charlie Heaton', 'Jacob Tremblay,Oliver Platt'], ['Mark Chao', 'Ni Ni', 'Dave Bautista', 'Sienna Guillory'], ['Kurt Russell', 'Rose McGowan', 'Danny Trejo', 'Zoë Bell'], ['Carmen Electra', 'Vanessa Lachey,Nicole Parker', 'Matt Lanter'], ['Sylvester Stallone', 'Antonio Tarver', 'Milo Ventimiglia', 'Burt Young'], ['Zachary Gordon', 'Robert Capron', 'Devon Bostick,Steve Zahn'], ['Mia Wasikowska', 'Michael Fassbender', 'Jamie Bell', 'Su Elliot'], ['Matthew McConaughey', 'Kate Hudson', 'Donald Sutherland', 'Alexis Dziena'], ['Sacha Baron Cohen', 'Anna Faris', 'John C. Reilly', 'Ben Kingsley'], ['Karl Urban', 'James Marsden', 'Wentworth Miller', 'Eric Stonestreet'], ['Adrian Titieni', 'Maria-Victoria Dragus', 'Lia Bugnar,Malina Manovici'], ['Adam Sandler', 'John Turturro', 'Emmanuelle Chriqui,Nick Swardson'], ['Ana de Armas', 'Keanu Reeves', 'Christopher McDonald', 'Mira Sorvino'], ['Ethan Hawke', 'Sally Hawkins', 'Kari Matchett', 'Zachary Bennett'], ['Jason Bateman', 'Jason Sudeikis', 'Charlie Day', 'Jennifer Aniston'], ['Tilda Swinton', 'Matthias Schoenaerts', 'Ralph Fiennes', 'Dakota Johnson'], ['Kirsten Dunst', 'Charlotte Gainsbourg', 'Kiefer Sutherland', 'Alexander Skarsgård'], ['Anika Noni Rose', 'Keith David', 'Oprah Winfrey', 'Bruno Campos'], ['Denzel Washington', 'Chris Pine', 'Rosario Dawson', 'Ethan Suplee'], ['Denzel Washington', 'Nadine Velazquez', 'Don Cheadle', 'John Goodman'], ['Jim Parsons', 'Rihanna', 'Steve Martin', 'Jennifer Lopez'], ['Geoffrey Rush', 'Jim Sturgess', 'Sylvia Hoeks,Donald Sutherland'], ['Sophie Nélisse', 'Josh Wiggins', 'Joe Cobden', 'Bill Paxton'], ['Chadwick Boseman', 'T.R. Knight', 'Harrison Ford,Nicole Beharie'], ['Jim Sturgess', 'Kate Bosworth', 'Kevin Spacey', 'Aaron Yoo'], ['Keira Knightley', 'Mark Ruffalo', 'Adam Levine', 'Hailee Steinfeld'], ['Christian Bale', 'Casey Affleck', 'Zoe Saldana', 'Woody Harrelson'], ['Rebecca Hall', 'Scarlett Johansson', 'Javier Bardem,Christopher Evan Welch'], ['Jack Black', 'Ian McShane,Angelina Jolie', 'Dustin Hoffman'], ['Ice Cube', 'Regina Hall', 'Anthony Anderson', 'Eve'], ['Christian Bale', 'Sam Worthington', 'Anton Yelchin', 'Moon Bloodgood'], ['Hilary Swank', 'Imelda Staunton', 'Patrick Dempsey', 'Scott Glenn'], ['Ted Levine', 'Kathleen Quinlan', 'Dan Byrd', 'Emilie de Ravin'], ['Angelina Jolie', 'Colm Feore', 'Amy Ryan', 'Gattlin Griffith'], ['Robert Pattinson', 'Emilie de Ravin', 'Caitlyn Rund,Moisés Acevedo'], ['Miyu Irino', 'Saori Hayami', 'Aoi Yuki', 'Kenshô Ono'], ['Steve Carell', 'Jennifer Garner', 'Ed Oxenbould', 'Dylan Minnette'], ['Tom Hardy', 'Olivia Colman', 'Ruth Wilson', 'Andrew Scott'], ['Jamie Dornan', 'Aiden Longworth', 'Sarah Gadon,Aaron Paul'], ['Daniel Radcliffe', 'Juno Temple', 'Max Minghella', 'Joe Anderson'], ['Logan Lerman', 'Sarah Gadon', 'Tijuana Ricks', 'Sue Dahlman'], ['Ezra Miller', 'Tye Sheridan', 'Billy Crudup', 'Olivia Thirlby'], ['Zachary Gordon', 'Devon Bostick', 'Robert Capron,Rachael Harris'], ['Tom Cruise', 'Michelle Monaghan', 'Ving Rhames', 'Philip Seymour Hoffman'], ['Rolf Lassgård', 'Bahar Pars', 'Filip Berg', 'Ida Engvoll'], ['Justin Chatwin', 'James Marsters', 'Yun-Fat Chow', 'Emmy Rossum'], ['Chris Hemsworth', 'Isabel Lucas', 'Josh Hutcherson', 'Josh Peck'], ['Anne Hathaway', 'Jim Sturgess', 'Patricia Clarkson,Tom Mison'], ['Katherine Heigl', 'Josh Duhamel', 'Josh Lucas', 'Alexis Clagett'], ['Jeremy Renner', 'Rose Byrne', 'Robert Carlyle', 'Harold Perrineau'], ['Nicholas Hoult', 'Teresa Palmer', 'John Malkovich,Analeigh Tipton'], ['Cate Blanchett', 'Alec Baldwin', 'Peter Sarsgaard', 'Sally Hawkins'], ['Dwayne Johnson', 'Channing Tatum', 'Adrianne Palicki,Byung-hun Lee'], ['Sam Worthington', 'Liam Neeson', 'Rosamund Pike', 'Ralph Fiennes'], ['Hiroki Hasegawa', 'Yutaka Takenouchi,Satomi Ishihara', 'Ren Ôsugi'], ['Emma Thompson', 'Tom Hanks', 'Annie Rose Buckley', 'Colin Farrell'], ['Johnny Depp', 'Rebecca Hall', 'Morgan Freeman', 'Cillian Murphy'], ['Jesse Eisenberg', 'Anne Hathaway', 'George Lopez,Karen Disher'], ['Nicholas Hoult', 'Kristen Stewart', 'Vernetta Lopez,Scott Lawrence'], ['Brad Pitt', 'Cate Blanchett', 'Gael García Bernal', 'Mohamed Akhzam'], ['Brad Pitt', 'Sean Penn', 'Jessica Chastain', 'Hunter McCracken'], ['Zac Efron', 'Taylor Schilling', 'Blythe Danner', 'Riley Thomas Stewart'], ['Elisabeth Shue', \"Jerry O'Connell\", 'Richard Dreyfuss,Ving Rhames'], ['Joseph Gordon-Levitt', 'Seth Rogen', 'Anna Kendrick', 'Bryce Dallas Howard'], ['Dylan Duffus', 'Scorcher,Shone Romulus', 'Jade Asha'], ['Paul Rudd', 'Leslie Mann', 'Maude Apatow', 'Iris Apatow'], ['Hugh Jackman', 'Evangeline Lilly', 'Dakota Goyo,Anthony Mackie'], ['Sarah Jessica Parker', 'Kim Cattrall', 'Cynthia Nixon', 'Kristin Davis'], ['Sylvester Stallone', 'Julie Benz', 'Matthew Marsden', 'Graham McTavish'], ['Rose McGowan', 'Freddy Rodríguez', 'Josh Brolin,Marley Shelton'], ['Will Smith', 'Alec Baldwin', 'Albert Brooks', 'David Morse'], ['Lee Pace', 'Catinca Untaru', 'Justine Waddell', 'Kim Uylenbroek'], ['Katherine Heigl', 'Gerard Butler', 'Bree Turner', 'Eric Winter'], ['Kate Hudson', 'Anne Hathaway', 'Candice Bergen', 'Bryan Greenberg'], ['Jason Sudeikis', 'Alison Brie', 'Jordan Carlos,Margarita Levieva'], ['Samuel L. Jackson', 'Julianna Margulies', 'Nathan Phillips', 'Rachel Blanchard'], ['Daniel Radcliffe', 'Zoe Kazan', 'Megan Park', 'Adam Driver'], ['Jay Baruchel', 'Cate Blanchett', 'Gerard Butler', 'Craig Ferguson'], ['Joel Kinnaman', 'Gary Oldman', 'Michael Keaton', 'Abbie Cornish'], ['Nat Wolff', 'James Franco', \"Vincent D'Onofrio\", 'Selena Gomez'], ['Sally Field', 'Max Greenfield', 'Tyne Daly', 'Wendi McLendon-Covey'], ['George Clooney', 'Brad Pitt', 'Matt Damon,Michael Mantell'], ['Nathan Fillion', 'Elizabeth Banks', 'Michael Rooker', 'Don Thompson'], ['Matt Damon', 'Kate Winslet', 'Jude Law', 'Gwyneth Paltrow'], ['Salma Hayek', 'Vincent Cassel', 'Toby Jones', 'John C. Reilly'], ['Ruth Wilson', 'Paula Prentiss', 'Lucy Boynton', 'Bob Balaban'], ['Josh Hutcherson', 'AnnaSophia Robb', 'Zooey Deschanel', 'Robert Patrick'], ['Emily Baldoni', 'Maury Sterling', 'Nicholas Brendon', 'Elizabeth Gracen'], ['Jamal Woolard', 'Anthony Mackie', 'Derek Luke,Momo Dione'], ['Jun Kunimura', 'Jung-min Hwang', 'Do-won Kwak', 'Woo-hee Chun'], ['Sylvester Stallone', 'Liam Hemsworth', 'Randy Couture,Jean-Claude Van Damme'], ['William Atherton', 'Blythe Auffarth', 'Blanche Baker,Kevin Chamberlin'], ['Ben Whishaw', 'Dustin Hoffman', 'Alan Rickman,Francesc Albiol'], ['Nicole Kidman', 'Daniel Craig', 'Dakota Blue Richards', 'Ben Walker'], ['Michael Fassbender', 'Dominic West', 'Olga Kurylenko,Andreas Wisniewski'], ['Tye Sheridan', 'Logan Miller', 'Joey Morgan,Sarah Dumont'], ['Zac Efron', 'Matthew Perry', 'Leslie Mann', 'Thomas Lennon'], ['Lake Bell', 'Pierce Brosnan', 'Owen Wilson,Chatchawai Kamonsakpitak'], ['Brandon Routh', 'Kevin Spacey', 'Kate Bosworth', 'James Marsden'], ['Kristen Stewart', 'Robert Pattinson', 'Taylor Lautner', 'Gil Birmingham'], ['Gabourey Sidibe', \"Mo'Nique\", 'Paula Patton', 'Mariah Carey'], ['Matthew McConaughey', 'Naomi Watts', 'Ken Watanabe,Ryoko Seta'], ['Zoey Deutch', 'Nicholas Braun', 'Mateo Arias', 'Israel Broussard'], ['Philip Seymour Hoffman', 'Joaquin Phoenix,Amy Adams', 'Jesse Plemons'], ['Kenny Wormald', 'Julianne Hough', 'Dennis Quaid,Andie MacDowell'], ['Chloë Grace Moretz', 'Mireille Enos', 'Jamie Blackley,Joshua Leonard'], ['Dan Stevens', 'Malin Akerman', 'Oliver Platt', 'Kerry Bishé'], ['Tye Sheridan', 'Emory Cohen', 'Bel Powley,Stephen Moyer'], ['Samantha Robinson', 'Jeffrey Vincent Parise', 'Laura Waddell', 'Gian Keys'], ['Will Ferrell', 'John C. Reilly', 'Sacha Baron Cohen', 'Gary Cole'], ['Dieter Laser', 'Ashley C. Williams', 'Ashlynn Yennie', 'Akihiro Kitamura'], ['Rainn Wilson', 'Ellen Page', 'Liv Tyler', 'Kevin Bacon'], ['Jamie Dornan', 'Mark Strong', \"Jason O'Mara\", 'Michael McElhatton'], ['George Clooney', 'Vera Farmiga', 'Anna Kendrick,Jason Bateman'], ['Vinnie Jones', 'Bradley Cooper', 'Leslie Bibb', 'Brooke Shields'], ['Kristen Stewart', 'Robert Pattinson', 'Taylor Lautner,Xavier Samuel'], ['Johnny Simmons', 'Gabriel Luna', 'Clifton Collins Jr.,David Acord'], ['Anna Faris', 'Chris Evans', 'Ari Graynor', 'Blythe Danner'], ['Vin Diesel', 'Karl Urban', 'Katee Sackhoff', 'Jordi Mollà'], ['Melissa George', 'Joshua McIvor', 'Jack Taylor,Michael Dorman'], ['Forest Whitaker', 'Oprah Winfrey', 'John Cusack', 'Jane Fonda'], ['Garrett Clayton', 'Christian Slater', 'Molly Ringwald,James Kelley'], ['Jaden Smith', 'David Denman', 'Will Smith,Sophie Okonedo'], ['Jahking Guillory', 'Christopher Jordan Wallace,Christopher Meyer', 'Kofi Siriboe'], ['Thomas Mann', 'RJ Cyler', 'Olivia Cooke', 'Nick Offerman'], ['George Clooney', 'Shailene Woodley', 'Amara Miller', 'Nick Krause'], ['Sarah Jessica Parker', 'Kim Cattrall', 'Kristin Davis', 'Cynthia Nixon'], ['Nick Robinson', 'Gabriel Basso', 'Moises Arias,Nick Offerman'], ['Jason Statham', 'Joan Allen', 'Tyrese Gibson', 'Ian McShane'], ['Zac Efron', 'Michael B. Jordan', 'Miles Teller', 'Imogen Poots'], ['Paul Bettany', 'Dennis Quaid', 'Charles S. Dutton', 'Lucas Black'], ['Jake Gyllenhaal', 'Michael Peña', 'Anna Kendrick', 'America Ferrera'], ['Kevin Costner', 'Hailee Steinfeld', 'Connie Nielsen', 'Amber Heard'], ['Josh Hartnett', 'Ben Kingsley', 'Morgan Freeman', 'Lucy Liu'], ['James McAvoy', 'Rosario Dawson', 'Vincent Cassel,Danny Sapani'], ['Ellen Page', 'Evan Rachel Wood', 'Max Minghella,Callum Keith Rennie'], ['Natalie Portman', 'Scarlett Johansson', 'Eric Bana,Jim Sturgess'], ['Sarah Butler', 'Jeff Branson', 'Andrew Howard,Daniel Franzese'], ['Viola Davis', 'Hayden Panettiere', 'Catalina Sandino Moreno', 'Ellen Burstyn'], ['Laura Dern', 'Jeremy Irons', 'Justin Theroux', 'Karolina Gruszka'], ['Lambert Wilson', 'Pierre Niney', 'Audrey Tautou,Laurent Lucas'], ['Joseph Gordon-Levitt', 'Charlotte Le Bon,Guillaume Baillargeon', 'Émilie Leclerc'], ['Anna Hutchison', 'Andrea Whitburn', 'Jennifer Koenig,Michael Dickson'], ['Johnny Depp', 'Armie Hammer', 'William Fichtner,Tom Wilkinson'], ['Alexandra Daddario', 'Tania Raymonde', 'Scott Eastwood', 'Trey Songz'], ['Shia LaBeouf', 'David Morse', 'Carrie-Anne Moss', 'Sarah Roemer'], ['Julianne Hough', 'Diego Boneta', 'Tom Cruise', 'Alec Baldwin'], ['Neve Campbell', 'Courteney Cox', 'David Arquette', 'Lucy Hale'], ['Madina Nalwanga', 'David Oyelowo', \"Lupita Nyong'o\", 'Martin Kabanza'], ['Nia Vardalos', 'John Corbett', 'Michael Constantine', 'Lainie Kazan'], ['Charlize Theron', 'Nicholas Hoult', 'Christina Hendricks', 'Chloë Grace Moretz'], ['Jason Biggs', 'Janet Montgomery,Ashley Tisdale', 'Bria L. Murphy'], ['Nathalie Baye', 'Vincent Cassel', 'Marion Cotillard', 'Léa Seydoux'], ['Antonio Banderas', 'Elena Anaya', 'Jan Cornet,Marisa Paredes'], ['Jennifer Garner', 'Kylie Rogers', 'Martin Henderson,Brighton Sharbino'], ['Quvenzhané Wallis', 'Cameron Diaz', 'Jamie Foxx', 'Rose Byrne'], ['Evan Rachel Wood', 'Jim Sturgess', 'Joe Anderson', 'Dana Fuchs'], ['Jake Johnson', 'Damon Wayans Jr.', 'Rob Riggle', 'Nina Dobrev'], ['Thomas Haden Church', 'Josh Wiggins', 'Luke Kleintank,Lauren Graham'], ['Danny McBride', 'Natalie Portman', 'James Franco', 'Rasmus Hardiker'], [\"Nicholas D'Agosto\", 'Emma Bell', 'Arlen Escarpeta', 'Miles Fisher'], ['Gabriella Wilde', 'Alex Pettyfer', 'Bruce Greenwood,Robert Patrick'], ['Morjana Alaoui', 'Mylène Jampanoï', 'Catherine Bégin,Robert Toupin'], ['David Oyelowo', 'Carmen Ejogo', 'Tim Roth', 'Lorraine Toussaint'], ['Rhona Mitra', 'Michael Sheen', 'Bill Nighy', 'Steven Mackintosh'], ['Darsheel Safary', 'Aamir Khan', 'Tanay Chheda', 'Sachet Engineer'], ['Topher Grace', 'Anna Faris', 'Dan Fogler', 'Teresa Palmer'], ['Milla Jovovich', 'Ali Larter', 'Wentworth Miller,Kim Coates'], ['Thomas Mann', 'Oliver Cooper', 'Jonathan Daniel Brown', 'Dax Flame'], ['Chiwetel Ejiofor', 'Nicole Kidman', 'Julia Roberts', 'Dean Norris'], ['Lauren German', 'Heather Matarazzo', 'Bijou Phillips', 'Roger Bart'], ['Robert Hoffman', 'Briana Evigan', 'Cassie Ventura', 'Adam G. Sevani'], ['Adam Pally', 'T.J. Miller', 'Thomas Middleditch,Shannon Woodward'], ['Kevin Spacey', 'Jennifer Garner', 'Robbie Amell,Cheryl Hines']]\n"
     ]
    }
   ],
   "execution_count": 78
  },
  {
   "metadata": {
    "ExecuteTime": {
     "end_time": "2025-01-09T13:42:05.092503Z",
     "start_time": "2025-01-09T13:42:05.088433Z"
    }
   },
   "cell_type": "code",
   "source": [
    "actors_list = [i for j in temp_actors_list for i in j]  #二维展为一维\n",
    "actors_num = len(set(actors_list)) #set去重\n",
    "print(len(np.unique(actors_list)))\n",
    "print(actors_num) #演员的数量"
   ],
   "id": "9f33d193a1076aa4",
   "outputs": [
    {
     "name": "stdout",
     "output_type": "stream",
     "text": [
      "2015\n",
      "2015\n"
     ]
    }
   ],
   "execution_count": 83
  },
  {
   "metadata": {
    "ExecuteTime": {
     "end_time": "2025-01-09T13:39:33.794044Z",
     "start_time": "2025-01-09T13:39:33.788391Z"
    }
   },
   "cell_type": "code",
   "source": [
    "#想知道每个演员出演的电影数量\n",
    "u,indices = np.unique(actors_list,return_counts = True)\n",
    "print (u)\n",
    "indices"
   ],
   "id": "4d0379bb377e043d",
   "outputs": [
    {
     "name": "stdout",
     "output_type": "stream",
     "text": [
      "['50 Cent' 'A.C. Peterson' 'AJ Michalka' ... 'Émilie Leclerc'\n",
      " 'Ólafur Darri Ólafsson' 'Óscar Jaenada']\n"
     ]
    },
    {
     "data": {
      "text/plain": [
       "array([1, 1, 1, ..., 1, 1, 1], shape=(2015,))"
      ]
     },
     "execution_count": 81,
     "metadata": {},
     "output_type": "execute_result"
    }
   ],
   "execution_count": 81
  },
  {
   "metadata": {
    "ExecuteTime": {
     "end_time": "2025-01-09T13:43:28.729014Z",
     "start_time": "2025-01-09T13:43:28.584768Z"
    }
   },
   "cell_type": "code",
   "source": [
    "# rating,runtime分布情况\n",
    "# 选择图形，直方图\n",
    "# 准备数据\n",
    "runtime_data = df[\"Runtime (Minutes)\"].values\n",
    "\n",
    "max_runtime = runtime_data.max()\n",
    "min_runtime = runtime_data.min()\n",
    "print(min_runtime,max_runtime)\n",
    "# 计算组数\n",
    "print(max_runtime - min_runtime)\n",
    "print('-'*50)\n",
    "num_bin = (max_runtime - min_runtime) // 5\n",
    "\n",
    "# 设置图形的大小\n",
    "plt.figure(figsize=(20, 8), dpi=80)\n",
    "# 第二个bins参数必须为int或sequence或str，bins代表划分为多少个单元\n",
    "plt.hist(runtime_data, int(num_bin))\n",
    "plt.grid(alpha=0.5) #alpha是透明度\n",
    "#range第三个参数是步长\n",
    "plt.xticks(range(min_runtime, max_runtime + 5,5))\n",
    "\n",
    "plt.show()"
   ],
   "id": "2fcb560298566242",
   "outputs": [
    {
     "name": "stdout",
     "output_type": "stream",
     "text": [
      "66 191\n",
      "125\n",
      "--------------------------------------------------\n"
     ]
    },
    {
     "data": {
      "text/plain": [
       "<Figure size 1600x640 with 1 Axes>"
      ],
      "image/png": "[encoded data removed]"
     },
     "metadata": {},
     "output_type": "display_data"
    }
   ],
   "execution_count": 84
  },
  {
   "metadata": {
    "ExecuteTime": {
     "end_time": "2025-01-09T13:45:20.902606Z",
     "start_time": "2025-01-09T13:45:20.899027Z"
    }
   },
   "cell_type": "code",
   "source": [
    "#电影评分的分布情况\n",
    "# 获取平均评分\n",
    "print(df[\"Rating\"].mean())\n",
    "\n",
    "# rating,runtime分布情况\n",
    "# 选择图形，直方图\n",
    "# 准备数据\n",
    "runtime_data = df[\"Rating\"].values\n",
    "print(type(runtime_data))\n",
    "max_runtime = runtime_data.max()\n",
    "min_runtime = runtime_data.min()\n",
    "print('-'*50)\n",
    "print(max_runtime,min_runtime) #最大值最小值电影评分"
   ],
   "id": "5f59c9c7ce7fa8ec",
   "outputs": [
    {
     "name": "stdout",
     "output_type": "stream",
     "text": [
      "6.723199999999999\n",
      "<class 'numpy.ndarray'>\n",
      "--------------------------------------------------\n",
      "9.0 1.9\n"
     ]
    }
   ],
   "execution_count": 85
  },
  {
   "metadata": {
    "ExecuteTime": {
     "end_time": "2025-01-09T13:45:56.546061Z",
     "start_time": "2025-01-09T13:45:56.486882Z"
    }
   },
   "cell_type": "code",
   "source": [
    "# 计算组数\n",
    "print(f'最大评分减去最小评分为{max_runtime - min_runtime}')\n",
    "num_bin = (max_runtime - min_runtime) // 0.5  #对不齐的原因是因为9.0-1.9不能整除0.5\n",
    "\n",
    "print(f'组数为{num_bin}')\n",
    "# 设置图形的大小\n",
    "plt.figure(figsize=(20, 8), dpi=80)\n",
    "# 第二个bins参数必须为int或sequence或str，bins代表划分为多少个单元\n",
    "plt.hist(runtime_data, int(num_bin))\n",
    "plt.grid(alpha=0.5)\n",
    "#因为range的步长不支持0.5,自己做一个列表\n",
    "_x = [min_runtime]\n",
    "i = min_runtime\n",
    "while i <= max_runtime + 0.5:\n",
    "    i = i + 0.5\n",
    "    _x.append(i)\n",
    "\n",
    "plt.xticks(_x) #设置x轴的刻度\n",
    "\n",
    "plt.show()"
   ],
   "id": "5fba8c9ba179c68f",
   "outputs": [
    {
     "name": "stdout",
     "output_type": "stream",
     "text": [
      "最大评分减去最小评分为7.1\n",
      "组数为14.0\n"
     ]
    },
    {
     "data": {
      "text/plain": [
       "<Figure size 1600x640 with 1 Axes>"
      ],
      "image/png": "[encoded data removed]"
     },
     "metadata": {},
     "output_type": "display_data"
    }
   ],
   "execution_count": 86
  },
  {
   "metadata": {
    "ExecuteTime": {
     "end_time": "2025-01-09T13:47:46.129550Z",
     "start_time": "2025-01-09T13:47:46.126480Z"
    }
   },
   "cell_type": "code",
   "source": "print(df[\"Genre\"].head(3))",
   "id": "50e856537eefd133",
   "outputs": [
    {
     "name": "stdout",
     "output_type": "stream",
     "text": [
      "0     Action,Adventure,Sci-Fi\n",
      "1    Adventure,Mystery,Sci-Fi\n",
      "2             Horror,Thriller\n",
      "Name: Genre, dtype: object\n"
     ]
    }
   ],
   "execution_count": 87
  },
  {
   "metadata": {
    "ExecuteTime": {
     "end_time": "2025-01-09T13:48:37.170350Z",
     "start_time": "2025-01-09T13:48:37.161167Z"
    }
   },
   "cell_type": "code",
   "source": [
    "# 统计分类的列表\n",
    "temp_list = df[\"Genre\"].str.split(\",\").tolist()  # [[],[],[]]\n",
    "# 二维变为一维\n",
    "genre_list = list(set([i for j in temp_list for i in j]))\n",
    "print(len(genre_list)) # 20个题材类型\n",
    "# 构造全为0的数组，行是原来的样本数，列是题材类型数目，one-hot编码，\n",
    "zeros_df = pd.DataFrame(np.zeros((df.shape[0], len(genre_list))), columns=genre_list)\n",
    "print(zeros_df)"
   ],
   "id": "3a44ca1ff77e1d48",
   "outputs": [
    {
     "name": "stdout",
     "output_type": "stream",
     "text": [
      "20\n",
      "     Animation  Music  Sci-Fi  Horror  War  Sport  Action  History  Adventure  \\\n",
      "0          0.0    0.0     0.0     0.0  0.0    0.0     0.0      0.0        0.0   \n",
      "1          0.0    0.0     0.0     0.0  0.0    0.0     0.0      0.0        0.0   \n",
      "2          0.0    0.0     0.0     0.0  0.0    0.0     0.0      0.0        0.0   \n",
      "3          0.0    0.0     0.0     0.0  0.0    0.0     0.0      0.0        0.0   \n",
      "4          0.0    0.0     0.0     0.0  0.0    0.0     0.0      0.0        0.0   \n",
      "..         ...    ...     ...     ...  ...    ...     ...      ...        ...   \n",
      "995        0.0    0.0     0.0     0.0  0.0    0.0     0.0      0.0        0.0   \n",
      "996        0.0    0.0     0.0     0.0  0.0    0.0     0.0      0.0        0.0   \n",
      "997        0.0    0.0     0.0     0.0  0.0    0.0     0.0      0.0        0.0   \n",
      "998        0.0    0.0     0.0     0.0  0.0    0.0     0.0      0.0        0.0   \n",
      "999        0.0    0.0     0.0     0.0  0.0    0.0     0.0      0.0        0.0   \n",
      "\n",
      "     Comedy  Drama  Biography  Fantasy  Western  Crime  Family  Thriller  \\\n",
      "0       0.0    0.0        0.0      0.0      0.0    0.0     0.0       0.0   \n",
      "1       0.0    0.0        0.0      0.0      0.0    0.0     0.0       0.0   \n",
      "2       0.0    0.0        0.0      0.0      0.0    0.0     0.0       0.0   \n",
      "3       0.0    0.0        0.0      0.0      0.0    0.0     0.0       0.0   \n",
      "4       0.0    0.0        0.0      0.0      0.0    0.0     0.0       0.0   \n",
      "..      ...    ...        ...      ...      ...    ...     ...       ...   \n",
      "995     0.0    0.0        0.0      0.0      0.0    0.0     0.0       0.0   \n",
      "996     0.0    0.0        0.0      0.0      0.0    0.0     0.0       0.0   \n",
      "997     0.0    0.0        0.0      0.0      0.0    0.0     0.0       0.0   \n",
      "998     0.0    0.0        0.0      0.0      0.0    0.0     0.0       0.0   \n",
      "999     0.0    0.0        0.0      0.0      0.0    0.0     0.0       0.0   \n",
      "\n",
      "     Romance  Mystery  Musical  \n",
      "0        0.0      0.0      0.0  \n",
      "1        0.0      0.0      0.0  \n",
      "2        0.0      0.0      0.0  \n",
      "3        0.0      0.0      0.0  \n",
      "4        0.0      0.0      0.0  \n",
      "..       ...      ...      ...  \n",
      "995      0.0      0.0      0.0  \n",
      "996      0.0      0.0      0.0  \n",
      "997      0.0      0.0      0.0  \n",
      "998      0.0      0.0      0.0  \n",
      "999      0.0      0.0      0.0  \n",
      "\n",
      "[1000 rows x 20 columns]\n"
     ]
    }
   ],
   "execution_count": 88
  },
  {
   "metadata": {
    "ExecuteTime": {
     "end_time": "2025-01-09T13:52:41.589852Z",
     "start_time": "2025-01-09T13:52:41.383987Z"
    }
   },
   "cell_type": "code",
   "source": [
    "# 给每个电影出现分类的位置赋值1,one-hot的中文是独热码\n",
    "for i in range(df.shape[0]):\n",
    "    # zeros_df.loc[0,[\"Sci-fi\",\"Mucical\"]] = 1\n",
    "    #temp_list是二维列表，temp_list[i]是一个一维列表\n",
    "    zeros_df.loc[i, temp_list[i]] = 1 #temp_list[i]是一个列表，里面是分类\n",
    "zeros_df.head(3)"
   ],
   "id": "afb2693fdda79d66",
   "outputs": [
    {
     "name": "stdout",
     "output_type": "stream",
     "text": [
      "['Action', 'Adventure', 'Sci-Fi']\n"
     ]
    },
    {
     "data": {
      "text/plain": [
       "   Animation  Music  Sci-Fi  Horror  War  Sport  Action  History  Adventure  \\\n",
       "0        0.0    0.0     1.0     0.0  0.0    0.0     1.0      0.0        1.0   \n",
       "1        0.0    0.0     1.0     0.0  0.0    0.0     0.0      0.0        1.0   \n",
       "2        0.0    0.0     0.0     1.0  0.0    0.0     0.0      0.0        0.0   \n",
       "\n",
       "   Comedy  Drama  Biography  Fantasy  Western  Crime  Family  Thriller  \\\n",
       "0     0.0    0.0        0.0      0.0      0.0    0.0     0.0       0.0   \n",
       "1     0.0    0.0        0.0      0.0      0.0    0.0     0.0       0.0   \n",
       "2     0.0    0.0        0.0      0.0      0.0    0.0     0.0       1.0   \n",
       "\n",
       "   Romance  Mystery  Musical  \n",
       "0      0.0      0.0      0.0  \n",
       "1      0.0      1.0      0.0  \n",
       "2      0.0      0.0      0.0  "
      ],
      "text/html": [
       "<div>\n",
       "<style scoped>\n",
       "    .dataframe tbody tr th:only-of-type {\n",
       "        vertical-align: middle;\n",
       "    }\n",
       "\n",
       "    .dataframe tbody tr th {\n",
       "        vertical-align: top;\n",
       "    }\n",
       "\n",
       "    .dataframe thead th {\n",
       "        text-align: right;\n",
       "    }\n",
       "</style>\n",
       "<table border=\"1\" class=\"dataframe\">\n",
       "  <thead>\n",
       "    <tr style=\"text-align: right;\">\n",
       "      <th></th>\n",
       "      <th>Animation</th>\n",
       "      <th>Music</th>\n",
       "      <th>Sci-Fi</th>\n",
       "      <th>Horror</th>\n",
       "      <th>War</th>\n",
       "      <th>Sport</th>\n",
       "      <th>Action</th>\n",
       "      <th>History</th>\n",
       "      <th>Adventure</th>\n",
       "      <th>Comedy</th>\n",
       "      <th>Drama</th>\n",
       "      <th>Biography</th>\n",
       "      <th>Fantasy</th>\n",
       "      <th>Western</th>\n",
       "      <th>Crime</th>\n",
       "      <th>Family</th>\n",
       "      <th>Thriller</th>\n",
       "      <th>Romance</th>\n",
       "      <th>Mystery</th>\n",
       "      <th>Musical</th>\n",
       "    </tr>\n",
       "  </thead>\n",
       "  <tbody>\n",
       "    <tr>\n",
       "      <th>0</th>\n",
       "      <td>0.0</td>\n",
       "      <td>0.0</td>\n",
       "      <td>1.0</td>\n",
       "      <td>0.0</td>\n",
       "      <td>0.0</td>\n",
       "      <td>0.0</td>\n",
       "      <td>1.0</td>\n",
       "      <td>0.0</td>\n",
       "      <td>1.0</td>\n",
       "      <td>0.0</td>\n",
       "      <td>0.0</td>\n",
       "      <td>0.0</td>\n",
       "      <td>0.0</td>\n",
       "      <td>0.0</td>\n",
       "      <td>0.0</td>\n",
       "      <td>0.0</td>\n",
       "      <td>0.0</td>\n",
       "      <td>0.0</td>\n",
       "      <td>0.0</td>\n",
       "      <td>0.0</td>\n",
       "    </tr>\n",
       "    <tr>\n",
       "      <th>1</th>\n",
       "      <td>0.0</td>\n",
       "      <td>0.0</td>\n",
       "      <td>1.0</td>\n",
       "      <td>0.0</td>\n",
       "      <td>0.0</td>\n",
       "      <td>0.0</td>\n",
       "      <td>0.0</td>\n",
       "      <td>0.0</td>\n",
       "      <td>1.0</td>\n",
       "      <td>0.0</td>\n",
       "      <td>0.0</td>\n",
       "      <td>0.0</td>\n",
       "      <td>0.0</td>\n",
       "      <td>0.0</td>\n",
       "      <td>0.0</td>\n",
       "      <td>0.0</td>\n",
       "      <td>0.0</td>\n",
       "      <td>0.0</td>\n",
       "      <td>1.0</td>\n",
       "      <td>0.0</td>\n",
       "    </tr>\n",
       "    <tr>\n",
       "      <th>2</th>\n",
       "      <td>0.0</td>\n",
       "      <td>0.0</td>\n",
       "      <td>0.0</td>\n",
       "      <td>1.0</td>\n",
       "      <td>0.0</td>\n",
       "      <td>0.0</td>\n",
       "      <td>0.0</td>\n",
       "      <td>0.0</td>\n",
       "      <td>0.0</td>\n",
       "      <td>0.0</td>\n",
       "      <td>0.0</td>\n",
       "      <td>0.0</td>\n",
       "      <td>0.0</td>\n",
       "      <td>0.0</td>\n",
       "      <td>0.0</td>\n",
       "      <td>0.0</td>\n",
       "      <td>1.0</td>\n",
       "      <td>0.0</td>\n",
       "      <td>0.0</td>\n",
       "      <td>0.0</td>\n",
       "    </tr>\n",
       "  </tbody>\n",
       "</table>\n",
       "</div>"
      ]
     },
     "execution_count": 90,
     "metadata": {},
     "output_type": "execute_result"
    }
   ],
   "execution_count": 90
  },
  {
   "metadata": {
    "ExecuteTime": {
     "end_time": "2025-01-09T13:53:21.721650Z",
     "start_time": "2025-01-09T13:53:21.718591Z"
    }
   },
   "cell_type": "code",
   "source": [
    "# 统计每个分类的电影的数量和，genre_count是什么类型？\n",
    "genre_count = zeros_df.sum(axis=0)\n",
    "print(genre_count)"
   ],
   "id": "554a804601b94cdc",
   "outputs": [
    {
     "name": "stdout",
     "output_type": "stream",
     "text": [
      "Animation     49.0\n",
      "Music         16.0\n",
      "Sci-Fi       120.0\n",
      "Horror       119.0\n",
      "War           13.0\n",
      "Sport         18.0\n",
      "Action       303.0\n",
      "History       29.0\n",
      "Adventure    259.0\n",
      "Comedy       279.0\n",
      "Drama        513.0\n",
      "Biography     81.0\n",
      "Fantasy      101.0\n",
      "Western        7.0\n",
      "Crime        150.0\n",
      "Family        51.0\n",
      "Thriller     195.0\n",
      "Romance      141.0\n",
      "Mystery      106.0\n",
      "Musical        5.0\n",
      "dtype: float64\n"
     ]
    }
   ],
   "execution_count": 91
  },
  {
   "metadata": {
    "ExecuteTime": {
     "end_time": "2025-01-09T13:55:00.453546Z",
     "start_time": "2025-01-09T13:55:00.386703Z"
    }
   },
   "cell_type": "code",
   "source": [
    "# 排序\n",
    "genre_count = genre_count.sort_values()\n",
    "_x = genre_count.index\n",
    "_y = genre_count.values\n",
    "# 画图\n",
    "plt.figure(figsize=(20, 8), dpi=80)\n",
    "plt.bar(range(len(_x)), _y, width=0.4, color=\"orange\")\n",
    "plt.xticks(range(len(_x)), _x)\n",
    "plt.show()"
   ],
   "id": "7799b74c9d670380",
   "outputs": [
    {
     "data": {
      "text/plain": [
       "<Figure size 1600x640 with 1 Axes>"
      ],
      "image/png": "[encoded data removed]"
     },
     "metadata": {},
     "output_type": "display_data"
    }
   ],
   "execution_count": 92
  },
  {
   "metadata": {
    "ExecuteTime": {
     "end_time": "2025-01-09T13:57:54.258441Z",
     "start_time": "2025-01-09T13:57:54.252881Z"
    }
   },
   "cell_type": "code",
   "source": [
    "#索引中单项不可变，但是整体可以换掉\n",
    "a = pd.DataFrame({'a': range(7),'b': range(7, 0, -1),\n",
    "                  'c': ['one','one','one','two','two','two', 'two'],\n",
    "                  'd': list(\"hjklmno\")})\n",
    "a"
   ],
   "id": "2330b68eeee858cb",
   "outputs": [
    {
     "data": {
      "text/plain": [
       "   a  b    c  d\n",
       "0  0  7  one  h\n",
       "1  1  6  one  j\n",
       "2  2  5  one  k\n",
       "3  3  4  two  l\n",
       "4  4  3  two  m\n",
       "5  5  2  two  n\n",
       "6  6  1  two  o"
      ],
      "text/html": [
       "<div>\n",
       "<style scoped>\n",
       "    .dataframe tbody tr th:only-of-type {\n",
       "        vertical-align: middle;\n",
       "    }\n",
       "\n",
       "    .dataframe tbody tr th {\n",
       "        vertical-align: top;\n",
       "    }\n",
       "\n",
       "    .dataframe thead th {\n",
       "        text-align: right;\n",
       "    }\n",
       "</style>\n",
       "<table border=\"1\" class=\"dataframe\">\n",
       "  <thead>\n",
       "    <tr style=\"text-align: right;\">\n",
       "      <th></th>\n",
       "      <th>a</th>\n",
       "      <th>b</th>\n",
       "      <th>c</th>\n",
       "      <th>d</th>\n",
       "    </tr>\n",
       "  </thead>\n",
       "  <tbody>\n",
       "    <tr>\n",
       "      <th>0</th>\n",
       "      <td>0</td>\n",
       "      <td>7</td>\n",
       "      <td>one</td>\n",
       "      <td>h</td>\n",
       "    </tr>\n",
       "    <tr>\n",
       "      <th>1</th>\n",
       "      <td>1</td>\n",
       "      <td>6</td>\n",
       "      <td>one</td>\n",
       "      <td>j</td>\n",
       "    </tr>\n",
       "    <tr>\n",
       "      <th>2</th>\n",
       "      <td>2</td>\n",
       "      <td>5</td>\n",
       "      <td>one</td>\n",
       "      <td>k</td>\n",
       "    </tr>\n",
       "    <tr>\n",
       "      <th>3</th>\n",
       "      <td>3</td>\n",
       "      <td>4</td>\n",
       "      <td>two</td>\n",
       "      <td>l</td>\n",
       "    </tr>\n",
       "    <tr>\n",
       "      <th>4</th>\n",
       "      <td>4</td>\n",
       "      <td>3</td>\n",
       "      <td>two</td>\n",
       "      <td>m</td>\n",
       "    </tr>\n",
       "    <tr>\n",
       "      <th>5</th>\n",
       "      <td>5</td>\n",
       "      <td>2</td>\n",
       "      <td>two</td>\n",
       "      <td>n</td>\n",
       "    </tr>\n",
       "    <tr>\n",
       "      <th>6</th>\n",
       "      <td>6</td>\n",
       "      <td>1</td>\n",
       "      <td>two</td>\n",
       "      <td>o</td>\n",
       "    </tr>\n",
       "  </tbody>\n",
       "</table>\n",
       "</div>"
      ]
     },
     "execution_count": 93,
     "metadata": {},
     "output_type": "execute_result"
    }
   ],
   "execution_count": 93
  },
  {
   "metadata": {
    "ExecuteTime": {
     "end_time": "2025-01-09T13:58:17.394629Z",
     "start_time": "2025-01-09T13:58:17.390533Z"
    }
   },
   "cell_type": "code",
   "source": [
    "c=a.copy()\n",
    "a.index=list('abcdefg')  #a的索引变了，a.index更换索引\n",
    "print(c)\n",
    "# a.columns=list('ABCD')  #a的列名变了，a.columns更换列名\n",
    "print('-'*50)\n",
    "print(a)"
   ],
   "id": "7ad00f501dff5f82",
   "outputs": [
    {
     "name": "stdout",
     "output_type": "stream",
     "text": [
      "   a  b    c  d\n",
      "0  0  7  one  h\n",
      "1  1  6  one  j\n",
      "2  2  5  one  k\n",
      "3  3  4  two  l\n",
      "4  4  3  two  m\n",
      "5  5  2  two  n\n",
      "6  6  1  two  o\n",
      "--------------------------------------------------\n",
      "   a  b    c  d\n",
      "a  0  7  one  h\n",
      "b  1  6  one  j\n",
      "c  2  5  one  k\n",
      "d  3  4  two  l\n",
      "e  4  3  two  m\n",
      "f  5  2  two  n\n",
      "g  6  1  two  o\n"
     ]
    }
   ],
   "execution_count": 94
  },
  {
   "metadata": {
    "ExecuteTime": {
     "end_time": "2025-01-09T13:59:36.715892Z",
     "start_time": "2025-01-09T13:59:36.708208Z"
    }
   },
   "cell_type": "code",
   "source": [
    "#让某些列变为索引，让c列，d列数据变为索引\n",
    "print(a)\n",
    "print('-'*50)\n",
    "a.set_index(['c'],inplace=True)#a没变，返回修改后的df\n",
    "a"
   ],
   "id": "129b0f55987825c3",
   "outputs": [
    {
     "name": "stdout",
     "output_type": "stream",
     "text": [
      "   a  b    c  d\n",
      "a  0  7  one  h\n",
      "b  1  6  one  j\n",
      "c  2  5  one  k\n",
      "d  3  4  two  l\n",
      "e  4  3  two  m\n",
      "f  5  2  two  n\n",
      "g  6  1  two  o\n",
      "--------------------------------------------------\n"
     ]
    },
    {
     "data": {
      "text/plain": [
       "     a  b  d\n",
       "c           \n",
       "one  0  7  h\n",
       "one  1  6  j\n",
       "one  2  5  k\n",
       "two  3  4  l\n",
       "two  4  3  m\n",
       "two  5  2  n\n",
       "two  6  1  o"
      ],
      "text/html": [
       "<div>\n",
       "<style scoped>\n",
       "    .dataframe tbody tr th:only-of-type {\n",
       "        vertical-align: middle;\n",
       "    }\n",
       "\n",
       "    .dataframe tbody tr th {\n",
       "        vertical-align: top;\n",
       "    }\n",
       "\n",
       "    .dataframe thead th {\n",
       "        text-align: right;\n",
       "    }\n",
       "</style>\n",
       "<table border=\"1\" class=\"dataframe\">\n",
       "  <thead>\n",
       "    <tr style=\"text-align: right;\">\n",
       "      <th></th>\n",
       "      <th>a</th>\n",
       "      <th>b</th>\n",
       "      <th>d</th>\n",
       "    </tr>\n",
       "    <tr>\n",
       "      <th>c</th>\n",
       "      <th></th>\n",
       "      <th></th>\n",
       "      <th></th>\n",
       "    </tr>\n",
       "  </thead>\n",
       "  <tbody>\n",
       "    <tr>\n",
       "      <th>one</th>\n",
       "      <td>0</td>\n",
       "      <td>7</td>\n",
       "      <td>h</td>\n",
       "    </tr>\n",
       "    <tr>\n",
       "      <th>one</th>\n",
       "      <td>1</td>\n",
       "      <td>6</td>\n",
       "      <td>j</td>\n",
       "    </tr>\n",
       "    <tr>\n",
       "      <th>one</th>\n",
       "      <td>2</td>\n",
       "      <td>5</td>\n",
       "      <td>k</td>\n",
       "    </tr>\n",
       "    <tr>\n",
       "      <th>two</th>\n",
       "      <td>3</td>\n",
       "      <td>4</td>\n",
       "      <td>l</td>\n",
       "    </tr>\n",
       "    <tr>\n",
       "      <th>two</th>\n",
       "      <td>4</td>\n",
       "      <td>3</td>\n",
       "      <td>m</td>\n",
       "    </tr>\n",
       "    <tr>\n",
       "      <th>two</th>\n",
       "      <td>5</td>\n",
       "      <td>2</td>\n",
       "      <td>n</td>\n",
       "    </tr>\n",
       "    <tr>\n",
       "      <th>two</th>\n",
       "      <td>6</td>\n",
       "      <td>1</td>\n",
       "      <td>o</td>\n",
       "    </tr>\n",
       "  </tbody>\n",
       "</table>\n",
       "</div>"
      ]
     },
     "execution_count": 95,
     "metadata": {},
     "output_type": "execute_result"
    }
   ],
   "execution_count": 95
  },
  {
   "metadata": {
    "ExecuteTime": {
     "end_time": "2025-01-09T14:01:16.033724Z",
     "start_time": "2025-01-09T14:01:16.030662Z"
    }
   },
   "cell_type": "code",
   "source": "a.columns",
   "id": "c29dbe0f073314e7",
   "outputs": [
    {
     "data": {
      "text/plain": [
       "Index(['a', 'b', 'd'], dtype='object')"
      ]
     },
     "execution_count": 97,
     "metadata": {},
     "output_type": "execute_result"
    }
   ],
   "execution_count": 97
  },
  {
   "metadata": {
    "ExecuteTime": {
     "end_time": "2025-01-09T14:01:17.275125Z",
     "start_time": "2025-01-09T14:01:17.272580Z"
    }
   },
   "cell_type": "code",
   "source": [
    "\n",
    "a.index"
   ],
   "id": "56cc1b4c6f48b5c",
   "outputs": [
    {
     "data": {
      "text/plain": [
       "Index(['one', 'one', 'one', 'two', 'two', 'two', 'two'], dtype='object', name='c')"
      ]
     },
     "execution_count": 98,
     "metadata": {},
     "output_type": "execute_result"
    }
   ],
   "execution_count": 98
  },
  {
   "metadata": {
    "ExecuteTime": {
     "end_time": "2025-01-09T14:01:54.677655Z",
     "start_time": "2025-01-09T14:01:54.674093Z"
    }
   },
   "cell_type": "code",
   "source": "pd.date_range(start=\"20190101\", end=\"20190201\")",
   "id": "b69ccaa9013a74c3",
   "outputs": [
    {
     "data": {
      "text/plain": [
       "DatetimeIndex(['2019-01-01', '2019-01-02', '2019-01-03', '2019-01-04',\n",
       "               '2019-01-05', '2019-01-06', '2019-01-07', '2019-01-08',\n",
       "               '2019-01-09', '2019-01-10', '2019-01-11', '2019-01-12',\n",
       "               '2019-01-13', '2019-01-14', '2019-01-15', '2019-01-16',\n",
       "               '2019-01-17', '2019-01-18', '2019-01-19', '2019-01-20',\n",
       "               '2019-01-21', '2019-01-22', '2019-01-23', '2019-01-24',\n",
       "               '2019-01-25', '2019-01-26', '2019-01-27', '2019-01-28',\n",
       "               '2019-01-29', '2019-01-30', '2019-01-31', '2019-02-01'],\n",
       "              dtype='datetime64[ns]', freq='D')"
      ]
     },
     "execution_count": 99,
     "metadata": {},
     "output_type": "execute_result"
    }
   ],
   "execution_count": 99
  },
  {
   "metadata": {
    "ExecuteTime": {
     "end_time": "2025-01-09T14:02:25.515433Z",
     "start_time": "2025-01-09T14:02:25.511872Z"
    }
   },
   "cell_type": "code",
   "source": "pd.date_range(start=\"20250107\",periods=10,freq='B')",
   "id": "64ffebfdcdde08f2",
   "outputs": [
    {
     "data": {
      "text/plain": [
       "DatetimeIndex(['2025-01-07', '2025-01-08', '2025-01-09', '2025-01-10',\n",
       "               '2025-01-13', '2025-01-14', '2025-01-15', '2025-01-16',\n",
       "               '2025-01-17', '2025-01-20'],\n",
       "              dtype='datetime64[ns]', freq='B')"
      ]
     },
     "execution_count": 100,
     "metadata": {},
     "output_type": "execute_result"
    }
   ],
   "execution_count": 100
  },
  {
   "metadata": {
    "ExecuteTime": {
     "end_time": "2025-01-09T14:02:45.504513Z",
     "start_time": "2025-01-09T14:02:45.500946Z"
    }
   },
   "cell_type": "code",
   "source": "pd.date_range(start=\"20190101\",periods=10,freq='ME')",
   "id": "2876ae415fa91067",
   "outputs": [
    {
     "data": {
      "text/plain": [
       "DatetimeIndex(['2019-01-31', '2019-02-28', '2019-03-31', '2019-04-30',\n",
       "               '2019-05-31', '2019-06-30', '2019-07-31', '2019-08-31',\n",
       "               '2019-09-30', '2019-10-31'],\n",
       "              dtype='datetime64[ns]', freq='ME')"
      ]
     },
     "execution_count": 101,
     "metadata": {},
     "output_type": "execute_result"
    }
   ],
   "execution_count": 101
  },
  {
   "metadata": {
    "ExecuteTime": {
     "end_time": "2025-01-09T14:04:12.593972Z",
     "start_time": "2025-01-09T14:04:12.590414Z"
    }
   },
   "cell_type": "code",
   "source": "pd.date_range(start=\"20190101\",periods=10,freq='MS')",
   "id": "719c3f7bf5e16021",
   "outputs": [
    {
     "data": {
      "text/plain": [
       "DatetimeIndex(['2019-01-01', '2019-02-01', '2019-03-01', '2019-04-01',\n",
       "               '2019-05-01', '2019-06-01', '2019-07-01', '2019-08-01',\n",
       "               '2019-09-01', '2019-10-01'],\n",
       "              dtype='datetime64[ns]', freq='MS')"
      ]
     },
     "execution_count": 102,
     "metadata": {},
     "output_type": "execute_result"
    }
   ],
   "execution_count": 102
  },
  {
   "metadata": {
    "ExecuteTime": {
     "end_time": "2025-01-09T14:04:42.857467Z",
     "start_time": "2025-01-09T14:04:42.854413Z"
    }
   },
   "cell_type": "code",
   "source": "pd.date_range(start=\"20230710\",periods=10,freq='W')  #拿每周的周日生成",
   "id": "15d361698891d63e",
   "outputs": [
    {
     "data": {
      "text/plain": [
       "DatetimeIndex(['2023-07-16', '2023-07-23', '2023-07-30', '2023-08-06',\n",
       "               '2023-08-13', '2023-08-20', '2023-08-27', '2023-09-03',\n",
       "               '2023-09-10', '2023-09-17'],\n",
       "              dtype='datetime64[ns]', freq='W-SUN')"
      ]
     },
     "execution_count": 103,
     "metadata": {},
     "output_type": "execute_result"
    }
   ],
   "execution_count": 103
  },
  {
   "metadata": {
    "ExecuteTime": {
     "end_time": "2025-01-09T14:05:08.526718Z",
     "start_time": "2025-01-09T14:05:08.523665Z"
    }
   },
   "cell_type": "code",
   "source": [
    "s = pd.Series(['3/11/2000', '3/12/2000', '3/13/2000'] * 5)\n",
    "s"
   ],
   "id": "ad3afa99123ac2d6",
   "outputs": [
    {
     "data": {
      "text/plain": [
       "0     3/11/2000\n",
       "1     3/12/2000\n",
       "2     3/13/2000\n",
       "3     3/11/2000\n",
       "4     3/12/2000\n",
       "5     3/13/2000\n",
       "6     3/11/2000\n",
       "7     3/12/2000\n",
       "8     3/13/2000\n",
       "9     3/11/2000\n",
       "10    3/12/2000\n",
       "11    3/13/2000\n",
       "12    3/11/2000\n",
       "13    3/12/2000\n",
       "14    3/13/2000\n",
       "dtype: object"
      ]
     },
     "execution_count": 104,
     "metadata": {},
     "output_type": "execute_result"
    }
   ],
   "execution_count": 104
  },
  {
   "metadata": {
    "ExecuteTime": {
     "end_time": "2025-01-09T14:05:21.194969Z",
     "start_time": "2025-01-09T14:05:21.190378Z"
    }
   },
   "cell_type": "code",
   "source": "pd.to_datetime(s)",
   "id": "f66e6e4fedeb9f24",
   "outputs": [
    {
     "data": {
      "text/plain": [
       "0    2000-03-11\n",
       "1    2000-03-12\n",
       "2    2000-03-13\n",
       "3    2000-03-11\n",
       "4    2000-03-12\n",
       "5    2000-03-13\n",
       "6    2000-03-11\n",
       "7    2000-03-12\n",
       "8    2000-03-13\n",
       "9    2000-03-11\n",
       "10   2000-03-12\n",
       "11   2000-03-13\n",
       "12   2000-03-11\n",
       "13   2000-03-12\n",
       "14   2000-03-13\n",
       "dtype: datetime64[ns]"
      ]
     },
     "execution_count": 105,
     "metadata": {},
     "output_type": "execute_result"
    }
   ],
   "execution_count": 105
  },
  {
   "metadata": {
    "ExecuteTime": {
     "end_time": "2025-01-09T14:06:23.634814Z",
     "start_time": "2025-01-09T14:06:22.725039Z"
    }
   },
   "cell_type": "code",
   "source": [
    "# 把时间字符串转为时间类型设置为索引\n",
    "df = pd.read_csv(\"./911.csv\")\n",
    "df[\"timeStamp\"] = pd.to_datetime(df[\"timeStamp\"])\n",
    "\n",
    "# 添加列，表示分类\n",
    "temp_list = df[\"title\"].str.split(\": \").tolist() #二维列表\n",
    "cate_list = [i[0] for i in temp_list] #i[0]就是EMS  Fire  Traffic\n",
    "# print(cate_list)\n",
    "# print(np.array(cate_list).reshape((df.shape[0], 1)))\n",
    " #添加一列\n",
    "df[\"cate\"] = pd.DataFrame(np.array(cate_list).reshape((df.shape[0], 1)))\n",
    "\n",
    "df.set_index(\"timeStamp\", inplace=True) #设置索引，时间戳，inplace=True表示在原df上修改\n",
    "\n",
    "df.head(10)"
   ],
   "id": "d1240c805ad0cee2",
   "outputs": [
    {
     "data": {
      "text/plain": [
       "                           lat        lng  \\\n",
       "timeStamp                                   \n",
       "2015-12-10 17:10:52  40.297876 -75.581294   \n",
       "2015-12-10 17:29:21  40.258061 -75.264680   \n",
       "2015-12-10 14:39:21  40.121182 -75.351975   \n",
       "2015-12-10 16:47:36  40.116153 -75.343513   \n",
       "2015-12-10 16:56:52  40.251492 -75.603350   \n",
       "2015-12-10 15:39:04  40.253473 -75.283245   \n",
       "2015-12-10 16:46:48  40.182111 -75.127795   \n",
       "2015-12-10 16:17:05  40.217286 -75.405182   \n",
       "2015-12-10 16:51:42  40.289027 -75.399590   \n",
       "2015-12-10 17:35:41  40.102398 -75.291458   \n",
       "\n",
       "                                                                  desc  \\\n",
       "timeStamp                                                                \n",
       "2015-12-10 17:10:52  REINDEER CT & DEAD END;  NEW HANOVER; Station ...   \n",
       "2015-12-10 17:29:21  BRIAR PATH & WHITEMARSH LN;  HATFIELD TOWNSHIP...   \n",
       "2015-12-10 14:39:21  HAWS AVE; NORRISTOWN; 2015-12-10 @ 14:39:21-St...   \n",
       "2015-12-10 16:47:36  AIRY ST & SWEDE ST;  NORRISTOWN; Station 308A;...   \n",
       "2015-12-10 16:56:52  CHERRYWOOD CT & DEAD END;  LOWER POTTSGROVE; S...   \n",
       "2015-12-10 15:39:04  CANNON AVE & W 9TH ST;  LANSDALE; Station 345;...   \n",
       "2015-12-10 16:46:48  LAUREL AVE & OAKDALE AVE;  HORSHAM; Station 35...   \n",
       "2015-12-10 16:17:05  COLLEGEVILLE RD & LYWISKI RD;  SKIPPACK; Stati...   \n",
       "2015-12-10 16:51:42  MAIN ST & OLD SUMNEYTOWN PIKE;  LOWER SALFORD;...   \n",
       "2015-12-10 17:35:41  BLUEROUTE  & RAMP I476 NB TO CHEMICAL RD; PLYM...   \n",
       "\n",
       "                         zip                        title                twp  \\\n",
       "timeStamp                                                                      \n",
       "2015-12-10 17:10:52  19525.0       EMS: BACK PAINS/INJURY        NEW HANOVER   \n",
       "2015-12-10 17:29:21  19446.0      EMS: DIABETIC EMERGENCY  HATFIELD TOWNSHIP   \n",
       "2015-12-10 14:39:21  19401.0          Fire: GAS-ODOR/LEAK         NORRISTOWN   \n",
       "2015-12-10 16:47:36  19401.0       EMS: CARDIAC EMERGENCY         NORRISTOWN   \n",
       "2015-12-10 16:56:52      NaN               EMS: DIZZINESS   LOWER POTTSGROVE   \n",
       "2015-12-10 15:39:04  19446.0             EMS: HEAD INJURY           LANSDALE   \n",
       "2015-12-10 16:46:48  19044.0         EMS: NAUSEA/VOMITING            HORSHAM   \n",
       "2015-12-10 16:17:05  19426.0   EMS: RESPIRATORY EMERGENCY           SKIPPACK   \n",
       "2015-12-10 16:51:42  19438.0        EMS: SYNCOPAL EPISODE      LOWER SALFORD   \n",
       "2015-12-10 17:35:41  19462.0  Traffic: VEHICLE ACCIDENT -           PLYMOUTH   \n",
       "\n",
       "                                                         addr  e     cate  \n",
       "timeStamp                                                                  \n",
       "2015-12-10 17:10:52                    REINDEER CT & DEAD END  1      EMS  \n",
       "2015-12-10 17:29:21                BRIAR PATH & WHITEMARSH LN  1      EMS  \n",
       "2015-12-10 14:39:21                                  HAWS AVE  1     Fire  \n",
       "2015-12-10 16:47:36                        AIRY ST & SWEDE ST  1      EMS  \n",
       "2015-12-10 16:56:52                  CHERRYWOOD CT & DEAD END  1      EMS  \n",
       "2015-12-10 15:39:04                     CANNON AVE & W 9TH ST  1      EMS  \n",
       "2015-12-10 16:46:48                  LAUREL AVE & OAKDALE AVE  1      EMS  \n",
       "2015-12-10 16:17:05              COLLEGEVILLE RD & LYWISKI RD  1      EMS  \n",
       "2015-12-10 16:51:42             MAIN ST & OLD SUMNEYTOWN PIKE  1      EMS  \n",
       "2015-12-10 17:35:41  BLUEROUTE  & RAMP I476 NB TO CHEMICAL RD  1  Traffic  "
      ],
      "text/html": [
       "<div>\n",
       "<style scoped>\n",
       "    .dataframe tbody tr th:only-of-type {\n",
       "        vertical-align: middle;\n",
       "    }\n",
       "\n",
       "    .dataframe tbody tr th {\n",
       "        vertical-align: top;\n",
       "    }\n",
       "\n",
       "    .dataframe thead th {\n",
       "        text-align: right;\n",
       "    }\n",
       "</style>\n",
       "<table border=\"1\" class=\"dataframe\">\n",
       "  <thead>\n",
       "    <tr style=\"text-align: right;\">\n",
       "      <th></th>\n",
       "      <th>lat</th>\n",
       "      <th>lng</th>\n",
       "      <th>desc</th>\n",
       "      <th>zip</th>\n",
       "      <th>title</th>\n",
       "      <th>twp</th>\n",
       "      <th>addr</th>\n",
       "      <th>e</th>\n",
       "      <th>cate</th>\n",
       "    </tr>\n",
       "    <tr>\n",
       "      <th>timeStamp</th>\n",
       "      <th></th>\n",
       "      <th></th>\n",
       "      <th></th>\n",
       "      <th></th>\n",
       "      <th></th>\n",
       "      <th></th>\n",
       "      <th></th>\n",
       "      <th></th>\n",
       "      <th></th>\n",
       "    </tr>\n",
       "  </thead>\n",
       "  <tbody>\n",
       "    <tr>\n",
       "      <th>2015-12-10 17:10:52</th>\n",
       "      <td>40.297876</td>\n",
       "      <td>-75.581294</td>\n",
       "      <td>REINDEER CT &amp; DEAD END;  NEW HANOVER; Station ...</td>\n",
       "      <td>19525.0</td>\n",
       "      <td>EMS: BACK PAINS/INJURY</td>\n",
       "      <td>NEW HANOVER</td>\n",
       "      <td>REINDEER CT &amp; DEAD END</td>\n",
       "      <td>1</td>\n",
       "      <td>EMS</td>\n",
       "    </tr>\n",
       "    <tr>\n",
       "      <th>2015-12-10 17:29:21</th>\n",
       "      <td>40.258061</td>\n",
       "      <td>-75.264680</td>\n",
       "      <td>BRIAR PATH &amp; WHITEMARSH LN;  HATFIELD TOWNSHIP...</td>\n",
       "      <td>19446.0</td>\n",
       "      <td>EMS: DIABETIC EMERGENCY</td>\n",
       "      <td>HATFIELD TOWNSHIP</td>\n",
       "      <td>BRIAR PATH &amp; WHITEMARSH LN</td>\n",
       "      <td>1</td>\n",
       "      <td>EMS</td>\n",
       "    </tr>\n",
       "    <tr>\n",
       "      <th>2015-12-10 14:39:21</th>\n",
       "      <td>40.121182</td>\n",
       "      <td>-75.351975</td>\n",
       "      <td>HAWS AVE; NORRISTOWN; 2015-12-10 @ 14:39:21-St...</td>\n",
       "      <td>19401.0</td>\n",
       "      <td>Fire: GAS-ODOR/LEAK</td>\n",
       "      <td>NORRISTOWN</td>\n",
       "      <td>HAWS AVE</td>\n",
       "      <td>1</td>\n",
       "      <td>Fire</td>\n",
       "    </tr>\n",
       "    <tr>\n",
       "      <th>2015-12-10 16:47:36</th>\n",
       "      <td>40.116153</td>\n",
       "      <td>-75.343513</td>\n",
       "      <td>AIRY ST &amp; SWEDE ST;  NORRISTOWN; Station 308A;...</td>\n",
       "      <td>19401.0</td>\n",
       "      <td>EMS: CARDIAC EMERGENCY</td>\n",
       "      <td>NORRISTOWN</td>\n",
       "      <td>AIRY ST &amp; SWEDE ST</td>\n",
       "      <td>1</td>\n",
       "      <td>EMS</td>\n",
       "    </tr>\n",
       "    <tr>\n",
       "      <th>2015-12-10 16:56:52</th>\n",
       "      <td>40.251492</td>\n",
       "      <td>-75.603350</td>\n",
       "      <td>CHERRYWOOD CT &amp; DEAD END;  LOWER POTTSGROVE; S...</td>\n",
       "      <td>NaN</td>\n",
       "      <td>EMS: DIZZINESS</td>\n",
       "      <td>LOWER POTTSGROVE</td>\n",
       "      <td>CHERRYWOOD CT &amp; DEAD END</td>\n",
       "      <td>1</td>\n",
       "      <td>EMS</td>\n",
       "    </tr>\n",
       "    <tr>\n",
       "      <th>2015-12-10 15:39:04</th>\n",
       "      <td>40.253473</td>\n",
       "      <td>-75.283245</td>\n",
       "      <td>CANNON AVE &amp; W 9TH ST;  LANSDALE; Station 345;...</td>\n",
       "      <td>19446.0</td>\n",
       "      <td>EMS: HEAD INJURY</td>\n",
       "      <td>LANSDALE</td>\n",
       "      <td>CANNON AVE &amp; W 9TH ST</td>\n",
       "      <td>1</td>\n",
       "      <td>EMS</td>\n",
       "    </tr>\n",
       "    <tr>\n",
       "      <th>2015-12-10 16:46:48</th>\n",
       "      <td>40.182111</td>\n",
       "      <td>-75.127795</td>\n",
       "      <td>LAUREL AVE &amp; OAKDALE AVE;  HORSHAM; Station 35...</td>\n",
       "      <td>19044.0</td>\n",
       "      <td>EMS: NAUSEA/VOMITING</td>\n",
       "      <td>HORSHAM</td>\n",
       "      <td>LAUREL AVE &amp; OAKDALE AVE</td>\n",
       "      <td>1</td>\n",
       "      <td>EMS</td>\n",
       "    </tr>\n",
       "    <tr>\n",
       "      <th>2015-12-10 16:17:05</th>\n",
       "      <td>40.217286</td>\n",
       "      <td>-75.405182</td>\n",
       "      <td>COLLEGEVILLE RD &amp; LYWISKI RD;  SKIPPACK; Stati...</td>\n",
       "      <td>19426.0</td>\n",
       "      <td>EMS: RESPIRATORY EMERGENCY</td>\n",
       "      <td>SKIPPACK</td>\n",
       "      <td>COLLEGEVILLE RD &amp; LYWISKI RD</td>\n",
       "      <td>1</td>\n",
       "      <td>EMS</td>\n",
       "    </tr>\n",
       "    <tr>\n",
       "      <th>2015-12-10 16:51:42</th>\n",
       "      <td>40.289027</td>\n",
       "      <td>-75.399590</td>\n",
       "      <td>MAIN ST &amp; OLD SUMNEYTOWN PIKE;  LOWER SALFORD;...</td>\n",
       "      <td>19438.0</td>\n",
       "      <td>EMS: SYNCOPAL EPISODE</td>\n",
       "      <td>LOWER SALFORD</td>\n",
       "      <td>MAIN ST &amp; OLD SUMNEYTOWN PIKE</td>\n",
       "      <td>1</td>\n",
       "      <td>EMS</td>\n",
       "    </tr>\n",
       "    <tr>\n",
       "      <th>2015-12-10 17:35:41</th>\n",
       "      <td>40.102398</td>\n",
       "      <td>-75.291458</td>\n",
       "      <td>BLUEROUTE  &amp; RAMP I476 NB TO CHEMICAL RD; PLYM...</td>\n",
       "      <td>19462.0</td>\n",
       "      <td>Traffic: VEHICLE ACCIDENT -</td>\n",
       "      <td>PLYMOUTH</td>\n",
       "      <td>BLUEROUTE  &amp; RAMP I476 NB TO CHEMICAL RD</td>\n",
       "      <td>1</td>\n",
       "      <td>Traffic</td>\n",
       "    </tr>\n",
       "  </tbody>\n",
       "</table>\n",
       "</div>"
      ]
     },
     "execution_count": 106,
     "metadata": {},
     "output_type": "execute_result"
    }
   ],
   "execution_count": 106
  },
  {
   "metadata": {
    "ExecuteTime": {
     "end_time": "2025-01-09T14:10:16.141775Z",
     "start_time": "2025-01-09T14:10:15.910958Z"
    }
   },
   "cell_type": "code",
   "source": [
    "plt.figure(figsize=(20, 8), dpi=80)\n",
    "\n",
    "# 分组,一图多线\n",
    "#resample降采样，按月统计,索引必须是时间类型，类似groupby\n",
    "for group_name, group_data in df.groupby(by=\"cate\"):\n",
    "    # 对不同的分类都进行绘图\n",
    "    count_by_month = group_data.resample(\"M\").count()[\"title\"]  #降采样\n",
    "    print(count_by_month)\n",
    "    # 画图\n",
    "    _x = count_by_month.index\n",
    "    print(_x)\n",
    "    _y = count_by_month.values #values是对应事故发生次数\n",
    "\n",
    "    _x = [i.strftime(\"%Y%m%d\") for i in _x]  #变年月日格式\n",
    "\n",
    "    plt.plot(_x, _y, label=group_name)\n",
    "\n",
    "plt.xticks(range(len(_x)), _x, rotation=45)\n",
    "plt.legend(loc=\"best\")\n",
    "plt.show()"
   ],
   "id": "ba5fba90425962b8",
   "outputs": [
    {
     "name": "stderr",
     "output_type": "stream",
     "text": [
      "C:\\Users\\XH\\AppData\\Local\\Temp\\ipykernel_557504\\3777774160.py:7: FutureWarning: 'M' is deprecated and will be removed in a future version, please use 'ME' instead.\n",
      "  count_by_month = group_data.resample(\"M\").count()[\"title\"]  #降采样\n"
     ]
    },
    {
     "name": "stdout",
     "output_type": "stream",
     "text": [
      "timeStamp\n",
      "2015-12-31    3898\n",
      "2016-01-31    6063\n",
      "2016-02-29    5413\n",
      "2016-03-31    5832\n",
      "2016-04-30    5684\n",
      "2016-05-31    5730\n",
      "2016-06-30    5720\n",
      "2016-07-31    6029\n",
      "2016-08-31    6005\n",
      "2016-09-30    5750\n",
      "2016-10-31    6039\n",
      "2016-11-30    5838\n",
      "2016-12-31    6024\n",
      "2017-01-31    6082\n",
      "2017-02-28    5417\n",
      "2017-03-31    5913\n",
      "2017-04-30    5780\n",
      "2017-05-31    5948\n",
      "2017-06-30    6030\n",
      "2017-07-31    5974\n",
      "2017-08-31    5882\n",
      "2017-09-30    3789\n",
      "Freq: ME, Name: title, dtype: int64\n",
      "DatetimeIndex(['2015-12-31', '2016-01-31', '2016-02-29', '2016-03-31',\n",
      "               '2016-04-30', '2016-05-31', '2016-06-30', '2016-07-31',\n",
      "               '2016-08-31', '2016-09-30', '2016-10-31', '2016-11-30',\n",
      "               '2016-12-31', '2017-01-31', '2017-02-28', '2017-03-31',\n",
      "               '2017-04-30', '2017-05-31', '2017-06-30', '2017-07-31',\n",
      "               '2017-08-31', '2017-09-30'],\n",
      "              dtype='datetime64[ns]', name='timeStamp', freq='ME')\n",
      "timeStamp\n",
      "2015-12-31    1095\n",
      "2016-01-31    1904\n",
      "2016-02-29    1868\n",
      "2016-03-31    1589\n",
      "2016-04-30    1717\n",
      "2016-05-31    1573\n",
      "2016-06-30    1787\n",
      "2016-07-31    1898\n",
      "2016-08-31    1907\n",
      "2016-09-30    1793\n",
      "2016-10-31    1930\n",
      "2016-11-30    1765\n",
      "2016-12-31    1846\n",
      "2017-01-31    1658\n",
      "2017-02-28    1462\n",
      "2017-03-31    1634\n",
      "2017-04-30    1614\n",
      "2017-05-31    1670\n",
      "2017-06-30    1986\n",
      "2017-07-31    1754\n",
      "2017-08-31    1862\n",
      "2017-09-30    1120\n",
      "Freq: ME, Name: title, dtype: int64\n",
      "DatetimeIndex(['2015-12-31', '2016-01-31', '2016-02-29', '2016-03-31',\n",
      "               '2016-04-30', '2016-05-31', '2016-06-30', '2016-07-31',\n",
      "               '2016-08-31', '2016-09-30', '2016-10-31', '2016-11-30',\n",
      "               '2016-12-31', '2017-01-31', '2017-02-28', '2017-03-31',\n",
      "               '2017-04-30', '2017-05-31', '2017-06-30', '2017-07-31',\n",
      "               '2017-08-31', '2017-09-30'],\n",
      "              dtype='datetime64[ns]', name='timeStamp', freq='ME')\n",
      "timeStamp\n",
      "2015-12-31    2923\n",
      "2016-01-31    5129\n",
      "2016-02-29    4115\n",
      "2016-03-31    3638\n",
      "2016-04-30    3886\n",
      "2016-05-31    4071\n",
      "2016-06-30    4225\n",
      "2016-07-31    4161\n",
      "2016-08-31    3992\n",
      "2016-09-30    4126\n",
      "2016-10-31    4533\n",
      "2016-11-30    4488\n",
      "2016-12-31    4292\n",
      "2017-01-31    3865\n",
      "2017-02-28    3388\n",
      "2017-03-31    4137\n",
      "2017-04-30    3662\n",
      "2017-05-31    4101\n",
      "2017-06-30    4317\n",
      "2017-07-31    4040\n",
      "2017-08-31    4009\n",
      "2017-09-30    2367\n",
      "Freq: ME, Name: title, dtype: int64\n",
      "DatetimeIndex(['2015-12-31', '2016-01-31', '2016-02-29', '2016-03-31',\n",
      "               '2016-04-30', '2016-05-31', '2016-06-30', '2016-07-31',\n",
      "               '2016-08-31', '2016-09-30', '2016-10-31', '2016-11-30',\n",
      "               '2016-12-31', '2017-01-31', '2017-02-28', '2017-03-31',\n",
      "               '2017-04-30', '2017-05-31', '2017-06-30', '2017-07-31',\n",
      "               '2017-08-31', '2017-09-30'],\n",
      "              dtype='datetime64[ns]', name='timeStamp', freq='ME')\n"
     ]
    },
    {
     "data": {
      "text/plain": [
       "<Figure size 1600x640 with 1 Axes>"
      ],
      "image/png": "[encoded data removed]"
     },
     "metadata": {},
     "output_type": "display_data"
    }
   ],
   "execution_count": 107
  }
 ],
 "metadata": {
  "kernelspec": {
   "display_name": "Python 3",
   "language": "python",
   "name": "python3"
  },
  "language_info": {
   "codemirror_mode": {
    "name": "ipython",
    "version": 2
   },
   "file_extension": ".py",
   "mimetype": "text/x-python",
   "name": "python",
   "nbconvert_exporter": "python",
   "pygments_lexer": "ipython2",
   "version": "2.7.6"
  }
 },
 "nbformat": 4,
 "nbformat_minor": 5
}
