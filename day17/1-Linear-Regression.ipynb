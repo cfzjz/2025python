{
 "cells": [
  {
   "cell_type": "code",
   "id": "initial_id",
   "metadata": {
    "collapsed": true,
    "ExecuteTime": {
     "end_time": "2025-01-15T01:08:28.459840Z",
     "start_time": "2025-01-15T01:08:26.601578Z"
    }
   },
   "source": "from sklearn.linear_model import LinearRegression",
   "outputs": [],
   "execution_count": 1
  },
  {
   "metadata": {
    "ExecuteTime": {
     "end_time": "2025-01-13T03:12:11.477685Z",
     "start_time": "2025-01-13T03:12:11.473088Z"
    }
   },
   "cell_type": "code",
   "source": [
    "x = [[80, 86],\n",
    "[82, 80],\n",
    "[85, 78],\n",
    "[90, 90],\n",
    "[86, 82],\n",
    "[82, 90],\n",
    "[78, 80],\n",
    "[92, 94]]\n",
    "y = [84.2, 80.6, 80.1, 90, 83.2, 87.6, 79.4, 93.4]\n",
    "\n",
    "# 实例化API\n",
    "estimator = LinearRegression()\n",
    "# 使用fit方法进行训练\n",
    "estimator.fit(x,y)\n",
    "\n",
    "# estimator.coef_\n",
    "\n",
    "estimator.predict([[100, 80]])"
   ],
   "id": "7fe8078e9b03db1a",
   "outputs": [
    {
     "data": {
      "text/plain": [
       "array([86.])"
      ]
     },
     "execution_count": 3,
     "metadata": {},
     "output_type": "execute_result"
    }
   ],
   "execution_count": 3
  },
  {
   "metadata": {
    "ExecuteTime": {
     "end_time": "2025-01-15T01:08:39.126770Z",
     "start_time": "2025-01-15T01:08:38.955709Z"
    }
   },
   "cell_type": "code",
   "source": [
    "import pandas as pd\n",
    "import numpy as np\n",
    "from sklearn.datasets import fetch_california_housing\n",
    "from sklearn.model_selection import train_test_split\n",
    "from sklearn.preprocessing import StandardScaler\n",
    "from sklearn.metrics import mean_squared_error\n",
    "\n",
    "data=fetch_california_housing(data_home='data')\n",
    " # 2.数据集划分\n",
    "x_train, x_test, y_train, y_test = train_test_split(data.data, data.target,test_size=0.25, random_state=22)\n",
    "\n",
    "# 3.特征工程-标准化\n",
    "transfer = StandardScaler()\n",
    "x_train = transfer.fit_transform(x_train)\n",
    "x_test = transfer.fit_transform(x_test)\n",
    "# 4.机器学习-线性回归(正规方程)\n",
    "estimator = LinearRegression()\n",
    "estimator.fit(x_train, y_train)\n",
    "\n",
    "# 5.模型评估\n",
    "# 5.1 获取系数等值\n",
    "y_predict = estimator.predict(x_test)\n",
    "print(\"预测值为:\\n\", y_predict)\n",
    "print(\"模型中的系数为:\\n\", estimator.coef_)\n",
    "print(\"模型中的偏置为:\\n\", estimator.intercept_)\n",
    "\n",
    " # 5.2 评价\n",
    "# 均方误差\n",
    "error = mean_squared_error(y_test, y_predict)\n",
    "print(\"误差为:\\n\", error)\n"
   ],
   "id": "a42eca0c6867104a",
   "outputs": [
    {
     "name": "stdout",
     "output_type": "stream",
     "text": [
      "预测值为:\n",
      " [1.40803975 2.00554943 1.00218594 ... 2.19060071 1.90627246 3.02336701]\n",
      "模型中的系数为:\n",
      " [ 0.82591102  0.11445311 -0.26118374  0.30345645 -0.00706501 -0.04153221\n",
      " -0.9107612  -0.88255758]\n",
      "模型中的偏置为:\n",
      " 2.069981627260431\n",
      "误差为:\n",
      " 0.49134979184329863\n"
     ]
    }
   ],
   "execution_count": 2
  },
  {
   "metadata": {
    "ExecuteTime": {
     "end_time": "2025-01-14T01:29:21.260269Z",
     "start_time": "2025-01-14T01:29:21.258231Z"
    }
   },
   "cell_type": "code",
   "source": "from sklearn.linear_model import SGDRegressor",
   "id": "764457530231fc1b",
   "outputs": [],
   "execution_count": 22
  },
  {
   "metadata": {
    "ExecuteTime": {
     "end_time": "2025-01-14T01:32:23.947834Z",
     "start_time": "2025-01-14T01:32:23.926856Z"
    }
   },
   "cell_type": "code",
   "source": [
    "data=fetch_california_housing(data_home='data')\n",
    " # 2.数据集划分\n",
    "x_train, x_test, y_train, y_test = train_test_split(data.data, data.target,test_size=0.25, random_state=22)\n",
    "\n",
    "# 3.特征工程-标准化\n",
    "transfer = StandardScaler()\n",
    "x_train = transfer.fit_transform(x_train)\n",
    "x_test = transfer.fit_transform(x_test)\n",
    "\n",
    "# 4.机器学习-线性回归(特征方程)\n",
    "estimator = SGDRegressor(max_iter=1000,learning_rate='constant',eta0=0.0001)\n",
    "estimator.fit(x_train, y_train)\n",
    " # 5.模型评估\n",
    "# 5.1 获取系数等值\n",
    "y_predict = estimator.predict(x_test)\n",
    "print(\"预测值为:\\n\", y_predict)\n",
    "print(\"模型中的系数为:\\n\", estimator.coef_)\n",
    "print(\"模型中的偏置为:\\n\", estimator.intercept_)\n",
    "\n",
    "# 5.2 评价\n",
    "# 均方误差\n",
    "error = mean_squared_error(y_test, y_predict)\n",
    "print(\"误差为:\\n\", error)"
   ],
   "id": "d0c2f7dd433decbd",
   "outputs": [
    {
     "name": "stdout",
     "output_type": "stream",
     "text": [
      "预测值为:\n",
      " [1.41984743 2.00782962 1.02055852 ... 2.20053362 1.89760605 3.02290368]\n",
      "模型中的系数为:\n",
      " [ 0.83636743  0.12376463 -0.2579789   0.29797506 -0.00563925 -0.02521724\n",
      " -0.83646445 -0.80698497]\n",
      "模型中的偏置为:\n",
      " [2.07331827]\n",
      "误差为:\n",
      " 0.4913233409334916\n"
     ]
    }
   ],
   "execution_count": 33
  },
  {
   "metadata": {
    "ExecuteTime": {
     "end_time": "2025-01-15T01:16:32.452792Z",
     "start_time": "2025-01-15T01:16:32.450245Z"
    }
   },
   "cell_type": "code",
   "source": "from sklearn.linear_model import Ridge",
   "id": "d7c6d0a3cac9d466",
   "outputs": [],
   "execution_count": 11
  },
  {
   "metadata": {
    "ExecuteTime": {
     "end_time": "2025-01-15T01:16:33.275785Z",
     "start_time": "2025-01-15T01:16:33.260927Z"
    }
   },
   "cell_type": "code",
   "source": [
    "def linear_model3():\n",
    "    \"\"\"\n",
    "    线性回归:岭回归\n",
    "    :return:\n",
    "    \"\"\"\n",
    "    # 1.获取数据\n",
    "    data=fetch_california_housing(data_home='data')\n",
    "\n",
    "    # 2.数据集划分\n",
    "    x_train, x_test, y_train, y_test = train_test_split(data.data, data.target, random_state=22)\n",
    "\n",
    "    # 3.特征工程-标准化\n",
    "    transfer = StandardScaler()\n",
    "    x_train = transfer.fit_transform(x_train)\n",
    "    x_test = transfer.fit_transform(x_test)\n",
    "\n",
    "    # 4.机器学习-线性回归(岭回归)\n",
    "    estimator = Ridge(alpha=1)\n",
    "    # estimator = RidgeCV(alphas=(0.1, 1, 10))\n",
    "    estimator.fit(x_train, y_train)\n",
    "\n",
    "    # 5.模型评估\n",
    "    # 5.1 获取系数等值\n",
    "    y_predict = estimator.predict(x_test)\n",
    "    print(\"预测值为:\\n\", y_predict)\n",
    "    print(\"模型中的系数为:\\n\", estimator.coef_)\n",
    "    print(\"模型中的偏置为:\\n\", estimator.intercept_)\n",
    "\n",
    "    # 5.2 评价\n",
    "    # 均方误差\n",
    "    error = mean_squared_error(y_test, y_predict)\n",
    "    print(\"误差为:\\n\", error)\n",
    "\n",
    "linear_model3()"
   ],
   "id": "a738a77c30ff4f85",
   "outputs": [
    {
     "name": "stdout",
     "output_type": "stream",
     "text": [
      "预测值为:\n",
      " [1.40820715 2.00555784 1.00244942 ... 2.19065692 1.90616726 3.02330736]\n",
      "模型中的系数为:\n",
      " [ 0.82587723  0.11454156 -0.2610084   0.30322803 -0.00703095 -0.04153203\n",
      " -0.90993973 -0.88172824]\n",
      "模型中的偏置为:\n",
      " 2.0699816272604314\n",
      "误差为:\n",
      " 0.49134250640715416\n"
     ]
    }
   ],
   "execution_count": 12
  }
 ],
 "metadata": {
  "kernelspec": {
   "display_name": "Python 3",
   "language": "python",
   "name": "python3"
  },
  "language_info": {
   "codemirror_mode": {
    "name": "ipython",
    "version": 2
   },
   "file_extension": ".py",
   "mimetype": "text/x-python",
   "name": "python",
   "nbconvert_exporter": "python",
   "pygments_lexer": "ipython2",
   "version": "2.7.6"
  }
 },
 "nbformat": 4,
 "nbformat_minor": 5
}
