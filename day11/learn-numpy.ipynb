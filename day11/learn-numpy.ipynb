{
 "cells": [
  {
   "cell_type": "code",
   "id": "initial_id",
   "metadata": {
    "collapsed": true,
    "ExecuteTime": {
     "end_time": "2025-01-06T03:45:32.727611Z",
     "start_time": "2025-01-06T03:45:32.668892Z"
    }
   },
   "source": [
    "import random\n",
    "import time\n",
    "import numpy as np\n"
   ],
   "outputs": [],
   "execution_count": 1
  },
  {
   "metadata": {
    "ExecuteTime": {
     "end_time": "2025-01-06T03:48:56.724966Z",
     "start_time": "2025-01-06T03:48:47.918371Z"
    }
   },
   "cell_type": "code",
   "source": [
    "a=[]\n",
    "for i in range (100000000):\n",
    "    a.append(random.random())\n",
    "t1=time.time()\n",
    "sum1=sum(a)\n",
    "t2=time.time()\n",
    "\n",
    "b=np.array(a)\n",
    "t3=time.time()\n",
    "sum2=np.sum(b)\n",
    "t4=time.time()\n",
    "print(t2-t1,t4-t3)"
   ],
   "id": "369e3a0caec60070",
   "outputs": [
    {
     "name": "stdout",
     "output_type": "stream",
     "text": [
      "0.3125894069671631 0.06301116943359375\n"
     ]
    }
   ],
   "execution_count": 4
  },
  {
   "metadata": {
    "ExecuteTime": {
     "end_time": "2025-01-06T03:49:59.784671Z",
     "start_time": "2025-01-06T03:49:59.781852Z"
    }
   },
   "cell_type": "code",
   "source": [
    "list1=[1,2,3,4]\n",
    "oneArray=np.array(list1)\n",
    "print(type(oneArray))\n",
    "print(oneArray)"
   ],
   "id": "ee6e8f5a5237d748",
   "outputs": [
    {
     "name": "stdout",
     "output_type": "stream",
     "text": [
      "<class 'numpy.ndarray'>\n",
      "[1 2 3 4]\n"
     ]
    }
   ],
   "execution_count": 5
  },
  {
   "metadata": {
    "ExecuteTime": {
     "end_time": "2025-01-06T03:50:45.157663Z",
     "start_time": "2025-01-06T03:50:45.155114Z"
    }
   },
   "cell_type": "code",
   "source": [
    "t2=np.array(range(10))\n",
    "print(t2)"
   ],
   "id": "8051bcf2d3cc180f",
   "outputs": [
    {
     "name": "stdout",
     "output_type": "stream",
     "text": [
      "[0 1 2 3 4 5 6 7 8 9]\n"
     ]
    }
   ],
   "execution_count": 6
  },
  {
   "metadata": {
    "ExecuteTime": {
     "end_time": "2025-01-06T03:51:58.475101Z",
     "start_time": "2025-01-06T03:51:58.472727Z"
    }
   },
   "cell_type": "code",
   "source": [
    "t3=np.arange(0,10,2)\n",
    "print(t3)"
   ],
   "id": "ed02cc5465e65d2a",
   "outputs": [
    {
     "name": "stdout",
     "output_type": "stream",
     "text": [
      "[0 2 4 6 8]\n"
     ]
    }
   ],
   "execution_count": 8
  },
  {
   "metadata": {
    "ExecuteTime": {
     "end_time": "2025-01-06T03:54:02.210877Z",
     "start_time": "2025-01-06T03:54:02.207824Z"
    }
   },
   "cell_type": "code",
   "source": [
    "list2 = [[1,2],[3,4],[5,6]]\n",
    "twoArray=np.array(list2)\n",
    "print(twoArray)\n",
    "print(twoArray.ndim)\n",
    "print(twoArray.shape)\n",
    "print(twoArray.size)"
   ],
   "id": "41e155189c58108e",
   "outputs": [
    {
     "name": "stdout",
     "output_type": "stream",
     "text": [
      "[[1 2]\n",
      " [3 4]\n",
      " [5 6]]\n",
      "2\n",
      "(3, 2)\n",
      "6\n"
     ]
    }
   ],
   "execution_count": 10
  },
  {
   "metadata": {
    "ExecuteTime": {
     "end_time": "2025-01-06T03:58:33.552543Z",
     "start_time": "2025-01-06T03:58:33.549474Z"
    }
   },
   "cell_type": "code",
   "source": [
    "four=np.array([[1,2,3],[4,5,6]])\n",
    "print(four)\n",
    "four.shape=(3,2)\n",
    "print(four)"
   ],
   "id": "24ddc1e79551ddd0",
   "outputs": [
    {
     "name": "stdout",
     "output_type": "stream",
     "text": [
      "[[1 2 3]\n",
      " [4 5 6]]\n",
      "[[1 2]\n",
      " [3 4]\n",
      " [5 6]]\n"
     ]
    }
   ],
   "execution_count": 13
  },
  {
   "metadata": {
    "ExecuteTime": {
     "end_time": "2025-01-06T03:59:31.232909Z",
     "start_time": "2025-01-06T03:59:31.230351Z"
    }
   },
   "cell_type": "code",
   "source": [
    "four=four.reshape(3,2)\n",
    "print(four)"
   ],
   "id": "fbf0501d2488f380",
   "outputs": [
    {
     "name": "stdout",
     "output_type": "stream",
     "text": [
      "[[1 2]\n",
      " [3 4]\n",
      " [5 6]]\n"
     ]
    }
   ],
   "execution_count": 14
  },
  {
   "metadata": {
    "ExecuteTime": {
     "end_time": "2025-01-06T04:01:14.596572Z",
     "start_time": "2025-01-06T04:01:14.593456Z"
    }
   },
   "cell_type": "code",
   "source": [
    "five=four.reshape((6,),order='F')\n",
    "six=four.flatten(order='F')\n",
    "print(five)\n",
    "print(six)"
   ],
   "id": "a2a280fd72733371",
   "outputs": [
    {
     "name": "stdout",
     "output_type": "stream",
     "text": [
      "[1 3 5 2 4 6]\n",
      "[1 3 5 2 4 6]\n"
     ]
    }
   ],
   "execution_count": 15
  },
  {
   "metadata": {
    "ExecuteTime": {
     "end_time": "2025-01-06T04:02:19.275440Z",
     "start_time": "2025-01-06T04:02:19.272404Z"
    }
   },
   "cell_type": "code",
   "source": [
    "t=np.arange(24)\n",
    "print(t)\n",
    "print(t.shape)"
   ],
   "id": "e98608324cfdf290",
   "outputs": [
    {
     "name": "stdout",
     "output_type": "stream",
     "text": [
      "[ 0  1  2  3  4  5  6  7  8  9 10 11 12 13 14 15 16 17 18 19 20 21 22 23]\n",
      "(24,)\n"
     ]
    }
   ],
   "execution_count": 17
  },
  {
   "metadata": {
    "ExecuteTime": {
     "end_time": "2025-01-06T06:13:21.446153Z",
     "start_time": "2025-01-06T06:13:21.443096Z"
    }
   },
   "cell_type": "code",
   "source": [
    "t1=t.reshape((4,6))\n",
    "t2=t.reshape((2,3,4))\n",
    "print(t1)\n",
    "print(t1.shape)\n",
    "print(t2)"
   ],
   "id": "159c5661464c869",
   "outputs": [
    {
     "name": "stdout",
     "output_type": "stream",
     "text": [
      "[[ 0  1  2  3  4  5]\n",
      " [ 6  7  8  9 10 11]\n",
      " [12 13 14 15 16 17]\n",
      " [18 19 20 21 22 23]]\n",
      "(4, 6)\n",
      "[[[ 0  1  2  3]\n",
      "  [ 4  5  6  7]\n",
      "  [ 8  9 10 11]]\n",
      "\n",
      " [[12 13 14 15]\n",
      "  [16 17 18 19]\n",
      "  [20 21 22 23]]]\n"
     ]
    }
   ],
   "execution_count": 28
  },
  {
   "metadata": {
    "ExecuteTime": {
     "end_time": "2025-01-06T04:05:03.118605Z",
     "start_time": "2025-01-06T04:05:02.378401Z"
    }
   },
   "cell_type": "code",
   "source": [
    "a=np.array([9,12,88,14,25])\n",
    "list_a=a.tolist()\n",
    "print(list_a)"
   ],
   "id": "860b27def8206f8a",
   "outputs": [
    {
     "name": "stdout",
     "output_type": "stream",
     "text": [
      "[9, 12, 88, 14, 25]\n"
     ]
    }
   ],
   "execution_count": 22
  },
  {
   "metadata": {
    "ExecuteTime": {
     "end_time": "2025-01-06T04:06:04.182419Z",
     "start_time": "2025-01-06T04:06:04.179346Z"
    }
   },
   "cell_type": "code",
   "source": [
    "f=np.array([1,2,3,4,5],dtype=np.int16)\n",
    "print(f.itemsize)\n",
    "print(f.dtype)\n"
   ],
   "id": "8ebc0f70654c2eb3",
   "outputs": [
    {
     "name": "stdout",
     "output_type": "stream",
     "text": [
      "2\n",
      "int16\n"
     ]
    }
   ],
   "execution_count": 23
  },
  {
   "metadata": {
    "ExecuteTime": {
     "end_time": "2025-01-06T04:06:47.515962Z",
     "start_time": "2025-01-06T04:06:47.513410Z"
    }
   },
   "cell_type": "code",
   "source": [
    "f1=f.astype(np.int64)\n",
    "print(f1.dtype)"
   ],
   "id": "e1578d1ee83c0f4e",
   "outputs": [
    {
     "name": "stdout",
     "output_type": "stream",
     "text": [
      "int64\n"
     ]
    }
   ],
   "execution_count": 24
  },
  {
   "metadata": {
    "ExecuteTime": {
     "end_time": "2025-01-06T04:08:20.717827Z",
     "start_time": "2025-01-06T04:08:20.714743Z"
    }
   },
   "cell_type": "code",
   "source": [
    "print(round(random.random(),2))\n",
    "arr=np.array([random.random() for i in range(10)])\n",
    "print(np.round(arr,2))"
   ],
   "id": "3843c4703fd887c3",
   "outputs": [
    {
     "name": "stdout",
     "output_type": "stream",
     "text": [
      "0.18\n",
      "[0.09 0.54 0.55 0.27 0.05 0.78 0.7  0.95 0.06 0.82]\n"
     ]
    }
   ],
   "execution_count": 26
  },
  {
   "metadata": {
    "ExecuteTime": {
     "end_time": "2025-01-06T07:14:55.202126Z",
     "start_time": "2025-01-06T07:14:55.198580Z"
    }
   },
   "cell_type": "code",
   "source": [
    "t1=np.arange(24).reshape((6,4))\n",
    "print(t1)\n",
    "print(t1+2)\n",
    "print(t1*2)\n",
    "print(\"-\"*20)\n",
    "print(t1/2)"
   ],
   "id": "84a6154a29573f2",
   "outputs": [
    {
     "name": "stdout",
     "output_type": "stream",
     "text": [
      "[[ 0  1  2  3]\n",
      " [ 4  5  6  7]\n",
      " [ 8  9 10 11]\n",
      " [12 13 14 15]\n",
      " [16 17 18 19]\n",
      " [20 21 22 23]]\n",
      "[[ 2  3  4  5]\n",
      " [ 6  7  8  9]\n",
      " [10 11 12 13]\n",
      " [14 15 16 17]\n",
      " [18 19 20 21]\n",
      " [22 23 24 25]]\n",
      "[[ 0  2  4  6]\n",
      " [ 8 10 12 14]\n",
      " [16 18 20 22]\n",
      " [24 26 28 30]\n",
      " [32 34 36 38]\n",
      " [40 42 44 46]]\n",
      "--------------------\n",
      "[[ 0.   0.5  1.   1.5]\n",
      " [ 2.   2.5  3.   3.5]\n",
      " [ 4.   4.5  5.   5.5]\n",
      " [ 6.   6.5  7.   7.5]\n",
      " [ 8.   8.5  9.   9.5]\n",
      " [10.  10.5 11.  11.5]]\n"
     ]
    }
   ],
   "execution_count": 32
  },
  {
   "metadata": {
    "ExecuteTime": {
     "end_time": "2025-01-06T07:15:46.674898Z",
     "start_time": "2025-01-06T07:15:46.671851Z"
    }
   },
   "cell_type": "code",
   "source": [
    "t1=np.arange(24).reshape((6,4))\n",
    "t2=np.arange(100,124).reshape((6,4))\n",
    "print(t1+t2)\n",
    "print(t1*t2)"
   ],
   "id": "4975b53aae4c6fae",
   "outputs": [
    {
     "name": "stdout",
     "output_type": "stream",
     "text": [
      "[[100 102 104 106]\n",
      " [108 110 112 114]\n",
      " [116 118 120 122]\n",
      " [124 126 128 130]\n",
      " [132 134 136 138]\n",
      " [140 142 144 146]]\n",
      "[[   0  101  204  309]\n",
      " [ 416  525  636  749]\n",
      " [ 864  981 1100 1221]\n",
      " [1344 1469 1596 1725]\n",
      " [1856 1989 2124 2261]\n",
      " [2400 2541 2684 2829]]\n"
     ]
    }
   ],
   "execution_count": 33
  },
  {
   "metadata": {
    "ExecuteTime": {
     "end_time": "2025-01-06T07:16:20.190375Z",
     "start_time": "2025-01-06T07:16:20.187829Z"
    }
   },
   "cell_type": "code",
   "source": [
    "t1 =np.arange(24).reshape((4,6))\n",
    "t2 = np.arange(0,6)\n",
    "print(t1-t2)"
   ],
   "id": "9a74331c1a7a435b",
   "outputs": [
    {
     "name": "stdout",
     "output_type": "stream",
     "text": [
      "[[ 0  0  0  0  0  0]\n",
      " [ 6  6  6  6  6  6]\n",
      " [12 12 12 12 12 12]\n",
      " [18 18 18 18 18 18]]\n"
     ]
    }
   ],
   "execution_count": 35
  },
  {
   "metadata": {
    "ExecuteTime": {
     "end_time": "2025-01-06T07:16:40.964171Z",
     "start_time": "2025-01-06T07:16:40.961275Z"
    }
   },
   "cell_type": "code",
   "source": [
    "t1 =np.arange(24).reshape((4,6))\n",
    "t2 = np.arange(4).reshape((4,1))\n",
    "print(t1-t2)"
   ],
   "id": "b8501f4b20e025b1",
   "outputs": [
    {
     "name": "stdout",
     "output_type": "stream",
     "text": [
      "[[ 0  1  2  3  4  5]\n",
      " [ 5  6  7  8  9 10]\n",
      " [10 11 12 13 14 15]\n",
      " [15 16 17 18 19 20]]\n"
     ]
    }
   ],
   "execution_count": 36
  },
  {
   "metadata": {
    "ExecuteTime": {
     "end_time": "2025-01-06T07:19:58.753599Z",
     "start_time": "2025-01-06T07:19:58.750232Z"
    }
   },
   "cell_type": "code",
   "source": [
    "a=np.array([[1,2,4],[4,5,6]])\n",
    "print(np.sum(a,axis=0))\n",
    "print(np.sum(a,axis=1))\n",
    "print(np.sum(a))"
   ],
   "id": "9e8543d178d0f7e0",
   "outputs": [
    {
     "name": "stdout",
     "output_type": "stream",
     "text": [
      "[ 5  7 10]\n",
      "[ 7 15]\n",
      "22\n"
     ]
    }
   ],
   "execution_count": 37
  },
  {
   "metadata": {
    "ExecuteTime": {
     "end_time": "2025-01-06T07:20:22.227392Z",
     "start_time": "2025-01-06T07:20:22.222291Z"
    }
   },
   "cell_type": "code",
   "source": [
    "t1 = np.arange(24).reshape(4,6)\n",
    "print(t1)\n",
    "print('*'*20)\n",
    "print(t1[1]) # 取一行(一行代表是一条数据，索引也是从0开始的)print(t1[1,:]) # 取一行\n",
    "print('*'*20)\n",
    "print(t1[1:])# 取连续的多行\n",
    "print('*'*20)\n",
    "print(t1[1:3,:])# 取连续的多行\n",
    "print('*'*20)\n",
    "print(t1[[0,2,3]])# 取不连续的多行\n",
    "print('*'*20)\n",
    "print(t1[[0,2,3],:])# 取不连续的多行\n",
    "print('*'*20)\n",
    "print(t1[:,1])# 取一列\n",
    "print('*'*20)\n",
    "print(t1[:,1:])# 连续的多列\n",
    "print('*'*20)\n",
    "print(t1[:,[0,2,3]])# 取不连续的多列\n",
    "print('*'*20)\n",
    "print(t1[2,3])# # 取某一个值,三行四列\n",
    "print('*'*20)"
   ],
   "id": "99e7153495500f59",
   "outputs": [
    {
     "name": "stdout",
     "output_type": "stream",
     "text": [
      "[[ 0  1  2  3  4  5]\n",
      " [ 6  7  8  9 10 11]\n",
      " [12 13 14 15 16 17]\n",
      " [18 19 20 21 22 23]]\n",
      "********************\n",
      "[ 6  7  8  9 10 11]\n",
      "********************\n",
      "[[ 6  7  8  9 10 11]\n",
      " [12 13 14 15 16 17]\n",
      " [18 19 20 21 22 23]]\n",
      "********************\n",
      "[[ 6  7  8  9 10 11]\n",
      " [12 13 14 15 16 17]]\n",
      "********************\n",
      "[[ 0  1  2  3  4  5]\n",
      " [12 13 14 15 16 17]\n",
      " [18 19 20 21 22 23]]\n",
      "********************\n",
      "[[ 0  1  2  3  4  5]\n",
      " [12 13 14 15 16 17]\n",
      " [18 19 20 21 22 23]]\n",
      "********************\n",
      "[ 1  7 13 19]\n",
      "********************\n",
      "[[ 1  2  3  4  5]\n",
      " [ 7  8  9 10 11]\n",
      " [13 14 15 16 17]\n",
      " [19 20 21 22 23]]\n",
      "********************\n",
      "[[ 0  2  3]\n",
      " [ 6  8  9]\n",
      " [12 14 15]\n",
      " [18 20 21]]\n",
      "********************\n",
      "15\n",
      "********************\n"
     ]
    }
   ],
   "execution_count": 38
  },
  {
   "metadata": {
    "ExecuteTime": {
     "end_time": "2025-01-06T09:01:29.175519Z",
     "start_time": "2025-01-06T09:01:29.171436Z"
    }
   },
   "cell_type": "code",
   "source": [
    "t = np.arange( 24 ).reshape( 4, 6 )\n",
    "\n",
    "t[1, :] = 0\n",
    "print(t)\n",
    "\n",
    "t[:, 1] = 0\n",
    "print(t)\n",
    "\n",
    "t[1:3]=0\n",
    "print(t)\n",
    "\n",
    "t[:,1:4]=1\n",
    "print(t)\n",
    "\n",
    "t[t<10]=2\n",
    "print(t)"
   ],
   "id": "a0aaa0b29ffbdc82",
   "outputs": [
    {
     "name": "stdout",
     "output_type": "stream",
     "text": [
      "[[ 0  1  2  3  4  5]\n",
      " [ 0  0  0  0  0  0]\n",
      " [12 13 14 15 16 17]\n",
      " [18 19 20 21 22 23]]\n",
      "[[ 0  0  2  3  4  5]\n",
      " [ 0  0  0  0  0  0]\n",
      " [12  0 14 15 16 17]\n",
      " [18  0 20 21 22 23]]\n",
      "[[ 0  0  2  3  4  5]\n",
      " [ 0  0  0  0  0  0]\n",
      " [ 0  0  0  0  0  0]\n",
      " [18  0 20 21 22 23]]\n",
      "[[ 0  1  1  1  4  5]\n",
      " [ 0  1  1  1  0  0]\n",
      " [ 0  1  1  1  0  0]\n",
      " [18  1  1  1 22 23]]\n",
      "[[ 2  2  2  2  2  2]\n",
      " [ 2  2  2  2  2  2]\n",
      " [ 2  2  2  2  2  2]\n",
      " [18  2  2  2 22 23]]\n"
     ]
    }
   ],
   "execution_count": 45
  },
  {
   "metadata": {
    "ExecuteTime": {
     "end_time": "2025-01-06T09:22:31.239742Z",
     "start_time": "2025-01-06T09:22:31.237142Z"
    }
   },
   "cell_type": "code",
   "source": [
    "score = np.array( [[80, 88],[82, 81], [75, 81]] )\n",
    "result = np.where( score > 80,True,False)\n",
    "print(result)"
   ],
   "id": "12dfcbd899b53432",
   "outputs": [
    {
     "name": "stdout",
     "output_type": "stream",
     "text": [
      "[[False  True]\n",
      " [ True  True]\n",
      " [False  True]]\n"
     ]
    }
   ],
   "execution_count": 51
  },
  {
   "metadata": {
    "ExecuteTime": {
     "end_time": "2025-01-06T09:26:22.843537Z",
     "start_time": "2025-01-06T09:26:22.838984Z"
    }
   },
   "cell_type": "code",
   "source": [
    "a = np.array([[1, 2, 3], [4, 5, 6]])\n",
    "print('第一个数组：')\n",
    "print(a)\n",
    "print('\\n')\n",
    "print(' 向 数 组 添 加 元 素 ：')\n",
    "print(np.append(a, [7, 8, 9]))\n",
    "print('\\n')\n",
    "print('沿轴 0 添加元素：')\n",
    "print(np.append(a, [[7, 8, 9]], axis=0))\n",
    "print('\\n')\n",
    "print('沿轴 1 添加元素：')\n",
    "print(np.append(a, [[5, 5, 5], [7, 8, 9]], axis=1))"
   ],
   "id": "565b1b9e4012d6e9",
   "outputs": [
    {
     "name": "stdout",
     "output_type": "stream",
     "text": [
      "第一个数组：\n",
      "[[1 2 3]\n",
      " [4 5 6]]\n",
      "\n",
      "\n",
      " 向 数 组 添 加 元 素 ：\n",
      "[1 2 3 4 5 6 7 8 9]\n",
      "\n",
      "\n",
      "沿轴 0 添加元素：\n",
      "[[1 2 3]\n",
      " [4 5 6]\n",
      " [7 8 9]]\n",
      "\n",
      "\n",
      "沿轴 1 添加元素：\n",
      "[[1 2 3 5 5 5]\n",
      " [4 5 6 7 8 9]]\n"
     ]
    }
   ],
   "execution_count": 53
  },
  {
   "metadata": {
    "ExecuteTime": {
     "end_time": "2025-01-06T09:29:50.653439Z",
     "start_time": "2025-01-06T09:29:50.649452Z"
    }
   },
   "cell_type": "code",
   "source": [
    "a = np.array([[1, 2], [3, 4], [5, 6]])\n",
    "print('第一个数组：')\n",
    "print(a)\n",
    "print('\\n')\n",
    "print('未传递 Axis 参数。 在插入之前输入数组会被展开。')\n",
    "print(np.insert(a, 3, [11, 12]))\n",
    "print('\\n')\n",
    "print('传递了 Axis 参数。 会广播值数组来配输入数组。')\n",
    "print('沿轴 0 广播：')\n",
    "print(np.insert(a, 1, [11], axis=0))\n",
    "print('\\n')\n",
    "print('沿轴 1 广播：')\n",
    "print(np.insert(a, 1, 11, axis=1))"
   ],
   "id": "833997b9881633f6",
   "outputs": [
    {
     "name": "stdout",
     "output_type": "stream",
     "text": [
      "第一个数组：\n",
      "[[1 2]\n",
      " [3 4]\n",
      " [5 6]]\n",
      "\n",
      "\n",
      "未传递 Axis 参数。 在插入之前输入数组会被展开。\n",
      "[ 1  2  3 11 12  4  5  6]\n",
      "\n",
      "\n",
      "传递了 Axis 参数。 会广播值数组来配输入数组。\n",
      "沿轴 0 广播：\n",
      "[[ 1  2]\n",
      " [11 11]\n",
      " [ 3  4]\n",
      " [ 5  6]]\n",
      "\n",
      "\n",
      "沿轴 1 广播：\n",
      "[[ 1 11  2]\n",
      " [ 3 11  4]\n",
      " [ 5 11  6]]\n"
     ]
    }
   ],
   "execution_count": 54
  },
  {
   "metadata": {
    "ExecuteTime": {
     "end_time": "2025-01-06T09:41:01.090997Z",
     "start_time": "2025-01-06T09:41:01.087604Z"
    }
   },
   "cell_type": "code",
   "source": [
    "a=np.arange(12).reshape(3,4)\n",
    "print('第一个数组：')\n",
    "print(a)\n",
    "print('\\n')\n",
    "print('未传递 Axis 参数。 在删除之前输入数组会被展开。')\n",
    "print(np.delete(a,5))\n",
    "print('\\n')\n",
    "print('删除每一行中的第二列：')\n",
    "print(np.delete(a,1,axis = 1))\n",
    "print('\\n')"
   ],
   "id": "febebae680d3dcd9",
   "outputs": [
    {
     "name": "stdout",
     "output_type": "stream",
     "text": [
      "第一个数组：\n",
      "[[ 0  1  2  3]\n",
      " [ 4  5  6  7]\n",
      " [ 8  9 10 11]]\n",
      "\n",
      "\n",
      "未传递 Axis 参数。 在删除之前输入数组会被展开。\n",
      "[ 0  1  2  3  4  6  7  8  9 10 11]\n",
      "\n",
      "\n",
      "删除每一行中的第二列：\n",
      "[[ 0  2  3]\n",
      " [ 4  6  7]\n",
      " [ 8 10 11]]\n",
      "\n",
      "\n"
     ]
    }
   ],
   "execution_count": 55
  },
  {
   "metadata": {
    "ExecuteTime": {
     "end_time": "2025-01-06T10:02:39.498175Z",
     "start_time": "2025-01-06T10:02:39.494120Z"
    }
   },
   "cell_type": "code",
   "source": [
    "import numpy as np\n",
    "a = np.array([5,2,6,2,7,5,6,8,2,9])\n",
    "print ('第一个数组：')\n",
    "print (a)\n",
    "print ('\\n')\n",
    "print ('第一个数组的去重值：')\n",
    "u = np.unique(a)\n",
    "print (u)\n",
    "print ('\\n')\n",
    "print ('去重数组的索引数组：')\n",
    "u,indices = np.unique(a, return_index = True)\n",
    "print (indices)\n",
    "print ('\\n')\n",
    "print ('我们可以看到每个和原数组下标对应的数值：')\n",
    "print (a)\n",
    "print ('去重数组的下标：')\n",
    "u1,indices = np.unique(a,return_inverse = True)\n",
    "print (u1)\n",
    "print (indices)\n",
    "print ('\\n')\n",
    "print ('返回去重元素的出现次数：')\n",
    "u2,indices = np.unique(a,return_counts = True)\n",
    "print (u2)\n",
    "print (indices)"
   ],
   "id": "1ee56893a1a55d34",
   "outputs": [
    {
     "name": "stdout",
     "output_type": "stream",
     "text": [
      "第一个数组：\n",
      "[5 2 6 2 7 5 6 8 2 9]\n",
      "\n",
      "\n",
      "第一个数组的去重值：\n",
      "[2 5 6 7 8 9]\n",
      "\n",
      "\n",
      "去重数组的索引数组：\n",
      "[1 0 2 4 7 9]\n",
      "\n",
      "\n",
      "我们可以看到每个和原数组下标对应的数值：\n",
      "[5 2 6 2 7 5 6 8 2 9]\n",
      "去重数组的下标：\n",
      "[2 5 6 7 8 9]\n",
      "[1 0 2 0 3 1 2 4 0 5]\n",
      "\n",
      "\n",
      "返回去重元素的出现次数：\n",
      "[2 5 6 7 8 9]\n",
      "[3 2 2 1 1 1]\n"
     ]
    }
   ],
   "execution_count": 65
  },
  {
   "metadata": {
    "ExecuteTime": {
     "end_time": "2025-01-06T09:55:31.170916Z",
     "start_time": "2025-01-06T09:55:31.168195Z"
    }
   },
   "cell_type": "code",
   "source": [
    "score =np.array([[80,88],[82,81],[75,81]])\n",
    "res=np.max(score)\n",
    "print(res)\n",
    "res=np.max(score,axis=0)\n",
    "print(res)\n",
    "res = np.min(score)\n",
    "print(res)\n",
    "res = np.min(score,axis=0)\n",
    "print(res)"
   ],
   "id": "ec7f4cb73bb7ef0a",
   "outputs": [
    {
     "name": "stdout",
     "output_type": "stream",
     "text": [
      "88\n",
      "[82 88]\n",
      "75\n",
      "[75 81]\n"
     ]
    }
   ],
   "execution_count": 59
  },
  {
   "metadata": {
    "ExecuteTime": {
     "end_time": "2025-01-06T09:56:55.425850Z",
     "start_time": "2025-01-06T09:56:55.422890Z"
    }
   },
   "cell_type": "code",
   "source": [
    "result = np.maximum( [-2,-1, 0, 1, 2], 0 ) \n",
    "print(result)\n",
    "result = np.minimum( [-2,-1, 0, 1, 2], 0 ) \n",
    "print(result)\n",
    "result = np.maximum( [-2,-1, 0, 1, 2], [1, 2, 3, 4, 5] )\n",
    "print(result)"
   ],
   "id": "be01e2283d022f99",
   "outputs": [
    {
     "name": "stdout",
     "output_type": "stream",
     "text": [
      "[0 0 0 1 2]\n",
      "[-2 -1  0  0  0]\n",
      "[1 2 3 4 5]\n"
     ]
    }
   ],
   "execution_count": 60
  },
  {
   "metadata": {
    "ExecuteTime": {
     "end_time": "2025-01-06T10:07:33.306151Z",
     "start_time": "2025-01-06T10:07:33.303337Z"
    }
   },
   "cell_type": "code",
   "source": [
    "res=np.mean(score)\n",
    "print(res)\n",
    "res1=np.mean(score,axis=0)\n",
    "print(res1)\n",
    "arr= np.array([[1,2,3], [4,5,6]])\n",
    "print(arr)\n",
    "print(arr.cumsum(0))\n",
    "print(arr.cumsum(1))"
   ],
   "id": "92a0b544fe114c72",
   "outputs": [
    {
     "name": "stdout",
     "output_type": "stream",
     "text": [
      "81.16666666666667\n",
      "[79.         83.33333333]\n",
      "[[1 2 3]\n",
      " [4 5 6]]\n",
      "[[1 2 3]\n",
      " [5 7 9]]\n",
      "[[ 1  3  6]\n",
      " [ 4  9 15]]\n"
     ]
    }
   ],
   "execution_count": 69
  },
  {
   "metadata": {
    "ExecuteTime": {
     "end_time": "2025-01-06T10:08:30.508096Z",
     "start_time": "2025-01-06T10:08:30.505614Z"
    }
   },
   "cell_type": "code",
   "source": [
    "result = np.argmin(score,axis=0)\n",
    "res=np.min(score,axis=0)\n",
    "print(result,res)"
   ],
   "id": "dff6611fccb733a6",
   "outputs": [
    {
     "name": "stdout",
     "output_type": "stream",
     "text": [
      "[2 1] [75 81]\n"
     ]
    }
   ],
   "execution_count": 70
  },
  {
   "metadata": {
    "ExecuteTime": {
     "end_time": "2025-01-06T10:09:44.038889Z",
     "start_time": "2025-01-06T10:09:44.035837Z"
    }
   },
   "cell_type": "code",
   "source": [
    "result = np.std(score,axis=0)\n",
    "print(result)"
   ],
   "id": "3f979e4912d1fefd",
   "outputs": [
    {
     "name": "stdout",
     "output_type": "stream",
     "text": [
      "[2.94392029 3.29983165]\n"
     ]
    }
   ],
   "execution_count": 71
  },
  {
   "metadata": {
    "ExecuteTime": {
     "end_time": "2025-01-07T00:40:58.961614Z",
     "start_time": "2025-01-07T00:40:58.958938Z"
    }
   },
   "cell_type": "code",
   "source": [
    "result = np.ptp(score,axis=None)#就是最大值和最小值的差\n",
    "print(result)"
   ],
   "id": "481000303ca6b694",
   "outputs": [
    {
     "name": "stdout",
     "output_type": "stream",
     "text": [
      "13\n"
     ]
    }
   ],
   "execution_count": 74
  },
  {
   "metadata": {
    "ExecuteTime": {
     "end_time": "2025-01-07T00:42:59.159647Z",
     "start_time": "2025-01-07T00:42:59.156807Z"
    }
   },
   "cell_type": "code",
   "source": [
    "a=np.array([[1,2],[3,4]])\n",
    "b=np.array([[5,6],[7,8]])\n",
    "print(np.concatenate((a,b),axis=0))\n",
    "print('\\n')\n",
    "print(np.concatenate((a,b),axis=1))"
   ],
   "id": "f80fd381bd2dc0f0",
   "outputs": [
    {
     "name": "stdout",
     "output_type": "stream",
     "text": [
      "[[1 2]\n",
      " [3 4]\n",
      " [5 6]\n",
      " [7 8]]\n",
      "\n",
      "\n",
      "[[1 2 5 6]\n",
      " [3 4 7 8]]\n"
     ]
    }
   ],
   "execution_count": 76
  },
  {
   "metadata": {
    "ExecuteTime": {
     "end_time": "2025-01-07T00:44:17.145058Z",
     "start_time": "2025-01-07T00:44:17.142361Z"
    }
   },
   "cell_type": "code",
   "source": [
    "print(np.stack((a,b),axis=0))\n",
    "print('\\n')\n",
    "print(np.stack((a,b),axis=1))"
   ],
   "id": "32be6a38c943a01a",
   "outputs": [
    {
     "name": "stdout",
     "output_type": "stream",
     "text": [
      "[[[1 2]\n",
      "  [3 4]]\n",
      "\n",
      " [[5 6]\n",
      "  [7 8]]]\n",
      "\n",
      "\n",
      "[[[1 2]\n",
      "  [5 6]]\n",
      "\n",
      " [[3 4]\n",
      "  [7 8]]]\n"
     ]
    }
   ],
   "execution_count": 78
  },
  {
   "metadata": {
    "ExecuteTime": {
     "end_time": "2025-01-07T00:45:29.012746Z",
     "start_time": "2025-01-07T00:45:29.010015Z"
    }
   },
   "cell_type": "code",
   "source": [
    "v1 = [[0,1,2,3,4,5],\n",
    "[6,7,8,9,10,11]]\n",
    "v2 = [[12,13,14,15,16,17],\n",
    "[18,19,20,21,22,23]]\n",
    "result = np.vstack((v1,v2))\n",
    "print(result)"
   ],
   "id": "eef36e1e801636e7",
   "outputs": [
    {
     "name": "stdout",
     "output_type": "stream",
     "text": [
      "[[ 0  1  2  3  4  5]\n",
      " [ 6  7  8  9 10 11]\n",
      " [12 13 14 15 16 17]\n",
      " [18 19 20 21 22 23]]\n"
     ]
    }
   ],
   "execution_count": 79
  },
  {
   "metadata": {
    "ExecuteTime": {
     "end_time": "2025-01-07T00:46:25.757528Z",
     "start_time": "2025-01-07T00:46:25.755179Z"
    }
   },
   "cell_type": "code",
   "source": [
    "v1 = [[0,1,2,3,4,5],\n",
    "[6,7,8,9,10,11]]\n",
    "v2 = [[12,13,14,15,16,17],\n",
    "[18,19,20,21,22,23]]\n",
    "result = np.hstack((v1,v2))\n",
    "print(result)"
   ],
   "id": "c007aee14e88fdf0",
   "outputs": [
    {
     "name": "stdout",
     "output_type": "stream",
     "text": [
      "[[ 0  1  2  3  4  5 12 13 14 15 16 17]\n",
      " [ 6  7  8  9 10 11 18 19 20 21 22 23]]\n"
     ]
    }
   ],
   "execution_count": 80
  },
  {
   "metadata": {
    "ExecuteTime": {
     "end_time": "2025-01-07T00:48:55.289171Z",
     "start_time": "2025-01-07T00:48:55.286109Z"
    }
   },
   "cell_type": "code",
   "source": [
    "arr=np.arange(9).reshape(3,3)\n",
    "b=np.split(arr,3)\n",
    "print(b)"
   ],
   "id": "313cc4ca534f7144",
   "outputs": [
    {
     "name": "stdout",
     "output_type": "stream",
     "text": [
      "[array([[0, 1, 2]]), array([[3, 4, 5]]), array([[6, 7, 8]])]\n"
     ]
    }
   ],
   "execution_count": 82
  },
  {
   "metadata": {
    "ExecuteTime": {
     "end_time": "2025-01-07T00:49:43.408561Z",
     "start_time": "2025-01-07T00:49:43.271931Z"
    }
   },
   "cell_type": "code",
   "source": [
    "harr = np.floor(10*np.random.random((2, 6)))\n",
    "print ('原 array：')\n",
    "print(harr)\n",
    "print ('拆分后：')\n",
    "print(np.hsplit(harr, 3))"
   ],
   "id": "9743d863df04b11d",
   "outputs": [
    {
     "name": "stdout",
     "output_type": "stream",
     "text": [
      "原 array：\n",
      "[[5. 6. 2. 4. 7. 8.]\n",
      " [0. 6. 6. 5. 8. 3.]]\n",
      "拆分后：\n",
      "[array([[5., 6.],\n",
      "       [0., 6.]]), array([[2., 4.],\n",
      "       [6., 5.]]), array([[7., 8.],\n",
      "       [8., 3.]])]\n"
     ]
    }
   ],
   "execution_count": 83
  },
  {
   "metadata": {
    "ExecuteTime": {
     "end_time": "2025-01-07T00:53:41.508987Z",
     "start_time": "2025-01-07T00:53:41.505850Z"
    }
   },
   "cell_type": "code",
   "source": [
    "a=np.arange(16).reshape(4,4)\n",
    "print ('第一个数组：')\n",
    "print (a)\n",
    "print ('\\n')\n",
    "print ('竖直分割：')\n",
    "b = np.vsplit(a,2)\n",
    "print (b)"
   ],
   "id": "348a1814ee1b196e",
   "outputs": [
    {
     "name": "stdout",
     "output_type": "stream",
     "text": [
      "第一个数组：\n",
      "[[ 0  1  2  3]\n",
      " [ 4  5  6  7]\n",
      " [ 8  9 10 11]\n",
      " [12 13 14 15]]\n",
      "\n",
      "\n",
      "竖直分割：\n",
      "[array([[0, 1, 2, 3],\n",
      "       [4, 5, 6, 7]]), array([[ 8,  9, 10, 11],\n",
      "       [12, 13, 14, 15]])]\n"
     ]
    }
   ],
   "execution_count": 84
  },
  {
   "metadata": {
    "ExecuteTime": {
     "end_time": "2025-01-07T00:55:23.524307Z",
     "start_time": "2025-01-07T00:55:23.521261Z"
    }
   },
   "cell_type": "code",
   "source": [
    "a=np.nan\n",
    "b=np.inf\n",
    "print(a,type(a))\n",
    "print(b,type(b))"
   ],
   "id": "23e91df674a49264",
   "outputs": [
    {
     "name": "stdout",
     "output_type": "stream",
     "text": [
      "nan <class 'float'>\n",
      "inf <class 'float'>\n"
     ]
    }
   ],
   "execution_count": 85
  },
  {
   "metadata": {
    "ExecuteTime": {
     "end_time": "2025-01-07T00:59:12.370708Z",
     "start_time": "2025-01-07T00:59:12.368174Z"
    }
   },
   "cell_type": "code",
   "source": [
    "t=np.arange(24,dtype=float).reshape(4,6)\n",
    "t[3,4]=np.nan\n",
    "print(np.count_nonzero(t))\n",
    "print(np.count_nonzero(t!=t))"
   ],
   "id": "877853314c359c26",
   "outputs": [
    {
     "name": "stdout",
     "output_type": "stream",
     "text": [
      "23\n",
      "1\n"
     ]
    }
   ],
   "execution_count": 88
  },
  {
   "metadata": {
    "ExecuteTime": {
     "end_time": "2025-01-07T01:00:41.977070Z",
     "start_time": "2025-01-07T01:00:41.974024Z"
    }
   },
   "cell_type": "code",
   "source": [
    "t[np.isnan(t)]=0\n",
    "print(t)"
   ],
   "id": "66a2a97c2e7dd29a",
   "outputs": [
    {
     "name": "stdout",
     "output_type": "stream",
     "text": [
      "[[ 0.  1.  2.  3.  4.  5.]\n",
      " [ 6.  7.  8.  9. 10. 11.]\n",
      " [12. 13. 14. 15. 16. 17.]\n",
      " [18. 19. 20. 21.  0. 23.]]\n"
     ]
    }
   ],
   "execution_count": 89
  },
  {
   "metadata": {
    "ExecuteTime": {
     "end_time": "2025-01-07T01:11:33.603718Z",
     "start_time": "2025-01-07T01:11:33.599634Z"
    }
   },
   "cell_type": "code",
   "source": [
    "t=np.arange(24).reshape(4,6).astype('float')\n",
    "t[1,3:]=np.nan\n",
    "print(t)\n",
    "print('-'*10)\n",
    "for i in range(t.shape[1]):\n",
    "    temp_col=t[:,i]\n",
    "    \n",
    "    nan_num=np.count_nonzero(temp_col!=temp_col)\n",
    "    if nan_num !=0:\n",
    "        temp_col_not_nan=temp_col[temp_col==temp_col]\n",
    "        temp_col[np.isnan(temp_col)]=np.mean(temp_col_not_nan)\n",
    "print(t)\n",
    "    "
   ],
   "id": "95d0f724e74afabb",
   "outputs": [
    {
     "name": "stdout",
     "output_type": "stream",
     "text": [
      "[[ 0.  1.  2.  3.  4.  5.]\n",
      " [ 6.  7.  8. nan nan nan]\n",
      " [12. 13. 14. 15. 16. 17.]\n",
      " [18. 19. 20. 21. 22. 23.]]\n",
      "----------\n",
      "[[ 0.  1.  2.  3.  4.  5.]\n",
      " [ 6.  7.  8. 13. 14. 15.]\n",
      " [12. 13. 14. 15. 16. 17.]\n",
      " [18. 19. 20. 21. 22. 23.]]\n"
     ]
    }
   ],
   "execution_count": 90
  },
  {
   "metadata": {
    "ExecuteTime": {
     "end_time": "2025-01-07T01:13:42.861261Z",
     "start_time": "2025-01-07T01:13:42.858214Z"
    }
   },
   "cell_type": "code",
   "source": [
    "a = np.arange(12).reshape(3,4)\n",
    "print ('原数组：')\n",
    "print (a )\n",
    "print ('\\n')\n",
    "print ('对换数组维度：')\n",
    "print (np.transpose(a))"
   ],
   "id": "fb748fe97e9355dc",
   "outputs": [
    {
     "name": "stdout",
     "output_type": "stream",
     "text": [
      "原数组：\n",
      "[[ 0  1  2  3]\n",
      " [ 4  5  6  7]\n",
      " [ 8  9 10 11]]\n",
      "\n",
      "\n",
      "对换数组：\n",
      "[[ 0  4  8]\n",
      " [ 1  5  9]\n",
      " [ 2  6 10]\n",
      " [ 3  7 11]]\n"
     ]
    }
   ],
   "execution_count": 91
  },
  {
   "metadata": {
    "ExecuteTime": {
     "end_time": "2025-01-07T01:15:22.795205Z",
     "start_time": "2025-01-07T01:15:22.792155Z"
    }
   },
   "cell_type": "code",
   "source": [
    "a = np.arange(12).reshape(3,4)\n",
    "print ('原数组：')\n",
    "print (a)\n",
    "print ('\\n')\n",
    "print ('转置数组：')\n",
    "print (a.T)"
   ],
   "id": "630a8b4a202db8de",
   "outputs": [
    {
     "name": "stdout",
     "output_type": "stream",
     "text": [
      "原数组：\n",
      "[[ 0  1  2  3]\n",
      " [ 4  5  6  7]\n",
      " [ 8  9 10 11]]\n",
      "\n",
      "\n",
      "转置数组：\n",
      "[[ 0  4  8]\n",
      " [ 1  5  9]\n",
      " [ 2  6 10]\n",
      " [ 3  7 11]]\n"
     ]
    }
   ],
   "execution_count": 92
  },
  {
   "metadata": {
    "ExecuteTime": {
     "end_time": "2025-01-07T01:16:46.007555Z",
     "start_time": "2025-01-07T01:16:46.004483Z"
    }
   },
   "cell_type": "code",
   "source": [
    "# 函数用于交换数组的两个轴\n",
    "t1 = np.arange(24).reshape(4,6)\n",
    "re = t1.swapaxes(1,0)\n",
    "print (' 原 数 组 ：')\n",
    "print (t1)\n",
    "print ('\\n')\n",
    "print ('调用 swapaxes 函数后的数组：')\n",
    "print (re)"
   ],
   "id": "c6253e24933979bb",
   "outputs": [
    {
     "name": "stdout",
     "output_type": "stream",
     "text": [
      " 原 数 组 ：\n",
      "[[ 0  1  2  3  4  5]\n",
      " [ 6  7  8  9 10 11]\n",
      " [12 13 14 15 16 17]\n",
      " [18 19 20 21 22 23]]\n",
      "\n",
      "\n",
      "调用 swapaxes 函数后的数组：\n",
      "[[ 0  6 12 18]\n",
      " [ 1  7 13 19]\n",
      " [ 2  8 14 20]\n",
      " [ 3  9 15 21]\n",
      " [ 4 10 16 22]\n",
      " [ 5 11 17 23]]\n"
     ]
    }
   ],
   "execution_count": 93
  },
  {
   "metadata": {
    "ExecuteTime": {
     "end_time": "2025-01-07T01:27:04.085681Z",
     "start_time": "2025-01-07T01:27:04.079009Z"
    }
   },
   "cell_type": "code",
   "source": [
    "a = np.ones((3, 4, 5, 6))\n",
    "# np.rollaxis(a, 2).shape\n",
    "np.rollaxis(a, 3, 1).shape"
   ],
   "id": "b93449d589b44a4e",
   "outputs": [
    {
     "data": {
      "text/plain": [
       "(3, 6, 4, 5)"
      ]
     },
     "execution_count": 98,
     "metadata": {},
     "output_type": "execute_result"
    }
   ],
   "execution_count": 98
  }
 ],
 "metadata": {
  "kernelspec": {
   "display_name": "Python 3",
   "language": "python",
   "name": "python3"
  },
  "language_info": {
   "codemirror_mode": {
    "name": "ipython",
    "version": 2
   },
   "file_extension": ".py",
   "mimetype": "text/x-python",
   "name": "python",
   "nbconvert_exporter": "python",
   "pygments_lexer": "ipython2",
   "version": "2.7.6"
  }
 },
 "nbformat": 4,
 "nbformat_minor": 5
}
