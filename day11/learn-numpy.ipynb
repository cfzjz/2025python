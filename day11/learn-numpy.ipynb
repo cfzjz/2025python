{
 "cells": [
  {
   "cell_type": "code",
   "id": "initial_id",
   "metadata": {
    "collapsed": true,
    "ExecuteTime": {
     "end_time": "2025-01-06T03:45:32.727611Z",
     "start_time": "2025-01-06T03:45:32.668892Z"
    }
   },
   "source": [
    "import random\n",
    "import time\n",
    "import numpy as np\n"
   ],
   "outputs": [],
   "execution_count": 1
  },
  {
   "metadata": {
    "ExecuteTime": {
     "end_time": "2025-01-06T03:48:56.724966Z",
     "start_time": "2025-01-06T03:48:47.918371Z"
    }
   },
   "cell_type": "code",
   "source": [
    "a=[]\n",
    "for i in range (100000000):\n",
    "    a.append(random.random())\n",
    "t1=time.time()\n",
    "sum1=sum(a)\n",
    "t2=time.time()\n",
    "\n",
    "b=np.array(a)\n",
    "t3=time.time()\n",
    "sum2=np.sum(b)\n",
    "t4=time.time()\n",
    "print(t2-t1,t4-t3)"
   ],
   "id": "369e3a0caec60070",
   "outputs": [
    {
     "name": "stdout",
     "output_type": "stream",
     "text": [
      "0.3125894069671631 0.06301116943359375\n"
     ]
    }
   ],
   "execution_count": 4
  },
  {
   "metadata": {
    "ExecuteTime": {
     "end_time": "2025-01-06T03:49:59.784671Z",
     "start_time": "2025-01-06T03:49:59.781852Z"
    }
   },
   "cell_type": "code",
   "source": [
    "list1=[1,2,3,4]\n",
    "oneArray=np.array(list1)\n",
    "print(type(oneArray))\n",
    "print(oneArray)"
   ],
   "id": "ee6e8f5a5237d748",
   "outputs": [
    {
     "name": "stdout",
     "output_type": "stream",
     "text": [
      "<class 'numpy.ndarray'>\n",
      "[1 2 3 4]\n"
     ]
    }
   ],
   "execution_count": 5
  },
  {
   "metadata": {
    "ExecuteTime": {
     "end_time": "2025-01-06T03:50:45.157663Z",
     "start_time": "2025-01-06T03:50:45.155114Z"
    }
   },
   "cell_type": "code",
   "source": [
    "t2=np.array(range(10))\n",
    "print(t2)"
   ],
   "id": "8051bcf2d3cc180f",
   "outputs": [
    {
     "name": "stdout",
     "output_type": "stream",
     "text": [
      "[0 1 2 3 4 5 6 7 8 9]\n"
     ]
    }
   ],
   "execution_count": 6
  },
  {
   "metadata": {
    "ExecuteTime": {
     "end_time": "2025-01-06T03:51:58.475101Z",
     "start_time": "2025-01-06T03:51:58.472727Z"
    }
   },
   "cell_type": "code",
   "source": [
    "t3=np.arange(0,10,2)\n",
    "print(t3)"
   ],
   "id": "ed02cc5465e65d2a",
   "outputs": [
    {
     "name": "stdout",
     "output_type": "stream",
     "text": [
      "[0 2 4 6 8]\n"
     ]
    }
   ],
   "execution_count": 8
  },
  {
   "metadata": {
    "ExecuteTime": {
     "end_time": "2025-01-06T03:54:02.210877Z",
     "start_time": "2025-01-06T03:54:02.207824Z"
    }
   },
   "cell_type": "code",
   "source": [
    "list2 = [[1,2],[3,4],[5,6]]\n",
    "twoArray=np.array(list2)\n",
    "print(twoArray)\n",
    "print(twoArray.ndim)\n",
    "print(twoArray.shape)\n",
    "print(twoArray.size)"
   ],
   "id": "41e155189c58108e",
   "outputs": [
    {
     "name": "stdout",
     "output_type": "stream",
     "text": [
      "[[1 2]\n",
      " [3 4]\n",
      " [5 6]]\n",
      "2\n",
      "(3, 2)\n",
      "6\n"
     ]
    }
   ],
   "execution_count": 10
  },
  {
   "metadata": {
    "ExecuteTime": {
     "end_time": "2025-01-06T03:58:33.552543Z",
     "start_time": "2025-01-06T03:58:33.549474Z"
    }
   },
   "cell_type": "code",
   "source": [
    "four=np.array([[1,2,3],[4,5,6]])\n",
    "print(four)\n",
    "four.shape=(3,2)\n",
    "print(four)"
   ],
   "id": "24ddc1e79551ddd0",
   "outputs": [
    {
     "name": "stdout",
     "output_type": "stream",
     "text": [
      "[[1 2 3]\n",
      " [4 5 6]]\n",
      "[[1 2]\n",
      " [3 4]\n",
      " [5 6]]\n"
     ]
    }
   ],
   "execution_count": 13
  },
  {
   "metadata": {
    "ExecuteTime": {
     "end_time": "2025-01-06T03:59:31.232909Z",
     "start_time": "2025-01-06T03:59:31.230351Z"
    }
   },
   "cell_type": "code",
   "source": [
    "four=four.reshape(3,2)\n",
    "print(four)"
   ],
   "id": "fbf0501d2488f380",
   "outputs": [
    {
     "name": "stdout",
     "output_type": "stream",
     "text": [
      "[[1 2]\n",
      " [3 4]\n",
      " [5 6]]\n"
     ]
    }
   ],
   "execution_count": 14
  },
  {
   "metadata": {
    "ExecuteTime": {
     "end_time": "2025-01-06T04:01:14.596572Z",
     "start_time": "2025-01-06T04:01:14.593456Z"
    }
   },
   "cell_type": "code",
   "source": [
    "five=four.reshape((6,),order='F')\n",
    "six=four.flatten(order='F')\n",
    "print(five)\n",
    "print(six)"
   ],
   "id": "a2a280fd72733371",
   "outputs": [
    {
     "name": "stdout",
     "output_type": "stream",
     "text": [
      "[1 3 5 2 4 6]\n",
      "[1 3 5 2 4 6]\n"
     ]
    }
   ],
   "execution_count": 15
  },
  {
   "metadata": {
    "ExecuteTime": {
     "end_time": "2025-01-06T04:02:19.275440Z",
     "start_time": "2025-01-06T04:02:19.272404Z"
    }
   },
   "cell_type": "code",
   "source": [
    "t=np.arange(24)\n",
    "print(t)\n",
    "print(t.shape)"
   ],
   "id": "e98608324cfdf290",
   "outputs": [
    {
     "name": "stdout",
     "output_type": "stream",
     "text": [
      "[ 0  1  2  3  4  5  6  7  8  9 10 11 12 13 14 15 16 17 18 19 20 21 22 23]\n",
      "(24,)\n"
     ]
    }
   ],
   "execution_count": 17
  },
  {
   "metadata": {
    "ExecuteTime": {
     "end_time": "2025-01-06T04:04:26.840389Z",
     "start_time": "2025-01-06T04:04:26.837810Z"
    }
   },
   "cell_type": "code",
   "source": [
    "t1=t.reshape((4,6))\n",
    "print(t1)\n",
    "print(t1.shape)"
   ],
   "id": "159c5661464c869",
   "outputs": [
    {
     "name": "stdout",
     "output_type": "stream",
     "text": [
      "[[ 0  1  2  3  4  5]\n",
      " [ 6  7  8  9 10 11]\n",
      " [12 13 14 15 16 17]\n",
      " [18 19 20 21 22 23]]\n",
      "(4, 6)\n"
     ]
    }
   ],
   "execution_count": 21
  },
  {
   "metadata": {
    "ExecuteTime": {
     "end_time": "2025-01-06T04:05:03.118605Z",
     "start_time": "2025-01-06T04:05:02.378401Z"
    }
   },
   "cell_type": "code",
   "source": [
    "a=np.array([9,12,88,14,25])\n",
    "list_a=a.tolist()\n",
    "print(list_a)"
   ],
   "id": "860b27def8206f8a",
   "outputs": [
    {
     "name": "stdout",
     "output_type": "stream",
     "text": [
      "[9, 12, 88, 14, 25]\n"
     ]
    }
   ],
   "execution_count": 22
  },
  {
   "metadata": {
    "ExecuteTime": {
     "end_time": "2025-01-06T04:06:04.182419Z",
     "start_time": "2025-01-06T04:06:04.179346Z"
    }
   },
   "cell_type": "code",
   "source": [
    "f=np.array([1,2,3,4,5],dtype=np.int16)\n",
    "print(f.itemsize)\n",
    "print(f.dtype)\n"
   ],
   "id": "8ebc0f70654c2eb3",
   "outputs": [
    {
     "name": "stdout",
     "output_type": "stream",
     "text": [
      "2\n",
      "int16\n"
     ]
    }
   ],
   "execution_count": 23
  },
  {
   "metadata": {
    "ExecuteTime": {
     "end_time": "2025-01-06T04:06:47.515962Z",
     "start_time": "2025-01-06T04:06:47.513410Z"
    }
   },
   "cell_type": "code",
   "source": [
    "f1=f.astype(np.int64)\n",
    "print(f1.dtype)"
   ],
   "id": "e1578d1ee83c0f4e",
   "outputs": [
    {
     "name": "stdout",
     "output_type": "stream",
     "text": [
      "int64\n"
     ]
    }
   ],
   "execution_count": 24
  },
  {
   "metadata": {
    "ExecuteTime": {
     "end_time": "2025-01-06T04:08:20.717827Z",
     "start_time": "2025-01-06T04:08:20.714743Z"
    }
   },
   "cell_type": "code",
   "source": [
    "print(round(random.random(),2))\n",
    "arr=np.array([random.random() for i in range(10)])\n",
    "print(np.round(arr,2))"
   ],
   "id": "3843c4703fd887c3",
   "outputs": [
    {
     "name": "stdout",
     "output_type": "stream",
     "text": [
      "0.18\n",
      "[0.09 0.54 0.55 0.27 0.05 0.78 0.7  0.95 0.06 0.82]\n"
     ]
    }
   ],
   "execution_count": 26
  },
  {
   "metadata": {},
   "cell_type": "code",
   "outputs": [],
   "execution_count": null,
   "source": "",
   "id": "84a6154a29573f2"
  }
 ],
 "metadata": {
  "kernelspec": {
   "display_name": "Python 3",
   "language": "python",
   "name": "python3"
  },
  "language_info": {
   "codemirror_mode": {
    "name": "ipython",
    "version": 2
   },
   "file_extension": ".py",
   "mimetype": "text/x-python",
   "name": "python",
   "nbconvert_exporter": "python",
   "pygments_lexer": "ipython2",
   "version": "2.7.6"
  }
 },
 "nbformat": 4,
 "nbformat_minor": 5
}
